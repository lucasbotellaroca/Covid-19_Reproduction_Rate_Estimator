{
 "cells": [
  {
   "cell_type": "code",
   "execution_count": 2,
   "metadata": {},
   "outputs": [
    {
     "name": "stdout",
     "output_type": "stream",
     "text": [
      "Collecting datetime\n",
      "  Downloading DateTime-4.3-py2.py3-none-any.whl (60 kB)\n",
      "\u001b[K     |████████████████████████████████| 60 kB 1.7 MB/s eta 0:00:01\n",
      "\u001b[?25hRequirement already satisfied: zope.interface in /opt/anaconda3/lib/python3.8/site-packages (from datetime) (5.1.2)\n",
      "Requirement already satisfied: pytz in /opt/anaconda3/lib/python3.8/site-packages (from datetime) (2020.1)\n",
      "Requirement already satisfied: setuptools in /opt/anaconda3/lib/python3.8/site-packages (from zope.interface->datetime) (50.3.1.post20201107)\n",
      "Installing collected packages: datetime\n",
      "Successfully installed datetime-4.3\n",
      "Note: you may need to restart the kernel to use updated packages.\n"
     ]
    }
   ],
   "source": [
    "pip install datetime"
   ]
  },
  {
   "cell_type": "code",
   "execution_count": 4,
   "metadata": {},
   "outputs": [
    {
     "name": "stdout",
     "output_type": "stream",
     "text": [
      "Collecting holidays\n",
      "  Downloading holidays-0.10.5.2.tar.gz (121 kB)\n",
      "\u001b[K     |████████████████████████████████| 121 kB 2.9 MB/s eta 0:00:01\n",
      "\u001b[?25hRequirement already satisfied: python-dateutil in /opt/anaconda3/lib/python3.8/site-packages (from holidays) (2.8.1)\n",
      "Requirement already satisfied: six in /opt/anaconda3/lib/python3.8/site-packages (from holidays) (1.15.0)\n",
      "Collecting convertdate>=2.3.0\n",
      "  Downloading convertdate-2.3.2-py3-none-any.whl (47 kB)\n",
      "\u001b[K     |████████████████████████████████| 47 kB 3.2 MB/s eta 0:00:01\n",
      "\u001b[?25hCollecting korean_lunar_calendar\n",
      "  Downloading korean_lunar_calendar-0.2.1-py3-none-any.whl (8.0 kB)\n",
      "Collecting hijri_converter\n",
      "  Downloading hijri_converter-2.1.1-py3-none-any.whl (14 kB)\n",
      "Requirement already satisfied: pytz>=2014.10 in /opt/anaconda3/lib/python3.8/site-packages (from convertdate>=2.3.0->holidays) (2020.1)\n",
      "Collecting pymeeus<=1,>=0.3.13\n",
      "  Downloading PyMeeus-0.5.11.tar.gz (5.4 MB)\n",
      "\u001b[K     |████████████████████████████████| 5.4 MB 8.7 MB/s eta 0:00:01     |██████████████▏                 | 2.4 MB 4.8 MB/s eta 0:00:01\n",
      "\u001b[?25hBuilding wheels for collected packages: holidays, pymeeus\n",
      "  Building wheel for holidays (setup.py) ... \u001b[?25ldone\n",
      "\u001b[?25h  Created wheel for holidays: filename=holidays-0.10.5.2-py3-none-any.whl size=126812 sha256=92742fd8dd1d23422443997b3a4e9283b1f4724cd6cfe30709125155174bb097\n",
      "  Stored in directory: /Users/lucas_botella/Library/Caches/pip/wheels/6a/cf/7a/3ffc6ba5930fd024335b4a12b0be8bc3ba5a8fa63ca9a849ef\n",
      "\u001b[33m  WARNING: Building wheel for pymeeus failed: [Errno 13] Permission denied: '/Users/lucas_botella/Library/Caches/pip/wheels/a0/8b'\u001b[0m\n",
      "Successfully built holidays\n",
      "Failed to build pymeeus\n",
      "Installing collected packages: pymeeus, convertdate, korean-lunar-calendar, hijri-converter, holidays\n",
      "    Running setup.py install for pymeeus ... \u001b[?25ldone\n",
      "\u001b[33m  DEPRECATION: pymeeus was installed using the legacy 'setup.py install' method, because a wheel could not be built for it. pip 21.0 will remove support for this functionality. A possible replacement is to fix the wheel build issue reported above. You can find discussion regarding this at https://github.com/pypa/pip/issues/8368.\u001b[0m\n",
      "\u001b[?25hSuccessfully installed convertdate-2.3.2 hijri-converter-2.1.1 holidays-0.10.5.2 korean-lunar-calendar-0.2.1 pymeeus-0.5.11\n",
      "Note: you may need to restart the kernel to use updated packages.\n"
     ]
    }
   ],
   "source": [
    "pip install holidays"
   ]
  },
  {
   "cell_type": "code",
   "execution_count": 5,
   "metadata": {},
   "outputs": [
    {
     "name": "stdout",
     "output_type": "stream",
     "text": [
      "True\n",
      "False\n",
      "New Year's Day\n",
      "None\n"
     ]
    }
   ],
   "source": [
    "from datetime import date\n",
    "import holidays\n",
    "\n",
    "# Select country\n",
    "uk_holidays = holidays.UnitedKingdom()\n",
    "\n",
    "# If it is a holidays then it returns True else False\n",
    "print('01-01-2018' in uk_holidays)\n",
    "print('02-01-2018' in uk_holidays)\n",
    "\n",
    "# What holidays is it?\n",
    "print(uk_holidays.get('01-01-2018'))\n",
    "print(uk_holidays.get('02-01-2018'))"
   ]
  },
  {
   "cell_type": "code",
   "execution_count": 55,
   "metadata": {},
   "outputs": [
    {
     "data": {
      "text/plain": [
       "dict_items([(datetime.date(2021, 1, 1), 'Año nuevo'), (datetime.date(2021, 1, 6), 'Epifanía del Señor'), (datetime.date(2021, 5, 1), 'Día del Trabajador'), (datetime.date(2021, 8, 16), 'Asunción de la Virgen (Trasladado)'), (datetime.date(2021, 10, 12), 'Día de la Hispanidad'), (datetime.date(2021, 11, 1), 'Todos los Santos'), (datetime.date(2021, 12, 6), 'Día de la Constitución Española'), (datetime.date(2021, 12, 8), 'La Inmaculada Concepción'), (datetime.date(2021, 12, 25), 'Navidad')])"
      ]
     },
     "execution_count": 55,
     "metadata": {},
     "output_type": "execute_result"
    }
   ],
   "source": [
    "sp_holidays=holidays.ES(years=2021).items()\n",
    "sp_holidays"
   ]
  },
  {
   "cell_type": "code",
   "execution_count": null,
   "metadata": {},
   "outputs": [],
   "source": [
    "print(sp_holidays.get('01-01-2020'))"
   ]
  },
  {
   "cell_type": "code",
   "execution_count": 62,
   "metadata": {},
   "outputs": [],
   "source": [
    "import importlib\n",
    "import datetime\n",
    "def getHoliday(country, date):\n",
    "    function_string = 'holidays.' + country\n",
    "    mod_name, func_name = function_string.rsplit('.',1)\n",
    "    mod = importlib.import_module(mod_name)\n",
    "    func = getattr(mod, func_name)\n",
    "    result = func()\n",
    "    return result.get(date) is not None"
   ]
  },
  {
   "cell_type": "code",
   "execution_count": 66,
   "metadata": {},
   "outputs": [
    {
     "data": {
      "text/plain": [
       "False"
      ]
     },
     "execution_count": 66,
     "metadata": {},
     "output_type": "execute_result"
    }
   ],
   "source": [
    "getHoliday('ES', datetime.date(2021, 4, 2))"
   ]
  },
  {
   "cell_type": "code",
   "execution_count": null,
   "metadata": {},
   "outputs": [],
   "source": []
  }
 ],
 "metadata": {
  "kernelspec": {
   "display_name": "Python 3",
   "language": "python",
   "name": "python3"
  },
  "language_info": {
   "codemirror_mode": {
    "name": "ipython",
    "version": 3
   },
   "file_extension": ".py",
   "mimetype": "text/x-python",
   "name": "python",
   "nbconvert_exporter": "python",
   "pygments_lexer": "ipython3",
   "version": "3.8.5"
  }
 },
 "nbformat": 4,
 "nbformat_minor": 4
}
