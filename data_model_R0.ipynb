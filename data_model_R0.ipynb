{
 "cells": [
  {
   "cell_type": "markdown",
   "metadata": {},
   "source": [
    "# Modelling using value of R0"
   ]
  },
  {
   "cell_type": "markdown",
   "metadata": {},
   "source": [
    "Modelling with R0 as target variable. R0 represents the average number of people infected by one infectious individual. "
   ]
  },
  {
   "cell_type": "markdown",
   "metadata": {},
   "source": [
    "## Import libraries"
   ]
  },
  {
   "cell_type": "code",
   "execution_count": 6034,
   "metadata": {},
   "outputs": [],
   "source": [
    "import pandas as pd, numpy as np, time\n",
    "\n",
    "from sklearn.model_selection import train_test_split\n",
    "from sklearn.model_selection import cross_val_score, GridSearchCV, train_test_split, RandomizedSearchCV\n",
    "\n",
    "# Librerías para plots\n",
    "from sklearn import tree\n",
    "#import graphviz\n",
    "from scipy.stats import norm\n",
    "from scipy.stats import t\n",
    "import pylab\n",
    "import seaborn as sns\n",
    "import matplotlib.pyplot as plt\n",
    "import matplotlib.gridspec as gridspec\n",
    "%matplotlib inline"
   ]
  },
  {
   "cell_type": "markdown",
   "metadata": {},
   "source": [
    "## Read file and prepare data "
   ]
  },
  {
   "cell_type": "code",
   "execution_count": 6035,
   "metadata": {},
   "outputs": [],
   "source": [
    "#df = pd.read_csv('/Users/lucas_botella/Downloads/df_covid_processed.csv')\n",
    "#df = pd.read_csv('/Users/lucas_botella/Downloads/cluster_covid_data.csv')\n",
    "#df=pd.read_csv('/Users/lucas_botella/Downloads/raw_deaths_covid_data.csv')\n",
    "#df=pd.read_csv('/Users/lucas_botella/Downloads/cluster_per_deaths_for_model.csv')\n",
    "#df=pd.read_csv('/Users/lucas_botella/Downloads/raw_deaths_covid_data.csv')\n",
    "df=pd.read_csv('/Users/lucas_botella/Downloads/df_covid_processed_FINAL.csv')\n",
    "del df['Unnamed: 0']\n",
    "del df['deaths_prev_18']\n",
    "del df['Excess mortality P-scores, all ages']\n",
    "del df['Excess mortality P-scores, all ages Prev 18 days']\n",
    "del df['average_deaths_2015_2019_all_ages']\n",
    "del df['deaths']\n",
    "del df['month']\n",
    "del df['life_expectancy']\n",
    "del df['%df_population_gr_65']\n",
    "del df['UN Population Division (Median Age) (2017)']\n",
    "del df['number_of_arrivals']\n",
    "del df['doctors_per_1000']\n",
    "del df['nurses_per_1000']\n",
    "del df['beds_per_1000']\n",
    "del df['%youth_unemployment_total']"
   ]
  },
  {
   "cell_type": "code",
   "execution_count": 6036,
   "metadata": {},
   "outputs": [
    {
     "data": {
      "text/plain": [
       "Index(['Code', 'Date', 'retail_and_recreation', 'grocery_and_pharmacy',\n",
       "       'residential', 'transit_stations', 'parks', 'workplaces',\n",
       "       'contact_tracing', 'testing_policy', 'international_travel_controls',\n",
       "       'restrictions_internal_movements', 'close_public_transport',\n",
       "       'public_information_campaigns', 'facial_coverings',\n",
       "       'stay_home_requirements', 'restriction_gatherings',\n",
       "       'cancel_public_events', 'workplace_closures', 'school_closures',\n",
       "       'debt_relief', 'income_support', 'Holiday', 'temp', 'prcp',\n",
       "       'urban_population', 'total_vaccinations_per_100', 'accumulated', 'R0'],\n",
       "      dtype='object')"
      ]
     },
     "execution_count": 6036,
     "metadata": {},
     "output_type": "execute_result"
    }
   ],
   "source": [
    "df.columns"
   ]
  },
  {
   "cell_type": "code",
   "execution_count": 6037,
   "metadata": {},
   "outputs": [
    {
     "data": {
      "text/html": [
       "<div>\n",
       "<style scoped>\n",
       "    .dataframe tbody tr th:only-of-type {\n",
       "        vertical-align: middle;\n",
       "    }\n",
       "\n",
       "    .dataframe tbody tr th {\n",
       "        vertical-align: top;\n",
       "    }\n",
       "\n",
       "    .dataframe thead th {\n",
       "        text-align: right;\n",
       "    }\n",
       "</style>\n",
       "<table border=\"1\" class=\"dataframe\">\n",
       "  <thead>\n",
       "    <tr style=\"text-align: right;\">\n",
       "      <th></th>\n",
       "      <th>Code</th>\n",
       "      <th>Date</th>\n",
       "      <th>retail_and_recreation</th>\n",
       "      <th>grocery_and_pharmacy</th>\n",
       "      <th>residential</th>\n",
       "      <th>transit_stations</th>\n",
       "      <th>parks</th>\n",
       "      <th>workplaces</th>\n",
       "      <th>contact_tracing</th>\n",
       "      <th>testing_policy</th>\n",
       "      <th>...</th>\n",
       "      <th>school_closures</th>\n",
       "      <th>debt_relief</th>\n",
       "      <th>income_support</th>\n",
       "      <th>Holiday</th>\n",
       "      <th>temp</th>\n",
       "      <th>prcp</th>\n",
       "      <th>urban_population</th>\n",
       "      <th>total_vaccinations_per_100</th>\n",
       "      <th>accumulated</th>\n",
       "      <th>R0</th>\n",
       "    </tr>\n",
       "  </thead>\n",
       "  <tbody>\n",
       "    <tr>\n",
       "      <th>0</th>\n",
       "      <td>AUS</td>\n",
       "      <td>2020-03-08</td>\n",
       "      <td>1.05</td>\n",
       "      <td>1.72</td>\n",
       "      <td>-0.74</td>\n",
       "      <td>4.98</td>\n",
       "      <td>-2.09</td>\n",
       "      <td>7.93</td>\n",
       "      <td>2.00</td>\n",
       "      <td>1.00</td>\n",
       "      <td>...</td>\n",
       "      <td>0.00</td>\n",
       "      <td>0.00</td>\n",
       "      <td>0.00</td>\n",
       "      <td>0.00</td>\n",
       "      <td>23.57</td>\n",
       "      <td>0.11</td>\n",
       "      <td>85.90</td>\n",
       "      <td>nan</td>\n",
       "      <td>0.00</td>\n",
       "      <td>0.99</td>\n",
       "    </tr>\n",
       "    <tr>\n",
       "      <th>1</th>\n",
       "      <td>AUS</td>\n",
       "      <td>2020-03-15</td>\n",
       "      <td>0.76</td>\n",
       "      <td>1.51</td>\n",
       "      <td>-1.29</td>\n",
       "      <td>7.70</td>\n",
       "      <td>-0.82</td>\n",
       "      <td>10.57</td>\n",
       "      <td>2.00</td>\n",
       "      <td>1.00</td>\n",
       "      <td>...</td>\n",
       "      <td>0.00</td>\n",
       "      <td>0.00</td>\n",
       "      <td>0.00</td>\n",
       "      <td>0.00</td>\n",
       "      <td>22.45</td>\n",
       "      <td>0.13</td>\n",
       "      <td>85.90</td>\n",
       "      <td>nan</td>\n",
       "      <td>0.00</td>\n",
       "      <td>1.00</td>\n",
       "    </tr>\n",
       "    <tr>\n",
       "      <th>2</th>\n",
       "      <td>AUS</td>\n",
       "      <td>2020-03-22</td>\n",
       "      <td>1.29</td>\n",
       "      <td>3.37</td>\n",
       "      <td>-1.08</td>\n",
       "      <td>9.35</td>\n",
       "      <td>0.94</td>\n",
       "      <td>10.88</td>\n",
       "      <td>2.00</td>\n",
       "      <td>1.00</td>\n",
       "      <td>...</td>\n",
       "      <td>0.00</td>\n",
       "      <td>0.00</td>\n",
       "      <td>0.00</td>\n",
       "      <td>0.00</td>\n",
       "      <td>21.81</td>\n",
       "      <td>0.16</td>\n",
       "      <td>85.90</td>\n",
       "      <td>nan</td>\n",
       "      <td>0.00</td>\n",
       "      <td>1.02</td>\n",
       "    </tr>\n",
       "    <tr>\n",
       "      <th>3</th>\n",
       "      <td>AUS</td>\n",
       "      <td>2020-03-29</td>\n",
       "      <td>0.71</td>\n",
       "      <td>8.98</td>\n",
       "      <td>-0.39</td>\n",
       "      <td>5.45</td>\n",
       "      <td>-2.86</td>\n",
       "      <td>8.33</td>\n",
       "      <td>2.00</td>\n",
       "      <td>1.00</td>\n",
       "      <td>...</td>\n",
       "      <td>0.00</td>\n",
       "      <td>0.00</td>\n",
       "      <td>0.00</td>\n",
       "      <td>0.00</td>\n",
       "      <td>21.35</td>\n",
       "      <td>0.14</td>\n",
       "      <td>85.90</td>\n",
       "      <td>nan</td>\n",
       "      <td>0.00</td>\n",
       "      <td>1.07</td>\n",
       "    </tr>\n",
       "    <tr>\n",
       "      <th>4</th>\n",
       "      <td>AUS</td>\n",
       "      <td>2020-04-05</td>\n",
       "      <td>-0.90</td>\n",
       "      <td>15.16</td>\n",
       "      <td>0.45</td>\n",
       "      <td>-1.06</td>\n",
       "      <td>-4.96</td>\n",
       "      <td>6.96</td>\n",
       "      <td>2.00</td>\n",
       "      <td>1.00</td>\n",
       "      <td>...</td>\n",
       "      <td>0.00</td>\n",
       "      <td>0.00</td>\n",
       "      <td>1.00</td>\n",
       "      <td>0.00</td>\n",
       "      <td>21.18</td>\n",
       "      <td>0.05</td>\n",
       "      <td>85.90</td>\n",
       "      <td>nan</td>\n",
       "      <td>0.00</td>\n",
       "      <td>1.06</td>\n",
       "    </tr>\n",
       "    <tr>\n",
       "      <th>...</th>\n",
       "      <td>...</td>\n",
       "      <td>...</td>\n",
       "      <td>...</td>\n",
       "      <td>...</td>\n",
       "      <td>...</td>\n",
       "      <td>...</td>\n",
       "      <td>...</td>\n",
       "      <td>...</td>\n",
       "      <td>...</td>\n",
       "      <td>...</td>\n",
       "      <td>...</td>\n",
       "      <td>...</td>\n",
       "      <td>...</td>\n",
       "      <td>...</td>\n",
       "      <td>...</td>\n",
       "      <td>...</td>\n",
       "      <td>...</td>\n",
       "      <td>...</td>\n",
       "      <td>...</td>\n",
       "      <td>...</td>\n",
       "      <td>...</td>\n",
       "    </tr>\n",
       "    <tr>\n",
       "      <th>2037</th>\n",
       "      <td>USA</td>\n",
       "      <td>2021-01-10</td>\n",
       "      <td>-17.69</td>\n",
       "      <td>-4.06</td>\n",
       "      <td>10.18</td>\n",
       "      <td>-36.04</td>\n",
       "      <td>-19.76</td>\n",
       "      <td>-28.10</td>\n",
       "      <td>1.00</td>\n",
       "      <td>3.00</td>\n",
       "      <td>...</td>\n",
       "      <td>3.00</td>\n",
       "      <td>1.00</td>\n",
       "      <td>2.00</td>\n",
       "      <td>0.00</td>\n",
       "      <td>2.89</td>\n",
       "      <td>0.05</td>\n",
       "      <td>82.06</td>\n",
       "      <td>nan</td>\n",
       "      <td>0.18</td>\n",
       "      <td>0.97</td>\n",
       "    </tr>\n",
       "    <tr>\n",
       "      <th>2038</th>\n",
       "      <td>USA</td>\n",
       "      <td>2021-01-17</td>\n",
       "      <td>-22.78</td>\n",
       "      <td>-3.98</td>\n",
       "      <td>12.65</td>\n",
       "      <td>-38.88</td>\n",
       "      <td>-16.65</td>\n",
       "      <td>-42.08</td>\n",
       "      <td>1.00</td>\n",
       "      <td>3.00</td>\n",
       "      <td>...</td>\n",
       "      <td>3.00</td>\n",
       "      <td>1.00</td>\n",
       "      <td>2.00</td>\n",
       "      <td>1.00</td>\n",
       "      <td>1.71</td>\n",
       "      <td>0.07</td>\n",
       "      <td>82.06</td>\n",
       "      <td>nan</td>\n",
       "      <td>0.19</td>\n",
       "      <td>0.95</td>\n",
       "    </tr>\n",
       "    <tr>\n",
       "      <th>2039</th>\n",
       "      <td>USA</td>\n",
       "      <td>2021-01-24</td>\n",
       "      <td>-23.63</td>\n",
       "      <td>-9.84</td>\n",
       "      <td>14.06</td>\n",
       "      <td>-41.02</td>\n",
       "      <td>-15.86</td>\n",
       "      <td>-41.71</td>\n",
       "      <td>1.00</td>\n",
       "      <td>3.00</td>\n",
       "      <td>...</td>\n",
       "      <td>3.00</td>\n",
       "      <td>1.00</td>\n",
       "      <td>2.00</td>\n",
       "      <td>1.00</td>\n",
       "      <td>2.50</td>\n",
       "      <td>0.09</td>\n",
       "      <td>82.06</td>\n",
       "      <td>0.17</td>\n",
       "      <td>0.20</td>\n",
       "      <td>0.89</td>\n",
       "    </tr>\n",
       "    <tr>\n",
       "      <th>2040</th>\n",
       "      <td>USA</td>\n",
       "      <td>2021-01-31</td>\n",
       "      <td>-23.98</td>\n",
       "      <td>-11.39</td>\n",
       "      <td>11.45</td>\n",
       "      <td>-39.57</td>\n",
       "      <td>-22.59</td>\n",
       "      <td>-29.00</td>\n",
       "      <td>1.00</td>\n",
       "      <td>3.00</td>\n",
       "      <td>...</td>\n",
       "      <td>3.00</td>\n",
       "      <td>1.00</td>\n",
       "      <td>2.00</td>\n",
       "      <td>0.00</td>\n",
       "      <td>1.20</td>\n",
       "      <td>0.04</td>\n",
       "      <td>82.06</td>\n",
       "      <td>0.51</td>\n",
       "      <td>0.21</td>\n",
       "      <td>0.91</td>\n",
       "    </tr>\n",
       "    <tr>\n",
       "      <th>2041</th>\n",
       "      <td>USA</td>\n",
       "      <td>2021-02-07</td>\n",
       "      <td>-24.67</td>\n",
       "      <td>-12.86</td>\n",
       "      <td>10.80</td>\n",
       "      <td>-40.18</td>\n",
       "      <td>-19.18</td>\n",
       "      <td>-28.82</td>\n",
       "      <td>1.00</td>\n",
       "      <td>3.00</td>\n",
       "      <td>...</td>\n",
       "      <td>3.00</td>\n",
       "      <td>1.00</td>\n",
       "      <td>2.00</td>\n",
       "      <td>1.00</td>\n",
       "      <td>3.14</td>\n",
       "      <td>0.03</td>\n",
       "      <td>82.06</td>\n",
       "      <td>1.23</td>\n",
       "      <td>0.21</td>\n",
       "      <td>0.90</td>\n",
       "    </tr>\n",
       "  </tbody>\n",
       "</table>\n",
       "<p>2042 rows × 29 columns</p>\n",
       "</div>"
      ],
      "text/plain": [
       "     Code        Date  retail_and_recreation  grocery_and_pharmacy  \\\n",
       "0     AUS  2020-03-08                   1.05                  1.72   \n",
       "1     AUS  2020-03-15                   0.76                  1.51   \n",
       "2     AUS  2020-03-22                   1.29                  3.37   \n",
       "3     AUS  2020-03-29                   0.71                  8.98   \n",
       "4     AUS  2020-04-05                  -0.90                 15.16   \n",
       "...   ...         ...                    ...                   ...   \n",
       "2037  USA  2021-01-10                 -17.69                 -4.06   \n",
       "2038  USA  2021-01-17                 -22.78                 -3.98   \n",
       "2039  USA  2021-01-24                 -23.63                 -9.84   \n",
       "2040  USA  2021-01-31                 -23.98                -11.39   \n",
       "2041  USA  2021-02-07                 -24.67                -12.86   \n",
       "\n",
       "      residential  transit_stations  parks  workplaces  contact_tracing  \\\n",
       "0           -0.74              4.98  -2.09        7.93             2.00   \n",
       "1           -1.29              7.70  -0.82       10.57             2.00   \n",
       "2           -1.08              9.35   0.94       10.88             2.00   \n",
       "3           -0.39              5.45  -2.86        8.33             2.00   \n",
       "4            0.45             -1.06  -4.96        6.96             2.00   \n",
       "...           ...               ...    ...         ...              ...   \n",
       "2037        10.18            -36.04 -19.76      -28.10             1.00   \n",
       "2038        12.65            -38.88 -16.65      -42.08             1.00   \n",
       "2039        14.06            -41.02 -15.86      -41.71             1.00   \n",
       "2040        11.45            -39.57 -22.59      -29.00             1.00   \n",
       "2041        10.80            -40.18 -19.18      -28.82             1.00   \n",
       "\n",
       "      testing_policy  ...  school_closures  debt_relief  income_support  \\\n",
       "0               1.00  ...             0.00         0.00            0.00   \n",
       "1               1.00  ...             0.00         0.00            0.00   \n",
       "2               1.00  ...             0.00         0.00            0.00   \n",
       "3               1.00  ...             0.00         0.00            0.00   \n",
       "4               1.00  ...             0.00         0.00            1.00   \n",
       "...              ...  ...              ...          ...             ...   \n",
       "2037            3.00  ...             3.00         1.00            2.00   \n",
       "2038            3.00  ...             3.00         1.00            2.00   \n",
       "2039            3.00  ...             3.00         1.00            2.00   \n",
       "2040            3.00  ...             3.00         1.00            2.00   \n",
       "2041            3.00  ...             3.00         1.00            2.00   \n",
       "\n",
       "      Holiday  temp  prcp  urban_population  total_vaccinations_per_100  \\\n",
       "0        0.00 23.57  0.11             85.90                         nan   \n",
       "1        0.00 22.45  0.13             85.90                         nan   \n",
       "2        0.00 21.81  0.16             85.90                         nan   \n",
       "3        0.00 21.35  0.14             85.90                         nan   \n",
       "4        0.00 21.18  0.05             85.90                         nan   \n",
       "...       ...   ...   ...               ...                         ...   \n",
       "2037     0.00  2.89  0.05             82.06                         nan   \n",
       "2038     1.00  1.71  0.07             82.06                         nan   \n",
       "2039     1.00  2.50  0.09             82.06                        0.17   \n",
       "2040     0.00  1.20  0.04             82.06                        0.51   \n",
       "2041     1.00  3.14  0.03             82.06                        1.23   \n",
       "\n",
       "      accumulated   R0  \n",
       "0            0.00 0.99  \n",
       "1            0.00 1.00  \n",
       "2            0.00 1.02  \n",
       "3            0.00 1.07  \n",
       "4            0.00 1.06  \n",
       "...           ...  ...  \n",
       "2037         0.18 0.97  \n",
       "2038         0.19 0.95  \n",
       "2039         0.20 0.89  \n",
       "2040         0.21 0.91  \n",
       "2041         0.21 0.90  \n",
       "\n",
       "[2042 rows x 29 columns]"
      ]
     },
     "execution_count": 6037,
     "metadata": {},
     "output_type": "execute_result"
    }
   ],
   "source": [
    "df"
   ]
  },
  {
   "cell_type": "markdown",
   "metadata": {},
   "source": [
    "## Feature Engineering"
   ]
  },
  {
   "cell_type": "markdown",
   "metadata": {},
   "source": [
    "df['nurses_per_1000']=df.apply(lambda x: x['nurses_per_1000'] if x['Excess mortality P-scores, all ages Prev 18 days'] <= 0 else \n",
    "         x['nurses_per_1000'] - (x['nurses_per_1000']*x['Excess mortality P-scores, all ages Prev 18 days']), axis=1)\n",
    "df['doctors_per_1000']=df.apply(lambda x: x['doctors_per_1000'] if x['Excess mortality P-scores, all ages Prev 18 days'] <= 0 else \n",
    "         x['doctors_per_1000'] - (x['doctors_per_1000']*x['Excess mortality P-scores, all ages Prev 18 days']), axis=1)\n",
    "df['beds_per_1000']=df.apply(lambda x: x['beds_per_1000'] if x['Excess mortality P-scores, all ages Prev 18 days'] <= 0 else \n",
    "         x['beds_per_1000'] - (x['beds_per_1000']*x['Excess mortality P-scores, all ages Prev 18 days']), axis=1)\n",
    "df['health_power']=-((df['nurses_per_1000']+df['doctors_per_1000']+df['beds_per_1000'])/3)\n",
    "\n",
    "del df['nurses_per_1000']\n",
    "del df['doctors_per_1000']\n",
    "del df['beds_per_1000']"
   ]
  },
  {
   "cell_type": "raw",
   "metadata": {},
   "source": [
    "df['movement']=df['number_of_arrivals']/((df['international_travel_controls']+df['restrictions_internal_movements'])/2)\n",
    "del df['international_travel_controls']\n",
    "del df['restrictions_internal_movements']\n",
    "del df['number_of_arrivals']\n",
    "df['tracking']=(df['testing_policy']+df['contact_tracing'])/2\n",
    "del df['testing_policy']\n",
    "del df['contact_tracing']\n",
    "df['economic_support']=(df['debt_relief']+df['income_support'])/2\n",
    "del df['debt_relief']\n",
    "del df['income_support']\n",
    "df['%youth_unemployment_total']=df['%youth_unemployment_total']*df['retail_and_recreation']\n",
    "#df['days_from_beginning']= (pd.to_datetime(df['Date']) -pd.Timestamp(2020, 3, 1)).dt.days\n",
    "df=df[[c for c in df if c not in ['R0']] \n",
    "       + ['R0']]\n",
    "df"
   ]
  },
  {
   "cell_type": "code",
   "execution_count": 6038,
   "metadata": {},
   "outputs": [
    {
     "data": {
      "text/plain": [
       "Text(0.5, 1.0, 'R0')"
      ]
     },
     "execution_count": 6038,
     "metadata": {},
     "output_type": "execute_result"
    },
    {
     "data": {
      "image/png": "[encoded data removed]",
      "text/plain": [
       "<Figure size 864x360 with 1 Axes>"
      ]
     },
     "metadata": {
      "needs_background": "light"
     },
     "output_type": "display_data"
    }
   ],
   "source": [
    "f, axes = plt.subplots(figsize=(12,5))\n",
    "sns.histplot(x='R0', data=df, kde=False, bins=100, ax=axes);\n",
    "axes.set_title('R0')"
   ]
  },
  {
   "cell_type": "code",
   "execution_count": 6039,
   "metadata": {},
   "outputs": [
    {
     "data": {
      "text/plain": [
       "count   2042.00\n",
       "mean       1.02\n",
       "std        0.19\n",
       "min        0.48\n",
       "25%        0.94\n",
       "50%        1.00\n",
       "75%        1.07\n",
       "max        4.96\n",
       "Name: R0, dtype: float64"
      ]
     },
     "execution_count": 6039,
     "metadata": {},
     "output_type": "execute_result"
    }
   ],
   "source": [
    "df['R0'].describe()"
   ]
  },
  {
   "cell_type": "code",
   "execution_count": 6042,
   "metadata": {},
   "outputs": [],
   "source": [
    "X=df[df.columns[2:-1]]\n",
    "y=df['R0']"
   ]
  },
  {
   "cell_type": "markdown",
   "metadata": {},
   "source": [
    "# Modelling and Results"
   ]
  },
  {
   "cell_type": "markdown",
   "metadata": {},
   "source": [
    "pip install xgboost"
   ]
  },
  {
   "cell_type": "code",
   "execution_count": 6043,
   "metadata": {},
   "outputs": [],
   "source": [
    "import xgboost as xgb\n",
    "from sklearn.metrics import mean_squared_error\n",
    "from sklearn.metrics import mean_absolute_error\n",
    "from sklearn.metrics import r2_score\n",
    "import pandas as pd\n",
    "import numpy as np\n",
    "from sklearn.model_selection import GridSearchCV, train_test_split\n",
    "from xgboost import XGBRegressor\n",
    "from sklearn.metrics import fbeta_score, make_scorer\n",
    "import seaborn as sns\n",
    "import datetime\n",
    "import warnings\n",
    "warnings.filterwarnings('ignore')"
   ]
  },
  {
   "cell_type": "code",
   "execution_count": null,
   "metadata": {},
   "outputs": [],
   "source": [
    "#Predictions from January 2021\n",
    "date1=pd.Timestamp(2021, 1, 1)\n",
    "\n",
    "X_1=df[(pd.to_datetime(df['Date']) <= date1)]\n",
    "X_2=df[(pd.to_datetime(df['Date']) > date1)]\n",
    "X_train=X_1[X_1.columns[2:-1]]\n",
    "X_test=X_2[X_2.columns[2:-1]]\n",
    "y_train=X_1['R0']\n",
    "y_test=X_2['R0']"
   ]
  },
  {
   "cell_type": "raw",
   "metadata": {},
   "source": [
    "#Not used since we are going to predict on unseen future data defined before (date > 01/01/2021)\n",
    "X_train, X_test, y_train, y_test = train_test_split(X, y, test_size=0.2, random_state=123)"
   ]
  },
  {
   "cell_type": "markdown",
   "metadata": {},
   "source": [
    "## XGBoost Regressor "
   ]
  },
  {
   "cell_type": "markdown",
   "metadata": {},
   "source": [
    "### GridSearchCV "
   ]
  },
  {
   "cell_type": "code",
   "execution_count": 6045,
   "metadata": {},
   "outputs": [],
   "source": [
    "#Mape custom scoring function\n",
    "def mape_fun(pred, train): \n",
    "    return np.mean(np.abs((pred - train) / train)) * 100"
   ]
  },
  {
   "cell_type": "code",
   "execution_count": 6046,
   "metadata": {},
   "outputs": [],
   "source": [
    "from sklearn.model_selection import StratifiedKFold\n",
    "# A parameter grid for XGBoost\n",
    "params = {'min_child_weight':[4,5], 'gamma':[i/10.0 for i in range(3,5)],  'subsample':[i/10.0 for i in range(8,11)],\n",
    "'colsample_bytree':[i/10.0 for i in range(8,11)], 'max_depth': [6,7,8]}\n",
    "\n",
    "# Initialize XGB and GridSearch\n",
    "xgb = XGBRegressor(num_boost_rounds=1000) \n",
    "\n",
    "grid = GridSearchCV(xgb, params, verbose=1, n_jobs=-1, scoring=make_scorer(mape_fun))"
   ]
  },
  {
   "cell_type": "code",
   "execution_count": 6049,
   "metadata": {},
   "outputs": [
    {
     "name": "stdout",
     "output_type": "stream",
     "text": [
      "Fitting 5 folds for each of 108 candidates, totalling 540 fits\n"
     ]
    },
    {
     "name": "stderr",
     "output_type": "stream",
     "text": [
      "[Parallel(n_jobs=-1)]: Using backend LokyBackend with 4 concurrent workers.\n",
      "[Parallel(n_jobs=-1)]: Done  42 tasks      | elapsed:   10.3s\n",
      "[Parallel(n_jobs=-1)]: Done 192 tasks      | elapsed:   49.1s\n",
      "[Parallel(n_jobs=-1)]: Done 442 tasks      | elapsed:  1.9min\n",
      "[Parallel(n_jobs=-1)]: Done 540 out of 540 | elapsed:  2.3min finished\n"
     ]
    },
    {
     "name": "stdout",
     "output_type": "stream",
     "text": [
      "[18:00:16] WARNING: /Users/travis/build/dmlc/xgboost/src/learner.cc:480: \n",
      "Parameters: { num_boost_rounds } might not be used.\n",
      "\n",
      "  This may not be accurate due to some parameters are only used in language bindings but\n",
      "  passed down to XGBoost core.  Or some parameters are not used but slip through this\n",
      "  verification. Please open an issue if you find above cases.\n",
      "\n",
      "\n",
      "CPU times: user 4 s, sys: 192 ms, total: 4.19 s\n",
      "Wall time: 2min 16s\n"
     ]
    }
   ],
   "source": [
    "%%time\n",
    "grid.fit(X_train, y_train)"
   ]
  },
  {
   "cell_type": "code",
   "execution_count": 6050,
   "metadata": {},
   "outputs": [
    {
     "data": {
      "text/plain": [
       "XGBRegressor(base_score=0.5, booster='gbtree', colsample_bylevel=1,\n",
       "             colsample_bynode=1, colsample_bytree=0.9, gamma=0.4, gpu_id=-1,\n",
       "             importance_type='gain', interaction_constraints='',\n",
       "             learning_rate=0.300000012, max_delta_step=0, max_depth=7,\n",
       "             min_child_weight=5, missing=nan, monotone_constraints='()',\n",
       "             n_estimators=100, n_jobs=0, num_boost_rounds=1000,\n",
       "             num_parallel_tree=1, random_state=0, reg_alpha=0, reg_lambda=1,\n",
       "             scale_pos_weight=1, subsample=0.8, tree_method='exact',\n",
       "             validate_parameters=1, verbosity=None)"
      ]
     },
     "execution_count": 6050,
     "metadata": {},
     "output_type": "execute_result"
    }
   ],
   "source": [
    "grid.best_estimator_"
   ]
  },
  {
   "cell_type": "code",
   "execution_count": null,
   "metadata": {},
   "outputs": [],
   "source": [
    "y_pred=grid.best_estimator_.predict(X_test)\n",
    "y_pred_train=grid.best_estimator_.predict(X_train)"
   ]
  },
  {
   "cell_type": "markdown",
   "metadata": {},
   "source": [
    "### XGB Evaluation"
   ]
  },
  {
   "cell_type": "markdown",
   "metadata": {},
   "source": [
    "### Test Set"
   ]
  },
  {
   "cell_type": "code",
   "execution_count": 6053,
   "metadata": {},
   "outputs": [
    {
     "name": "stdout",
     "output_type": "stream",
     "text": [
      "mae score is 0.11594152287734692\n",
      "mse score is 0.02454195871483508\n",
      "rmse score is 0.15665873328619467\n",
      "r2 score is -0.22820802167177923\n",
      "mape score is 12.673331522368034\n"
     ]
    }
   ],
   "source": [
    "mae = mean_absolute_error(y_test, y_pred)\n",
    "mse = mean_squared_error(y_test, y_pred)\n",
    "rmse = np.sqrt(mean_squared_error(y_test, y_pred))\n",
    "r2 = r2_score(y_test, y_pred)\n",
    "mape = np.mean(np.abs((y_test - y_pred) / y_test)) * 100\n",
    "\n",
    "scores = {'mae': mae, 'mse': mse, 'rmse': rmse, 'r2': r2, 'mape':mape}\n",
    "\n",
    "for key in scores:\n",
    "    print(f\"{key} score is {scores[key]}\")"
   ]
  },
  {
   "cell_type": "markdown",
   "metadata": {},
   "source": [
    "### Train Set"
   ]
  },
  {
   "cell_type": "code",
   "execution_count": 6055,
   "metadata": {},
   "outputs": [
    {
     "name": "stdout",
     "output_type": "stream",
     "text": [
      "mae score is 0.07476271549962285\n",
      "mse score is 0.012241320219462776\n",
      "rmse score is 0.1106404999060596\n",
      "r2 score is 0.6860977799885075\n",
      "mape score is 7.166409387289005\n"
     ]
    }
   ],
   "source": [
    "mae = mean_absolute_error(y_train, y_pred_train)\n",
    "mse = mean_squared_error(y_train, y_pred_train)\n",
    "rmse = np.sqrt(mean_squared_error(y_train, y_pred_train))\n",
    "r2 = r2_score(y_train, y_pred_train)\n",
    "mape = np.mean(np.abs((y_train - y_pred_train) / y_train)) * 100\n",
    "\n",
    "scores = {'mae': mae, 'mse': mse, 'rmse': rmse, 'r2': r2, 'mape': mape}\n",
    "\n",
    "for key in scores:\n",
    "    print(f\"{key} score is {scores[key]}\")"
   ]
  },
  {
   "cell_type": "code",
   "execution_count": 6056,
   "metadata": {},
   "outputs": [
    {
     "data": {
      "text/html": [
       "<div>\n",
       "<style scoped>\n",
       "    .dataframe tbody tr th:only-of-type {\n",
       "        vertical-align: middle;\n",
       "    }\n",
       "\n",
       "    .dataframe tbody tr th {\n",
       "        vertical-align: top;\n",
       "    }\n",
       "\n",
       "    .dataframe thead th {\n",
       "        text-align: right;\n",
       "    }\n",
       "</style>\n",
       "<table border=\"1\" class=\"dataframe\">\n",
       "  <thead>\n",
       "    <tr style=\"text-align: right;\">\n",
       "      <th></th>\n",
       "      <th>Actual</th>\n",
       "      <th>Predicted</th>\n",
       "      <th>Difference</th>\n",
       "    </tr>\n",
       "  </thead>\n",
       "  <tbody>\n",
       "    <tr>\n",
       "      <th>47</th>\n",
       "      <td>0.91</td>\n",
       "      <td>1.20</td>\n",
       "      <td>0.29</td>\n",
       "    </tr>\n",
       "    <tr>\n",
       "      <th>48</th>\n",
       "      <td>1.05</td>\n",
       "      <td>1.24</td>\n",
       "      <td>0.18</td>\n",
       "    </tr>\n",
       "    <tr>\n",
       "      <th>49</th>\n",
       "      <td>1.09</td>\n",
       "      <td>1.28</td>\n",
       "      <td>0.19</td>\n",
       "    </tr>\n",
       "    <tr>\n",
       "      <th>89</th>\n",
       "      <td>0.75</td>\n",
       "      <td>0.96</td>\n",
       "      <td>0.21</td>\n",
       "    </tr>\n",
       "    <tr>\n",
       "      <th>90</th>\n",
       "      <td>0.79</td>\n",
       "      <td>0.98</td>\n",
       "      <td>0.19</td>\n",
       "    </tr>\n",
       "    <tr>\n",
       "      <th>...</th>\n",
       "      <td>...</td>\n",
       "      <td>...</td>\n",
       "      <td>...</td>\n",
       "    </tr>\n",
       "    <tr>\n",
       "      <th>2037</th>\n",
       "      <td>0.97</td>\n",
       "      <td>0.91</td>\n",
       "      <td>0.06</td>\n",
       "    </tr>\n",
       "    <tr>\n",
       "      <th>2038</th>\n",
       "      <td>0.95</td>\n",
       "      <td>0.87</td>\n",
       "      <td>0.08</td>\n",
       "    </tr>\n",
       "    <tr>\n",
       "      <th>2039</th>\n",
       "      <td>0.89</td>\n",
       "      <td>0.87</td>\n",
       "      <td>0.03</td>\n",
       "    </tr>\n",
       "    <tr>\n",
       "      <th>2040</th>\n",
       "      <td>0.91</td>\n",
       "      <td>0.91</td>\n",
       "      <td>0.00</td>\n",
       "    </tr>\n",
       "    <tr>\n",
       "      <th>2041</th>\n",
       "      <td>0.90</td>\n",
       "      <td>0.90</td>\n",
       "      <td>0.01</td>\n",
       "    </tr>\n",
       "  </tbody>\n",
       "</table>\n",
       "<p>324 rows × 3 columns</p>\n",
       "</div>"
      ],
      "text/plain": [
       "      Actual  Predicted  Difference\n",
       "47      0.91       1.20        0.29\n",
       "48      1.05       1.24        0.18\n",
       "49      1.09       1.28        0.19\n",
       "89      0.75       0.96        0.21\n",
       "90      0.79       0.98        0.19\n",
       "...      ...        ...         ...\n",
       "2037    0.97       0.91        0.06\n",
       "2038    0.95       0.87        0.08\n",
       "2039    0.89       0.87        0.03\n",
       "2040    0.91       0.91        0.00\n",
       "2041    0.90       0.90        0.01\n",
       "\n",
       "[324 rows x 3 columns]"
      ]
     },
     "execution_count": 6056,
     "metadata": {},
     "output_type": "execute_result"
    }
   ],
   "source": [
    "#Actual vs Predcited Dataframe\n",
    "df_eval = pd.DataFrame({'Actual': y_test, 'Predicted': y_pred})\n",
    "df_eval['Difference']=np.abs(df_eval['Actual']-df_eval['Predicted'])\n",
    "df_eval"
   ]
  },
  {
   "cell_type": "markdown",
   "metadata": {},
   "source": [
    "## Results View"
   ]
  },
  {
   "cell_type": "markdown",
   "metadata": {},
   "source": [
    "### Predicted vs Actual R0 Distribution"
   ]
  },
  {
   "cell_type": "code",
   "execution_count": 6057,
   "metadata": {},
   "outputs": [
    {
     "data": {
      "text/plain": [
       "Text(0.5, 1.0, 'R0_Predicted')"
      ]
     },
     "execution_count": 6057,
     "metadata": {},
     "output_type": "execute_result"
    },
    {
     "data": {
      "image/png": "[encoded data removed]",
      "text/plain": [
       "<Figure size 864x360 with 1 Axes>"
      ]
     },
     "metadata": {
      "needs_background": "light"
     },
     "output_type": "display_data"
    }
   ],
   "source": [
    "f, axes = plt.subplots(figsize=(12,5))\n",
    "sns.histplot(x='Predicted', data=df_eval, kde=False, bins=100, ax=axes);\n",
    "axes.set_title('R0_Predicted')"
   ]
  },
  {
   "cell_type": "code",
   "execution_count": 6058,
   "metadata": {},
   "outputs": [
    {
     "data": {
      "text/plain": [
       "Text(0.5, 1.0, 'R0_Actual')"
      ]
     },
     "execution_count": 6058,
     "metadata": {},
     "output_type": "execute_result"
    },
    {
     "data": {
      "image/png": "[encoded data removed]",
      "text/plain": [
       "<Figure size 864x360 with 1 Axes>"
      ]
     },
     "metadata": {
      "needs_background": "light"
     },
     "output_type": "display_data"
    }
   ],
   "source": [
    "f, axes = plt.subplots(figsize=(12,5))\n",
    "sns.histplot(x='Actual', data=df_eval, kde=False, bins=100, ax=axes);\n",
    "axes.set_title('R0_Actual')"
   ]
  },
  {
   "cell_type": "markdown",
   "metadata": {},
   "source": [
    "## Model Evaluation Plots"
   ]
  },
  {
   "cell_type": "markdown",
   "metadata": {},
   "source": [
    "### Difference Histogram "
   ]
  },
  {
   "cell_type": "code",
   "execution_count": null,
   "metadata": {},
   "outputs": [],
   "source": [
    "# plot difference hist\n",
    "f, axes = plt.subplots(figsize=(12,5))\n",
    "sns.histplot(x='Difference', data=df_eval, kde=False, bins=50, ax=axes);\n",
    "axes.set_title('Difference Histogram')"
   ]
  },
  {
   "cell_type": "markdown",
   "metadata": {},
   "source": [
    "### Actual vs Predicted"
   ]
  },
  {
   "cell_type": "code",
   "execution_count": 6060,
   "metadata": {},
   "outputs": [
    {
     "data": {
      "image/png": "[encoded data removed]",
      "text/plain": [
       "<Figure size 864x360 with 1 Axes>"
      ]
     },
     "metadata": {
      "needs_background": "light"
     },
     "output_type": "display_data"
    }
   ],
   "source": [
    "import matplotlib.pyplot as plt\n",
    "\n",
    "_, ax = plt.subplots(figsize=(12,5))\n",
    "\n",
    "ax.scatter(x = range(0, y_test.size), y=y_test, c = 'blue', label = 'Actual', alpha = 0.3)\n",
    "ax.scatter(x = range(0, y_pred.size), y=y_pred, c = 'red', label = 'Predicted', alpha = 0.3)\n",
    "\n",
    "plt.title('Actual and predicted values')\n",
    "plt.xlabel('Observations')\n",
    "plt.ylabel('mpg')\n",
    "plt.legend()\n",
    "plt.show()"
   ]
  },
  {
   "cell_type": "code",
   "execution_count": 6061,
   "metadata": {},
   "outputs": [
    {
     "data": {
      "image/png": "[encoded data removed]",
      "text/plain": [
       "<Figure size 864x360 with 1 Axes>"
      ]
     },
     "metadata": {
      "needs_background": "light"
     },
     "output_type": "display_data"
    }
   ],
   "source": [
    "fig, ax = plt.subplots(figsize=(12,5))\n",
    "ax.scatter(y_test, y_pred)\n",
    "ax.plot([y_train.min(), y_train.max()], [y_train.min(), y_train.max()], 'k--', lw=4)\n",
    "ax.set_xlabel('Measured')\n",
    "ax.set_ylabel('Predicted')\n",
    "plt.show()"
   ]
  },
  {
   "cell_type": "code",
   "execution_count": 6062,
   "metadata": {},
   "outputs": [
    {
     "data": {
      "image/png": "[encoded data removed]",
      "text/plain": [
       "<Figure size 864x360 with 1 Axes>"
      ]
     },
     "metadata": {
      "needs_background": "light"
     },
     "output_type": "display_data"
    }
   ],
   "source": [
    "fig, ax = plt.subplots(figsize=(12,5))\n",
    "ax.scatter(y_train, y_pred_train)\n",
    "ax.plot([y_train.min(), y_train.max()], [y_train.min(), y_train.max()], 'k--', lw=4)\n",
    "ax.set_xlabel('Measured')\n",
    "ax.set_ylabel('Predicted')\n",
    "plt.show()"
   ]
  },
  {
   "cell_type": "code",
   "execution_count": 6063,
   "metadata": {},
   "outputs": [
    {
     "data": {
      "image/png": "[encoded data removed]",
      "text/plain": [
       "<Figure size 720x360 with 2 Axes>"
      ]
     },
     "metadata": {
      "needs_background": "light"
     },
     "output_type": "display_data"
    }
   ],
   "source": [
    "# Hacemos las predicciones y evaluamos los resultados graficamente, tanto en el set de Train como de Test\n",
    "y_test_pred = y_pred\n",
    "y_train_pred = y_pred_train\n",
    "\n",
    "test = y_test\n",
    "train = y_train\n",
    "\n",
    "res_df_test = pd.DataFrame({'pred': y_test_pred, 'test': test})\n",
    "res_df_test['dif'] = np.round(res_df_test['pred']-res_df_test['test'],2)\n",
    "res_df_test['dif_abs'] = np.round(np.abs(res_df_test['pred']-res_df_test['test']),2)\n",
    "res_df_test['dif%'] = np.round(100*(res_df_test['pred']-res_df_test['test'])/res_df_test['test'],2)\n",
    "\n",
    "res_df_train = pd.DataFrame({'pred': y_train_pred, 'test': train})\n",
    "res_df_train['dif'] = np.round(res_df_train['pred']-res_df_train['test'],2)\n",
    "res_df_train['dif_abs'] = np.round(np.abs(res_df_train['pred']-res_df_train['test']),2)\n",
    "res_df_train['dif%'] = np.round(100*(res_df_train['pred']-res_df_train['test'])/res_df_train['test'],2)\n",
    "\n",
    "fig, axes = plt.subplots(nrows=1, ncols=2, figsize=(10, 5))\n",
    "plot = sns.kdeplot(res_df_train['pred'], ax=axes[0], color='orange')\n",
    "plot = sns.kdeplot(res_df_train['test'], ax=axes[0])\n",
    "plot = sns.kdeplot(res_df_test['pred'], ax=axes[1], color='orange')\n",
    "plot = sns.kdeplot(res_df_test['test'], ax=axes[1])\n",
    "fig.tight_layout()"
   ]
  },
  {
   "cell_type": "code",
   "execution_count": 6065,
   "metadata": {},
   "outputs": [
    {
     "data": {
      "text/html": [
       "<div>\n",
       "<style scoped>\n",
       "    .dataframe tbody tr th:only-of-type {\n",
       "        vertical-align: middle;\n",
       "    }\n",
       "\n",
       "    .dataframe tbody tr th {\n",
       "        vertical-align: top;\n",
       "    }\n",
       "\n",
       "    .dataframe thead th {\n",
       "        text-align: right;\n",
       "    }\n",
       "</style>\n",
       "<table border=\"1\" class=\"dataframe\">\n",
       "  <thead>\n",
       "    <tr style=\"text-align: right;\">\n",
       "      <th></th>\n",
       "      <th>pred</th>\n",
       "      <th>test</th>\n",
       "      <th>dif</th>\n",
       "      <th>dif_abs</th>\n",
       "      <th>dif%</th>\n",
       "    </tr>\n",
       "  </thead>\n",
       "  <tbody>\n",
       "    <tr>\n",
       "      <th>1746</th>\n",
       "      <td>0.91</td>\n",
       "      <td>1.58</td>\n",
       "      <td>-0.67</td>\n",
       "      <td>0.67</td>\n",
       "      <td>-42.36</td>\n",
       "    </tr>\n",
       "    <tr>\n",
       "      <th>1745</th>\n",
       "      <td>0.86</td>\n",
       "      <td>1.47</td>\n",
       "      <td>-0.61</td>\n",
       "      <td>0.61</td>\n",
       "      <td>-41.31</td>\n",
       "    </tr>\n",
       "    <tr>\n",
       "      <th>1426</th>\n",
       "      <td>0.93</td>\n",
       "      <td>1.38</td>\n",
       "      <td>-0.45</td>\n",
       "      <td>0.45</td>\n",
       "      <td>-32.65</td>\n",
       "    </tr>\n",
       "    <tr>\n",
       "      <th>1747</th>\n",
       "      <td>0.89</td>\n",
       "      <td>1.31</td>\n",
       "      <td>-0.43</td>\n",
       "      <td>0.43</td>\n",
       "      <td>-32.46</td>\n",
       "    </tr>\n",
       "    <tr>\n",
       "      <th>879</th>\n",
       "      <td>0.91</td>\n",
       "      <td>1.30</td>\n",
       "      <td>-0.39</td>\n",
       "      <td>0.39</td>\n",
       "      <td>-30.04</td>\n",
       "    </tr>\n",
       "    <tr>\n",
       "      <th>...</th>\n",
       "      <td>...</td>\n",
       "      <td>...</td>\n",
       "      <td>...</td>\n",
       "      <td>...</td>\n",
       "      <td>...</td>\n",
       "    </tr>\n",
       "    <tr>\n",
       "      <th>1701</th>\n",
       "      <td>1.13</td>\n",
       "      <td>0.68</td>\n",
       "      <td>0.45</td>\n",
       "      <td>0.45</td>\n",
       "      <td>65.92</td>\n",
       "    </tr>\n",
       "    <tr>\n",
       "      <th>1429</th>\n",
       "      <td>0.94</td>\n",
       "      <td>0.56</td>\n",
       "      <td>0.38</td>\n",
       "      <td>0.38</td>\n",
       "      <td>68.00</td>\n",
       "    </tr>\n",
       "    <tr>\n",
       "      <th>1018</th>\n",
       "      <td>1.10</td>\n",
       "      <td>0.65</td>\n",
       "      <td>0.46</td>\n",
       "      <td>0.46</td>\n",
       "      <td>70.38</td>\n",
       "    </tr>\n",
       "    <tr>\n",
       "      <th>199</th>\n",
       "      <td>0.97</td>\n",
       "      <td>0.56</td>\n",
       "      <td>0.41</td>\n",
       "      <td>0.41</td>\n",
       "      <td>72.55</td>\n",
       "    </tr>\n",
       "    <tr>\n",
       "      <th>1474</th>\n",
       "      <td>1.09</td>\n",
       "      <td>0.60</td>\n",
       "      <td>0.49</td>\n",
       "      <td>0.49</td>\n",
       "      <td>80.39</td>\n",
       "    </tr>\n",
       "  </tbody>\n",
       "</table>\n",
       "<p>324 rows × 5 columns</p>\n",
       "</div>"
      ],
      "text/plain": [
       "      pred  test   dif  dif_abs   dif%\n",
       "1746  0.91  1.58 -0.67     0.67 -42.36\n",
       "1745  0.86  1.47 -0.61     0.61 -41.31\n",
       "1426  0.93  1.38 -0.45     0.45 -32.65\n",
       "1747  0.89  1.31 -0.43     0.43 -32.46\n",
       "879   0.91  1.30 -0.39     0.39 -30.04\n",
       "...    ...   ...   ...      ...    ...\n",
       "1701  1.13  0.68  0.45     0.45  65.92\n",
       "1429  0.94  0.56  0.38     0.38  68.00\n",
       "1018  1.10  0.65  0.46     0.46  70.38\n",
       "199   0.97  0.56  0.41     0.41  72.55\n",
       "1474  1.09  0.60  0.49     0.49  80.39\n",
       "\n",
       "[324 rows x 5 columns]"
      ]
     },
     "execution_count": 6065,
     "metadata": {},
     "output_type": "execute_result"
    }
   ],
   "source": [
    "res_df_test.sort_values('dif%')"
   ]
  },
  {
   "cell_type": "markdown",
   "metadata": {},
   "source": [
    "## Feature importance "
   ]
  },
  {
   "cell_type": "code",
   "execution_count": 6070,
   "metadata": {},
   "outputs": [],
   "source": [
    "import xgboost\n",
    "from xgboost import plot_importance\n",
    "from xgboost import plot_tree"
   ]
  },
  {
   "cell_type": "code",
   "execution_count": 6071,
   "metadata": {},
   "outputs": [
    {
     "data": {
      "image/png": "[encoded data removed]",
      "text/plain": [
       "<Figure size 432x288 with 1 Axes>"
      ]
     },
     "metadata": {
      "needs_background": "light"
     },
     "output_type": "display_data"
    }
   ],
   "source": [
    "xgboost.plot_importance(grid.best_estimator_)\n",
    "plt.rcParams['figure.figsize'] = [20, 20]\n",
    "plt.show()"
   ]
  },
  {
   "cell_type": "markdown",
   "metadata": {},
   "source": [
    "## Light GBM"
   ]
  },
  {
   "cell_type": "code",
   "execution_count": 5927,
   "metadata": {},
   "outputs": [],
   "source": [
    "import lightgbm as lgb"
   ]
  },
  {
   "cell_type": "code",
   "execution_count": 5928,
   "metadata": {},
   "outputs": [],
   "source": [
    "params = {\n",
    "    'metric': ['regression_l1'],\n",
    "    \"max_depth\":[4,5,6] ,\n",
    "    \"num_leaves\": [50,60,70],  \n",
    "    \"max_bin\": [200,400],\n",
    "}\n",
    "\n",
    "# Initialize LGB and GridSearch\n",
    "lgbm = lgb.LGBMRegressor()\n",
    "\n",
    "grid = GridSearchCV(lgbm, params)"
   ]
  },
  {
   "cell_type": "code",
   "execution_count": 5929,
   "metadata": {},
   "outputs": [
    {
     "data": {
      "text/plain": [
       "GridSearchCV(estimator=LGBMRegressor(),\n",
       "             param_grid={'max_bin': [200, 400], 'max_depth': [4, 5, 6],\n",
       "                         'metric': ['regression_l1'],\n",
       "                         'num_leaves': [50, 60, 70]})"
      ]
     },
     "execution_count": 5929,
     "metadata": {},
     "output_type": "execute_result"
    }
   ],
   "source": [
    "grid.fit(X_train, y_train)"
   ]
  },
  {
   "cell_type": "code",
   "execution_count": 5930,
   "metadata": {},
   "outputs": [
    {
     "data": {
      "text/plain": [
       "LGBMRegressor(max_bin=200, max_depth=4, metric='regression_l1', num_leaves=50)"
      ]
     },
     "execution_count": 5930,
     "metadata": {},
     "output_type": "execute_result"
    }
   ],
   "source": [
    "grid.best_estimator_"
   ]
  },
  {
   "cell_type": "code",
   "execution_count": 5789,
   "metadata": {},
   "outputs": [],
   "source": [
    "def mape(y, y_pred):\n",
    "    return np.mean(np.abs((y - y_pred) / y)) * 100"
   ]
  },
  {
   "cell_type": "code",
   "execution_count": 5931,
   "metadata": {},
   "outputs": [],
   "source": [
    "y_pred = grid.best_estimator_.predict(X_test, num_iteration=gbm.best_iteration_)"
   ]
  },
  {
   "cell_type": "code",
   "execution_count": 5933,
   "metadata": {},
   "outputs": [
    {
     "ename": "TypeError",
     "evalue": "'float' object is not callable",
     "output_type": "error",
     "traceback": [
      "\u001b[0;31m---------------------------------------------------------------------------\u001b[0m",
      "\u001b[0;31mTypeError\u001b[0m                                 Traceback (most recent call last)",
      "\u001b[0;32m<ipython-input-5933-44f7de6368f9>\u001b[0m in \u001b[0;36m<module>\u001b[0;34m\u001b[0m\n\u001b[0;32m----> 1\u001b[0;31m \u001b[0mmape\u001b[0m\u001b[0;34m(\u001b[0m\u001b[0my_pred\u001b[0m\u001b[0;34m,\u001b[0m \u001b[0my_test\u001b[0m\u001b[0;34m)\u001b[0m\u001b[0;34m\u001b[0m\u001b[0;34m\u001b[0m\u001b[0m\n\u001b[0m",
      "\u001b[0;31mTypeError\u001b[0m: 'float' object is not callable"
     ]
    }
   ],
   "source": [
    "mape(y_pred, y_test)"
   ]
  },
  {
   "cell_type": "code",
   "execution_count": 5935,
   "metadata": {},
   "outputs": [],
   "source": [
    "y_pred_train = grid.best_estimator_.predict(X_train, num_iteration=gbm.best_iteration_)"
   ]
  },
  {
   "cell_type": "code",
   "execution_count": 5936,
   "metadata": {},
   "outputs": [
    {
     "ename": "TypeError",
     "evalue": "'float' object is not callable",
     "output_type": "error",
     "traceback": [
      "\u001b[0;31m---------------------------------------------------------------------------\u001b[0m",
      "\u001b[0;31mTypeError\u001b[0m                                 Traceback (most recent call last)",
      "\u001b[0;32m<ipython-input-5936-6f50e67a1cd3>\u001b[0m in \u001b[0;36m<module>\u001b[0;34m\u001b[0m\n\u001b[0;32m----> 1\u001b[0;31m \u001b[0mmape\u001b[0m\u001b[0;34m(\u001b[0m\u001b[0my_pred_train\u001b[0m\u001b[0;34m,\u001b[0m \u001b[0my_train\u001b[0m\u001b[0;34m)\u001b[0m\u001b[0;34m\u001b[0m\u001b[0;34m\u001b[0m\u001b[0m\n\u001b[0m",
      "\u001b[0;31mTypeError\u001b[0m: 'float' object is not callable"
     ]
    }
   ],
   "source": [
    "mape(y_pred_train, y_train)"
   ]
  },
  {
   "cell_type": "code",
   "execution_count": 5937,
   "metadata": {},
   "outputs": [
    {
     "data": {
      "image/png": "[encoded data removed]",
      "text/plain": [
       "<Figure size 720x360 with 2 Axes>"
      ]
     },
     "metadata": {
      "needs_background": "light"
     },
     "output_type": "display_data"
    }
   ],
   "source": [
    "import seaborn as sns\n",
    "# Hacemos las predicciones y evaluamos los resultados graficamente, tanto en el set de Train como de Test\n",
    "y_test_pred = y_pred\n",
    "y_train_pred = y_pred_train\n",
    "\n",
    "test = y_test\n",
    "train = y_train\n",
    "\n",
    "res_df_test = pd.DataFrame({'pred': y_test_pred, 'test': test})\n",
    "res_df_test['dif'] = np.round(res_df_test['pred']-res_df_test['test'],2)\n",
    "res_df_test['dif_abs'] = np.round(np.abs(res_df_test['pred']-res_df_test['test']),2)\n",
    "res_df_test['dif%'] = np.round(100*(res_df_test['pred']-res_df_test['test'])/res_df_test['test'],2)\n",
    "\n",
    "res_df_train = pd.DataFrame({'pred': y_train_pred, 'test': train})\n",
    "res_df_train['dif'] = np.round(res_df_train['pred']-res_df_train['test'],2)\n",
    "res_df_train['dif_abs'] = np.round(np.abs(res_df_train['pred']-res_df_train['test']),2)\n",
    "res_df_train['dif%'] = np.round(100*(res_df_train['pred']-res_df_train['test'])/res_df_train['test'],2)\n",
    "\n",
    "fig, axes = plt.subplots(nrows=1, ncols=2, figsize=(10, 5))\n",
    "plot = sns.kdeplot(res_df_train['pred'], ax=axes[0], color='orange')\n",
    "plot = sns.kdeplot(res_df_train['test'], ax=axes[0])\n",
    "plot = sns.kdeplot(res_df_test['pred'], ax=axes[1], color='orange')\n",
    "plot = sns.kdeplot(res_df_test['test'], ax=axes[1])\n",
    "fig.tight_layout()"
   ]
  },
  {
   "cell_type": "code",
   "execution_count": 5938,
   "metadata": {},
   "outputs": [
    {
     "data": {
      "image/png": "[encoded data removed]",
      "text/plain": [
       "<Figure size 864x360 with 1 Axes>"
      ]
     },
     "metadata": {
      "needs_background": "light"
     },
     "output_type": "display_data"
    }
   ],
   "source": [
    "fig, ax = plt.subplots(figsize=(12,5))\n",
    "ax.scatter(y_test, y_pred)\n",
    "ax.plot([y_train.min(), y_train.max()], [y_train.min(), y_train.max()], 'k--', lw=4)\n",
    "ax.set_xlabel('Measured')\n",
    "ax.set_ylabel('Predicted')\n",
    "plt.show()"
   ]
  },
  {
   "cell_type": "code",
   "execution_count": 5939,
   "metadata": {},
   "outputs": [
    {
     "data": {
      "image/png": "[encoded data removed]",
      "text/plain": [
       "<Figure size 864x360 with 1 Axes>"
      ]
     },
     "metadata": {
      "needs_background": "light"
     },
     "output_type": "display_data"
    }
   ],
   "source": [
    "fig, ax = plt.subplots(figsize=(12,5))\n",
    "ax.scatter(y_train, y_pred_train)\n",
    "ax.plot([y_train.min(), y_train.max()], [y_train.min(), y_train.max()], 'k--', lw=4)\n",
    "ax.set_xlabel('Measured')\n",
    "ax.set_ylabel('Predicted')\n",
    "plt.show()"
   ]
  },
  {
   "cell_type": "code",
   "execution_count": null,
   "metadata": {},
   "outputs": [],
   "source": []
  },
  {
   "cell_type": "code",
   "execution_count": null,
   "metadata": {},
   "outputs": [],
   "source": []
  },
  {
   "cell_type": "code",
   "execution_count": null,
   "metadata": {},
   "outputs": [],
   "source": []
  },
  {
   "cell_type": "code",
   "execution_count": 6073,
   "metadata": {},
   "outputs": [
    {
     "data": {
      "text/plain": [
       "0      0.99\n",
       "1      1.00\n",
       "2      1.02\n",
       "3      1.07\n",
       "4      1.06\n",
       "       ... \n",
       "2031   1.06\n",
       "2032   1.08\n",
       "2033   1.08\n",
       "2034   1.07\n",
       "2035   1.04\n",
       "Name: R0, Length: 1718, dtype: float64"
      ]
     },
     "execution_count": 6073,
     "metadata": {},
     "output_type": "execute_result"
    }
   ],
   "source": [
    "y_train"
   ]
  },
  {
   "cell_type": "markdown",
   "metadata": {},
   "source": [
    "# CatBoost Regressor "
   ]
  },
  {
   "cell_type": "code",
   "execution_count": 6104,
   "metadata": {},
   "outputs": [
    {
     "name": "stdout",
     "output_type": "stream",
     "text": [
      "Learning rate set to 0.042977\n",
      "0:\tlearn: 0.1964448\ttotal: 7.94ms\tremaining: 7.93s\n",
      "1:\tlearn: 0.1953319\ttotal: 12.6ms\tremaining: 6.31s\n",
      "2:\tlearn: 0.1938315\ttotal: 17.6ms\tremaining: 5.83s\n",
      "3:\tlearn: 0.1928320\ttotal: 25.4ms\tremaining: 6.33s\n",
      "4:\tlearn: 0.1917519\ttotal: 30.1ms\tremaining: 5.99s\n",
      "5:\tlearn: 0.1909100\ttotal: 38ms\tremaining: 6.29s\n",
      "6:\tlearn: 0.1902661\ttotal: 42.5ms\tremaining: 6.03s\n",
      "7:\tlearn: 0.1896702\ttotal: 48.4ms\tremaining: 6s\n",
      "8:\tlearn: 0.1889888\ttotal: 53.1ms\tremaining: 5.85s\n",
      "9:\tlearn: 0.1880587\ttotal: 57.8ms\tremaining: 5.72s\n",
      "10:\tlearn: 0.1870531\ttotal: 63.1ms\tremaining: 5.67s\n",
      "11:\tlearn: 0.1864385\ttotal: 78.2ms\tremaining: 6.44s\n",
      "12:\tlearn: 0.1855208\ttotal: 86.5ms\tremaining: 6.57s\n",
      "13:\tlearn: 0.1848079\ttotal: 92.1ms\tremaining: 6.49s\n",
      "14:\tlearn: 0.1838305\ttotal: 96.9ms\tremaining: 6.36s\n",
      "15:\tlearn: 0.1832188\ttotal: 102ms\tremaining: 6.26s\n",
      "16:\tlearn: 0.1824912\ttotal: 106ms\tremaining: 6.1s\n",
      "17:\tlearn: 0.1815310\ttotal: 110ms\tremaining: 6.02s\n",
      "18:\tlearn: 0.1807555\ttotal: 115ms\tremaining: 5.91s\n",
      "19:\tlearn: 0.1799757\ttotal: 118ms\tremaining: 5.78s\n",
      "20:\tlearn: 0.1792718\ttotal: 121ms\tremaining: 5.63s\n",
      "21:\tlearn: 0.1787405\ttotal: 123ms\tremaining: 5.49s\n",
      "22:\tlearn: 0.1780392\ttotal: 126ms\tremaining: 5.34s\n",
      "23:\tlearn: 0.1774681\ttotal: 128ms\tremaining: 5.22s\n",
      "24:\tlearn: 0.1768006\ttotal: 131ms\tremaining: 5.11s\n",
      "25:\tlearn: 0.1760422\ttotal: 134ms\tremaining: 5.01s\n",
      "26:\tlearn: 0.1754474\ttotal: 136ms\tremaining: 4.91s\n",
      "27:\tlearn: 0.1749679\ttotal: 139ms\tremaining: 4.82s\n",
      "28:\tlearn: 0.1742216\ttotal: 141ms\tremaining: 4.73s\n",
      "29:\tlearn: 0.1735021\ttotal: 144ms\tremaining: 4.65s\n",
      "30:\tlearn: 0.1727840\ttotal: 146ms\tremaining: 4.57s\n",
      "31:\tlearn: 0.1723695\ttotal: 149ms\tremaining: 4.5s\n",
      "32:\tlearn: 0.1717859\ttotal: 151ms\tremaining: 4.43s\n",
      "33:\tlearn: 0.1712437\ttotal: 154ms\tremaining: 4.37s\n",
      "34:\tlearn: 0.1707168\ttotal: 156ms\tremaining: 4.3s\n",
      "35:\tlearn: 0.1702067\ttotal: 159ms\tremaining: 4.25s\n",
      "36:\tlearn: 0.1696448\ttotal: 161ms\tremaining: 4.19s\n",
      "37:\tlearn: 0.1688224\ttotal: 164ms\tremaining: 4.14s\n",
      "38:\tlearn: 0.1678793\ttotal: 166ms\tremaining: 4.09s\n",
      "39:\tlearn: 0.1671234\ttotal: 168ms\tremaining: 4.04s\n",
      "40:\tlearn: 0.1666317\ttotal: 171ms\tremaining: 4s\n",
      "41:\tlearn: 0.1661012\ttotal: 174ms\tremaining: 3.96s\n",
      "42:\tlearn: 0.1654645\ttotal: 176ms\tremaining: 3.92s\n",
      "43:\tlearn: 0.1648872\ttotal: 179ms\tremaining: 3.88s\n",
      "44:\tlearn: 0.1643741\ttotal: 181ms\tremaining: 3.85s\n",
      "45:\tlearn: 0.1638303\ttotal: 186ms\tremaining: 3.86s\n",
      "46:\tlearn: 0.1632091\ttotal: 191ms\tremaining: 3.87s\n",
      "47:\tlearn: 0.1625424\ttotal: 195ms\tremaining: 3.88s\n",
      "48:\tlearn: 0.1621219\ttotal: 203ms\tremaining: 3.94s\n",
      "49:\tlearn: 0.1612886\ttotal: 207ms\tremaining: 3.93s\n",
      "50:\tlearn: 0.1607402\ttotal: 211ms\tremaining: 3.93s\n",
      "51:\tlearn: 0.1602254\ttotal: 216ms\tremaining: 3.94s\n",
      "52:\tlearn: 0.1597293\ttotal: 229ms\tremaining: 4.09s\n",
      "53:\tlearn: 0.1591718\ttotal: 237ms\tremaining: 4.16s\n",
      "54:\tlearn: 0.1586798\ttotal: 243ms\tremaining: 4.18s\n",
      "55:\tlearn: 0.1581880\ttotal: 249ms\tremaining: 4.2s\n",
      "56:\tlearn: 0.1577467\ttotal: 254ms\tremaining: 4.2s\n",
      "57:\tlearn: 0.1572281\ttotal: 256ms\tremaining: 4.16s\n",
      "58:\tlearn: 0.1567987\ttotal: 259ms\tremaining: 4.13s\n",
      "59:\tlearn: 0.1563937\ttotal: 262ms\tremaining: 4.1s\n",
      "60:\tlearn: 0.1558422\ttotal: 266ms\tremaining: 4.09s\n",
      "61:\tlearn: 0.1553900\ttotal: 269ms\tremaining: 4.07s\n",
      "62:\tlearn: 0.1549628\ttotal: 272ms\tremaining: 4.04s\n",
      "63:\tlearn: 0.1542211\ttotal: 275ms\tremaining: 4.03s\n",
      "64:\tlearn: 0.1538617\ttotal: 279ms\tremaining: 4.01s\n",
      "65:\tlearn: 0.1534528\ttotal: 282ms\tremaining: 3.99s\n",
      "66:\tlearn: 0.1530215\ttotal: 285ms\tremaining: 3.97s\n",
      "67:\tlearn: 0.1525054\ttotal: 288ms\tremaining: 3.95s\n",
      "68:\tlearn: 0.1523126\ttotal: 291ms\tremaining: 3.93s\n",
      "69:\tlearn: 0.1521331\ttotal: 294ms\tremaining: 3.91s\n",
      "70:\tlearn: 0.1517672\ttotal: 298ms\tremaining: 3.89s\n",
      "71:\tlearn: 0.1513130\ttotal: 300ms\tremaining: 3.87s\n",
      "72:\tlearn: 0.1511246\ttotal: 303ms\tremaining: 3.85s\n",
      "73:\tlearn: 0.1506379\ttotal: 305ms\tremaining: 3.82s\n",
      "74:\tlearn: 0.1501904\ttotal: 308ms\tremaining: 3.8s\n",
      "75:\tlearn: 0.1498086\ttotal: 310ms\tremaining: 3.77s\n",
      "76:\tlearn: 0.1493847\ttotal: 313ms\tremaining: 3.75s\n",
      "77:\tlearn: 0.1490189\ttotal: 316ms\tremaining: 3.73s\n",
      "78:\tlearn: 0.1486873\ttotal: 318ms\tremaining: 3.71s\n",
      "79:\tlearn: 0.1483582\ttotal: 321ms\tremaining: 3.69s\n",
      "80:\tlearn: 0.1477976\ttotal: 323ms\tremaining: 3.67s\n",
      "81:\tlearn: 0.1470752\ttotal: 326ms\tremaining: 3.65s\n",
      "82:\tlearn: 0.1466099\ttotal: 328ms\tremaining: 3.63s\n",
      "83:\tlearn: 0.1462846\ttotal: 331ms\tremaining: 3.61s\n",
      "84:\tlearn: 0.1458756\ttotal: 334ms\tremaining: 3.59s\n",
      "85:\tlearn: 0.1454952\ttotal: 336ms\tremaining: 3.57s\n",
      "86:\tlearn: 0.1449721\ttotal: 339ms\tremaining: 3.55s\n",
      "87:\tlearn: 0.1444291\ttotal: 341ms\tremaining: 3.54s\n",
      "88:\tlearn: 0.1439850\ttotal: 344ms\tremaining: 3.52s\n",
      "89:\tlearn: 0.1436352\ttotal: 347ms\tremaining: 3.5s\n",
      "90:\tlearn: 0.1434528\ttotal: 349ms\tremaining: 3.49s\n",
      "91:\tlearn: 0.1431503\ttotal: 352ms\tremaining: 3.47s\n",
      "92:\tlearn: 0.1425863\ttotal: 354ms\tremaining: 3.46s\n",
      "93:\tlearn: 0.1421943\ttotal: 357ms\tremaining: 3.44s\n",
      "94:\tlearn: 0.1417689\ttotal: 360ms\tremaining: 3.42s\n",
      "95:\tlearn: 0.1413786\ttotal: 362ms\tremaining: 3.41s\n",
      "96:\tlearn: 0.1409110\ttotal: 365ms\tremaining: 3.4s\n",
      "97:\tlearn: 0.1404328\ttotal: 367ms\tremaining: 3.38s\n",
      "98:\tlearn: 0.1400878\ttotal: 370ms\tremaining: 3.37s\n",
      "99:\tlearn: 0.1396535\ttotal: 376ms\tremaining: 3.38s\n",
      "100:\tlearn: 0.1393165\ttotal: 380ms\tremaining: 3.38s\n",
      "101:\tlearn: 0.1390347\ttotal: 385ms\tremaining: 3.39s\n",
      "102:\tlearn: 0.1387344\ttotal: 389ms\tremaining: 3.39s\n",
      "103:\tlearn: 0.1384968\ttotal: 394ms\tremaining: 3.4s\n",
      "104:\tlearn: 0.1382044\ttotal: 399ms\tremaining: 3.4s\n",
      "105:\tlearn: 0.1380022\ttotal: 404ms\tremaining: 3.4s\n",
      "106:\tlearn: 0.1375086\ttotal: 408ms\tremaining: 3.4s\n",
      "107:\tlearn: 0.1371791\ttotal: 415ms\tremaining: 3.43s\n",
      "108:\tlearn: 0.1369444\ttotal: 420ms\tremaining: 3.44s\n",
      "109:\tlearn: 0.1367236\ttotal: 425ms\tremaining: 3.44s\n",
      "110:\tlearn: 0.1365350\ttotal: 428ms\tremaining: 3.42s\n",
      "111:\tlearn: 0.1362123\ttotal: 433ms\tremaining: 3.43s\n",
      "112:\tlearn: 0.1359414\ttotal: 436ms\tremaining: 3.42s\n",
      "113:\tlearn: 0.1356806\ttotal: 438ms\tremaining: 3.4s\n",
      "114:\tlearn: 0.1354426\ttotal: 441ms\tremaining: 3.39s\n",
      "115:\tlearn: 0.1352952\ttotal: 443ms\tremaining: 3.38s\n",
      "116:\tlearn: 0.1350310\ttotal: 445ms\tremaining: 3.36s\n",
      "117:\tlearn: 0.1347548\ttotal: 449ms\tremaining: 3.35s\n",
      "118:\tlearn: 0.1345653\ttotal: 451ms\tremaining: 3.34s\n",
      "119:\tlearn: 0.1343320\ttotal: 454ms\tremaining: 3.33s\n",
      "120:\tlearn: 0.1340839\ttotal: 457ms\tremaining: 3.32s\n",
      "121:\tlearn: 0.1338089\ttotal: 460ms\tremaining: 3.31s\n",
      "122:\tlearn: 0.1336034\ttotal: 463ms\tremaining: 3.3s\n",
      "123:\tlearn: 0.1332763\ttotal: 465ms\tremaining: 3.29s\n",
      "124:\tlearn: 0.1329906\ttotal: 468ms\tremaining: 3.27s\n",
      "125:\tlearn: 0.1327637\ttotal: 475ms\tremaining: 3.29s\n",
      "126:\tlearn: 0.1325018\ttotal: 480ms\tremaining: 3.3s\n",
      "127:\tlearn: 0.1322294\ttotal: 482ms\tremaining: 3.29s\n",
      "128:\tlearn: 0.1318639\ttotal: 486ms\tremaining: 3.28s\n",
      "129:\tlearn: 0.1315968\ttotal: 489ms\tremaining: 3.27s\n",
      "130:\tlearn: 0.1314112\ttotal: 495ms\tremaining: 3.28s\n",
      "131:\tlearn: 0.1310743\ttotal: 497ms\tremaining: 3.27s\n",
      "132:\tlearn: 0.1308745\ttotal: 501ms\tremaining: 3.26s\n",
      "133:\tlearn: 0.1305826\ttotal: 503ms\tremaining: 3.25s\n",
      "134:\tlearn: 0.1303900\ttotal: 510ms\tremaining: 3.27s\n",
      "135:\tlearn: 0.1301290\ttotal: 513ms\tremaining: 3.26s\n",
      "136:\tlearn: 0.1297225\ttotal: 516ms\tremaining: 3.25s\n",
      "137:\tlearn: 0.1293987\ttotal: 518ms\tremaining: 3.24s\n",
      "138:\tlearn: 0.1291059\ttotal: 523ms\tremaining: 3.24s\n",
      "139:\tlearn: 0.1288877\ttotal: 526ms\tremaining: 3.23s\n",
      "140:\tlearn: 0.1285527\ttotal: 529ms\tremaining: 3.23s\n",
      "141:\tlearn: 0.1284768\ttotal: 531ms\tremaining: 3.21s\n",
      "142:\tlearn: 0.1282888\ttotal: 536ms\tremaining: 3.21s\n",
      "143:\tlearn: 0.1279442\ttotal: 539ms\tremaining: 3.2s\n",
      "144:\tlearn: 0.1276716\ttotal: 543ms\tremaining: 3.2s\n",
      "145:\tlearn: 0.1272925\ttotal: 546ms\tremaining: 3.19s\n",
      "146:\tlearn: 0.1272007\ttotal: 553ms\tremaining: 3.21s\n",
      "147:\tlearn: 0.1270949\ttotal: 559ms\tremaining: 3.22s\n",
      "148:\tlearn: 0.1268881\ttotal: 566ms\tremaining: 3.23s\n",
      "149:\tlearn: 0.1266179\ttotal: 573ms\tremaining: 3.25s\n",
      "150:\tlearn: 0.1263799\ttotal: 578ms\tremaining: 3.25s\n",
      "151:\tlearn: 0.1262030\ttotal: 583ms\tremaining: 3.25s\n",
      "152:\tlearn: 0.1259643\ttotal: 588ms\tremaining: 3.25s\n",
      "153:\tlearn: 0.1257010\ttotal: 594ms\tremaining: 3.26s\n",
      "154:\tlearn: 0.1254233\ttotal: 598ms\tremaining: 3.26s\n",
      "155:\tlearn: 0.1252088\ttotal: 603ms\tremaining: 3.26s\n",
      "156:\tlearn: 0.1250249\ttotal: 608ms\tremaining: 3.26s\n",
      "157:\tlearn: 0.1249440\ttotal: 613ms\tremaining: 3.27s\n",
      "158:\tlearn: 0.1247611\ttotal: 620ms\tremaining: 3.28s\n",
      "159:\tlearn: 0.1246192\ttotal: 627ms\tremaining: 3.29s\n",
      "160:\tlearn: 0.1244087\ttotal: 631ms\tremaining: 3.29s\n",
      "161:\tlearn: 0.1241774\ttotal: 635ms\tremaining: 3.28s\n",
      "162:\tlearn: 0.1238611\ttotal: 639ms\tremaining: 3.28s\n",
      "163:\tlearn: 0.1236790\ttotal: 643ms\tremaining: 3.28s\n",
      "164:\tlearn: 0.1234764\ttotal: 648ms\tremaining: 3.28s\n",
      "165:\tlearn: 0.1233027\ttotal: 651ms\tremaining: 3.27s\n",
      "166:\tlearn: 0.1230908\ttotal: 653ms\tremaining: 3.26s\n",
      "167:\tlearn: 0.1229245\ttotal: 656ms\tremaining: 3.25s\n",
      "168:\tlearn: 0.1228233\ttotal: 658ms\tremaining: 3.24s\n",
      "169:\tlearn: 0.1226274\ttotal: 661ms\tremaining: 3.23s\n",
      "170:\tlearn: 0.1224592\ttotal: 663ms\tremaining: 3.22s\n",
      "171:\tlearn: 0.1222424\ttotal: 666ms\tremaining: 3.21s\n",
      "172:\tlearn: 0.1221351\ttotal: 669ms\tremaining: 3.19s\n",
      "173:\tlearn: 0.1219084\ttotal: 671ms\tremaining: 3.19s\n",
      "174:\tlearn: 0.1217000\ttotal: 674ms\tremaining: 3.17s\n",
      "175:\tlearn: 0.1213419\ttotal: 676ms\tremaining: 3.17s\n",
      "176:\tlearn: 0.1210753\ttotal: 679ms\tremaining: 3.15s\n",
      "177:\tlearn: 0.1208608\ttotal: 681ms\tremaining: 3.15s\n",
      "178:\tlearn: 0.1204888\ttotal: 684ms\tremaining: 3.14s\n",
      "179:\tlearn: 0.1202943\ttotal: 686ms\tremaining: 3.13s\n",
      "180:\tlearn: 0.1199604\ttotal: 689ms\tremaining: 3.12s\n",
      "181:\tlearn: 0.1197373\ttotal: 691ms\tremaining: 3.11s\n",
      "182:\tlearn: 0.1194343\ttotal: 694ms\tremaining: 3.1s\n",
      "183:\tlearn: 0.1192507\ttotal: 696ms\tremaining: 3.09s\n",
      "184:\tlearn: 0.1189864\ttotal: 699ms\tremaining: 3.08s\n",
      "185:\tlearn: 0.1187874\ttotal: 702ms\tremaining: 3.07s\n",
      "186:\tlearn: 0.1186876\ttotal: 704ms\tremaining: 3.06s\n",
      "187:\tlearn: 0.1184840\ttotal: 707ms\tremaining: 3.05s\n",
      "188:\tlearn: 0.1182311\ttotal: 709ms\tremaining: 3.04s\n",
      "189:\tlearn: 0.1181309\ttotal: 712ms\tremaining: 3.03s\n",
      "190:\tlearn: 0.1179814\ttotal: 714ms\tremaining: 3.02s\n",
      "191:\tlearn: 0.1176425\ttotal: 717ms\tremaining: 3.02s\n",
      "192:\tlearn: 0.1173528\ttotal: 719ms\tremaining: 3.01s\n",
      "193:\tlearn: 0.1171998\ttotal: 722ms\tremaining: 3s\n",
      "194:\tlearn: 0.1169312\ttotal: 724ms\tremaining: 2.99s\n",
      "195:\tlearn: 0.1166749\ttotal: 727ms\tremaining: 2.98s\n",
      "196:\tlearn: 0.1164286\ttotal: 729ms\tremaining: 2.97s\n",
      "197:\tlearn: 0.1162463\ttotal: 732ms\tremaining: 2.96s\n"
     ]
    },
    {
     "name": "stdout",
     "output_type": "stream",
     "text": [
      "198:\tlearn: 0.1159906\ttotal: 735ms\tremaining: 2.96s\n",
      "199:\tlearn: 0.1157743\ttotal: 740ms\tremaining: 2.96s\n",
      "200:\tlearn: 0.1155764\ttotal: 745ms\tremaining: 2.96s\n",
      "201:\tlearn: 0.1154046\ttotal: 749ms\tremaining: 2.96s\n",
      "202:\tlearn: 0.1151485\ttotal: 754ms\tremaining: 2.96s\n",
      "203:\tlearn: 0.1149153\ttotal: 759ms\tremaining: 2.96s\n",
      "204:\tlearn: 0.1147513\ttotal: 764ms\tremaining: 2.96s\n",
      "205:\tlearn: 0.1146499\ttotal: 769ms\tremaining: 2.96s\n",
      "206:\tlearn: 0.1143982\ttotal: 773ms\tremaining: 2.96s\n",
      "207:\tlearn: 0.1141961\ttotal: 775ms\tremaining: 2.95s\n",
      "208:\tlearn: 0.1139865\ttotal: 780ms\tremaining: 2.95s\n",
      "209:\tlearn: 0.1138402\ttotal: 783ms\tremaining: 2.94s\n",
      "210:\tlearn: 0.1136018\ttotal: 785ms\tremaining: 2.94s\n",
      "211:\tlearn: 0.1134535\ttotal: 789ms\tremaining: 2.93s\n",
      "212:\tlearn: 0.1133394\ttotal: 792ms\tremaining: 2.92s\n",
      "213:\tlearn: 0.1131874\ttotal: 794ms\tremaining: 2.92s\n",
      "214:\tlearn: 0.1130610\ttotal: 797ms\tremaining: 2.91s\n",
      "215:\tlearn: 0.1128939\ttotal: 799ms\tremaining: 2.9s\n",
      "216:\tlearn: 0.1127127\ttotal: 802ms\tremaining: 2.89s\n",
      "217:\tlearn: 0.1125617\ttotal: 804ms\tremaining: 2.88s\n",
      "218:\tlearn: 0.1124213\ttotal: 807ms\tremaining: 2.88s\n",
      "219:\tlearn: 0.1121873\ttotal: 810ms\tremaining: 2.87s\n",
      "220:\tlearn: 0.1120632\ttotal: 812ms\tremaining: 2.86s\n",
      "221:\tlearn: 0.1117941\ttotal: 815ms\tremaining: 2.86s\n",
      "222:\tlearn: 0.1116864\ttotal: 818ms\tremaining: 2.85s\n",
      "223:\tlearn: 0.1114903\ttotal: 820ms\tremaining: 2.84s\n",
      "224:\tlearn: 0.1113134\ttotal: 823ms\tremaining: 2.83s\n",
      "225:\tlearn: 0.1111906\ttotal: 826ms\tremaining: 2.83s\n",
      "226:\tlearn: 0.1110383\ttotal: 828ms\tremaining: 2.82s\n",
      "227:\tlearn: 0.1109049\ttotal: 831ms\tremaining: 2.81s\n",
      "228:\tlearn: 0.1107570\ttotal: 833ms\tremaining: 2.81s\n",
      "229:\tlearn: 0.1106293\ttotal: 836ms\tremaining: 2.8s\n",
      "230:\tlearn: 0.1104899\ttotal: 838ms\tremaining: 2.79s\n",
      "231:\tlearn: 0.1102957\ttotal: 841ms\tremaining: 2.78s\n",
      "232:\tlearn: 0.1101374\ttotal: 844ms\tremaining: 2.78s\n",
      "233:\tlearn: 0.1100591\ttotal: 846ms\tremaining: 2.77s\n",
      "234:\tlearn: 0.1099688\ttotal: 849ms\tremaining: 2.76s\n",
      "235:\tlearn: 0.1098278\ttotal: 852ms\tremaining: 2.76s\n",
      "236:\tlearn: 0.1096942\ttotal: 854ms\tremaining: 2.75s\n",
      "237:\tlearn: 0.1094899\ttotal: 857ms\tremaining: 2.74s\n",
      "238:\tlearn: 0.1093093\ttotal: 859ms\tremaining: 2.73s\n",
      "239:\tlearn: 0.1091532\ttotal: 862ms\tremaining: 2.73s\n",
      "240:\tlearn: 0.1089851\ttotal: 864ms\tremaining: 2.72s\n",
      "241:\tlearn: 0.1088571\ttotal: 867ms\tremaining: 2.71s\n",
      "242:\tlearn: 0.1086411\ttotal: 870ms\tremaining: 2.71s\n",
      "243:\tlearn: 0.1083989\ttotal: 872ms\tremaining: 2.7s\n",
      "244:\tlearn: 0.1082341\ttotal: 875ms\tremaining: 2.7s\n",
      "245:\tlearn: 0.1079558\ttotal: 877ms\tremaining: 2.69s\n",
      "246:\tlearn: 0.1078204\ttotal: 880ms\tremaining: 2.68s\n",
      "247:\tlearn: 0.1077038\ttotal: 883ms\tremaining: 2.68s\n",
      "248:\tlearn: 0.1075577\ttotal: 885ms\tremaining: 2.67s\n",
      "249:\tlearn: 0.1073575\ttotal: 888ms\tremaining: 2.66s\n",
      "250:\tlearn: 0.1071309\ttotal: 890ms\tremaining: 2.66s\n",
      "251:\tlearn: 0.1068913\ttotal: 893ms\tremaining: 2.65s\n",
      "252:\tlearn: 0.1067418\ttotal: 895ms\tremaining: 2.64s\n",
      "253:\tlearn: 0.1066663\ttotal: 898ms\tremaining: 2.64s\n",
      "254:\tlearn: 0.1064727\ttotal: 901ms\tremaining: 2.63s\n",
      "255:\tlearn: 0.1063700\ttotal: 903ms\tremaining: 2.63s\n",
      "256:\tlearn: 0.1061703\ttotal: 906ms\tremaining: 2.62s\n",
      "257:\tlearn: 0.1059924\ttotal: 908ms\tremaining: 2.61s\n",
      "258:\tlearn: 0.1058759\ttotal: 911ms\tremaining: 2.6s\n",
      "259:\tlearn: 0.1057173\ttotal: 914ms\tremaining: 2.6s\n",
      "260:\tlearn: 0.1056289\ttotal: 918ms\tremaining: 2.6s\n",
      "261:\tlearn: 0.1055527\ttotal: 921ms\tremaining: 2.59s\n",
      "262:\tlearn: 0.1054695\ttotal: 924ms\tremaining: 2.59s\n",
      "263:\tlearn: 0.1053001\ttotal: 926ms\tremaining: 2.58s\n",
      "264:\tlearn: 0.1052001\ttotal: 931ms\tremaining: 2.58s\n",
      "265:\tlearn: 0.1051067\ttotal: 935ms\tremaining: 2.58s\n",
      "266:\tlearn: 0.1049966\ttotal: 939ms\tremaining: 2.58s\n",
      "267:\tlearn: 0.1047669\ttotal: 955ms\tremaining: 2.61s\n",
      "268:\tlearn: 0.1046919\ttotal: 961ms\tremaining: 2.61s\n",
      "269:\tlearn: 0.1045318\ttotal: 965ms\tremaining: 2.61s\n",
      "270:\tlearn: 0.1042650\ttotal: 968ms\tremaining: 2.6s\n",
      "271:\tlearn: 0.1040957\ttotal: 975ms\tremaining: 2.61s\n",
      "272:\tlearn: 0.1039788\ttotal: 978ms\tremaining: 2.6s\n",
      "273:\tlearn: 0.1037791\ttotal: 980ms\tremaining: 2.6s\n",
      "274:\tlearn: 0.1036901\ttotal: 983ms\tremaining: 2.59s\n",
      "275:\tlearn: 0.1035695\ttotal: 985ms\tremaining: 2.58s\n",
      "276:\tlearn: 0.1034401\ttotal: 988ms\tremaining: 2.58s\n",
      "277:\tlearn: 0.1032997\ttotal: 993ms\tremaining: 2.58s\n",
      "278:\tlearn: 0.1030045\ttotal: 996ms\tremaining: 2.57s\n",
      "279:\tlearn: 0.1028816\ttotal: 999ms\tremaining: 2.57s\n",
      "280:\tlearn: 0.1025716\ttotal: 1s\tremaining: 2.57s\n",
      "281:\tlearn: 0.1024502\ttotal: 1.01s\tremaining: 2.56s\n",
      "282:\tlearn: 0.1023132\ttotal: 1.01s\tremaining: 2.56s\n",
      "283:\tlearn: 0.1020860\ttotal: 1.01s\tremaining: 2.56s\n",
      "284:\tlearn: 0.1018144\ttotal: 1.02s\tremaining: 2.55s\n",
      "285:\tlearn: 0.1017064\ttotal: 1.02s\tremaining: 2.55s\n",
      "286:\tlearn: 0.1014499\ttotal: 1.02s\tremaining: 2.54s\n",
      "287:\tlearn: 0.1013231\ttotal: 1.03s\tremaining: 2.54s\n",
      "288:\tlearn: 0.1012261\ttotal: 1.03s\tremaining: 2.54s\n",
      "289:\tlearn: 0.1010150\ttotal: 1.03s\tremaining: 2.53s\n",
      "290:\tlearn: 0.1008898\ttotal: 1.04s\tremaining: 2.53s\n",
      "291:\tlearn: 0.1007385\ttotal: 1.04s\tremaining: 2.52s\n",
      "292:\tlearn: 0.1006419\ttotal: 1.04s\tremaining: 2.52s\n",
      "293:\tlearn: 0.1003764\ttotal: 1.04s\tremaining: 2.51s\n",
      "294:\tlearn: 0.1002690\ttotal: 1.05s\tremaining: 2.5s\n",
      "295:\tlearn: 0.1001986\ttotal: 1.05s\tremaining: 2.5s\n",
      "296:\tlearn: 0.1000621\ttotal: 1.05s\tremaining: 2.49s\n",
      "297:\tlearn: 0.0999164\ttotal: 1.05s\tremaining: 2.48s\n",
      "298:\tlearn: 0.0997759\ttotal: 1.06s\tremaining: 2.48s\n",
      "299:\tlearn: 0.0995275\ttotal: 1.06s\tremaining: 2.47s\n",
      "300:\tlearn: 0.0994312\ttotal: 1.06s\tremaining: 2.47s\n",
      "301:\tlearn: 0.0992122\ttotal: 1.06s\tremaining: 2.46s\n",
      "302:\tlearn: 0.0988726\ttotal: 1.07s\tremaining: 2.46s\n",
      "303:\tlearn: 0.0987338\ttotal: 1.07s\tremaining: 2.45s\n",
      "304:\tlearn: 0.0985976\ttotal: 1.07s\tremaining: 2.45s\n",
      "305:\tlearn: 0.0983732\ttotal: 1.08s\tremaining: 2.44s\n",
      "306:\tlearn: 0.0982955\ttotal: 1.08s\tremaining: 2.44s\n",
      "307:\tlearn: 0.0982048\ttotal: 1.08s\tremaining: 2.43s\n",
      "308:\tlearn: 0.0980795\ttotal: 1.08s\tremaining: 2.42s\n",
      "309:\tlearn: 0.0979358\ttotal: 1.09s\tremaining: 2.42s\n",
      "310:\tlearn: 0.0978597\ttotal: 1.09s\tremaining: 2.41s\n",
      "311:\tlearn: 0.0977923\ttotal: 1.09s\tremaining: 2.41s\n",
      "312:\tlearn: 0.0976731\ttotal: 1.09s\tremaining: 2.4s\n",
      "313:\tlearn: 0.0975123\ttotal: 1.1s\tremaining: 2.4s\n",
      "314:\tlearn: 0.0974594\ttotal: 1.1s\tremaining: 2.39s\n",
      "315:\tlearn: 0.0973482\ttotal: 1.1s\tremaining: 2.39s\n",
      "316:\tlearn: 0.0972470\ttotal: 1.11s\tremaining: 2.39s\n",
      "317:\tlearn: 0.0971767\ttotal: 1.11s\tremaining: 2.39s\n",
      "318:\tlearn: 0.0970689\ttotal: 1.12s\tremaining: 2.39s\n",
      "319:\tlearn: 0.0969564\ttotal: 1.13s\tremaining: 2.39s\n",
      "320:\tlearn: 0.0967346\ttotal: 1.13s\tremaining: 2.39s\n",
      "321:\tlearn: 0.0966454\ttotal: 1.13s\tremaining: 2.38s\n",
      "322:\tlearn: 0.0965374\ttotal: 1.13s\tremaining: 2.38s\n",
      "323:\tlearn: 0.0964161\ttotal: 1.14s\tremaining: 2.38s\n",
      "324:\tlearn: 0.0963733\ttotal: 1.14s\tremaining: 2.37s\n",
      "325:\tlearn: 0.0963027\ttotal: 1.14s\tremaining: 2.36s\n",
      "326:\tlearn: 0.0962088\ttotal: 1.15s\tremaining: 2.36s\n",
      "327:\tlearn: 0.0961283\ttotal: 1.15s\tremaining: 2.35s\n",
      "328:\tlearn: 0.0960662\ttotal: 1.15s\tremaining: 2.35s\n",
      "329:\tlearn: 0.0960229\ttotal: 1.16s\tremaining: 2.35s\n",
      "330:\tlearn: 0.0959224\ttotal: 1.16s\tremaining: 2.34s\n",
      "331:\tlearn: 0.0956170\ttotal: 1.16s\tremaining: 2.34s\n",
      "332:\tlearn: 0.0953927\ttotal: 1.17s\tremaining: 2.34s\n",
      "333:\tlearn: 0.0953028\ttotal: 1.17s\tremaining: 2.34s\n",
      "334:\tlearn: 0.0950924\ttotal: 1.17s\tremaining: 2.33s\n",
      "335:\tlearn: 0.0949160\ttotal: 1.18s\tremaining: 2.33s\n",
      "336:\tlearn: 0.0947386\ttotal: 1.18s\tremaining: 2.32s\n",
      "337:\tlearn: 0.0946820\ttotal: 1.18s\tremaining: 2.32s\n",
      "338:\tlearn: 0.0945158\ttotal: 1.19s\tremaining: 2.31s\n",
      "339:\tlearn: 0.0943356\ttotal: 1.19s\tremaining: 2.31s\n",
      "340:\tlearn: 0.0941788\ttotal: 1.19s\tremaining: 2.3s\n",
      "341:\tlearn: 0.0941195\ttotal: 1.19s\tremaining: 2.3s\n",
      "342:\tlearn: 0.0938845\ttotal: 1.2s\tremaining: 2.29s\n",
      "343:\tlearn: 0.0937303\ttotal: 1.2s\tremaining: 2.29s\n",
      "344:\tlearn: 0.0936775\ttotal: 1.2s\tremaining: 2.28s\n",
      "345:\tlearn: 0.0934895\ttotal: 1.2s\tremaining: 2.28s\n",
      "346:\tlearn: 0.0934136\ttotal: 1.21s\tremaining: 2.27s\n",
      "347:\tlearn: 0.0933382\ttotal: 1.21s\tremaining: 2.27s\n",
      "348:\tlearn: 0.0931947\ttotal: 1.21s\tremaining: 2.26s\n",
      "349:\tlearn: 0.0930783\ttotal: 1.22s\tremaining: 2.26s\n",
      "350:\tlearn: 0.0928665\ttotal: 1.22s\tremaining: 2.25s\n",
      "351:\tlearn: 0.0927354\ttotal: 1.22s\tremaining: 2.25s\n",
      "352:\tlearn: 0.0926021\ttotal: 1.22s\tremaining: 2.24s\n",
      "353:\tlearn: 0.0923369\ttotal: 1.23s\tremaining: 2.24s\n",
      "354:\tlearn: 0.0921367\ttotal: 1.23s\tremaining: 2.23s\n",
      "355:\tlearn: 0.0919888\ttotal: 1.23s\tremaining: 2.23s\n",
      "356:\tlearn: 0.0917941\ttotal: 1.23s\tremaining: 2.22s\n",
      "357:\tlearn: 0.0916763\ttotal: 1.24s\tremaining: 2.21s\n",
      "358:\tlearn: 0.0915519\ttotal: 1.24s\tremaining: 2.21s\n",
      "359:\tlearn: 0.0914497\ttotal: 1.24s\tremaining: 2.21s\n",
      "360:\tlearn: 0.0912910\ttotal: 1.24s\tremaining: 2.2s\n",
      "361:\tlearn: 0.0911886\ttotal: 1.25s\tremaining: 2.19s\n",
      "362:\tlearn: 0.0910762\ttotal: 1.25s\tremaining: 2.19s\n",
      "363:\tlearn: 0.0910239\ttotal: 1.25s\tremaining: 2.19s\n",
      "364:\tlearn: 0.0909233\ttotal: 1.25s\tremaining: 2.18s\n",
      "365:\tlearn: 0.0908726\ttotal: 1.26s\tremaining: 2.17s\n",
      "366:\tlearn: 0.0907092\ttotal: 1.26s\tremaining: 2.17s\n",
      "367:\tlearn: 0.0906104\ttotal: 1.26s\tremaining: 2.17s\n",
      "368:\tlearn: 0.0905365\ttotal: 1.26s\tremaining: 2.16s\n",
      "369:\tlearn: 0.0902927\ttotal: 1.27s\tremaining: 2.16s\n",
      "370:\tlearn: 0.0902100\ttotal: 1.27s\tremaining: 2.15s\n",
      "371:\tlearn: 0.0900741\ttotal: 1.27s\tremaining: 2.15s\n",
      "372:\tlearn: 0.0899410\ttotal: 1.27s\tremaining: 2.14s\n",
      "373:\tlearn: 0.0898213\ttotal: 1.28s\tremaining: 2.14s\n"
     ]
    },
    {
     "name": "stdout",
     "output_type": "stream",
     "text": [
      "374:\tlearn: 0.0897131\ttotal: 1.28s\tremaining: 2.14s\n",
      "375:\tlearn: 0.0895305\ttotal: 1.29s\tremaining: 2.13s\n",
      "376:\tlearn: 0.0894203\ttotal: 1.29s\tremaining: 2.13s\n",
      "377:\tlearn: 0.0892973\ttotal: 1.29s\tremaining: 2.13s\n",
      "378:\tlearn: 0.0892623\ttotal: 1.3s\tremaining: 2.13s\n",
      "379:\tlearn: 0.0891818\ttotal: 1.3s\tremaining: 2.13s\n",
      "380:\tlearn: 0.0890677\ttotal: 1.31s\tremaining: 2.13s\n",
      "381:\tlearn: 0.0889101\ttotal: 1.31s\tremaining: 2.12s\n",
      "382:\tlearn: 0.0888271\ttotal: 1.31s\tremaining: 2.12s\n",
      "383:\tlearn: 0.0887160\ttotal: 1.32s\tremaining: 2.12s\n",
      "384:\tlearn: 0.0885363\ttotal: 1.32s\tremaining: 2.11s\n",
      "385:\tlearn: 0.0884207\ttotal: 1.32s\tremaining: 2.11s\n",
      "386:\tlearn: 0.0883071\ttotal: 1.33s\tremaining: 2.1s\n",
      "387:\tlearn: 0.0882266\ttotal: 1.33s\tremaining: 2.1s\n",
      "388:\tlearn: 0.0881483\ttotal: 1.33s\tremaining: 2.09s\n",
      "389:\tlearn: 0.0880877\ttotal: 1.33s\tremaining: 2.09s\n",
      "390:\tlearn: 0.0879887\ttotal: 1.34s\tremaining: 2.08s\n",
      "391:\tlearn: 0.0878775\ttotal: 1.34s\tremaining: 2.08s\n",
      "392:\tlearn: 0.0876227\ttotal: 1.34s\tremaining: 2.07s\n",
      "393:\tlearn: 0.0875680\ttotal: 1.34s\tremaining: 2.07s\n",
      "394:\tlearn: 0.0875180\ttotal: 1.35s\tremaining: 2.06s\n",
      "395:\tlearn: 0.0873912\ttotal: 1.35s\tremaining: 2.06s\n",
      "396:\tlearn: 0.0873528\ttotal: 1.35s\tremaining: 2.06s\n",
      "397:\tlearn: 0.0872105\ttotal: 1.36s\tremaining: 2.05s\n",
      "398:\tlearn: 0.0871529\ttotal: 1.36s\tremaining: 2.05s\n",
      "399:\tlearn: 0.0869652\ttotal: 1.36s\tremaining: 2.04s\n",
      "400:\tlearn: 0.0867823\ttotal: 1.36s\tremaining: 2.04s\n",
      "401:\tlearn: 0.0867274\ttotal: 1.37s\tremaining: 2.03s\n",
      "402:\tlearn: 0.0866167\ttotal: 1.37s\tremaining: 2.03s\n",
      "403:\tlearn: 0.0865557\ttotal: 1.37s\tremaining: 2.02s\n",
      "404:\tlearn: 0.0863838\ttotal: 1.37s\tremaining: 2.02s\n",
      "405:\tlearn: 0.0862195\ttotal: 1.38s\tremaining: 2.01s\n",
      "406:\tlearn: 0.0861547\ttotal: 1.38s\tremaining: 2.01s\n",
      "407:\tlearn: 0.0860912\ttotal: 1.38s\tremaining: 2s\n",
      "408:\tlearn: 0.0859451\ttotal: 1.38s\tremaining: 2s\n",
      "409:\tlearn: 0.0858529\ttotal: 1.39s\tremaining: 2s\n",
      "410:\tlearn: 0.0857548\ttotal: 1.39s\tremaining: 1.99s\n",
      "411:\tlearn: 0.0857134\ttotal: 1.39s\tremaining: 1.99s\n",
      "412:\tlearn: 0.0855983\ttotal: 1.4s\tremaining: 1.98s\n",
      "413:\tlearn: 0.0854743\ttotal: 1.4s\tremaining: 1.98s\n",
      "414:\tlearn: 0.0854015\ttotal: 1.4s\tremaining: 1.97s\n",
      "415:\tlearn: 0.0852613\ttotal: 1.4s\tremaining: 1.97s\n",
      "416:\tlearn: 0.0852008\ttotal: 1.41s\tremaining: 1.97s\n",
      "417:\tlearn: 0.0851102\ttotal: 1.41s\tremaining: 1.96s\n",
      "418:\tlearn: 0.0850444\ttotal: 1.41s\tremaining: 1.96s\n",
      "419:\tlearn: 0.0849805\ttotal: 1.41s\tremaining: 1.95s\n",
      "420:\tlearn: 0.0848930\ttotal: 1.42s\tremaining: 1.95s\n",
      "421:\tlearn: 0.0847873\ttotal: 1.42s\tremaining: 1.94s\n",
      "422:\tlearn: 0.0847256\ttotal: 1.42s\tremaining: 1.94s\n",
      "423:\tlearn: 0.0846015\ttotal: 1.42s\tremaining: 1.94s\n",
      "424:\tlearn: 0.0844823\ttotal: 1.43s\tremaining: 1.93s\n",
      "425:\tlearn: 0.0844095\ttotal: 1.43s\tremaining: 1.93s\n",
      "426:\tlearn: 0.0842135\ttotal: 1.43s\tremaining: 1.92s\n",
      "427:\tlearn: 0.0841164\ttotal: 1.44s\tremaining: 1.92s\n",
      "428:\tlearn: 0.0840264\ttotal: 1.44s\tremaining: 1.91s\n",
      "429:\tlearn: 0.0838314\ttotal: 1.44s\tremaining: 1.91s\n",
      "430:\tlearn: 0.0836932\ttotal: 1.44s\tremaining: 1.91s\n",
      "431:\tlearn: 0.0836192\ttotal: 1.45s\tremaining: 1.9s\n",
      "432:\tlearn: 0.0835714\ttotal: 1.45s\tremaining: 1.9s\n",
      "433:\tlearn: 0.0834710\ttotal: 1.45s\tremaining: 1.89s\n",
      "434:\tlearn: 0.0833589\ttotal: 1.45s\tremaining: 1.89s\n",
      "435:\tlearn: 0.0832744\ttotal: 1.46s\tremaining: 1.88s\n",
      "436:\tlearn: 0.0832170\ttotal: 1.46s\tremaining: 1.88s\n",
      "437:\tlearn: 0.0830573\ttotal: 1.46s\tremaining: 1.88s\n",
      "438:\tlearn: 0.0829647\ttotal: 1.47s\tremaining: 1.88s\n",
      "439:\tlearn: 0.0828127\ttotal: 1.47s\tremaining: 1.88s\n",
      "440:\tlearn: 0.0827148\ttotal: 1.48s\tremaining: 1.87s\n",
      "441:\tlearn: 0.0826518\ttotal: 1.48s\tremaining: 1.87s\n",
      "442:\tlearn: 0.0825668\ttotal: 1.49s\tremaining: 1.87s\n",
      "443:\tlearn: 0.0824927\ttotal: 1.49s\tremaining: 1.87s\n",
      "444:\tlearn: 0.0823751\ttotal: 1.49s\tremaining: 1.86s\n",
      "445:\tlearn: 0.0822949\ttotal: 1.5s\tremaining: 1.86s\n",
      "446:\tlearn: 0.0821886\ttotal: 1.5s\tremaining: 1.85s\n",
      "447:\tlearn: 0.0821276\ttotal: 1.5s\tremaining: 1.85s\n",
      "448:\tlearn: 0.0820804\ttotal: 1.5s\tremaining: 1.85s\n",
      "449:\tlearn: 0.0820022\ttotal: 1.51s\tremaining: 1.84s\n",
      "450:\tlearn: 0.0818662\ttotal: 1.51s\tremaining: 1.84s\n",
      "451:\tlearn: 0.0817859\ttotal: 1.51s\tremaining: 1.83s\n",
      "452:\tlearn: 0.0816814\ttotal: 1.51s\tremaining: 1.83s\n",
      "453:\tlearn: 0.0816388\ttotal: 1.52s\tremaining: 1.82s\n",
      "454:\tlearn: 0.0815419\ttotal: 1.52s\tremaining: 1.82s\n",
      "455:\tlearn: 0.0814034\ttotal: 1.52s\tremaining: 1.82s\n",
      "456:\tlearn: 0.0813413\ttotal: 1.52s\tremaining: 1.81s\n",
      "457:\tlearn: 0.0812645\ttotal: 1.53s\tremaining: 1.81s\n",
      "458:\tlearn: 0.0811998\ttotal: 1.53s\tremaining: 1.8s\n",
      "459:\tlearn: 0.0811281\ttotal: 1.53s\tremaining: 1.8s\n",
      "460:\tlearn: 0.0810500\ttotal: 1.54s\tremaining: 1.8s\n",
      "461:\tlearn: 0.0809997\ttotal: 1.54s\tremaining: 1.79s\n",
      "462:\tlearn: 0.0809490\ttotal: 1.54s\tremaining: 1.79s\n",
      "463:\tlearn: 0.0808930\ttotal: 1.54s\tremaining: 1.78s\n",
      "464:\tlearn: 0.0807638\ttotal: 1.55s\tremaining: 1.78s\n",
      "465:\tlearn: 0.0806396\ttotal: 1.55s\tremaining: 1.78s\n",
      "466:\tlearn: 0.0805508\ttotal: 1.55s\tremaining: 1.77s\n",
      "467:\tlearn: 0.0804951\ttotal: 1.56s\tremaining: 1.77s\n",
      "468:\tlearn: 0.0803948\ttotal: 1.56s\tremaining: 1.76s\n",
      "469:\tlearn: 0.0802341\ttotal: 1.56s\tremaining: 1.76s\n",
      "470:\tlearn: 0.0801458\ttotal: 1.56s\tremaining: 1.76s\n",
      "471:\tlearn: 0.0800200\ttotal: 1.57s\tremaining: 1.75s\n",
      "472:\tlearn: 0.0798734\ttotal: 1.57s\tremaining: 1.75s\n",
      "473:\tlearn: 0.0798302\ttotal: 1.57s\tremaining: 1.75s\n",
      "474:\tlearn: 0.0797403\ttotal: 1.57s\tremaining: 1.74s\n",
      "475:\tlearn: 0.0796549\ttotal: 1.58s\tremaining: 1.74s\n",
      "476:\tlearn: 0.0795217\ttotal: 1.58s\tremaining: 1.74s\n",
      "477:\tlearn: 0.0794659\ttotal: 1.6s\tremaining: 1.75s\n",
      "478:\tlearn: 0.0794035\ttotal: 1.61s\tremaining: 1.75s\n",
      "479:\tlearn: 0.0792520\ttotal: 1.61s\tremaining: 1.75s\n",
      "480:\tlearn: 0.0791767\ttotal: 1.62s\tremaining: 1.75s\n",
      "481:\tlearn: 0.0790824\ttotal: 1.63s\tremaining: 1.75s\n",
      "482:\tlearn: 0.0789851\ttotal: 1.63s\tremaining: 1.74s\n",
      "483:\tlearn: 0.0789211\ttotal: 1.64s\tremaining: 1.75s\n",
      "484:\tlearn: 0.0787928\ttotal: 1.64s\tremaining: 1.75s\n",
      "485:\tlearn: 0.0787223\ttotal: 1.66s\tremaining: 1.76s\n",
      "486:\tlearn: 0.0786610\ttotal: 1.67s\tremaining: 1.76s\n",
      "487:\tlearn: 0.0785269\ttotal: 1.68s\tremaining: 1.77s\n",
      "488:\tlearn: 0.0784577\ttotal: 1.69s\tremaining: 1.76s\n",
      "489:\tlearn: 0.0784165\ttotal: 1.69s\tremaining: 1.76s\n",
      "490:\tlearn: 0.0783515\ttotal: 1.7s\tremaining: 1.76s\n",
      "491:\tlearn: 0.0782859\ttotal: 1.7s\tremaining: 1.76s\n",
      "492:\tlearn: 0.0782523\ttotal: 1.71s\tremaining: 1.75s\n",
      "493:\tlearn: 0.0781386\ttotal: 1.72s\tremaining: 1.76s\n",
      "494:\tlearn: 0.0780277\ttotal: 1.72s\tremaining: 1.76s\n",
      "495:\tlearn: 0.0778785\ttotal: 1.73s\tremaining: 1.75s\n",
      "496:\tlearn: 0.0778126\ttotal: 1.73s\tremaining: 1.75s\n",
      "497:\tlearn: 0.0777392\ttotal: 1.73s\tremaining: 1.74s\n",
      "498:\tlearn: 0.0776370\ttotal: 1.74s\tremaining: 1.75s\n",
      "499:\tlearn: 0.0775733\ttotal: 1.74s\tremaining: 1.74s\n",
      "500:\tlearn: 0.0775087\ttotal: 1.75s\tremaining: 1.74s\n",
      "501:\tlearn: 0.0774024\ttotal: 1.75s\tremaining: 1.74s\n",
      "502:\tlearn: 0.0773396\ttotal: 1.76s\tremaining: 1.74s\n",
      "503:\tlearn: 0.0772443\ttotal: 1.76s\tremaining: 1.73s\n",
      "504:\tlearn: 0.0771601\ttotal: 1.76s\tremaining: 1.73s\n",
      "505:\tlearn: 0.0770724\ttotal: 1.77s\tremaining: 1.73s\n",
      "506:\tlearn: 0.0770404\ttotal: 1.77s\tremaining: 1.72s\n",
      "507:\tlearn: 0.0769929\ttotal: 1.78s\tremaining: 1.72s\n",
      "508:\tlearn: 0.0769372\ttotal: 1.78s\tremaining: 1.72s\n",
      "509:\tlearn: 0.0768692\ttotal: 1.79s\tremaining: 1.72s\n",
      "510:\tlearn: 0.0768096\ttotal: 1.79s\tremaining: 1.71s\n",
      "511:\tlearn: 0.0767241\ttotal: 1.79s\tremaining: 1.71s\n",
      "512:\tlearn: 0.0766432\ttotal: 1.8s\tremaining: 1.71s\n",
      "513:\tlearn: 0.0765661\ttotal: 1.8s\tremaining: 1.71s\n",
      "514:\tlearn: 0.0764580\ttotal: 1.81s\tremaining: 1.7s\n",
      "515:\tlearn: 0.0763942\ttotal: 1.82s\tremaining: 1.71s\n",
      "516:\tlearn: 0.0763352\ttotal: 1.82s\tremaining: 1.7s\n",
      "517:\tlearn: 0.0761930\ttotal: 1.83s\tremaining: 1.7s\n",
      "518:\tlearn: 0.0760922\ttotal: 1.83s\tremaining: 1.7s\n",
      "519:\tlearn: 0.0760328\ttotal: 1.84s\tremaining: 1.7s\n",
      "520:\tlearn: 0.0759634\ttotal: 1.84s\tremaining: 1.69s\n",
      "521:\tlearn: 0.0759036\ttotal: 1.85s\tremaining: 1.69s\n",
      "522:\tlearn: 0.0757914\ttotal: 1.85s\tremaining: 1.69s\n",
      "523:\tlearn: 0.0757145\ttotal: 1.85s\tremaining: 1.68s\n",
      "524:\tlearn: 0.0756385\ttotal: 1.85s\tremaining: 1.68s\n",
      "525:\tlearn: 0.0755818\ttotal: 1.86s\tremaining: 1.67s\n",
      "526:\tlearn: 0.0754935\ttotal: 1.86s\tremaining: 1.67s\n",
      "527:\tlearn: 0.0753485\ttotal: 1.87s\tremaining: 1.67s\n",
      "528:\tlearn: 0.0752243\ttotal: 1.87s\tremaining: 1.67s\n",
      "529:\tlearn: 0.0751163\ttotal: 1.88s\tremaining: 1.67s\n",
      "530:\tlearn: 0.0750644\ttotal: 1.88s\tremaining: 1.66s\n",
      "531:\tlearn: 0.0749877\ttotal: 1.89s\tremaining: 1.66s\n",
      "532:\tlearn: 0.0748620\ttotal: 1.89s\tremaining: 1.66s\n",
      "533:\tlearn: 0.0747649\ttotal: 1.89s\tremaining: 1.65s\n",
      "534:\tlearn: 0.0746297\ttotal: 1.9s\tremaining: 1.65s\n",
      "535:\tlearn: 0.0745320\ttotal: 1.9s\tremaining: 1.64s\n",
      "536:\tlearn: 0.0744817\ttotal: 1.9s\tremaining: 1.64s\n",
      "537:\tlearn: 0.0744100\ttotal: 1.9s\tremaining: 1.64s\n",
      "538:\tlearn: 0.0743489\ttotal: 1.91s\tremaining: 1.63s\n",
      "539:\tlearn: 0.0742851\ttotal: 1.91s\tremaining: 1.63s\n",
      "540:\tlearn: 0.0741879\ttotal: 1.91s\tremaining: 1.62s\n",
      "541:\tlearn: 0.0741253\ttotal: 1.92s\tremaining: 1.62s\n",
      "542:\tlearn: 0.0740443\ttotal: 1.92s\tremaining: 1.61s\n",
      "543:\tlearn: 0.0739712\ttotal: 1.92s\tremaining: 1.61s\n",
      "544:\tlearn: 0.0738905\ttotal: 1.92s\tremaining: 1.61s\n",
      "545:\tlearn: 0.0738207\ttotal: 1.93s\tremaining: 1.6s\n",
      "546:\tlearn: 0.0737523\ttotal: 1.93s\tremaining: 1.6s\n",
      "547:\tlearn: 0.0736754\ttotal: 1.93s\tremaining: 1.59s\n",
      "548:\tlearn: 0.0736447\ttotal: 1.94s\tremaining: 1.59s\n",
      "549:\tlearn: 0.0735749\ttotal: 1.94s\tremaining: 1.59s\n",
      "550:\tlearn: 0.0734846\ttotal: 1.94s\tremaining: 1.58s\n",
      "551:\tlearn: 0.0734220\ttotal: 1.94s\tremaining: 1.58s\n",
      "552:\tlearn: 0.0733678\ttotal: 1.95s\tremaining: 1.57s\n",
      "553:\tlearn: 0.0732983\ttotal: 1.95s\tremaining: 1.57s\n",
      "554:\tlearn: 0.0732451\ttotal: 1.95s\tremaining: 1.56s\n",
      "555:\tlearn: 0.0731549\ttotal: 1.96s\tremaining: 1.56s\n",
      "556:\tlearn: 0.0731306\ttotal: 1.96s\tremaining: 1.56s\n",
      "557:\tlearn: 0.0730536\ttotal: 1.96s\tremaining: 1.55s\n",
      "558:\tlearn: 0.0729494\ttotal: 1.96s\tremaining: 1.55s\n",
      "559:\tlearn: 0.0728543\ttotal: 1.97s\tremaining: 1.54s\n",
      "560:\tlearn: 0.0728049\ttotal: 1.97s\tremaining: 1.54s\n",
      "561:\tlearn: 0.0727386\ttotal: 1.97s\tremaining: 1.54s\n",
      "562:\tlearn: 0.0726686\ttotal: 1.97s\tremaining: 1.53s\n",
      "563:\tlearn: 0.0726121\ttotal: 1.98s\tremaining: 1.53s\n",
      "564:\tlearn: 0.0725269\ttotal: 1.98s\tremaining: 1.52s\n",
      "565:\tlearn: 0.0724757\ttotal: 1.98s\tremaining: 1.52s\n",
      "566:\tlearn: 0.0724080\ttotal: 1.98s\tremaining: 1.51s\n",
      "567:\tlearn: 0.0723592\ttotal: 1.99s\tremaining: 1.51s\n",
      "568:\tlearn: 0.0722912\ttotal: 1.99s\tremaining: 1.51s\n",
      "569:\tlearn: 0.0721879\ttotal: 1.99s\tremaining: 1.5s\n",
      "570:\tlearn: 0.0721172\ttotal: 2s\tremaining: 1.5s\n",
      "571:\tlearn: 0.0720465\ttotal: 2s\tremaining: 1.49s\n",
      "572:\tlearn: 0.0719652\ttotal: 2s\tremaining: 1.49s\n",
      "573:\tlearn: 0.0719218\ttotal: 2s\tremaining: 1.49s\n",
      "574:\tlearn: 0.0718398\ttotal: 2s\tremaining: 1.48s\n",
      "575:\tlearn: 0.0717850\ttotal: 2.01s\tremaining: 1.48s\n",
      "576:\tlearn: 0.0717157\ttotal: 2.01s\tremaining: 1.47s\n",
      "577:\tlearn: 0.0716410\ttotal: 2.01s\tremaining: 1.47s\n",
      "578:\tlearn: 0.0715811\ttotal: 2.02s\tremaining: 1.47s\n",
      "579:\tlearn: 0.0715180\ttotal: 2.02s\tremaining: 1.46s\n",
      "580:\tlearn: 0.0714725\ttotal: 2.02s\tremaining: 1.46s\n"
     ]
    },
    {
     "name": "stdout",
     "output_type": "stream",
     "text": [
      "581:\tlearn: 0.0714183\ttotal: 2.03s\tremaining: 1.46s\n",
      "582:\tlearn: 0.0713305\ttotal: 2.03s\tremaining: 1.45s\n",
      "583:\tlearn: 0.0712575\ttotal: 2.04s\tremaining: 1.45s\n",
      "584:\tlearn: 0.0711970\ttotal: 2.04s\tremaining: 1.45s\n",
      "585:\tlearn: 0.0711652\ttotal: 2.05s\tremaining: 1.45s\n",
      "586:\tlearn: 0.0710989\ttotal: 2.05s\tremaining: 1.44s\n",
      "587:\tlearn: 0.0710357\ttotal: 2.05s\tremaining: 1.44s\n",
      "588:\tlearn: 0.0709510\ttotal: 2.06s\tremaining: 1.44s\n",
      "589:\tlearn: 0.0709080\ttotal: 2.06s\tremaining: 1.43s\n",
      "590:\tlearn: 0.0708622\ttotal: 2.06s\tremaining: 1.43s\n",
      "591:\tlearn: 0.0707919\ttotal: 2.07s\tremaining: 1.42s\n",
      "592:\tlearn: 0.0707315\ttotal: 2.08s\tremaining: 1.43s\n",
      "593:\tlearn: 0.0706732\ttotal: 2.08s\tremaining: 1.42s\n",
      "594:\tlearn: 0.0705872\ttotal: 2.09s\tremaining: 1.42s\n",
      "595:\tlearn: 0.0705040\ttotal: 2.09s\tremaining: 1.42s\n",
      "596:\tlearn: 0.0704520\ttotal: 2.1s\tremaining: 1.41s\n",
      "597:\tlearn: 0.0703952\ttotal: 2.1s\tremaining: 1.41s\n",
      "598:\tlearn: 0.0703069\ttotal: 2.1s\tremaining: 1.41s\n",
      "599:\tlearn: 0.0702326\ttotal: 2.11s\tremaining: 1.4s\n",
      "600:\tlearn: 0.0701725\ttotal: 2.11s\tremaining: 1.4s\n",
      "601:\tlearn: 0.0701364\ttotal: 2.11s\tremaining: 1.4s\n",
      "602:\tlearn: 0.0700329\ttotal: 2.12s\tremaining: 1.4s\n",
      "603:\tlearn: 0.0699588\ttotal: 2.12s\tremaining: 1.39s\n",
      "604:\tlearn: 0.0698623\ttotal: 2.13s\tremaining: 1.39s\n",
      "605:\tlearn: 0.0698205\ttotal: 2.13s\tremaining: 1.38s\n",
      "606:\tlearn: 0.0697624\ttotal: 2.13s\tremaining: 1.38s\n",
      "607:\tlearn: 0.0697076\ttotal: 2.14s\tremaining: 1.38s\n",
      "608:\tlearn: 0.0696212\ttotal: 2.14s\tremaining: 1.37s\n",
      "609:\tlearn: 0.0695532\ttotal: 2.14s\tremaining: 1.37s\n",
      "610:\tlearn: 0.0694884\ttotal: 2.15s\tremaining: 1.37s\n",
      "611:\tlearn: 0.0694346\ttotal: 2.15s\tremaining: 1.36s\n",
      "612:\tlearn: 0.0693586\ttotal: 2.15s\tremaining: 1.36s\n",
      "613:\tlearn: 0.0693046\ttotal: 2.16s\tremaining: 1.36s\n",
      "614:\tlearn: 0.0692488\ttotal: 2.16s\tremaining: 1.35s\n",
      "615:\tlearn: 0.0691938\ttotal: 2.17s\tremaining: 1.35s\n",
      "616:\tlearn: 0.0691703\ttotal: 2.17s\tremaining: 1.35s\n",
      "617:\tlearn: 0.0690855\ttotal: 2.17s\tremaining: 1.34s\n",
      "618:\tlearn: 0.0690250\ttotal: 2.17s\tremaining: 1.34s\n",
      "619:\tlearn: 0.0689946\ttotal: 2.18s\tremaining: 1.34s\n",
      "620:\tlearn: 0.0689536\ttotal: 2.18s\tremaining: 1.33s\n",
      "621:\tlearn: 0.0688938\ttotal: 2.19s\tremaining: 1.33s\n",
      "622:\tlearn: 0.0688162\ttotal: 2.19s\tremaining: 1.32s\n",
      "623:\tlearn: 0.0687483\ttotal: 2.19s\tremaining: 1.32s\n",
      "624:\tlearn: 0.0686788\ttotal: 2.19s\tremaining: 1.32s\n",
      "625:\tlearn: 0.0686331\ttotal: 2.2s\tremaining: 1.31s\n",
      "626:\tlearn: 0.0685730\ttotal: 2.2s\tremaining: 1.31s\n",
      "627:\tlearn: 0.0685134\ttotal: 2.2s\tremaining: 1.3s\n",
      "628:\tlearn: 0.0684209\ttotal: 2.2s\tremaining: 1.3s\n",
      "629:\tlearn: 0.0683910\ttotal: 2.21s\tremaining: 1.29s\n",
      "630:\tlearn: 0.0683046\ttotal: 2.21s\tremaining: 1.29s\n",
      "631:\tlearn: 0.0682454\ttotal: 2.21s\tremaining: 1.29s\n",
      "632:\tlearn: 0.0681996\ttotal: 2.21s\tremaining: 1.28s\n",
      "633:\tlearn: 0.0681498\ttotal: 2.22s\tremaining: 1.28s\n",
      "634:\tlearn: 0.0681136\ttotal: 2.22s\tremaining: 1.28s\n",
      "635:\tlearn: 0.0680515\ttotal: 2.23s\tremaining: 1.27s\n",
      "636:\tlearn: 0.0680021\ttotal: 2.23s\tremaining: 1.27s\n",
      "637:\tlearn: 0.0679406\ttotal: 2.23s\tremaining: 1.27s\n",
      "638:\tlearn: 0.0678926\ttotal: 2.24s\tremaining: 1.26s\n",
      "639:\tlearn: 0.0678251\ttotal: 2.24s\tremaining: 1.26s\n",
      "640:\tlearn: 0.0677202\ttotal: 2.25s\tremaining: 1.26s\n",
      "641:\tlearn: 0.0676856\ttotal: 2.25s\tremaining: 1.25s\n",
      "642:\tlearn: 0.0676581\ttotal: 2.25s\tremaining: 1.25s\n",
      "643:\tlearn: 0.0676112\ttotal: 2.25s\tremaining: 1.25s\n",
      "644:\tlearn: 0.0675740\ttotal: 2.26s\tremaining: 1.24s\n",
      "645:\tlearn: 0.0675259\ttotal: 2.26s\tremaining: 1.24s\n",
      "646:\tlearn: 0.0674689\ttotal: 2.26s\tremaining: 1.24s\n",
      "647:\tlearn: 0.0674134\ttotal: 2.27s\tremaining: 1.23s\n",
      "648:\tlearn: 0.0673175\ttotal: 2.27s\tremaining: 1.23s\n",
      "649:\tlearn: 0.0672459\ttotal: 2.27s\tremaining: 1.22s\n",
      "650:\tlearn: 0.0671569\ttotal: 2.27s\tremaining: 1.22s\n",
      "651:\tlearn: 0.0670827\ttotal: 2.28s\tremaining: 1.22s\n",
      "652:\tlearn: 0.0670309\ttotal: 2.28s\tremaining: 1.21s\n",
      "653:\tlearn: 0.0669876\ttotal: 2.28s\tremaining: 1.21s\n",
      "654:\tlearn: 0.0669640\ttotal: 2.28s\tremaining: 1.2s\n",
      "655:\tlearn: 0.0669072\ttotal: 2.29s\tremaining: 1.2s\n",
      "656:\tlearn: 0.0668472\ttotal: 2.29s\tremaining: 1.2s\n",
      "657:\tlearn: 0.0667803\ttotal: 2.29s\tremaining: 1.19s\n",
      "658:\tlearn: 0.0666599\ttotal: 2.29s\tremaining: 1.19s\n",
      "659:\tlearn: 0.0666207\ttotal: 2.3s\tremaining: 1.18s\n",
      "660:\tlearn: 0.0665820\ttotal: 2.3s\tremaining: 1.18s\n",
      "661:\tlearn: 0.0665564\ttotal: 2.31s\tremaining: 1.18s\n",
      "662:\tlearn: 0.0665022\ttotal: 2.31s\tremaining: 1.17s\n",
      "663:\tlearn: 0.0664698\ttotal: 2.31s\tremaining: 1.17s\n",
      "664:\tlearn: 0.0664215\ttotal: 2.32s\tremaining: 1.17s\n",
      "665:\tlearn: 0.0663086\ttotal: 2.32s\tremaining: 1.16s\n",
      "666:\tlearn: 0.0662384\ttotal: 2.32s\tremaining: 1.16s\n",
      "667:\tlearn: 0.0661559\ttotal: 2.33s\tremaining: 1.16s\n",
      "668:\tlearn: 0.0661056\ttotal: 2.33s\tremaining: 1.15s\n",
      "669:\tlearn: 0.0660523\ttotal: 2.34s\tremaining: 1.15s\n",
      "670:\tlearn: 0.0659587\ttotal: 2.34s\tremaining: 1.15s\n",
      "671:\tlearn: 0.0659175\ttotal: 2.35s\tremaining: 1.15s\n",
      "672:\tlearn: 0.0658568\ttotal: 2.35s\tremaining: 1.14s\n",
      "673:\tlearn: 0.0658238\ttotal: 2.35s\tremaining: 1.14s\n",
      "674:\tlearn: 0.0657582\ttotal: 2.36s\tremaining: 1.14s\n",
      "675:\tlearn: 0.0656597\ttotal: 2.37s\tremaining: 1.14s\n",
      "676:\tlearn: 0.0656157\ttotal: 2.38s\tremaining: 1.13s\n",
      "677:\tlearn: 0.0655729\ttotal: 2.38s\tremaining: 1.13s\n",
      "678:\tlearn: 0.0654693\ttotal: 2.39s\tremaining: 1.13s\n",
      "679:\tlearn: 0.0654388\ttotal: 2.4s\tremaining: 1.13s\n",
      "680:\tlearn: 0.0653751\ttotal: 2.4s\tremaining: 1.13s\n",
      "681:\tlearn: 0.0653573\ttotal: 2.41s\tremaining: 1.12s\n",
      "682:\tlearn: 0.0653233\ttotal: 2.41s\tremaining: 1.12s\n",
      "683:\tlearn: 0.0652843\ttotal: 2.43s\tremaining: 1.12s\n",
      "684:\tlearn: 0.0652192\ttotal: 2.44s\tremaining: 1.12s\n",
      "685:\tlearn: 0.0651356\ttotal: 2.44s\tremaining: 1.12s\n",
      "686:\tlearn: 0.0650515\ttotal: 2.45s\tremaining: 1.11s\n",
      "687:\tlearn: 0.0649637\ttotal: 2.46s\tremaining: 1.11s\n",
      "688:\tlearn: 0.0649185\ttotal: 2.46s\tremaining: 1.11s\n",
      "689:\tlearn: 0.0648791\ttotal: 2.46s\tremaining: 1.11s\n",
      "690:\tlearn: 0.0648464\ttotal: 2.47s\tremaining: 1.1s\n",
      "691:\tlearn: 0.0648075\ttotal: 2.48s\tremaining: 1.1s\n",
      "692:\tlearn: 0.0647888\ttotal: 2.49s\tremaining: 1.1s\n",
      "693:\tlearn: 0.0647358\ttotal: 2.49s\tremaining: 1.1s\n",
      "694:\tlearn: 0.0646532\ttotal: 2.5s\tremaining: 1.1s\n",
      "695:\tlearn: 0.0645848\ttotal: 2.5s\tremaining: 1.09s\n",
      "696:\tlearn: 0.0645361\ttotal: 2.51s\tremaining: 1.09s\n",
      "697:\tlearn: 0.0644249\ttotal: 2.52s\tremaining: 1.09s\n",
      "698:\tlearn: 0.0643647\ttotal: 2.52s\tremaining: 1.09s\n",
      "699:\tlearn: 0.0643392\ttotal: 2.53s\tremaining: 1.09s\n",
      "700:\tlearn: 0.0642730\ttotal: 2.54s\tremaining: 1.08s\n",
      "701:\tlearn: 0.0642065\ttotal: 2.55s\tremaining: 1.08s\n",
      "702:\tlearn: 0.0641573\ttotal: 2.55s\tremaining: 1.08s\n",
      "703:\tlearn: 0.0640715\ttotal: 2.56s\tremaining: 1.07s\n",
      "704:\tlearn: 0.0640320\ttotal: 2.56s\tremaining: 1.07s\n",
      "705:\tlearn: 0.0639451\ttotal: 2.57s\tremaining: 1.07s\n",
      "706:\tlearn: 0.0638724\ttotal: 2.57s\tremaining: 1.06s\n",
      "707:\tlearn: 0.0638433\ttotal: 2.58s\tremaining: 1.06s\n",
      "708:\tlearn: 0.0637906\ttotal: 2.58s\tremaining: 1.06s\n",
      "709:\tlearn: 0.0637383\ttotal: 2.59s\tremaining: 1.06s\n",
      "710:\tlearn: 0.0636972\ttotal: 2.59s\tremaining: 1.05s\n",
      "711:\tlearn: 0.0636610\ttotal: 2.6s\tremaining: 1.05s\n",
      "712:\tlearn: 0.0636211\ttotal: 2.6s\tremaining: 1.05s\n",
      "713:\tlearn: 0.0635643\ttotal: 2.61s\tremaining: 1.04s\n",
      "714:\tlearn: 0.0635308\ttotal: 2.61s\tremaining: 1.04s\n",
      "715:\tlearn: 0.0634900\ttotal: 2.63s\tremaining: 1.04s\n",
      "716:\tlearn: 0.0634221\ttotal: 2.63s\tremaining: 1.04s\n",
      "717:\tlearn: 0.0633835\ttotal: 2.63s\tremaining: 1.03s\n",
      "718:\tlearn: 0.0633359\ttotal: 2.64s\tremaining: 1.03s\n",
      "719:\tlearn: 0.0633056\ttotal: 2.64s\tremaining: 1.03s\n",
      "720:\tlearn: 0.0632598\ttotal: 2.64s\tremaining: 1.02s\n",
      "721:\tlearn: 0.0631734\ttotal: 2.65s\tremaining: 1.02s\n",
      "722:\tlearn: 0.0631460\ttotal: 2.65s\tremaining: 1.01s\n",
      "723:\tlearn: 0.0630852\ttotal: 2.65s\tremaining: 1.01s\n",
      "724:\tlearn: 0.0630566\ttotal: 2.65s\tremaining: 1.01s\n",
      "725:\tlearn: 0.0630251\ttotal: 2.66s\tremaining: 1s\n",
      "726:\tlearn: 0.0629826\ttotal: 2.66s\tremaining: 999ms\n",
      "727:\tlearn: 0.0629315\ttotal: 2.67s\tremaining: 996ms\n",
      "728:\tlearn: 0.0628798\ttotal: 2.67s\tremaining: 993ms\n",
      "729:\tlearn: 0.0628234\ttotal: 2.67s\tremaining: 989ms\n",
      "730:\tlearn: 0.0627612\ttotal: 2.68s\tremaining: 985ms\n",
      "731:\tlearn: 0.0626681\ttotal: 2.68s\tremaining: 981ms\n",
      "732:\tlearn: 0.0626190\ttotal: 2.68s\tremaining: 977ms\n",
      "733:\tlearn: 0.0625910\ttotal: 2.69s\tremaining: 973ms\n",
      "734:\tlearn: 0.0625415\ttotal: 2.69s\tremaining: 969ms\n",
      "735:\tlearn: 0.0625126\ttotal: 2.69s\tremaining: 965ms\n",
      "736:\tlearn: 0.0624321\ttotal: 2.69s\tremaining: 961ms\n",
      "737:\tlearn: 0.0623841\ttotal: 2.69s\tremaining: 957ms\n",
      "738:\tlearn: 0.0623635\ttotal: 2.7s\tremaining: 953ms\n",
      "739:\tlearn: 0.0622648\ttotal: 2.7s\tremaining: 949ms\n",
      "740:\tlearn: 0.0622293\ttotal: 2.7s\tremaining: 945ms\n",
      "741:\tlearn: 0.0621853\ttotal: 2.71s\tremaining: 941ms\n",
      "742:\tlearn: 0.0621177\ttotal: 2.71s\tremaining: 938ms\n",
      "743:\tlearn: 0.0620839\ttotal: 2.71s\tremaining: 934ms\n",
      "744:\tlearn: 0.0620581\ttotal: 2.72s\tremaining: 931ms\n",
      "745:\tlearn: 0.0620149\ttotal: 2.72s\tremaining: 927ms\n",
      "746:\tlearn: 0.0619867\ttotal: 2.72s\tremaining: 923ms\n",
      "747:\tlearn: 0.0619551\ttotal: 2.73s\tremaining: 919ms\n",
      "748:\tlearn: 0.0618722\ttotal: 2.73s\tremaining: 915ms\n",
      "749:\tlearn: 0.0618343\ttotal: 2.73s\tremaining: 911ms\n",
      "750:\tlearn: 0.0617957\ttotal: 2.73s\tremaining: 907ms\n",
      "751:\tlearn: 0.0617243\ttotal: 2.74s\tremaining: 903ms\n",
      "752:\tlearn: 0.0616824\ttotal: 2.74s\tremaining: 899ms\n",
      "753:\tlearn: 0.0616191\ttotal: 2.74s\tremaining: 895ms\n",
      "754:\tlearn: 0.0615840\ttotal: 2.75s\tremaining: 891ms\n",
      "755:\tlearn: 0.0615297\ttotal: 2.75s\tremaining: 888ms\n",
      "756:\tlearn: 0.0614558\ttotal: 2.76s\tremaining: 886ms\n",
      "757:\tlearn: 0.0614074\ttotal: 2.76s\tremaining: 882ms\n"
     ]
    },
    {
     "name": "stdout",
     "output_type": "stream",
     "text": [
      "758:\tlearn: 0.0613520\ttotal: 2.77s\tremaining: 879ms\n",
      "759:\tlearn: 0.0612996\ttotal: 2.78s\tremaining: 877ms\n",
      "760:\tlearn: 0.0612720\ttotal: 2.78s\tremaining: 874ms\n",
      "761:\tlearn: 0.0612488\ttotal: 2.79s\tremaining: 872ms\n",
      "762:\tlearn: 0.0611937\ttotal: 2.8s\tremaining: 869ms\n",
      "763:\tlearn: 0.0611561\ttotal: 2.81s\tremaining: 867ms\n",
      "764:\tlearn: 0.0610698\ttotal: 2.81s\tremaining: 863ms\n",
      "765:\tlearn: 0.0610241\ttotal: 2.81s\tremaining: 859ms\n",
      "766:\tlearn: 0.0609691\ttotal: 2.81s\tremaining: 855ms\n",
      "767:\tlearn: 0.0609096\ttotal: 2.82s\tremaining: 852ms\n",
      "768:\tlearn: 0.0608695\ttotal: 2.82s\tremaining: 848ms\n",
      "769:\tlearn: 0.0608206\ttotal: 2.83s\tremaining: 844ms\n",
      "770:\tlearn: 0.0607513\ttotal: 2.83s\tremaining: 841ms\n",
      "771:\tlearn: 0.0607280\ttotal: 2.83s\tremaining: 837ms\n",
      "772:\tlearn: 0.0607067\ttotal: 2.84s\tremaining: 833ms\n",
      "773:\tlearn: 0.0606693\ttotal: 2.84s\tremaining: 829ms\n",
      "774:\tlearn: 0.0606388\ttotal: 2.85s\tremaining: 826ms\n",
      "775:\tlearn: 0.0605987\ttotal: 2.85s\tremaining: 823ms\n",
      "776:\tlearn: 0.0605729\ttotal: 2.85s\tremaining: 819ms\n",
      "777:\tlearn: 0.0605008\ttotal: 2.85s\tremaining: 815ms\n",
      "778:\tlearn: 0.0604218\ttotal: 2.86s\tremaining: 812ms\n",
      "779:\tlearn: 0.0603710\ttotal: 2.86s\tremaining: 808ms\n",
      "780:\tlearn: 0.0603110\ttotal: 2.87s\tremaining: 804ms\n",
      "781:\tlearn: 0.0602042\ttotal: 2.87s\tremaining: 800ms\n",
      "782:\tlearn: 0.0601884\ttotal: 2.87s\tremaining: 796ms\n",
      "783:\tlearn: 0.0601318\ttotal: 2.88s\tremaining: 793ms\n",
      "784:\tlearn: 0.0600926\ttotal: 2.88s\tremaining: 789ms\n",
      "785:\tlearn: 0.0600472\ttotal: 2.88s\tremaining: 785ms\n",
      "786:\tlearn: 0.0599804\ttotal: 2.88s\tremaining: 781ms\n",
      "787:\tlearn: 0.0599368\ttotal: 2.89s\tremaining: 777ms\n",
      "788:\tlearn: 0.0599068\ttotal: 2.89s\tremaining: 773ms\n",
      "789:\tlearn: 0.0598614\ttotal: 2.89s\tremaining: 769ms\n",
      "790:\tlearn: 0.0598143\ttotal: 2.9s\tremaining: 765ms\n",
      "791:\tlearn: 0.0597957\ttotal: 2.9s\tremaining: 761ms\n",
      "792:\tlearn: 0.0597538\ttotal: 2.9s\tremaining: 757ms\n",
      "793:\tlearn: 0.0597089\ttotal: 2.9s\tremaining: 753ms\n",
      "794:\tlearn: 0.0596572\ttotal: 2.9s\tremaining: 749ms\n",
      "795:\tlearn: 0.0596112\ttotal: 2.91s\tremaining: 745ms\n",
      "796:\tlearn: 0.0595523\ttotal: 2.91s\tremaining: 741ms\n",
      "797:\tlearn: 0.0595265\ttotal: 2.91s\tremaining: 738ms\n",
      "798:\tlearn: 0.0594931\ttotal: 2.92s\tremaining: 734ms\n",
      "799:\tlearn: 0.0594193\ttotal: 2.92s\tremaining: 730ms\n",
      "800:\tlearn: 0.0593520\ttotal: 2.92s\tremaining: 726ms\n",
      "801:\tlearn: 0.0593144\ttotal: 2.92s\tremaining: 722ms\n",
      "802:\tlearn: 0.0592692\ttotal: 2.93s\tremaining: 718ms\n",
      "803:\tlearn: 0.0592303\ttotal: 2.93s\tremaining: 715ms\n",
      "804:\tlearn: 0.0592070\ttotal: 2.93s\tremaining: 711ms\n",
      "805:\tlearn: 0.0591587\ttotal: 2.94s\tremaining: 707ms\n",
      "806:\tlearn: 0.0591336\ttotal: 2.94s\tremaining: 703ms\n",
      "807:\tlearn: 0.0590694\ttotal: 2.94s\tremaining: 699ms\n",
      "808:\tlearn: 0.0590175\ttotal: 2.94s\tremaining: 695ms\n",
      "809:\tlearn: 0.0589601\ttotal: 2.95s\tremaining: 691ms\n",
      "810:\tlearn: 0.0589067\ttotal: 2.95s\tremaining: 688ms\n",
      "811:\tlearn: 0.0588664\ttotal: 2.96s\tremaining: 685ms\n",
      "812:\tlearn: 0.0587925\ttotal: 2.96s\tremaining: 681ms\n",
      "813:\tlearn: 0.0587638\ttotal: 2.97s\tremaining: 678ms\n",
      "814:\tlearn: 0.0587410\ttotal: 2.97s\tremaining: 674ms\n",
      "815:\tlearn: 0.0586874\ttotal: 2.98s\tremaining: 671ms\n",
      "816:\tlearn: 0.0586394\ttotal: 2.98s\tremaining: 667ms\n",
      "817:\tlearn: 0.0585825\ttotal: 2.98s\tremaining: 664ms\n",
      "818:\tlearn: 0.0585210\ttotal: 2.98s\tremaining: 660ms\n",
      "819:\tlearn: 0.0584989\ttotal: 2.99s\tremaining: 656ms\n",
      "820:\tlearn: 0.0584257\ttotal: 2.99s\tremaining: 652ms\n",
      "821:\tlearn: 0.0584025\ttotal: 2.99s\tremaining: 648ms\n",
      "822:\tlearn: 0.0583691\ttotal: 3s\tremaining: 644ms\n",
      "823:\tlearn: 0.0582980\ttotal: 3s\tremaining: 641ms\n",
      "824:\tlearn: 0.0582506\ttotal: 3s\tremaining: 637ms\n",
      "825:\tlearn: 0.0581936\ttotal: 3s\tremaining: 633ms\n",
      "826:\tlearn: 0.0581631\ttotal: 3.01s\tremaining: 629ms\n",
      "827:\tlearn: 0.0581250\ttotal: 3.01s\tremaining: 625ms\n",
      "828:\tlearn: 0.0580856\ttotal: 3.01s\tremaining: 622ms\n",
      "829:\tlearn: 0.0580254\ttotal: 3.02s\tremaining: 618ms\n",
      "830:\tlearn: 0.0579960\ttotal: 3.02s\tremaining: 614ms\n",
      "831:\tlearn: 0.0579539\ttotal: 3.02s\tremaining: 610ms\n",
      "832:\tlearn: 0.0579164\ttotal: 3.02s\tremaining: 606ms\n",
      "833:\tlearn: 0.0578862\ttotal: 3.03s\tremaining: 602ms\n",
      "834:\tlearn: 0.0578546\ttotal: 3.03s\tremaining: 598ms\n",
      "835:\tlearn: 0.0578255\ttotal: 3.03s\tremaining: 595ms\n",
      "836:\tlearn: 0.0578013\ttotal: 3.03s\tremaining: 591ms\n",
      "837:\tlearn: 0.0577232\ttotal: 3.04s\tremaining: 587ms\n",
      "838:\tlearn: 0.0576889\ttotal: 3.04s\tremaining: 583ms\n",
      "839:\tlearn: 0.0576664\ttotal: 3.04s\tremaining: 579ms\n",
      "840:\tlearn: 0.0576414\ttotal: 3.04s\tremaining: 576ms\n",
      "841:\tlearn: 0.0576054\ttotal: 3.05s\tremaining: 572ms\n",
      "842:\tlearn: 0.0575599\ttotal: 3.05s\tremaining: 568ms\n",
      "843:\tlearn: 0.0575116\ttotal: 3.05s\tremaining: 564ms\n",
      "844:\tlearn: 0.0574640\ttotal: 3.05s\tremaining: 560ms\n",
      "845:\tlearn: 0.0574010\ttotal: 3.06s\tremaining: 557ms\n",
      "846:\tlearn: 0.0573524\ttotal: 3.06s\tremaining: 553ms\n",
      "847:\tlearn: 0.0573131\ttotal: 3.06s\tremaining: 549ms\n",
      "848:\tlearn: 0.0572824\ttotal: 3.07s\tremaining: 546ms\n",
      "849:\tlearn: 0.0572293\ttotal: 3.07s\tremaining: 542ms\n",
      "850:\tlearn: 0.0571830\ttotal: 3.08s\tremaining: 539ms\n",
      "851:\tlearn: 0.0571243\ttotal: 3.08s\tremaining: 536ms\n",
      "852:\tlearn: 0.0570671\ttotal: 3.09s\tremaining: 533ms\n",
      "853:\tlearn: 0.0570194\ttotal: 3.09s\tremaining: 529ms\n",
      "854:\tlearn: 0.0569680\ttotal: 3.1s\tremaining: 525ms\n",
      "855:\tlearn: 0.0569190\ttotal: 3.1s\tremaining: 521ms\n",
      "856:\tlearn: 0.0568706\ttotal: 3.11s\tremaining: 518ms\n",
      "857:\tlearn: 0.0568359\ttotal: 3.11s\tremaining: 515ms\n",
      "858:\tlearn: 0.0567709\ttotal: 3.12s\tremaining: 512ms\n",
      "859:\tlearn: 0.0566871\ttotal: 3.12s\tremaining: 508ms\n",
      "860:\tlearn: 0.0566164\ttotal: 3.13s\tremaining: 505ms\n",
      "861:\tlearn: 0.0565992\ttotal: 3.13s\tremaining: 502ms\n",
      "862:\tlearn: 0.0565601\ttotal: 3.14s\tremaining: 499ms\n",
      "863:\tlearn: 0.0565337\ttotal: 3.15s\tremaining: 496ms\n",
      "864:\tlearn: 0.0564833\ttotal: 3.16s\tremaining: 493ms\n",
      "865:\tlearn: 0.0564564\ttotal: 3.16s\tremaining: 490ms\n",
      "866:\tlearn: 0.0564126\ttotal: 3.17s\tremaining: 486ms\n",
      "867:\tlearn: 0.0563773\ttotal: 3.18s\tremaining: 483ms\n",
      "868:\tlearn: 0.0563029\ttotal: 3.18s\tremaining: 480ms\n",
      "869:\tlearn: 0.0562676\ttotal: 3.19s\tremaining: 476ms\n",
      "870:\tlearn: 0.0562432\ttotal: 3.19s\tremaining: 472ms\n",
      "871:\tlearn: 0.0562094\ttotal: 3.19s\tremaining: 469ms\n",
      "872:\tlearn: 0.0561857\ttotal: 3.2s\tremaining: 465ms\n",
      "873:\tlearn: 0.0561369\ttotal: 3.2s\tremaining: 461ms\n",
      "874:\tlearn: 0.0561127\ttotal: 3.21s\tremaining: 458ms\n",
      "875:\tlearn: 0.0560791\ttotal: 3.21s\tremaining: 454ms\n",
      "876:\tlearn: 0.0560544\ttotal: 3.21s\tremaining: 451ms\n",
      "877:\tlearn: 0.0560185\ttotal: 3.21s\tremaining: 447ms\n",
      "878:\tlearn: 0.0559961\ttotal: 3.22s\tremaining: 443ms\n",
      "879:\tlearn: 0.0559526\ttotal: 3.22s\tremaining: 439ms\n",
      "880:\tlearn: 0.0559277\ttotal: 3.22s\tremaining: 436ms\n",
      "881:\tlearn: 0.0558949\ttotal: 3.23s\tremaining: 432ms\n",
      "882:\tlearn: 0.0558199\ttotal: 3.23s\tremaining: 428ms\n",
      "883:\tlearn: 0.0557539\ttotal: 3.23s\tremaining: 424ms\n",
      "884:\tlearn: 0.0557261\ttotal: 3.24s\tremaining: 421ms\n",
      "885:\tlearn: 0.0556837\ttotal: 3.24s\tremaining: 417ms\n",
      "886:\tlearn: 0.0556437\ttotal: 3.24s\tremaining: 413ms\n",
      "887:\tlearn: 0.0556180\ttotal: 3.25s\tremaining: 409ms\n",
      "888:\tlearn: 0.0555804\ttotal: 3.25s\tremaining: 406ms\n",
      "889:\tlearn: 0.0555389\ttotal: 3.25s\tremaining: 402ms\n",
      "890:\tlearn: 0.0554940\ttotal: 3.26s\tremaining: 399ms\n",
      "891:\tlearn: 0.0554677\ttotal: 3.26s\tremaining: 395ms\n",
      "892:\tlearn: 0.0554332\ttotal: 3.27s\tremaining: 391ms\n",
      "893:\tlearn: 0.0553703\ttotal: 3.27s\tremaining: 388ms\n",
      "894:\tlearn: 0.0553428\ttotal: 3.27s\tremaining: 384ms\n",
      "895:\tlearn: 0.0553019\ttotal: 3.28s\tremaining: 381ms\n",
      "896:\tlearn: 0.0552452\ttotal: 3.28s\tremaining: 377ms\n",
      "897:\tlearn: 0.0551853\ttotal: 3.28s\tremaining: 373ms\n",
      "898:\tlearn: 0.0551306\ttotal: 3.29s\tremaining: 369ms\n",
      "899:\tlearn: 0.0550779\ttotal: 3.29s\tremaining: 366ms\n",
      "900:\tlearn: 0.0550496\ttotal: 3.3s\tremaining: 363ms\n",
      "901:\tlearn: 0.0549995\ttotal: 3.3s\tremaining: 359ms\n",
      "902:\tlearn: 0.0549630\ttotal: 3.3s\tremaining: 355ms\n",
      "903:\tlearn: 0.0549083\ttotal: 3.31s\tremaining: 351ms\n",
      "904:\tlearn: 0.0548745\ttotal: 3.31s\tremaining: 347ms\n",
      "905:\tlearn: 0.0548434\ttotal: 3.32s\tremaining: 344ms\n",
      "906:\tlearn: 0.0547735\ttotal: 3.32s\tremaining: 340ms\n",
      "907:\tlearn: 0.0547478\ttotal: 3.33s\tremaining: 337ms\n",
      "908:\tlearn: 0.0547273\ttotal: 3.33s\tremaining: 334ms\n",
      "909:\tlearn: 0.0547078\ttotal: 3.34s\tremaining: 330ms\n",
      "910:\tlearn: 0.0546955\ttotal: 3.35s\tremaining: 327ms\n",
      "911:\tlearn: 0.0546493\ttotal: 3.35s\tremaining: 324ms\n",
      "912:\tlearn: 0.0545973\ttotal: 3.36s\tremaining: 320ms\n",
      "913:\tlearn: 0.0545198\ttotal: 3.36s\tremaining: 316ms\n",
      "914:\tlearn: 0.0544677\ttotal: 3.36s\tremaining: 312ms\n",
      "915:\tlearn: 0.0544523\ttotal: 3.37s\tremaining: 309ms\n",
      "916:\tlearn: 0.0544163\ttotal: 3.37s\tremaining: 305ms\n",
      "917:\tlearn: 0.0544031\ttotal: 3.37s\tremaining: 301ms\n",
      "918:\tlearn: 0.0543676\ttotal: 3.38s\tremaining: 298ms\n",
      "919:\tlearn: 0.0543050\ttotal: 3.38s\tremaining: 294ms\n",
      "920:\tlearn: 0.0542729\ttotal: 3.38s\tremaining: 290ms\n",
      "921:\tlearn: 0.0542461\ttotal: 3.38s\tremaining: 286ms\n",
      "922:\tlearn: 0.0542122\ttotal: 3.39s\tremaining: 283ms\n",
      "923:\tlearn: 0.0541494\ttotal: 3.39s\tremaining: 279ms\n",
      "924:\tlearn: 0.0541060\ttotal: 3.39s\tremaining: 275ms\n",
      "925:\tlearn: 0.0540816\ttotal: 3.4s\tremaining: 271ms\n",
      "926:\tlearn: 0.0540476\ttotal: 3.4s\tremaining: 268ms\n",
      "927:\tlearn: 0.0539871\ttotal: 3.4s\tremaining: 264ms\n",
      "928:\tlearn: 0.0539561\ttotal: 3.4s\tremaining: 260ms\n",
      "929:\tlearn: 0.0538954\ttotal: 3.41s\tremaining: 257ms\n",
      "930:\tlearn: 0.0538665\ttotal: 3.41s\tremaining: 253ms\n",
      "931:\tlearn: 0.0538396\ttotal: 3.42s\tremaining: 249ms\n",
      "932:\tlearn: 0.0538170\ttotal: 3.42s\tremaining: 245ms\n",
      "933:\tlearn: 0.0537814\ttotal: 3.42s\tremaining: 242ms\n",
      "934:\tlearn: 0.0537528\ttotal: 3.43s\tremaining: 238ms\n",
      "935:\tlearn: 0.0537157\ttotal: 3.43s\tremaining: 235ms\n",
      "936:\tlearn: 0.0536873\ttotal: 3.43s\tremaining: 231ms\n",
      "937:\tlearn: 0.0536582\ttotal: 3.44s\tremaining: 227ms\n",
      "938:\tlearn: 0.0536165\ttotal: 3.44s\tremaining: 224ms\n",
      "939:\tlearn: 0.0535554\ttotal: 3.44s\tremaining: 220ms\n",
      "940:\tlearn: 0.0535171\ttotal: 3.45s\tremaining: 216ms\n",
      "941:\tlearn: 0.0534670\ttotal: 3.45s\tremaining: 213ms\n",
      "942:\tlearn: 0.0534410\ttotal: 3.46s\tremaining: 209ms\n",
      "943:\tlearn: 0.0534209\ttotal: 3.46s\tremaining: 205ms\n",
      "944:\tlearn: 0.0534024\ttotal: 3.46s\tremaining: 202ms\n",
      "945:\tlearn: 0.0533640\ttotal: 3.47s\tremaining: 198ms\n",
      "946:\tlearn: 0.0533338\ttotal: 3.47s\tremaining: 194ms\n",
      "947:\tlearn: 0.0533046\ttotal: 3.47s\tremaining: 191ms\n",
      "948:\tlearn: 0.0532620\ttotal: 3.48s\tremaining: 187ms\n",
      "949:\tlearn: 0.0532444\ttotal: 3.48s\tremaining: 183ms\n",
      "950:\tlearn: 0.0531975\ttotal: 3.48s\tremaining: 180ms\n",
      "951:\tlearn: 0.0531651\ttotal: 3.49s\tremaining: 176ms\n",
      "952:\tlearn: 0.0531302\ttotal: 3.49s\tremaining: 172ms\n",
      "953:\tlearn: 0.0530712\ttotal: 3.5s\tremaining: 169ms\n"
     ]
    },
    {
     "name": "stdout",
     "output_type": "stream",
     "text": [
      "954:\tlearn: 0.0530192\ttotal: 3.5s\tremaining: 165ms\n",
      "955:\tlearn: 0.0529719\ttotal: 3.51s\tremaining: 162ms\n",
      "956:\tlearn: 0.0529252\ttotal: 3.52s\tremaining: 158ms\n",
      "957:\tlearn: 0.0528743\ttotal: 3.52s\tremaining: 155ms\n",
      "958:\tlearn: 0.0528322\ttotal: 3.53s\tremaining: 151ms\n",
      "959:\tlearn: 0.0527990\ttotal: 3.54s\tremaining: 147ms\n",
      "960:\tlearn: 0.0527665\ttotal: 3.54s\tremaining: 144ms\n",
      "961:\tlearn: 0.0527395\ttotal: 3.55s\tremaining: 140ms\n",
      "962:\tlearn: 0.0527074\ttotal: 3.55s\tremaining: 136ms\n",
      "963:\tlearn: 0.0526755\ttotal: 3.55s\tremaining: 133ms\n",
      "964:\tlearn: 0.0526537\ttotal: 3.56s\tremaining: 129ms\n",
      "965:\tlearn: 0.0526116\ttotal: 3.56s\tremaining: 125ms\n",
      "966:\tlearn: 0.0526055\ttotal: 3.56s\tremaining: 122ms\n",
      "967:\tlearn: 0.0525623\ttotal: 3.57s\tremaining: 118ms\n",
      "968:\tlearn: 0.0525429\ttotal: 3.57s\tremaining: 114ms\n",
      "969:\tlearn: 0.0524957\ttotal: 3.58s\tremaining: 111ms\n",
      "970:\tlearn: 0.0524543\ttotal: 3.58s\tremaining: 107ms\n",
      "971:\tlearn: 0.0524293\ttotal: 3.58s\tremaining: 103ms\n",
      "972:\tlearn: 0.0524149\ttotal: 3.59s\tremaining: 99.6ms\n",
      "973:\tlearn: 0.0523820\ttotal: 3.59s\tremaining: 95.9ms\n",
      "974:\tlearn: 0.0523373\ttotal: 3.6s\tremaining: 92.2ms\n",
      "975:\tlearn: 0.0523027\ttotal: 3.6s\tremaining: 88.5ms\n",
      "976:\tlearn: 0.0522588\ttotal: 3.6s\tremaining: 84.8ms\n",
      "977:\tlearn: 0.0522025\ttotal: 3.61s\tremaining: 81.2ms\n",
      "978:\tlearn: 0.0521342\ttotal: 3.61s\tremaining: 77.5ms\n",
      "979:\tlearn: 0.0520955\ttotal: 3.61s\tremaining: 73.8ms\n",
      "980:\tlearn: 0.0520570\ttotal: 3.62s\tremaining: 70.1ms\n",
      "981:\tlearn: 0.0520237\ttotal: 3.62s\tremaining: 66.4ms\n",
      "982:\tlearn: 0.0519799\ttotal: 3.63s\tremaining: 62.7ms\n",
      "983:\tlearn: 0.0519395\ttotal: 3.63s\tremaining: 59ms\n",
      "984:\tlearn: 0.0519186\ttotal: 3.63s\tremaining: 55.3ms\n",
      "985:\tlearn: 0.0518897\ttotal: 3.64s\tremaining: 51.6ms\n",
      "986:\tlearn: 0.0518449\ttotal: 3.64s\tremaining: 48ms\n",
      "987:\tlearn: 0.0518099\ttotal: 3.64s\tremaining: 44.3ms\n",
      "988:\tlearn: 0.0517552\ttotal: 3.65s\tremaining: 40.6ms\n",
      "989:\tlearn: 0.0517048\ttotal: 3.65s\tremaining: 36.9ms\n",
      "990:\tlearn: 0.0516769\ttotal: 3.65s\tremaining: 33.2ms\n",
      "991:\tlearn: 0.0516294\ttotal: 3.66s\tremaining: 29.5ms\n",
      "992:\tlearn: 0.0515560\ttotal: 3.66s\tremaining: 25.8ms\n",
      "993:\tlearn: 0.0515250\ttotal: 3.66s\tremaining: 22.1ms\n",
      "994:\tlearn: 0.0514894\ttotal: 3.67s\tremaining: 18.4ms\n",
      "995:\tlearn: 0.0514077\ttotal: 3.67s\tremaining: 14.7ms\n",
      "996:\tlearn: 0.0513705\ttotal: 3.68s\tremaining: 11.1ms\n",
      "997:\tlearn: 0.0513533\ttotal: 3.68s\tremaining: 7.38ms\n",
      "998:\tlearn: 0.0513273\ttotal: 3.69s\tremaining: 3.69ms\n",
      "999:\tlearn: 0.0512998\ttotal: 3.69s\tremaining: 0us\n"
     ]
    },
    {
     "ename": "AttributeError",
     "evalue": "'CatBoostRegressor' object has no attribute 'best_estimator_'",
     "output_type": "error",
     "traceback": [
      "\u001b[0;31m---------------------------------------------------------------------------\u001b[0m",
      "\u001b[0;31mAttributeError\u001b[0m                            Traceback (most recent call last)",
      "\u001b[0;32m<ipython-input-6104-c40ce2b97ba1>\u001b[0m in \u001b[0;36m<module>\u001b[0;34m\u001b[0m\n\u001b[1;32m      4\u001b[0m \u001b[0;34m\u001b[0m\u001b[0m\n\u001b[1;32m      5\u001b[0m \u001b[0mctbst\u001b[0m\u001b[0;34m.\u001b[0m\u001b[0mfit\u001b[0m\u001b[0;34m(\u001b[0m\u001b[0mX_train\u001b[0m\u001b[0;34m,\u001b[0m \u001b[0my_train\u001b[0m\u001b[0;34m)\u001b[0m\u001b[0;34m\u001b[0m\u001b[0;34m\u001b[0m\u001b[0m\n\u001b[0;32m----> 6\u001b[0;31m \u001b[0mctbst\u001b[0m\u001b[0;34m.\u001b[0m\u001b[0mbest_estimator_\u001b[0m\u001b[0;34m\u001b[0m\u001b[0;34m\u001b[0m\u001b[0m\n\u001b[0m",
      "\u001b[0;31mAttributeError\u001b[0m: 'CatBoostRegressor' object has no attribute 'best_estimator_'"
     ]
    }
   ],
   "source": [
    "# Now Catboost model training\n",
    "from catboost import CatBoostRegressor\n",
    "ctbst = CatBoostRegressor()\n",
    "\n",
    "ctbst.fit(X_train, y_train)\n",
    "ctbst.best_estimator_"
   ]
  },
  {
   "cell_type": "code",
   "execution_count": 6106,
   "metadata": {},
   "outputs": [],
   "source": [
    "y_test = ctbst.predict(X_test)\n",
    "y_pred_train = ctbst.predict(X_train)"
   ]
  },
  {
   "cell_type": "code",
   "execution_count": 6107,
   "metadata": {},
   "outputs": [
    {
     "name": "stdout",
     "output_type": "stream",
     "text": [
      "mae score is 0.04912359844325015\n",
      "mse score is 0.0039563139938824455\n",
      "rmse score is 0.06289923683068377\n",
      "r2 score is 0.6744293624265898\n",
      "mape score is 5.363264681054307\n"
     ]
    }
   ],
   "source": [
    "mae = mean_absolute_error(y_test, y_pred)\n",
    "mse = mean_squared_error(y_test, y_pred)\n",
    "rmse = np.sqrt(mean_squared_error(y_test, y_pred))\n",
    "r2 = r2_score(y_test, y_pred)\n",
    "mape = np.mean(np.abs((y_test - y_pred) / y_test)) * 100\n",
    "\n",
    "scores = {'mae': mae, 'mse': mse, 'rmse': rmse, 'r2': r2, 'mape':mape}\n",
    "\n",
    "for key in scores:\n",
    "    print(f\"{key} score is {scores[key]}\")"
   ]
  },
  {
   "cell_type": "code",
   "execution_count": 6108,
   "metadata": {},
   "outputs": [
    {
     "name": "stdout",
     "output_type": "stream",
     "text": [
      "mae score is 0.03857293945254791\n",
      "mse score is 0.002631672854583614\n",
      "rmse score is 0.05129983289040632\n",
      "r2 score is 0.9325164331471077\n",
      "mape score is 3.7081388702620828\n"
     ]
    }
   ],
   "source": [
    "mae = mean_absolute_error(y_train, y_pred_train)\n",
    "mse = mean_squared_error(y_train, y_pred_train)\n",
    "rmse = np.sqrt(mean_squared_error(y_train, y_pred_train))\n",
    "r2 = r2_score(y_train, y_pred_train)\n",
    "mape = np.mean(np.abs((y_train - y_pred_train) / y_pred_train)) * 100\n",
    "\n",
    "scores = {'mae': mae, 'mse': mse, 'rmse': rmse, 'r2': r2, 'mape':mape}\n",
    "\n",
    "for key in scores:\n",
    "    print(f\"{key} score is {scores[key]}\")"
   ]
  },
  {
   "cell_type": "code",
   "execution_count": 6109,
   "metadata": {},
   "outputs": [
    {
     "data": {
      "image/png": "[encoded data removed]",
      "text/plain": [
       "<Figure size 720x360 with 2 Axes>"
      ]
     },
     "metadata": {
      "needs_background": "light"
     },
     "output_type": "display_data"
    }
   ],
   "source": [
    "import seaborn as sns\n",
    "# Hacemos las predicciones y evaluamos los resultados graficamente, tanto en el set de Train como de Test\n",
    "y_test_pred = y_pred\n",
    "y_train_pred = y_pred_train\n",
    "\n",
    "test = y_test\n",
    "train = y_train\n",
    "\n",
    "res_df_test = pd.DataFrame({'pred': y_test_pred, 'test': test})\n",
    "res_df_test['dif'] = np.round(res_df_test['pred']-res_df_test['test'],2)\n",
    "res_df_test['dif_abs'] = np.round(np.abs(res_df_test['pred']-res_df_test['test']),2)\n",
    "res_df_test['dif%'] = np.round(100*(res_df_test['pred']-res_df_test['test'])/res_df_test['test'],2)\n",
    "\n",
    "res_df_train = pd.DataFrame({'pred': y_train_pred, 'test': train})\n",
    "res_df_train['dif'] = np.round(res_df_train['pred']-res_df_train['test'],2)\n",
    "res_df_train['dif_abs'] = np.round(np.abs(res_df_train['pred']-res_df_train['test']),2)\n",
    "res_df_train['dif%'] = np.round(100*(res_df_train['pred']-res_df_train['test'])/res_df_train['test'],2)\n",
    "\n",
    "fig, axes = plt.subplots(nrows=1, ncols=2, figsize=(10, 5))\n",
    "plot = sns.kdeplot(res_df_train['pred'], ax=axes[0])\n",
    "plot = sns.kdeplot(res_df_train['test'], ax=axes[0], color='orange')\n",
    "plot = sns.kdeplot(res_df_test['pred'], ax=axes[1])\n",
    "plot = sns.kdeplot(res_df_test['test'], ax=axes[1], color='orange')\n",
    "fig.tight_layout()"
   ]
  },
  {
   "cell_type": "code",
   "execution_count": 6110,
   "metadata": {},
   "outputs": [
    {
     "data": {
      "text/html": [
       "<div>\n",
       "<style scoped>\n",
       "    .dataframe tbody tr th:only-of-type {\n",
       "        vertical-align: middle;\n",
       "    }\n",
       "\n",
       "    .dataframe tbody tr th {\n",
       "        vertical-align: top;\n",
       "    }\n",
       "\n",
       "    .dataframe thead th {\n",
       "        text-align: right;\n",
       "    }\n",
       "</style>\n",
       "<table border=\"1\" class=\"dataframe\">\n",
       "  <thead>\n",
       "    <tr style=\"text-align: right;\">\n",
       "      <th></th>\n",
       "      <th>pred</th>\n",
       "      <th>test</th>\n",
       "      <th>dif</th>\n",
       "      <th>dif_abs</th>\n",
       "      <th>dif%</th>\n",
       "    </tr>\n",
       "  </thead>\n",
       "  <tbody>\n",
       "    <tr>\n",
       "      <th>0</th>\n",
       "      <td>0.99</td>\n",
       "      <td>0.99</td>\n",
       "      <td>0.01</td>\n",
       "      <td>0.01</td>\n",
       "      <td>0.51</td>\n",
       "    </tr>\n",
       "    <tr>\n",
       "      <th>1</th>\n",
       "      <td>1.01</td>\n",
       "      <td>1.00</td>\n",
       "      <td>0.01</td>\n",
       "      <td>0.01</td>\n",
       "      <td>1.06</td>\n",
       "    </tr>\n",
       "    <tr>\n",
       "      <th>2</th>\n",
       "      <td>1.02</td>\n",
       "      <td>1.02</td>\n",
       "      <td>0.00</td>\n",
       "      <td>0.00</td>\n",
       "      <td>0.10</td>\n",
       "    </tr>\n",
       "    <tr>\n",
       "      <th>3</th>\n",
       "      <td>1.07</td>\n",
       "      <td>1.07</td>\n",
       "      <td>-0.00</td>\n",
       "      <td>0.00</td>\n",
       "      <td>-0.02</td>\n",
       "    </tr>\n",
       "    <tr>\n",
       "      <th>4</th>\n",
       "      <td>1.04</td>\n",
       "      <td>1.06</td>\n",
       "      <td>-0.02</td>\n",
       "      <td>0.02</td>\n",
       "      <td>-2.28</td>\n",
       "    </tr>\n",
       "    <tr>\n",
       "      <th>...</th>\n",
       "      <td>...</td>\n",
       "      <td>...</td>\n",
       "      <td>...</td>\n",
       "      <td>...</td>\n",
       "      <td>...</td>\n",
       "    </tr>\n",
       "    <tr>\n",
       "      <th>2031</th>\n",
       "      <td>1.08</td>\n",
       "      <td>1.06</td>\n",
       "      <td>0.02</td>\n",
       "      <td>0.02</td>\n",
       "      <td>1.51</td>\n",
       "    </tr>\n",
       "    <tr>\n",
       "      <th>2032</th>\n",
       "      <td>1.09</td>\n",
       "      <td>1.08</td>\n",
       "      <td>0.01</td>\n",
       "      <td>0.01</td>\n",
       "      <td>0.89</td>\n",
       "    </tr>\n",
       "    <tr>\n",
       "      <th>2033</th>\n",
       "      <td>1.05</td>\n",
       "      <td>1.08</td>\n",
       "      <td>-0.03</td>\n",
       "      <td>0.03</td>\n",
       "      <td>-3.07</td>\n",
       "    </tr>\n",
       "    <tr>\n",
       "      <th>2034</th>\n",
       "      <td>1.02</td>\n",
       "      <td>1.07</td>\n",
       "      <td>-0.05</td>\n",
       "      <td>0.05</td>\n",
       "      <td>-4.72</td>\n",
       "    </tr>\n",
       "    <tr>\n",
       "      <th>2035</th>\n",
       "      <td>0.98</td>\n",
       "      <td>1.04</td>\n",
       "      <td>-0.05</td>\n",
       "      <td>0.05</td>\n",
       "      <td>-5.14</td>\n",
       "    </tr>\n",
       "  </tbody>\n",
       "</table>\n",
       "<p>1718 rows × 5 columns</p>\n",
       "</div>"
      ],
      "text/plain": [
       "      pred  test   dif  dif_abs  dif%\n",
       "0     0.99  0.99  0.01     0.01  0.51\n",
       "1     1.01  1.00  0.01     0.01  1.06\n",
       "2     1.02  1.02  0.00     0.00  0.10\n",
       "3     1.07  1.07 -0.00     0.00 -0.02\n",
       "4     1.04  1.06 -0.02     0.02 -2.28\n",
       "...    ...   ...   ...      ...   ...\n",
       "2031  1.08  1.06  0.02     0.02  1.51\n",
       "2032  1.09  1.08  0.01     0.01  0.89\n",
       "2033  1.05  1.08 -0.03     0.03 -3.07\n",
       "2034  1.02  1.07 -0.05     0.05 -4.72\n",
       "2035  0.98  1.04 -0.05     0.05 -5.14\n",
       "\n",
       "[1718 rows x 5 columns]"
      ]
     },
     "execution_count": 6110,
     "metadata": {},
     "output_type": "execute_result"
    }
   ],
   "source": [
    "res_df_train"
   ]
  },
  {
   "cell_type": "code",
   "execution_count": 6111,
   "metadata": {},
   "outputs": [
    {
     "data": {
      "text/plain": [
       "count   324.00\n",
       "mean      0.97\n",
       "std       0.09\n",
       "min       0.79\n",
       "25%       0.91\n",
       "50%       0.96\n",
       "75%       1.01\n",
       "max       1.36\n",
       "Name: pred, dtype: float64"
      ]
     },
     "execution_count": 6111,
     "metadata": {},
     "output_type": "execute_result"
    }
   ],
   "source": [
    "np.abs(res_df_test['pred']).describe()"
   ]
  },
  {
   "cell_type": "code",
   "execution_count": 6112,
   "metadata": {},
   "outputs": [
    {
     "data": {
      "text/plain": [
       "count   324.00\n",
       "mean      0.95\n",
       "std       0.11\n",
       "min       0.70\n",
       "25%       0.86\n",
       "50%       0.95\n",
       "75%       1.03\n",
       "max       1.35\n",
       "Name: test, dtype: float64"
      ]
     },
     "execution_count": 6112,
     "metadata": {},
     "output_type": "execute_result"
    }
   ],
   "source": [
    "np.abs(res_df_test['test']).describe()"
   ]
  },
  {
   "cell_type": "code",
   "execution_count": 6113,
   "metadata": {},
   "outputs": [
    {
     "data": {
      "image/png": "[encoded data removed]",
      "text/plain": [
       "<Figure size 864x360 with 1 Axes>"
      ]
     },
     "metadata": {
      "needs_background": "light"
     },
     "output_type": "display_data"
    }
   ],
   "source": [
    "fig, ax = plt.subplots(figsize=(12,5))\n",
    "ax.scatter(y_test, y_pred)\n",
    "ax.plot([y_train.min(), y_train.max()], [y_train.min(), y_train.max()], 'k--', lw=4)\n",
    "ax.set_xlabel('Measured')\n",
    "ax.set_ylabel('Predicted')\n",
    "plt.show()"
   ]
  },
  {
   "cell_type": "code",
   "execution_count": 6114,
   "metadata": {},
   "outputs": [
    {
     "data": {
      "image/png": "[encoded data removed]",
      "text/plain": [
       "<Figure size 864x360 with 1 Axes>"
      ]
     },
     "metadata": {
      "needs_background": "light"
     },
     "output_type": "display_data"
    }
   ],
   "source": [
    "fig, ax = plt.subplots(figsize=(12,5))\n",
    "ax.scatter(y_train, y_train_pred)\n",
    "ax.plot([y_train.min(), y_train.max()], [y_train.min(), y_train.max()], 'k--', lw=4)\n",
    "ax.set_xlabel('Measured')\n",
    "ax.set_ylabel('Predicted')\n",
    "plt.show()"
   ]
  },
  {
   "cell_type": "code",
   "execution_count": 6115,
   "metadata": {},
   "outputs": [
    {
     "data": {
      "image/png": "[encoded data removed]",
      "text/plain": [
       "<Figure size 864x360 with 1 Axes>"
      ]
     },
     "metadata": {
      "needs_background": "light"
     },
     "output_type": "display_data"
    }
   ],
   "source": [
    "import matplotlib.pyplot as plt\n",
    "\n",
    "_, ax = plt.subplots(figsize=(12,5))\n",
    "\n",
    "ax.scatter(x = range(0, y_test.size), y=y_test, c = 'blue', label = 'Actual', alpha = 0.3)\n",
    "ax.scatter(x = range(0, y_pred.size), y=y_pred, c = 'red', label = 'Predicted', alpha = 0.3)\n",
    "\n",
    "plt.title('Actual and predicted values')\n",
    "plt.xlabel('Observations')\n",
    "plt.ylabel('mpg')\n",
    "plt.legend()\n",
    "plt.show()"
   ]
  },
  {
   "cell_type": "code",
   "execution_count": 6116,
   "metadata": {},
   "outputs": [
    {
     "data": {
      "text/plain": [
       "Text(0.5, 1.0, 'R0_Predicted')"
      ]
     },
     "execution_count": 6116,
     "metadata": {},
     "output_type": "execute_result"
    },
    {
     "data": {
      "image/png": "[encoded data removed]",
      "text/plain": [
       "<Figure size 864x360 with 1 Axes>"
      ]
     },
     "metadata": {
      "needs_background": "light"
     },
     "output_type": "display_data"
    }
   ],
   "source": [
    "f, axes = plt.subplots(figsize=(12,5))\n",
    "sns.histplot(x='Predicted', data=df_eval, kde=False, bins=100, ax=axes);\n",
    "axes.set_title('R0_Predicted')"
   ]
  },
  {
   "cell_type": "code",
   "execution_count": 6117,
   "metadata": {},
   "outputs": [
    {
     "data": {
      "text/plain": [
       "Text(0.5, 1.0, 'R0_Actual')"
      ]
     },
     "execution_count": 6117,
     "metadata": {},
     "output_type": "execute_result"
    },
    {
     "data": {
      "image/png": "[encoded data removed]",
      "text/plain": [
       "<Figure size 864x360 with 1 Axes>"
      ]
     },
     "metadata": {
      "needs_background": "light"
     },
     "output_type": "display_data"
    }
   ],
   "source": [
    "f, axes = plt.subplots(figsize=(12,5))\n",
    "sns.histplot(x='Actual', data=df_eval, kde=False, bins=100, ax=axes);\n",
    "axes.set_title('R0_Actual')"
   ]
  },
  {
   "cell_type": "code",
   "execution_count": 6134,
   "metadata": {},
   "outputs": [
    {
     "ename": "AttributeError",
     "evalue": "'numpy.ndarray' object has no attribute 'arg'",
     "output_type": "error",
     "traceback": [
      "\u001b[0;31m---------------------------------------------------------------------------\u001b[0m",
      "\u001b[0;31mAttributeError\u001b[0m                            Traceback (most recent call last)",
      "\u001b[0;32m<ipython-input-6134-eb91c830543b>\u001b[0m in \u001b[0;36m<module>\u001b[0;34m\u001b[0m\n\u001b[0;32m----> 1\u001b[0;31m \u001b[0msorted_feature_importance\u001b[0m \u001b[0;34m=\u001b[0m \u001b[0mctbst\u001b[0m\u001b[0;34m.\u001b[0m\u001b[0mfeature_importances_\u001b[0m\u001b[0;34m.\u001b[0m\u001b[0marg\u001b[0m\u001b[0;34m(\u001b[0m\u001b[0;34m)\u001b[0m\u001b[0;34m\u001b[0m\u001b[0;34m\u001b[0m\u001b[0m\n\u001b[0m\u001b[1;32m      2\u001b[0m plt.barh(df[df.columns[2:-1]].columns, \n\u001b[1;32m      3\u001b[0m         \u001b[0mctbst\u001b[0m\u001b[0;34m.\u001b[0m\u001b[0mfeature_importances_\u001b[0m\u001b[0;34m[\u001b[0m\u001b[0msorted_feature_importance\u001b[0m\u001b[0;34m]\u001b[0m\u001b[0;34m,\u001b[0m\u001b[0;34m\u001b[0m\u001b[0;34m\u001b[0m\u001b[0m\n\u001b[1;32m      4\u001b[0m         color='turquoise')\n\u001b[1;32m      5\u001b[0m \u001b[0mplt\u001b[0m\u001b[0;34m.\u001b[0m\u001b[0mxlabel\u001b[0m\u001b[0;34m(\u001b[0m\u001b[0;34m\"CatBoost Feature Importance\"\u001b[0m\u001b[0;34m)\u001b[0m\u001b[0;34m\u001b[0m\u001b[0;34m\u001b[0m\u001b[0m\n",
      "\u001b[0;31mAttributeError\u001b[0m: 'numpy.ndarray' object has no attribute 'arg'"
     ]
    }
   ],
   "source": [
    "sorted_feature_importance = ctbst.feature_importances_.args()\n",
    "plt.barh(df[df.columns[2:-1]].columns, \n",
    "        ctbst.feature_importances_[sorted_feature_importance], \n",
    "        color='turquoise')\n",
    "plt.xlabel(\"CatBoost Feature Importance\")"
   ]
  },
  {
   "cell_type": "code",
   "execution_count": 6133,
   "metadata": {},
   "outputs": [
    {
     "data": {
      "text/plain": [
       "array([ 4.48926516,  5.27841809,  4.00222298,  4.75702615,  8.25393741,\n",
       "        6.47060027,  2.81453537,  2.63995468,  3.43625754,  1.35100097,\n",
       "        7.28985978,  0.65453466,  1.76847343,  2.0623286 ,  3.05216922,\n",
       "        1.38822505,  2.32363669,  0.82586332,  1.95789035,  4.43377682,\n",
       "        0.3625154 ,  9.87679003,  4.38586771,  4.79641989,  0.        ,\n",
       "       11.32843043])"
      ]
     },
     "execution_count": 6133,
     "metadata": {},
     "output_type": "execute_result"
    }
   ],
   "source": [
    "ctbst.feature_importances_"
   ]
  },
  {
   "cell_type": "code",
   "execution_count": 6132,
   "metadata": {},
   "outputs": [
    {
     "data": {
      "text/plain": [
       "Index(['retail_and_recreation', 'grocery_and_pharmacy', 'residential',\n",
       "       'transit_stations', 'parks', 'workplaces', 'contact_tracing',\n",
       "       'testing_policy', 'international_travel_controls',\n",
       "       'restrictions_internal_movements', 'close_public_transport',\n",
       "       'public_information_campaigns', 'facial_coverings',\n",
       "       'stay_home_requirements', 'restriction_gatherings',\n",
       "       'cancel_public_events', 'workplace_closures', 'school_closures',\n",
       "       'debt_relief', 'income_support', 'Holiday', 'temp', 'prcp',\n",
       "       'urban_population', 'total_vaccinations_per_100', 'accumulated'],\n",
       "      dtype='object')"
      ]
     },
     "execution_count": 6132,
     "metadata": {},
     "output_type": "execute_result"
    }
   ],
   "source": [
    "df[df.columns[2:-1]].columns"
   ]
  },
  {
   "cell_type": "code",
   "execution_count": 6125,
   "metadata": {},
   "outputs": [
    {
     "data": {
      "image/png": "[encoded data removed]",
      "text/plain": [
       "<Figure size 576x684 with 2 Axes>"
      ]
     },
     "metadata": {
      "needs_background": "light"
     },
     "output_type": "display_data"
    }
   ],
   "source": [
    "import shap\n",
    "explainer = shap.TreeExplainer(ctbst)\n",
    "shap_values = explainer.shap_values(X_test)\n",
    "shap.summary_plot(shap_values, X_test, feature_names = df[df.columns[2:-1]].columns)"
   ]
  },
  {
   "cell_type": "code",
   "execution_count": 6130,
   "metadata": {},
   "outputs": [
    {
     "data": {
      "text/plain": [
       "8424"
      ]
     },
     "execution_count": 6130,
     "metadata": {},
     "output_type": "execute_result"
    }
   ],
   "source": [
    "shap_values.size"
   ]
  },
  {
   "cell_type": "code",
   "execution_count": null,
   "metadata": {},
   "outputs": [],
   "source": []
  },
  {
   "cell_type": "code",
   "execution_count": null,
   "metadata": {},
   "outputs": [],
   "source": []
  },
  {
   "cell_type": "raw",
   "metadata": {},
   "source": [
    "k = 4\n",
    "kf = KFold(n_splits=k, random_state=None)\n",
    " \n",
    "acc_score = []\n",
    " \n",
    "for train_index , test_index in kf.split(X):\n",
    "    X_train , X_test = X.iloc[train_index,:],X.iloc[test_index,:]\n",
    "    y_train , y_test = y[train_index] , y[test_index]\n",
    "     \n",
    "    grid.fit(X_train, y_train)\n",
    "    pred_values = grid.best_estimator_.predict(X_test)\n",
    "     \n",
    "    acc = np.mean(np.abs((y_test - pred_values) / y_test)) * 100\n",
    "    acc_score.append(acc)\n",
    "     \n",
    "avg_acc_score = sum(acc_score)/k"
   ]
  },
  {
   "cell_type": "raw",
   "metadata": {},
   "source": [
    "acc_score"
   ]
  },
  {
   "cell_type": "raw",
   "metadata": {},
   "source": [
    "acc_score"
   ]
  }
 ],
 "metadata": {
  "kernelspec": {
   "display_name": "Python 3",
   "language": "python",
   "name": "python3"
  },
  "language_info": {
   "codemirror_mode": {
    "name": "ipython",
    "version": 3
   },
   "file_extension": ".py",
   "mimetype": "text/x-python",
   "name": "python",
   "nbconvert_exporter": "python",
   "pygments_lexer": "ipython3",
   "version": "3.8.5"
  }
 },
 "nbformat": 4,
 "nbformat_minor": 4
}
