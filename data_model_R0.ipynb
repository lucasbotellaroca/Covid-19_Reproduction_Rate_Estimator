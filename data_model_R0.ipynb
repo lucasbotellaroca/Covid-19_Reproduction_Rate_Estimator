{
 "cells": [
  {
   "cell_type": "markdown",
   "metadata": {},
   "source": [
    "# Modelling using value of R0"
   ]
  },
  {
   "cell_type": "markdown",
   "metadata": {},
   "source": [
    "##### Modelling with R0 as target variable. R0 represents the average number of people infected by one infectious individual. "
   ]
  },
  {
   "cell_type": "markdown",
   "metadata": {},
   "source": [
    "## Import libraries"
   ]
  },
  {
   "cell_type": "code",
   "execution_count": 4839,
   "metadata": {},
   "outputs": [],
   "source": [
    "import pandas as pd, numpy as np, time\n",
    "\n",
    "from sklearn.model_selection import train_test_split\n",
    "from sklearn.model_selection import cross_val_score, GridSearchCV, train_test_split, RandomizedSearchCV\n",
    "\n",
    "# Librerías para plots\n",
    "from sklearn import tree\n",
    "#import graphviz\n",
    "from scipy.stats import norm\n",
    "from scipy.stats import t\n",
    "import pylab\n",
    "import seaborn as sns\n",
    "import matplotlib.pyplot as plt\n",
    "import matplotlib.gridspec as gridspec\n",
    "%matplotlib inline"
   ]
  },
  {
   "cell_type": "markdown",
   "metadata": {},
   "source": [
    "## Read file and prepare data "
   ]
  },
  {
   "cell_type": "code",
   "execution_count": 4840,
   "metadata": {},
   "outputs": [
    {
     "data": {
      "text/html": [
       "<div>\n",
       "<style scoped>\n",
       "    .dataframe tbody tr th:only-of-type {\n",
       "        vertical-align: middle;\n",
       "    }\n",
       "\n",
       "    .dataframe tbody tr th {\n",
       "        vertical-align: top;\n",
       "    }\n",
       "\n",
       "    .dataframe thead th {\n",
       "        text-align: right;\n",
       "    }\n",
       "</style>\n",
       "<table border=\"1\" class=\"dataframe\">\n",
       "  <thead>\n",
       "    <tr style=\"text-align: right;\">\n",
       "      <th></th>\n",
       "      <th>Code</th>\n",
       "      <th>Date</th>\n",
       "      <th>retail_and_recreation</th>\n",
       "      <th>grocery_and_pharmacy</th>\n",
       "      <th>residential</th>\n",
       "      <th>transit_stations</th>\n",
       "      <th>parks</th>\n",
       "      <th>workplaces</th>\n",
       "      <th>contact_tracing</th>\n",
       "      <th>testing_policy</th>\n",
       "      <th>...</th>\n",
       "      <th>Holiday</th>\n",
       "      <th>temp</th>\n",
       "      <th>prcp</th>\n",
       "      <th>number_of_arrivals</th>\n",
       "      <th>urban_population</th>\n",
       "      <th>total_vaccinations_per_100</th>\n",
       "      <th>%youth_unemployment_total</th>\n",
       "      <th>Excess mortality P-scores, all ages Prev 18 days</th>\n",
       "      <th>accumulated</th>\n",
       "      <th>R0</th>\n",
       "    </tr>\n",
       "  </thead>\n",
       "  <tbody>\n",
       "    <tr>\n",
       "      <th>0</th>\n",
       "      <td>AUS</td>\n",
       "      <td>2020-03-08</td>\n",
       "      <td>1.05</td>\n",
       "      <td>1.72</td>\n",
       "      <td>-0.74</td>\n",
       "      <td>4.98</td>\n",
       "      <td>-2.09</td>\n",
       "      <td>7.93</td>\n",
       "      <td>2.00</td>\n",
       "      <td>1.00</td>\n",
       "      <td>...</td>\n",
       "      <td>0.00</td>\n",
       "      <td>23.57</td>\n",
       "      <td>0.11</td>\n",
       "      <td>8263000.00</td>\n",
       "      <td>85.90</td>\n",
       "      <td>nan</td>\n",
       "      <td>11.84</td>\n",
       "      <td>6.18</td>\n",
       "      <td>0.00</td>\n",
       "      <td>0.99</td>\n",
       "    </tr>\n",
       "    <tr>\n",
       "      <th>1</th>\n",
       "      <td>AUS</td>\n",
       "      <td>2020-03-15</td>\n",
       "      <td>0.76</td>\n",
       "      <td>1.51</td>\n",
       "      <td>-1.29</td>\n",
       "      <td>7.70</td>\n",
       "      <td>-0.82</td>\n",
       "      <td>10.57</td>\n",
       "      <td>2.00</td>\n",
       "      <td>1.00</td>\n",
       "      <td>...</td>\n",
       "      <td>0.00</td>\n",
       "      <td>22.45</td>\n",
       "      <td>0.13</td>\n",
       "      <td>8263000.00</td>\n",
       "      <td>85.90</td>\n",
       "      <td>nan</td>\n",
       "      <td>11.84</td>\n",
       "      <td>4.53</td>\n",
       "      <td>0.00</td>\n",
       "      <td>1.00</td>\n",
       "    </tr>\n",
       "    <tr>\n",
       "      <th>2</th>\n",
       "      <td>AUS</td>\n",
       "      <td>2020-03-22</td>\n",
       "      <td>1.29</td>\n",
       "      <td>3.37</td>\n",
       "      <td>-1.08</td>\n",
       "      <td>9.35</td>\n",
       "      <td>0.94</td>\n",
       "      <td>10.88</td>\n",
       "      <td>2.00</td>\n",
       "      <td>1.00</td>\n",
       "      <td>...</td>\n",
       "      <td>0.00</td>\n",
       "      <td>21.81</td>\n",
       "      <td>0.16</td>\n",
       "      <td>8263000.00</td>\n",
       "      <td>85.90</td>\n",
       "      <td>nan</td>\n",
       "      <td>11.84</td>\n",
       "      <td>4.92</td>\n",
       "      <td>0.00</td>\n",
       "      <td>1.02</td>\n",
       "    </tr>\n",
       "    <tr>\n",
       "      <th>3</th>\n",
       "      <td>AUS</td>\n",
       "      <td>2020-03-29</td>\n",
       "      <td>0.71</td>\n",
       "      <td>8.98</td>\n",
       "      <td>-0.39</td>\n",
       "      <td>5.45</td>\n",
       "      <td>-2.86</td>\n",
       "      <td>8.33</td>\n",
       "      <td>2.00</td>\n",
       "      <td>1.00</td>\n",
       "      <td>...</td>\n",
       "      <td>0.00</td>\n",
       "      <td>21.35</td>\n",
       "      <td>0.14</td>\n",
       "      <td>8263000.00</td>\n",
       "      <td>85.90</td>\n",
       "      <td>nan</td>\n",
       "      <td>11.84</td>\n",
       "      <td>4.67</td>\n",
       "      <td>0.00</td>\n",
       "      <td>1.07</td>\n",
       "    </tr>\n",
       "    <tr>\n",
       "      <th>4</th>\n",
       "      <td>AUS</td>\n",
       "      <td>2020-04-05</td>\n",
       "      <td>-0.90</td>\n",
       "      <td>15.16</td>\n",
       "      <td>0.45</td>\n",
       "      <td>-1.06</td>\n",
       "      <td>-4.96</td>\n",
       "      <td>6.96</td>\n",
       "      <td>2.00</td>\n",
       "      <td>1.00</td>\n",
       "      <td>...</td>\n",
       "      <td>0.00</td>\n",
       "      <td>21.18</td>\n",
       "      <td>0.05</td>\n",
       "      <td>8263000.00</td>\n",
       "      <td>85.90</td>\n",
       "      <td>nan</td>\n",
       "      <td>11.84</td>\n",
       "      <td>4.62</td>\n",
       "      <td>0.00</td>\n",
       "      <td>1.06</td>\n",
       "    </tr>\n",
       "    <tr>\n",
       "      <th>...</th>\n",
       "      <td>...</td>\n",
       "      <td>...</td>\n",
       "      <td>...</td>\n",
       "      <td>...</td>\n",
       "      <td>...</td>\n",
       "      <td>...</td>\n",
       "      <td>...</td>\n",
       "      <td>...</td>\n",
       "      <td>...</td>\n",
       "      <td>...</td>\n",
       "      <td>...</td>\n",
       "      <td>...</td>\n",
       "      <td>...</td>\n",
       "      <td>...</td>\n",
       "      <td>...</td>\n",
       "      <td>...</td>\n",
       "      <td>...</td>\n",
       "      <td>...</td>\n",
       "      <td>...</td>\n",
       "      <td>...</td>\n",
       "      <td>...</td>\n",
       "    </tr>\n",
       "    <tr>\n",
       "      <th>2037</th>\n",
       "      <td>USA</td>\n",
       "      <td>2021-01-10</td>\n",
       "      <td>-17.69</td>\n",
       "      <td>-4.06</td>\n",
       "      <td>10.18</td>\n",
       "      <td>-36.04</td>\n",
       "      <td>-19.76</td>\n",
       "      <td>-28.10</td>\n",
       "      <td>1.00</td>\n",
       "      <td>3.00</td>\n",
       "      <td>...</td>\n",
       "      <td>0.00</td>\n",
       "      <td>2.89</td>\n",
       "      <td>0.05</td>\n",
       "      <td>75608000.00</td>\n",
       "      <td>82.06</td>\n",
       "      <td>nan</td>\n",
       "      <td>8.30</td>\n",
       "      <td>41.25</td>\n",
       "      <td>0.18</td>\n",
       "      <td>0.97</td>\n",
       "    </tr>\n",
       "    <tr>\n",
       "      <th>2038</th>\n",
       "      <td>USA</td>\n",
       "      <td>2021-01-17</td>\n",
       "      <td>-22.78</td>\n",
       "      <td>-3.98</td>\n",
       "      <td>12.65</td>\n",
       "      <td>-38.88</td>\n",
       "      <td>-16.65</td>\n",
       "      <td>-42.08</td>\n",
       "      <td>1.00</td>\n",
       "      <td>3.00</td>\n",
       "      <td>...</td>\n",
       "      <td>1.00</td>\n",
       "      <td>1.71</td>\n",
       "      <td>0.07</td>\n",
       "      <td>75608000.00</td>\n",
       "      <td>82.06</td>\n",
       "      <td>nan</td>\n",
       "      <td>8.30</td>\n",
       "      <td>41.07</td>\n",
       "      <td>0.19</td>\n",
       "      <td>0.95</td>\n",
       "    </tr>\n",
       "    <tr>\n",
       "      <th>2039</th>\n",
       "      <td>USA</td>\n",
       "      <td>2021-01-24</td>\n",
       "      <td>-23.63</td>\n",
       "      <td>-9.84</td>\n",
       "      <td>14.06</td>\n",
       "      <td>-41.02</td>\n",
       "      <td>-15.86</td>\n",
       "      <td>-41.71</td>\n",
       "      <td>1.00</td>\n",
       "      <td>3.00</td>\n",
       "      <td>...</td>\n",
       "      <td>1.00</td>\n",
       "      <td>2.50</td>\n",
       "      <td>0.09</td>\n",
       "      <td>75608000.00</td>\n",
       "      <td>82.06</td>\n",
       "      <td>0.17</td>\n",
       "      <td>8.30</td>\n",
       "      <td>44.75</td>\n",
       "      <td>0.20</td>\n",
       "      <td>0.89</td>\n",
       "    </tr>\n",
       "    <tr>\n",
       "      <th>2040</th>\n",
       "      <td>USA</td>\n",
       "      <td>2021-01-31</td>\n",
       "      <td>-23.98</td>\n",
       "      <td>-11.39</td>\n",
       "      <td>11.45</td>\n",
       "      <td>-39.57</td>\n",
       "      <td>-22.59</td>\n",
       "      <td>-29.00</td>\n",
       "      <td>1.00</td>\n",
       "      <td>3.00</td>\n",
       "      <td>...</td>\n",
       "      <td>0.00</td>\n",
       "      <td>1.20</td>\n",
       "      <td>0.04</td>\n",
       "      <td>75608000.00</td>\n",
       "      <td>82.06</td>\n",
       "      <td>0.51</td>\n",
       "      <td>8.30</td>\n",
       "      <td>36.74</td>\n",
       "      <td>0.21</td>\n",
       "      <td>0.91</td>\n",
       "    </tr>\n",
       "    <tr>\n",
       "      <th>2041</th>\n",
       "      <td>USA</td>\n",
       "      <td>2021-02-07</td>\n",
       "      <td>-24.67</td>\n",
       "      <td>-12.86</td>\n",
       "      <td>10.80</td>\n",
       "      <td>-40.18</td>\n",
       "      <td>-19.18</td>\n",
       "      <td>-28.82</td>\n",
       "      <td>1.00</td>\n",
       "      <td>3.00</td>\n",
       "      <td>...</td>\n",
       "      <td>1.00</td>\n",
       "      <td>3.14</td>\n",
       "      <td>0.03</td>\n",
       "      <td>75608000.00</td>\n",
       "      <td>82.06</td>\n",
       "      <td>1.23</td>\n",
       "      <td>8.30</td>\n",
       "      <td>33.91</td>\n",
       "      <td>0.21</td>\n",
       "      <td>0.90</td>\n",
       "    </tr>\n",
       "  </tbody>\n",
       "</table>\n",
       "<p>2042 rows × 32 columns</p>\n",
       "</div>"
      ],
      "text/plain": [
       "     Code        Date  retail_and_recreation  grocery_and_pharmacy  \\\n",
       "0     AUS  2020-03-08                   1.05                  1.72   \n",
       "1     AUS  2020-03-15                   0.76                  1.51   \n",
       "2     AUS  2020-03-22                   1.29                  3.37   \n",
       "3     AUS  2020-03-29                   0.71                  8.98   \n",
       "4     AUS  2020-04-05                  -0.90                 15.16   \n",
       "...   ...         ...                    ...                   ...   \n",
       "2037  USA  2021-01-10                 -17.69                 -4.06   \n",
       "2038  USA  2021-01-17                 -22.78                 -3.98   \n",
       "2039  USA  2021-01-24                 -23.63                 -9.84   \n",
       "2040  USA  2021-01-31                 -23.98                -11.39   \n",
       "2041  USA  2021-02-07                 -24.67                -12.86   \n",
       "\n",
       "      residential  transit_stations  parks  workplaces  contact_tracing  \\\n",
       "0           -0.74              4.98  -2.09        7.93             2.00   \n",
       "1           -1.29              7.70  -0.82       10.57             2.00   \n",
       "2           -1.08              9.35   0.94       10.88             2.00   \n",
       "3           -0.39              5.45  -2.86        8.33             2.00   \n",
       "4            0.45             -1.06  -4.96        6.96             2.00   \n",
       "...           ...               ...    ...         ...              ...   \n",
       "2037        10.18            -36.04 -19.76      -28.10             1.00   \n",
       "2038        12.65            -38.88 -16.65      -42.08             1.00   \n",
       "2039        14.06            -41.02 -15.86      -41.71             1.00   \n",
       "2040        11.45            -39.57 -22.59      -29.00             1.00   \n",
       "2041        10.80            -40.18 -19.18      -28.82             1.00   \n",
       "\n",
       "      testing_policy  ...  Holiday  temp  prcp  number_of_arrivals  \\\n",
       "0               1.00  ...     0.00 23.57  0.11          8263000.00   \n",
       "1               1.00  ...     0.00 22.45  0.13          8263000.00   \n",
       "2               1.00  ...     0.00 21.81  0.16          8263000.00   \n",
       "3               1.00  ...     0.00 21.35  0.14          8263000.00   \n",
       "4               1.00  ...     0.00 21.18  0.05          8263000.00   \n",
       "...              ...  ...      ...   ...   ...                 ...   \n",
       "2037            3.00  ...     0.00  2.89  0.05         75608000.00   \n",
       "2038            3.00  ...     1.00  1.71  0.07         75608000.00   \n",
       "2039            3.00  ...     1.00  2.50  0.09         75608000.00   \n",
       "2040            3.00  ...     0.00  1.20  0.04         75608000.00   \n",
       "2041            3.00  ...     1.00  3.14  0.03         75608000.00   \n",
       "\n",
       "      urban_population  total_vaccinations_per_100  %youth_unemployment_total  \\\n",
       "0                85.90                         nan                      11.84   \n",
       "1                85.90                         nan                      11.84   \n",
       "2                85.90                         nan                      11.84   \n",
       "3                85.90                         nan                      11.84   \n",
       "4                85.90                         nan                      11.84   \n",
       "...                ...                         ...                        ...   \n",
       "2037             82.06                         nan                       8.30   \n",
       "2038             82.06                         nan                       8.30   \n",
       "2039             82.06                        0.17                       8.30   \n",
       "2040             82.06                        0.51                       8.30   \n",
       "2041             82.06                        1.23                       8.30   \n",
       "\n",
       "      Excess mortality P-scores, all ages Prev 18 days  accumulated   R0  \n",
       "0                                                 6.18         0.00 0.99  \n",
       "1                                                 4.53         0.00 1.00  \n",
       "2                                                 4.92         0.00 1.02  \n",
       "3                                                 4.67         0.00 1.07  \n",
       "4                                                 4.62         0.00 1.06  \n",
       "...                                                ...          ...  ...  \n",
       "2037                                             41.25         0.18 0.97  \n",
       "2038                                             41.07         0.19 0.95  \n",
       "2039                                             44.75         0.20 0.89  \n",
       "2040                                             36.74         0.21 0.91  \n",
       "2041                                             33.91         0.21 0.90  \n",
       "\n",
       "[2042 rows x 32 columns]"
      ]
     },
     "execution_count": 4840,
     "metadata": {},
     "output_type": "execute_result"
    }
   ],
   "source": [
    "#df = pd.read_csv('/Users/lucas_botella/Downloads/df_covid_processed.csv')\n",
    "#df = pd.read_csv('/Users/lucas_botella/Downloads/cluster_covid_data.csv')\n",
    "#df=pd.read_csv('/Users/lucas_botella/Downloads/raw_deaths_covid_data.csv')\n",
    "#df=pd.read_csv('/Users/lucas_botella/Downloads/cluster_per_deaths_for_model.csv')\n",
    "#df=pd.read_csv('/Users/lucas_botella/Downloads/raw_deaths_covid_data.csv')\n",
    "df=pd.read_csv('/Users/lucas_botella/Downloads/df_covid_processed_FINAL.csv')\n",
    "del df['Unnamed: 0']\n",
    "del df['deaths_prev_18']\n",
    "del df['Excess mortality P-scores, all ages']\n",
    "#del df['Excess mortality P-scores, all ages Prev 18 days']\n",
    "del df['average_deaths_2015_2019_all_ages']\n",
    "del df['deaths']\n",
    "del df['month']\n",
    "del df['life_expectancy']\n",
    "del df['%df_population_gr_65']\n",
    "del df['UN Population Division (Median Age) (2017)']\n",
    "del df['nurses_per_1000']\n",
    "del df['doctors_per_1000']\n",
    "del df['beds_per_1000']\n",
    "\n",
    "#del df['number_of_arrivals']\n",
    "#del df['doctors_per_1000']\n",
    "#del df['nurses_per_1000']\n",
    "#del df['beds_per_1000']\n",
    "#del df['urban_population']\n",
    "#del df['life_expectancy']\n",
    "#del df['%youth_unemployment_total']\n",
    "\n",
    "df"
   ]
  },
  {
   "cell_type": "code",
   "execution_count": 4841,
   "metadata": {},
   "outputs": [
    {
     "data": {
      "text/plain": [
       "Index(['Code', 'Date', 'retail_and_recreation', 'grocery_and_pharmacy',\n",
       "       'residential', 'transit_stations', 'parks', 'workplaces',\n",
       "       'contact_tracing', 'testing_policy', 'international_travel_controls',\n",
       "       'restrictions_internal_movements', 'close_public_transport',\n",
       "       'public_information_campaigns', 'facial_coverings',\n",
       "       'stay_home_requirements', 'restriction_gatherings',\n",
       "       'cancel_public_events', 'workplace_closures', 'school_closures',\n",
       "       'debt_relief', 'income_support', 'Holiday', 'temp', 'prcp',\n",
       "       'number_of_arrivals', 'urban_population', 'total_vaccinations_per_100',\n",
       "       '%youth_unemployment_total',\n",
       "       'Excess mortality P-scores, all ages Prev 18 days', 'accumulated',\n",
       "       'R0'],\n",
       "      dtype='object')"
      ]
     },
     "execution_count": 4841,
     "metadata": {},
     "output_type": "execute_result"
    }
   ],
   "source": [
    "df.columns"
   ]
  },
  {
   "cell_type": "markdown",
   "metadata": {},
   "source": [
    "## Feature Engineering"
   ]
  },
  {
   "cell_type": "raw",
   "metadata": {},
   "source": [
    "df['nurses_per_1000']=df.apply(lambda x: x['nurses_per_1000'] if x['Excess mortality P-scores, all ages Prev 18 days'] <= 0 else \n",
    "         x['nurses_per_1000'] - (x['nurses_per_1000']*x['Excess mortality P-scores, all ages Prev 18 days']), axis=1)\n",
    "df['doctors_per_1000']=df.apply(lambda x: x['doctors_per_1000'] if x['Excess mortality P-scores, all ages Prev 18 days'] <= 0 else \n",
    "         x['doctors_per_1000'] - (x['doctors_per_1000']*x['Excess mortality P-scores, all ages Prev 18 days']), axis=1)\n",
    "df['beds_per_1000']=df.apply(lambda x: x['beds_per_1000'] if x['Excess mortality P-scores, all ages Prev 18 days'] <= 0 else \n",
    "         x['beds_per_1000'] - (x['beds_per_1000']*x['Excess mortality P-scores, all ages Prev 18 days']), axis=1)\n",
    "df"
   ]
  },
  {
   "cell_type": "code",
   "execution_count": 4842,
   "metadata": {},
   "outputs": [],
   "source": [
    "df['number_of_arrivals']=df['number_of_arrivals']*df['international_travel_controls']\n",
    "df['%youth_unemployment_total']=df['%youth_unemployment_total']*df['retail_and_recreation']"
   ]
  },
  {
   "cell_type": "code",
   "execution_count": 4843,
   "metadata": {},
   "outputs": [
    {
     "data": {
      "text/plain": [
       "Text(0.5, 1.0, 'R0')"
      ]
     },
     "execution_count": 4843,
     "metadata": {},
     "output_type": "execute_result"
    },
    {
     "data": {
      "image/png": "[encoded data removed]",
      "text/plain": [
       "<Figure size 864x360 with 1 Axes>"
      ]
     },
     "metadata": {
      "needs_background": "light"
     },
     "output_type": "display_data"
    }
   ],
   "source": [
    "f, axes = plt.subplots(figsize=(12,5))\n",
    "sns.histplot(x='R0', data=df, kde=False, bins=100, ax=axes);\n",
    "axes.set_title('R0')"
   ]
  },
  {
   "cell_type": "code",
   "execution_count": 4844,
   "metadata": {},
   "outputs": [
    {
     "data": {
      "text/plain": [
       "count   2042.00\n",
       "mean       1.02\n",
       "std        0.19\n",
       "min        0.48\n",
       "25%        0.94\n",
       "50%        1.00\n",
       "75%        1.07\n",
       "max        4.96\n",
       "Name: R0, dtype: float64"
      ]
     },
     "execution_count": 4844,
     "metadata": {},
     "output_type": "execute_result"
    }
   ],
   "source": [
    "df['R0'].describe()"
   ]
  },
  {
   "cell_type": "code",
   "execution_count": 4845,
   "metadata": {},
   "outputs": [],
   "source": [
    "#df['total_vaccinations_per_100']=df['total_vaccinations_per_100'].apply(lambda x : x if x > 0 else 0)"
   ]
  },
  {
   "cell_type": "code",
   "execution_count": 4846,
   "metadata": {},
   "outputs": [],
   "source": [
    "#df=df.fillna(df.median())"
   ]
  },
  {
   "cell_type": "code",
   "execution_count": 4847,
   "metadata": {},
   "outputs": [],
   "source": [
    "X=df[df.columns[2:-1]]\n",
    "y=df['R0']"
   ]
  },
  {
   "cell_type": "markdown",
   "metadata": {},
   "source": [
    "## Apply model and view results "
   ]
  },
  {
   "cell_type": "markdown",
   "metadata": {},
   "source": [
    "pip install xgboost"
   ]
  },
  {
   "cell_type": "code",
   "execution_count": 4848,
   "metadata": {},
   "outputs": [],
   "source": [
    "import xgboost as xgb\n",
    "from sklearn.metrics import mean_squared_error\n",
    "from sklearn.metrics import mean_absolute_error\n",
    "from sklearn.metrics import r2_score\n",
    "import pandas as pd\n",
    "import numpy as np\n",
    "from sklearn.model_selection import GridSearchCV, train_test_split\n",
    "from xgboost import XGBRegressor"
   ]
  },
  {
   "cell_type": "markdown",
   "metadata": {},
   "source": [
    "## XGBoost Regressor "
   ]
  },
  {
   "cell_type": "markdown",
   "metadata": {},
   "source": [
    "### GridSearchCV "
   ]
  },
  {
   "cell_type": "code",
   "execution_count": 4849,
   "metadata": {},
   "outputs": [],
   "source": [
    "import warnings\n",
    "warnings.filterwarnings('ignore')"
   ]
  },
  {
   "cell_type": "code",
   "execution_count": 4850,
   "metadata": {},
   "outputs": [],
   "source": [
    "from sklearn.metrics import fbeta_score, make_scorer\n",
    "def mape_fun(pred, train):\n",
    "            \n",
    "    return np.mean(np.abs((pred - train) / train)) * 100\n",
    "\n",
    "\n",
    "custom_scorer = make_scorer(mape_fun)"
   ]
  },
  {
   "cell_type": "code",
   "execution_count": null,
   "metadata": {},
   "outputs": [],
   "source": [
    "def new_func(pred, train):\n",
    "    res_df_test[(res_df_test['test']>1) & (res_df_test['pred']<1)].count()[0]"
   ]
  },
  {
   "cell_type": "code",
   "execution_count": 4880,
   "metadata": {},
   "outputs": [],
   "source": [
    "from sklearn.model_selection import StratifiedKFold\n",
    "# A parameter grid for XGBoost\n",
    "params = {'gamma':[i/10.0 for i in range(1,3)], 'max_depth': [5,6,7]}\n",
    "\n",
    "# Initialize XGB and GridSearch\n",
    "xgb = XGBRegressor(num_boost_rounds=1000) \n",
    "\n",
    "grid = GridSearchCV(xgb, params, verbose=1, n_jobs=-1, scoring=custom_scorer)"
   ]
  },
  {
   "cell_type": "markdown",
   "metadata": {},
   "source": [
    "import datetime\n",
    "date1=pd.Timestamp(2020, 1, 1)\n",
    "date2=pd.Timestamp(2020, 5, 1)\n",
    "\n",
    "X_1=df[(pd.to_datetime(df['Date']) <= date1) | (pd.to_datetime(df['Date']) >= date2)]\n",
    "X_2=df[(pd.to_datetime(df['Date']) > date1) & (pd.to_datetime(df['Date']) < date2)]\n",
    "X_train=X_1[X_1.columns[2:-1]]\n",
    "X_test=X_2[X_2.columns[2:-1]]\n",
    "y_train=X_1['R0']\n",
    "y_test=X_2['R0']"
   ]
  },
  {
   "cell_type": "code",
   "execution_count": 4909,
   "metadata": {},
   "outputs": [],
   "source": [
    "import datetime\n",
    "date1=pd.Timestamp(2020, 12, 1)\n",
    "\n",
    "X_1=df[(pd.to_datetime(df['Date']) <= date1)]\n",
    "X_2=df[(pd.to_datetime(df['Date']) > date1)]\n",
    "X_train=X_1[X_1.columns[2:-1]]\n",
    "X_test=X_2[X_2.columns[2:-1]]\n",
    "y_train=X_1['R0']\n",
    "y_test=X_2['R0']"
   ]
  },
  {
   "cell_type": "code",
   "execution_count": 4882,
   "metadata": {},
   "outputs": [],
   "source": [
    "X_train, X_test, y_train, y_test = train_test_split(X, y, test_size=0.2, random_state=123)"
   ]
  },
  {
   "cell_type": "code",
   "execution_count": 4910,
   "metadata": {},
   "outputs": [
    {
     "name": "stdout",
     "output_type": "stream",
     "text": [
      "Fitting 5 folds for each of 6 candidates, totalling 30 fits\n"
     ]
    },
    {
     "name": "stderr",
     "output_type": "stream",
     "text": [
      "[Parallel(n_jobs=-1)]: Using backend LokyBackend with 4 concurrent workers.\n",
      "[Parallel(n_jobs=-1)]: Done  30 out of  30 | elapsed:    7.2s finished\n"
     ]
    },
    {
     "name": "stdout",
     "output_type": "stream",
     "text": [
      "[13:58:25] WARNING: /Users/travis/build/dmlc/xgboost/src/learner.cc:480: \n",
      "Parameters: { num_boost_rounds } might not be used.\n",
      "\n",
      "  This may not be accurate due to some parameters are only used in language bindings but\n",
      "  passed down to XGBoost core.  Or some parameters are not used but slip through this\n",
      "  verification. Please open an issue if you find above cases.\n",
      "\n",
      "\n",
      "CPU times: user 686 ms, sys: 16.4 ms, total: 703 ms\n",
      "Wall time: 7.67 s\n"
     ]
    }
   ],
   "source": [
    "%%time\n",
    "x=grid.fit(X_train, y_train)"
   ]
  },
  {
   "cell_type": "code",
   "execution_count": 4911,
   "metadata": {},
   "outputs": [
    {
     "data": {
      "text/plain": [
       "XGBRegressor(base_score=0.5, booster='gbtree', colsample_bylevel=1,\n",
       "             colsample_bynode=1, colsample_bytree=1, gamma=0.2, gpu_id=-1,\n",
       "             importance_type='gain', interaction_constraints='',\n",
       "             learning_rate=0.300000012, max_delta_step=0, max_depth=5,\n",
       "             min_child_weight=1, missing=nan, monotone_constraints='()',\n",
       "             n_estimators=100, n_jobs=0, num_boost_rounds=1000,\n",
       "             num_parallel_tree=1, random_state=0, reg_alpha=0, reg_lambda=1,\n",
       "             scale_pos_weight=1, subsample=1, tree_method='exact',\n",
       "             validate_parameters=1, verbosity=None)"
      ]
     },
     "execution_count": 4911,
     "metadata": {},
     "output_type": "execute_result"
    }
   ],
   "source": [
    "grid.best_estimator_"
   ]
  },
  {
   "cell_type": "code",
   "execution_count": 4936,
   "metadata": {},
   "outputs": [
    {
     "data": {
      "text/plain": [
       "10.55400188420521"
      ]
     },
     "execution_count": 4936,
     "metadata": {},
     "output_type": "execute_result"
    }
   ],
   "source": [
    "grid.best_score_"
   ]
  },
  {
   "cell_type": "code",
   "execution_count": 4937,
   "metadata": {},
   "outputs": [
    {
     "name": "stdout",
     "output_type": "stream",
     "text": [
      "Fitting 5 folds for each of 6 candidates, totalling 30 fits\n"
     ]
    },
    {
     "name": "stderr",
     "output_type": "stream",
     "text": [
      "[Parallel(n_jobs=-1)]: Using backend LokyBackend with 4 concurrent workers.\n",
      "[Parallel(n_jobs=-1)]: Done  30 out of  30 | elapsed:    7.2s finished\n"
     ]
    },
    {
     "name": "stdout",
     "output_type": "stream",
     "text": [
      "[14:00:25] WARNING: /Users/travis/build/dmlc/xgboost/src/learner.cc:480: \n",
      "Parameters: { num_boost_rounds } might not be used.\n",
      "\n",
      "  This may not be accurate due to some parameters are only used in language bindings but\n",
      "  passed down to XGBoost core.  Or some parameters are not used but slip through this\n",
      "  verification. Please open an issue if you find above cases.\n",
      "\n",
      "\n",
      "Fitting 5 folds for each of 6 candidates, totalling 30 fits\n"
     ]
    },
    {
     "name": "stderr",
     "output_type": "stream",
     "text": [
      "[Parallel(n_jobs=-1)]: Using backend LokyBackend with 4 concurrent workers.\n",
      "[Parallel(n_jobs=-1)]: Done  30 out of  30 | elapsed:    7.5s finished\n"
     ]
    },
    {
     "name": "stdout",
     "output_type": "stream",
     "text": [
      "[14:00:33] WARNING: /Users/travis/build/dmlc/xgboost/src/learner.cc:480: \n",
      "Parameters: { num_boost_rounds } might not be used.\n",
      "\n",
      "  This may not be accurate due to some parameters are only used in language bindings but\n",
      "  passed down to XGBoost core.  Or some parameters are not used but slip through this\n",
      "  verification. Please open an issue if you find above cases.\n",
      "\n",
      "\n",
      "Fitting 5 folds for each of 6 candidates, totalling 30 fits\n"
     ]
    },
    {
     "name": "stderr",
     "output_type": "stream",
     "text": [
      "[Parallel(n_jobs=-1)]: Using backend LokyBackend with 4 concurrent workers.\n",
      "[Parallel(n_jobs=-1)]: Done  30 out of  30 | elapsed:    7.0s finished\n"
     ]
    },
    {
     "name": "stdout",
     "output_type": "stream",
     "text": [
      "[14:00:40] WARNING: /Users/travis/build/dmlc/xgboost/src/learner.cc:480: \n",
      "Parameters: { num_boost_rounds } might not be used.\n",
      "\n",
      "  This may not be accurate due to some parameters are only used in language bindings but\n",
      "  passed down to XGBoost core.  Or some parameters are not used but slip through this\n",
      "  verification. Please open an issue if you find above cases.\n",
      "\n",
      "\n",
      "Fitting 5 folds for each of 6 candidates, totalling 30 fits\n"
     ]
    },
    {
     "name": "stderr",
     "output_type": "stream",
     "text": [
      "[Parallel(n_jobs=-1)]: Using backend LokyBackend with 4 concurrent workers.\n",
      "[Parallel(n_jobs=-1)]: Done  30 out of  30 | elapsed:    7.7s finished\n"
     ]
    },
    {
     "name": "stdout",
     "output_type": "stream",
     "text": [
      "[14:00:49] WARNING: /Users/travis/build/dmlc/xgboost/src/learner.cc:480: \n",
      "Parameters: { num_boost_rounds } might not be used.\n",
      "\n",
      "  This may not be accurate due to some parameters are only used in language bindings but\n",
      "  passed down to XGBoost core.  Or some parameters are not used but slip through this\n",
      "  verification. Please open an issue if you find above cases.\n",
      "\n",
      "\n"
     ]
    }
   ],
   "source": [
    "k = 4\n",
    "kf = KFold(n_splits=k, random_state=None)\n",
    " \n",
    "acc_score = []\n",
    " \n",
    "for train_index , test_index in kf.split(X):\n",
    "    X_train , X_test = X.iloc[train_index,:],X.iloc[test_index,:]\n",
    "    y_train , y_test = y[train_index] , y[test_index]\n",
    "     \n",
    "    grid.fit(X_train, y_train)\n",
    "    pred_values = grid.best_estimator_.predict(X_test)\n",
    "     \n",
    "    acc = np.mean(np.abs((y_test - pred_values) / y_test)) * 100\n",
    "    acc_score.append(acc)\n",
    "     \n",
    "avg_acc_score = sum(acc_score)/k"
   ]
  },
  {
   "cell_type": "code",
   "execution_count": 4939,
   "metadata": {},
   "outputs": [
    {
     "data": {
      "text/plain": [
       "[9.155280742977014, 10.275433284744954, 15.144587119026049, 10.071884342450858]"
      ]
     },
     "execution_count": 4939,
     "metadata": {},
     "output_type": "execute_result"
    }
   ],
   "source": [
    "acc_score"
   ]
  },
  {
   "cell_type": "code",
   "execution_count": 4940,
   "metadata": {},
   "outputs": [
    {
     "data": {
      "text/plain": [
       "[9.155280742977014, 10.275433284744954, 15.144587119026049, 10.071884342450858]"
      ]
     },
     "execution_count": 4940,
     "metadata": {},
     "output_type": "execute_result"
    }
   ],
   "source": [
    "acc_score"
   ]
  },
  {
   "cell_type": "markdown",
   "metadata": {},
   "source": [
    "## Model evaluation metrics"
   ]
  },
  {
   "cell_type": "markdown",
   "metadata": {},
   "source": [
    "### Test Set"
   ]
  },
  {
   "cell_type": "code",
   "execution_count": 4913,
   "metadata": {},
   "outputs": [],
   "source": [
    "y_pred=grid.best_estimator_.predict(X_test)"
   ]
  },
  {
   "cell_type": "code",
   "execution_count": 4914,
   "metadata": {},
   "outputs": [
    {
     "name": "stdout",
     "output_type": "stream",
     "text": [
      "mae score is 0.14395115057509328\n",
      "mse score is 0.03203900906173931\n",
      "rmse score is 0.1789944386335489\n",
      "r2 score is -0.7960026415075188\n",
      "mape score is 16.064103682991362\n"
     ]
    }
   ],
   "source": [
    "mae = mean_absolute_error(y_test, y_pred)\n",
    "mse = mean_squared_error(y_test, y_pred)\n",
    "rmse = np.sqrt(mean_squared_error(y_test, y_pred))\n",
    "r2 = r2_score(y_test, y_pred)\n",
    "mape = np.mean(np.abs((y_test - y_pred) / y_test)) * 100\n",
    "\n",
    "scores = {'mae': mae, 'mse': mse, 'rmse': rmse, 'r2': r2, 'mape':mape}\n",
    "\n",
    "for key in scores:\n",
    "    print(f\"{key} score is {scores[key]}\")"
   ]
  },
  {
   "cell_type": "markdown",
   "metadata": {},
   "source": [
    "## Train Set"
   ]
  },
  {
   "cell_type": "code",
   "execution_count": 4915,
   "metadata": {},
   "outputs": [],
   "source": [
    "y_pred_train=grid.best_estimator_.predict(X_train)"
   ]
  },
  {
   "cell_type": "code",
   "execution_count": 4916,
   "metadata": {},
   "outputs": [
    {
     "name": "stdout",
     "output_type": "stream",
     "text": [
      "mae score is 0.06708780129269304\n",
      "mse score is 0.010244385706102898\n",
      "rmse score is 0.10121455283753862\n",
      "r2 score is 0.7529094035350186\n",
      "mape score is 6.271567444526591\n"
     ]
    }
   ],
   "source": [
    "mae = mean_absolute_error(y_train, y_pred_train)\n",
    "mse = mean_squared_error(y_train, y_pred_train)\n",
    "rmse = np.sqrt(mean_squared_error(y_train, y_pred_train))\n",
    "r2 = r2_score(y_train, y_pred_train)\n",
    "mape = np.mean(np.abs((y_train - y_pred_train) / y_train)) * 100\n",
    "\n",
    "scores = {'mae': mae, 'mse': mse, 'rmse': rmse, 'r2': r2, 'mape': mape}\n",
    "\n",
    "for key in scores:\n",
    "    print(f\"{key} score is {scores[key]}\")"
   ]
  },
  {
   "cell_type": "code",
   "execution_count": 4917,
   "metadata": {},
   "outputs": [
    {
     "data": {
      "text/html": [
       "<div>\n",
       "<style scoped>\n",
       "    .dataframe tbody tr th:only-of-type {\n",
       "        vertical-align: middle;\n",
       "    }\n",
       "\n",
       "    .dataframe tbody tr th {\n",
       "        vertical-align: top;\n",
       "    }\n",
       "\n",
       "    .dataframe thead th {\n",
       "        text-align: right;\n",
       "    }\n",
       "</style>\n",
       "<table border=\"1\" class=\"dataframe\">\n",
       "  <thead>\n",
       "    <tr style=\"text-align: right;\">\n",
       "      <th></th>\n",
       "      <th>Actual</th>\n",
       "      <th>Predicted</th>\n",
       "      <th>Difference</th>\n",
       "    </tr>\n",
       "  </thead>\n",
       "  <tbody>\n",
       "    <tr>\n",
       "      <th>39</th>\n",
       "      <td>0.99</td>\n",
       "      <td>1.04</td>\n",
       "      <td>0.04</td>\n",
       "    </tr>\n",
       "    <tr>\n",
       "      <th>40</th>\n",
       "      <td>1.03</td>\n",
       "      <td>1.04</td>\n",
       "      <td>0.01</td>\n",
       "    </tr>\n",
       "    <tr>\n",
       "      <th>41</th>\n",
       "      <td>1.03</td>\n",
       "      <td>1.02</td>\n",
       "      <td>0.01</td>\n",
       "    </tr>\n",
       "    <tr>\n",
       "      <th>42</th>\n",
       "      <td>0.98</td>\n",
       "      <td>1.06</td>\n",
       "      <td>0.08</td>\n",
       "    </tr>\n",
       "    <tr>\n",
       "      <th>47</th>\n",
       "      <td>0.91</td>\n",
       "      <td>1.20</td>\n",
       "      <td>0.29</td>\n",
       "    </tr>\n",
       "    <tr>\n",
       "      <th>...</th>\n",
       "      <td>...</td>\n",
       "      <td>...</td>\n",
       "      <td>...</td>\n",
       "    </tr>\n",
       "    <tr>\n",
       "      <th>2037</th>\n",
       "      <td>0.97</td>\n",
       "      <td>1.00</td>\n",
       "      <td>0.04</td>\n",
       "    </tr>\n",
       "    <tr>\n",
       "      <th>2038</th>\n",
       "      <td>0.95</td>\n",
       "      <td>0.99</td>\n",
       "      <td>0.04</td>\n",
       "    </tr>\n",
       "    <tr>\n",
       "      <th>2039</th>\n",
       "      <td>0.89</td>\n",
       "      <td>0.99</td>\n",
       "      <td>0.09</td>\n",
       "    </tr>\n",
       "    <tr>\n",
       "      <th>2040</th>\n",
       "      <td>0.91</td>\n",
       "      <td>1.01</td>\n",
       "      <td>0.10</td>\n",
       "    </tr>\n",
       "    <tr>\n",
       "      <th>2041</th>\n",
       "      <td>0.90</td>\n",
       "      <td>1.04</td>\n",
       "      <td>0.14</td>\n",
       "    </tr>\n",
       "  </tbody>\n",
       "</table>\n",
       "<p>482 rows × 3 columns</p>\n",
       "</div>"
      ],
      "text/plain": [
       "      Actual  Predicted  Difference\n",
       "39      0.99       1.04        0.04\n",
       "40      1.03       1.04        0.01\n",
       "41      1.03       1.02        0.01\n",
       "42      0.98       1.06        0.08\n",
       "47      0.91       1.20        0.29\n",
       "...      ...        ...         ...\n",
       "2037    0.97       1.00        0.04\n",
       "2038    0.95       0.99        0.04\n",
       "2039    0.89       0.99        0.09\n",
       "2040    0.91       1.01        0.10\n",
       "2041    0.90       1.04        0.14\n",
       "\n",
       "[482 rows x 3 columns]"
      ]
     },
     "execution_count": 4917,
     "metadata": {},
     "output_type": "execute_result"
    }
   ],
   "source": [
    "df_eval = pd.DataFrame({'Actual': y_test, 'Predicted': y_pred})\n",
    "df_eval['Difference']=np.abs(df_eval['Actual']-df_eval['Predicted'])\n",
    "df_eval"
   ]
  },
  {
   "cell_type": "code",
   "execution_count": 4918,
   "metadata": {},
   "outputs": [
    {
     "data": {
      "text/plain": [
       "Text(0.5, 1.0, 'R0_Predicted')"
      ]
     },
     "execution_count": 4918,
     "metadata": {},
     "output_type": "execute_result"
    },
    {
     "data": {
      "image/png": "[encoded data removed]",
      "text/plain": [
       "<Figure size 864x360 with 1 Axes>"
      ]
     },
     "metadata": {
      "needs_background": "light"
     },
     "output_type": "display_data"
    }
   ],
   "source": [
    "f, axes = plt.subplots(figsize=(12,5))\n",
    "sns.histplot(x='Predicted', data=df_eval, kde=False, bins=100, ax=axes);\n",
    "axes.set_title('R0_Predicted')"
   ]
  },
  {
   "cell_type": "code",
   "execution_count": 4919,
   "metadata": {},
   "outputs": [
    {
     "data": {
      "text/plain": [
       "Text(0.5, 1.0, 'R0_Actual')"
      ]
     },
     "execution_count": 4919,
     "metadata": {},
     "output_type": "execute_result"
    },
    {
     "data": {
      "image/png": "[encoded data removed]",
      "text/plain": [
       "<Figure size 864x360 with 1 Axes>"
      ]
     },
     "metadata": {
      "needs_background": "light"
     },
     "output_type": "display_data"
    }
   ],
   "source": [
    "f, axes = plt.subplots(figsize=(12,5))\n",
    "sns.histplot(x='Actual', data=df_eval, kde=False, bins=100, ax=axes);\n",
    "axes.set_title('R0_Actual')"
   ]
  },
  {
   "cell_type": "markdown",
   "metadata": {},
   "source": [
    "## Model evaluation plots"
   ]
  },
  {
   "cell_type": "markdown",
   "metadata": {},
   "source": [
    "### Difference Histogram "
   ]
  },
  {
   "cell_type": "code",
   "execution_count": 4920,
   "metadata": {},
   "outputs": [
    {
     "data": {
      "text/plain": [
       "Text(0.5, 1.0, 'Difference Histogram')"
      ]
     },
     "execution_count": 4920,
     "metadata": {},
     "output_type": "execute_result"
    },
    {
     "data": {
      "image/png": "[encoded data removed]",
      "text/plain": [
       "<Figure size 864x360 with 1 Axes>"
      ]
     },
     "metadata": {
      "needs_background": "light"
     },
     "output_type": "display_data"
    }
   ],
   "source": [
    "# plot difference hist\n",
    "f, axes = plt.subplots(figsize=(12,5))\n",
    "sns.histplot(x='Difference', data=df_eval, kde=False, bins=50, ax=axes);\n",
    "axes.set_title('Difference Histogram')"
   ]
  },
  {
   "cell_type": "markdown",
   "metadata": {},
   "source": [
    "### Actual vs Predicted"
   ]
  },
  {
   "cell_type": "code",
   "execution_count": 4921,
   "metadata": {},
   "outputs": [
    {
     "data": {
      "image/png": "[encoded data removed]",
      "text/plain": [
       "<Figure size 864x360 with 1 Axes>"
      ]
     },
     "metadata": {
      "needs_background": "light"
     },
     "output_type": "display_data"
    }
   ],
   "source": [
    "import matplotlib.pyplot as plt\n",
    "\n",
    "_, ax = plt.subplots(figsize=(12,5))\n",
    "\n",
    "ax.scatter(x = range(0, y_test.size), y=y_test, c = 'blue', label = 'Actual', alpha = 0.3)\n",
    "ax.scatter(x = range(0, y_pred.size), y=y_pred, c = 'red', label = 'Predicted', alpha = 0.3)\n",
    "\n",
    "plt.title('Actual and predicted values')\n",
    "plt.xlabel('Observations')\n",
    "plt.ylabel('mpg')\n",
    "plt.legend()\n",
    "plt.show()"
   ]
  },
  {
   "cell_type": "code",
   "execution_count": 4922,
   "metadata": {},
   "outputs": [
    {
     "data": {
      "image/png": "[encoded data removed]",
      "text/plain": [
       "<Figure size 864x360 with 1 Axes>"
      ]
     },
     "metadata": {
      "needs_background": "light"
     },
     "output_type": "display_data"
    }
   ],
   "source": [
    "fig, ax = plt.subplots(figsize=(12,5))\n",
    "ax.scatter(y_test, y_pred)\n",
    "ax.plot([y_test.min(), y_test.max()], [y_test.min(), y_test.max()], 'k--', lw=4)\n",
    "ax.set_xlabel('Measured')\n",
    "ax.set_ylabel('Predicted')\n",
    "plt.show()"
   ]
  },
  {
   "cell_type": "code",
   "execution_count": 4923,
   "metadata": {},
   "outputs": [
    {
     "data": {
      "image/png": "[encoded data removed]",
      "text/plain": [
       "<Figure size 720x360 with 2 Axes>"
      ]
     },
     "metadata": {
      "needs_background": "light"
     },
     "output_type": "display_data"
    }
   ],
   "source": [
    "import seaborn as sns\n",
    "# Hacemos las predicciones y evaluamos los resultados graficamente, tanto en el set de Train como de Test\n",
    "y_test_pred = y_pred\n",
    "y_train_pred = y_pred_train\n",
    "\n",
    "test = y_test\n",
    "train = y_train\n",
    "\n",
    "res_df_test = pd.DataFrame({'pred': y_test_pred, 'test': test})\n",
    "res_df_test['dif'] = np.round(res_df_test['pred']-res_df_test['test'],2)\n",
    "res_df_test['dif_abs'] = np.round(np.abs(res_df_test['pred']-res_df_test['test']),2)\n",
    "res_df_test['dif%'] = np.round(100*(res_df_test['pred']-res_df_test['test'])/res_df_test['test'],2)\n",
    "\n",
    "res_df_train = pd.DataFrame({'pred': y_train_pred, 'test': train})\n",
    "res_df_train['dif'] = np.round(res_df_train['pred']-res_df_train['test'],2)\n",
    "res_df_train['dif_abs'] = np.round(np.abs(res_df_train['pred']-res_df_train['test']),2)\n",
    "res_df_train['dif%'] = np.round(100*(res_df_train['pred']-res_df_train['test'])/res_df_train['test'],2)\n",
    "\n",
    "fig, axes = plt.subplots(nrows=1, ncols=2, figsize=(10, 5))\n",
    "plot = sns.kdeplot(res_df_train['pred'], ax=axes[0], color='orange')\n",
    "plot = sns.kdeplot(res_df_train['test'], ax=axes[0])\n",
    "plot = sns.kdeplot(res_df_test['pred'], ax=axes[1], color='orange')\n",
    "plot = sns.kdeplot(res_df_test['test'], ax=axes[1])\n",
    "fig.tight_layout()"
   ]
  },
  {
   "cell_type": "code",
   "execution_count": 4925,
   "metadata": {},
   "outputs": [
    {
     "name": "stdout",
     "output_type": "stream",
     "text": [
      "El error absoluto medio es:  0.14\n",
      "El error global es:  49.1\n",
      "La tasa de error global es: % 10.61\n"
     ]
    }
   ],
   "source": [
    "mae_test = np.round(res_df_test['dif_abs'].mean(),2)\n",
    "gae_test = np.round(res_df_test['dif_abs'].sum(),2)\n",
    "error_test_rate_abs = np.round(100*gae_test/res_df_test['test'].sum(),2)\n",
    "error_test = np.round(res_df_test['dif'].sum(),2)\n",
    "error_test_rate = np.round(100*error_test/res_df_test['test'].sum(),2)\n",
    "print('El error absoluto medio es: ', mae_test)\n",
    "print('El error global es: ', error_test)\n",
    "print('La tasa de error global es: %',error_test_rate)"
   ]
  },
  {
   "cell_type": "code",
   "execution_count": 4926,
   "metadata": {},
   "outputs": [
    {
     "data": {
      "text/html": [
       "<div>\n",
       "<style scoped>\n",
       "    .dataframe tbody tr th:only-of-type {\n",
       "        vertical-align: middle;\n",
       "    }\n",
       "\n",
       "    .dataframe tbody tr th {\n",
       "        vertical-align: top;\n",
       "    }\n",
       "\n",
       "    .dataframe thead th {\n",
       "        text-align: right;\n",
       "    }\n",
       "</style>\n",
       "<table border=\"1\" class=\"dataframe\">\n",
       "  <thead>\n",
       "    <tr style=\"text-align: right;\">\n",
       "      <th></th>\n",
       "      <th>pred</th>\n",
       "      <th>test</th>\n",
       "      <th>dif</th>\n",
       "      <th>dif_abs</th>\n",
       "      <th>dif%</th>\n",
       "    </tr>\n",
       "  </thead>\n",
       "  <tbody>\n",
       "    <tr>\n",
       "      <th>1426</th>\n",
       "      <td>0.88</td>\n",
       "      <td>1.38</td>\n",
       "      <td>-0.50</td>\n",
       "      <td>0.50</td>\n",
       "      <td>-36.29</td>\n",
       "    </tr>\n",
       "    <tr>\n",
       "      <th>1746</th>\n",
       "      <td>1.03</td>\n",
       "      <td>1.58</td>\n",
       "      <td>-0.55</td>\n",
       "      <td>0.55</td>\n",
       "      <td>-35.01</td>\n",
       "    </tr>\n",
       "    <tr>\n",
       "      <th>1745</th>\n",
       "      <td>0.99</td>\n",
       "      <td>1.47</td>\n",
       "      <td>-0.48</td>\n",
       "      <td>0.48</td>\n",
       "      <td>-32.45</td>\n",
       "    </tr>\n",
       "    <tr>\n",
       "      <th>1425</th>\n",
       "      <td>1.00</td>\n",
       "      <td>1.37</td>\n",
       "      <td>-0.37</td>\n",
       "      <td>0.37</td>\n",
       "      <td>-26.89</td>\n",
       "    </tr>\n",
       "    <tr>\n",
       "      <th>1747</th>\n",
       "      <td>0.99</td>\n",
       "      <td>1.31</td>\n",
       "      <td>-0.32</td>\n",
       "      <td>0.32</td>\n",
       "      <td>-24.48</td>\n",
       "    </tr>\n",
       "    <tr>\n",
       "      <th>...</th>\n",
       "      <td>...</td>\n",
       "      <td>...</td>\n",
       "      <td>...</td>\n",
       "      <td>...</td>\n",
       "      <td>...</td>\n",
       "    </tr>\n",
       "    <tr>\n",
       "      <th>1474</th>\n",
       "      <td>0.98</td>\n",
       "      <td>0.60</td>\n",
       "      <td>0.37</td>\n",
       "      <td>0.37</td>\n",
       "      <td>61.63</td>\n",
       "    </tr>\n",
       "    <tr>\n",
       "      <th>1173</th>\n",
       "      <td>1.31</td>\n",
       "      <td>0.81</td>\n",
       "      <td>0.51</td>\n",
       "      <td>0.51</td>\n",
       "      <td>62.94</td>\n",
       "    </tr>\n",
       "    <tr>\n",
       "      <th>198</th>\n",
       "      <td>1.06</td>\n",
       "      <td>0.63</td>\n",
       "      <td>0.43</td>\n",
       "      <td>0.43</td>\n",
       "      <td>68.31</td>\n",
       "    </tr>\n",
       "    <tr>\n",
       "      <th>1018</th>\n",
       "      <td>1.12</td>\n",
       "      <td>0.65</td>\n",
       "      <td>0.47</td>\n",
       "      <td>0.47</td>\n",
       "      <td>72.83</td>\n",
       "    </tr>\n",
       "    <tr>\n",
       "      <th>199</th>\n",
       "      <td>1.05</td>\n",
       "      <td>0.56</td>\n",
       "      <td>0.48</td>\n",
       "      <td>0.48</td>\n",
       "      <td>86.09</td>\n",
       "    </tr>\n",
       "  </tbody>\n",
       "</table>\n",
       "<p>482 rows × 5 columns</p>\n",
       "</div>"
      ],
      "text/plain": [
       "      pred  test   dif  dif_abs   dif%\n",
       "1426  0.88  1.38 -0.50     0.50 -36.29\n",
       "1746  1.03  1.58 -0.55     0.55 -35.01\n",
       "1745  0.99  1.47 -0.48     0.48 -32.45\n",
       "1425  1.00  1.37 -0.37     0.37 -26.89\n",
       "1747  0.99  1.31 -0.32     0.32 -24.48\n",
       "...    ...   ...   ...      ...    ...\n",
       "1474  0.98  0.60  0.37     0.37  61.63\n",
       "1173  1.31  0.81  0.51     0.51  62.94\n",
       "198   1.06  0.63  0.43     0.43  68.31\n",
       "1018  1.12  0.65  0.47     0.47  72.83\n",
       "199   1.05  0.56  0.48     0.48  86.09\n",
       "\n",
       "[482 rows x 5 columns]"
      ]
     },
     "execution_count": 4926,
     "metadata": {},
     "output_type": "execute_result"
    }
   ],
   "source": [
    "res_df_test.sort_values('dif%')"
   ]
  },
  {
   "cell_type": "code",
   "execution_count": 4927,
   "metadata": {},
   "outputs": [
    {
     "data": {
      "text/plain": [
       "165"
      ]
     },
     "execution_count": 4927,
     "metadata": {},
     "output_type": "execute_result"
    }
   ],
   "source": [
    "res_df_test[(res_df_test['test']>1)].count()[0]"
   ]
  },
  {
   "cell_type": "code",
   "execution_count": 4928,
   "metadata": {},
   "outputs": [
    {
     "data": {
      "text/plain": [
       "37"
      ]
     },
     "execution_count": 4928,
     "metadata": {},
     "output_type": "execute_result"
    }
   ],
   "source": [
    "res_df_test[(res_df_test['test']>1) & (res_df_test['pred']<1)].count()[0]"
   ]
  },
  {
   "cell_type": "code",
   "execution_count": 4929,
   "metadata": {},
   "outputs": [
    {
     "data": {
      "text/plain": [
       "0.0003109429030100838"
      ]
     },
     "execution_count": 4929,
     "metadata": {},
     "output_type": "execute_result"
    }
   ],
   "source": [
    "np.abs(res_df_test['dif_abs']).mean()/res_df_test['test'].sum()"
   ]
  },
  {
   "cell_type": "code",
   "execution_count": 4930,
   "metadata": {},
   "outputs": [
    {
     "data": {
      "text/plain": [
       "16.064024896265554"
      ]
     },
     "execution_count": 4930,
     "metadata": {},
     "output_type": "execute_result"
    }
   ],
   "source": [
    "np.abs(res_df_test['dif%']).mean()"
   ]
  },
  {
   "cell_type": "code",
   "execution_count": 4931,
   "metadata": {},
   "outputs": [
    {
     "data": {
      "text/plain": [
       "count   482.00\n",
       "mean     16.06\n",
       "std      13.40\n",
       "min       0.02\n",
       "25%       5.92\n",
       "50%      12.63\n",
       "75%      22.45\n",
       "max      86.09\n",
       "Name: dif%, dtype: float64"
      ]
     },
     "execution_count": 4931,
     "metadata": {},
     "output_type": "execute_result"
    }
   ],
   "source": [
    "#MAPE value\n",
    "np.abs(res_df_test['dif%']).describe()"
   ]
  },
  {
   "cell_type": "code",
   "execution_count": 4932,
   "metadata": {},
   "outputs": [
    {
     "data": {
      "text/plain": [
       "count   482.00\n",
       "mean      0.96\n",
       "std       0.13\n",
       "min       0.56\n",
       "25%       0.87\n",
       "50%       0.96\n",
       "75%       1.03\n",
       "max       1.58\n",
       "Name: test, dtype: float64"
      ]
     },
     "execution_count": 4932,
     "metadata": {},
     "output_type": "execute_result"
    }
   ],
   "source": [
    "np.abs(res_df_test['test']).describe()"
   ]
  },
  {
   "cell_type": "code",
   "execution_count": 4933,
   "metadata": {},
   "outputs": [
    {
     "data": {
      "text/plain": [
       "count   482.00\n",
       "mean      1.06\n",
       "std       0.09\n",
       "min       0.78\n",
       "25%       1.00\n",
       "50%       1.05\n",
       "75%       1.11\n",
       "max       1.43\n",
       "Name: pred, dtype: float64"
      ]
     },
     "execution_count": 4933,
     "metadata": {},
     "output_type": "execute_result"
    }
   ],
   "source": [
    "np.abs(res_df_test['pred']).describe()"
   ]
  },
  {
   "cell_type": "markdown",
   "metadata": {},
   "source": [
    "## Feature importance "
   ]
  },
  {
   "cell_type": "code",
   "execution_count": 4934,
   "metadata": {},
   "outputs": [],
   "source": [
    "import xgboost\n",
    "from xgboost import plot_importance\n",
    "from xgboost import plot_tree"
   ]
  },
  {
   "cell_type": "code",
   "execution_count": 4935,
   "metadata": {},
   "outputs": [
    {
     "data": {
      "image/png": "[encoded data removed]",
      "text/plain": [
       "<Figure size 1440x1440 with 1 Axes>"
      ]
     },
     "metadata": {
      "needs_background": "light"
     },
     "output_type": "display_data"
    }
   ],
   "source": [
    "xgboost.plot_importance(grid.best_estimator_)\n",
    "plt.rcParams['figure.figsize'] = [20, 20]\n",
    "plt.show()"
   ]
  },
  {
   "cell_type": "code",
   "execution_count": 2191,
   "metadata": {},
   "outputs": [],
   "source": [
    "import lightgbm as lgb"
   ]
  },
  {
   "cell_type": "code",
   "execution_count": 3769,
   "metadata": {},
   "outputs": [],
   "source": [
    "hyper_params = {\n",
    "    'metric': ['mape'],\n",
    "    \"max_depth\": 15,\n",
    "    \"num_leaves\": 256,  \n",
    "    \"max_bin\": 512,\n",
    "    \"num_iterations\": 10000,\n",
    "    \"n_estimators\": 20\n",
    "}"
   ]
  },
  {
   "cell_type": "code",
   "execution_count": 3770,
   "metadata": {},
   "outputs": [],
   "source": [
    "gbm = lgb.LGBMRegressor(**hyper_params)"
   ]
  },
  {
   "cell_type": "code",
   "execution_count": 3771,
   "metadata": {},
   "outputs": [
    {
     "name": "stdout",
     "output_type": "stream",
     "text": [
      "[1]\tvalid_0's mape: 0.127414\n",
      "Training until validation scores don't improve for 1000 rounds\n",
      "[2]\tvalid_0's mape: 0.12439\n",
      "[3]\tvalid_0's mape: 0.119795\n",
      "[4]\tvalid_0's mape: 0.117028\n",
      "[5]\tvalid_0's mape: 0.114574\n",
      "[6]\tvalid_0's mape: 0.113879\n",
      "[7]\tvalid_0's mape: 0.112803\n",
      "[8]\tvalid_0's mape: 0.111123\n",
      "[9]\tvalid_0's mape: 0.110601\n",
      "[10]\tvalid_0's mape: 0.108331\n",
      "[11]\tvalid_0's mape: 0.108528\n",
      "[12]\tvalid_0's mape: 0.107864\n",
      "[13]\tvalid_0's mape: 0.108165\n",
      "[14]\tvalid_0's mape: 0.10768\n",
      "[15]\tvalid_0's mape: 0.107763\n",
      "[16]\tvalid_0's mape: 0.106828\n",
      "[17]\tvalid_0's mape: 0.107078\n",
      "[18]\tvalid_0's mape: 0.107238\n",
      "[19]\tvalid_0's mape: 0.108177\n",
      "[20]\tvalid_0's mape: 0.109712\n",
      "[21]\tvalid_0's mape: 0.110557\n",
      "[22]\tvalid_0's mape: 0.110677\n",
      "[23]\tvalid_0's mape: 0.11064\n",
      "[24]\tvalid_0's mape: 0.110928\n",
      "[25]\tvalid_0's mape: 0.110821\n",
      "[26]\tvalid_0's mape: 0.110982\n",
      "[27]\tvalid_0's mape: 0.11128\n",
      "[28]\tvalid_0's mape: 0.11157\n",
      "[29]\tvalid_0's mape: 0.111789\n",
      "[30]\tvalid_0's mape: 0.111989\n",
      "[31]\tvalid_0's mape: 0.112083\n",
      "[32]\tvalid_0's mape: 0.112293\n",
      "[33]\tvalid_0's mape: 0.112763\n",
      "[34]\tvalid_0's mape: 0.113028\n",
      "[35]\tvalid_0's mape: 0.113133\n",
      "[36]\tvalid_0's mape: 0.113066\n",
      "[37]\tvalid_0's mape: 0.113085\n",
      "[38]\tvalid_0's mape: 0.113166\n",
      "[39]\tvalid_0's mape: 0.113429\n",
      "[40]\tvalid_0's mape: 0.113784\n",
      "[41]\tvalid_0's mape: 0.11389\n",
      "[42]\tvalid_0's mape: 0.113695\n",
      "[43]\tvalid_0's mape: 0.113797\n",
      "[44]\tvalid_0's mape: 0.11389\n",
      "[45]\tvalid_0's mape: 0.114142\n",
      "[46]\tvalid_0's mape: 0.11428\n",
      "[47]\tvalid_0's mape: 0.114774\n",
      "[48]\tvalid_0's mape: 0.115266\n",
      "[49]\tvalid_0's mape: 0.115629\n",
      "[50]\tvalid_0's mape: 0.115912\n",
      "[51]\tvalid_0's mape: 0.116055\n",
      "[52]\tvalid_0's mape: 0.116323\n",
      "[53]\tvalid_0's mape: 0.116159\n",
      "[54]\tvalid_0's mape: 0.116372\n",
      "[55]\tvalid_0's mape: 0.116801\n",
      "[56]\tvalid_0's mape: 0.116753\n",
      "[57]\tvalid_0's mape: 0.116849\n",
      "[58]\tvalid_0's mape: 0.117003\n",
      "[59]\tvalid_0's mape: 0.116725\n",
      "[60]\tvalid_0's mape: 0.116742\n",
      "[61]\tvalid_0's mape: 0.116815\n",
      "[62]\tvalid_0's mape: 0.116825\n",
      "[63]\tvalid_0's mape: 0.116945\n",
      "[64]\tvalid_0's mape: 0.116849\n",
      "[65]\tvalid_0's mape: 0.117158\n",
      "[66]\tvalid_0's mape: 0.117313\n",
      "[67]\tvalid_0's mape: 0.117854\n",
      "[68]\tvalid_0's mape: 0.118006\n",
      "[69]\tvalid_0's mape: 0.117881\n",
      "[70]\tvalid_0's mape: 0.118115\n",
      "[71]\tvalid_0's mape: 0.118183\n",
      "[72]\tvalid_0's mape: 0.118064\n",
      "[73]\tvalid_0's mape: 0.117905\n",
      "[74]\tvalid_0's mape: 0.11812\n",
      "[75]\tvalid_0's mape: 0.118318\n",
      "[76]\tvalid_0's mape: 0.118074\n",
      "[77]\tvalid_0's mape: 0.118101\n",
      "[78]\tvalid_0's mape: 0.118091\n",
      "[79]\tvalid_0's mape: 0.118001\n",
      "[80]\tvalid_0's mape: 0.118059\n",
      "[81]\tvalid_0's mape: 0.117984\n",
      "[82]\tvalid_0's mape: 0.118008\n",
      "[83]\tvalid_0's mape: 0.11821\n",
      "[84]\tvalid_0's mape: 0.118361\n",
      "[85]\tvalid_0's mape: 0.118389\n",
      "[86]\tvalid_0's mape: 0.118415\n",
      "[87]\tvalid_0's mape: 0.118692\n",
      "[88]\tvalid_0's mape: 0.11885\n",
      "[89]\tvalid_0's mape: 0.118758\n",
      "[90]\tvalid_0's mape: 0.11906\n",
      "[91]\tvalid_0's mape: 0.119136\n",
      "[92]\tvalid_0's mape: 0.11928\n",
      "[93]\tvalid_0's mape: 0.119378\n",
      "[94]\tvalid_0's mape: 0.119359\n",
      "[95]\tvalid_0's mape: 0.119342\n",
      "[96]\tvalid_0's mape: 0.119438\n",
      "[97]\tvalid_0's mape: 0.119647\n",
      "[98]\tvalid_0's mape: 0.119382\n",
      "[99]\tvalid_0's mape: 0.119484\n",
      "[100]\tvalid_0's mape: 0.119474\n",
      "[101]\tvalid_0's mape: 0.119613\n",
      "[102]\tvalid_0's mape: 0.119501\n",
      "[103]\tvalid_0's mape: 0.11935\n",
      "[104]\tvalid_0's mape: 0.119539\n",
      "[105]\tvalid_0's mape: 0.119657\n",
      "[106]\tvalid_0's mape: 0.119812\n",
      "[107]\tvalid_0's mape: 0.119751\n",
      "[108]\tvalid_0's mape: 0.11977\n",
      "[109]\tvalid_0's mape: 0.119566\n",
      "[110]\tvalid_0's mape: 0.119697\n",
      "[111]\tvalid_0's mape: 0.119906\n",
      "[112]\tvalid_0's mape: 0.119842\n",
      "[113]\tvalid_0's mape: 0.120044\n",
      "[114]\tvalid_0's mape: 0.120135\n",
      "[115]\tvalid_0's mape: 0.120223\n",
      "[116]\tvalid_0's mape: 0.120441\n",
      "[117]\tvalid_0's mape: 0.120576\n",
      "[118]\tvalid_0's mape: 0.12069\n",
      "[119]\tvalid_0's mape: 0.120598\n",
      "[120]\tvalid_0's mape: 0.120635\n",
      "[121]\tvalid_0's mape: 0.120836\n",
      "[122]\tvalid_0's mape: 0.120788\n",
      "[123]\tvalid_0's mape: 0.120907\n",
      "[124]\tvalid_0's mape: 0.120897\n",
      "[125]\tvalid_0's mape: 0.120941\n",
      "[126]\tvalid_0's mape: 0.121141\n",
      "[127]\tvalid_0's mape: 0.121304\n",
      "[128]\tvalid_0's mape: 0.121369\n",
      "[129]\tvalid_0's mape: 0.12138\n",
      "[130]\tvalid_0's mape: 0.12144\n",
      "[131]\tvalid_0's mape: 0.121389\n",
      "[132]\tvalid_0's mape: 0.121352\n",
      "[133]\tvalid_0's mape: 0.121437\n",
      "[134]\tvalid_0's mape: 0.121628\n",
      "[135]\tvalid_0's mape: 0.121757\n",
      "[136]\tvalid_0's mape: 0.121813\n",
      "[137]\tvalid_0's mape: 0.121848\n",
      "[138]\tvalid_0's mape: 0.121875\n",
      "[139]\tvalid_0's mape: 0.121838\n",
      "[140]\tvalid_0's mape: 0.12179\n",
      "[141]\tvalid_0's mape: 0.121847\n",
      "[142]\tvalid_0's mape: 0.12167\n",
      "[143]\tvalid_0's mape: 0.121592\n",
      "[144]\tvalid_0's mape: 0.121664\n",
      "[145]\tvalid_0's mape: 0.12168\n",
      "[146]\tvalid_0's mape: 0.121696\n",
      "[147]\tvalid_0's mape: 0.121796\n",
      "[148]\tvalid_0's mape: 0.121821\n",
      "[149]\tvalid_0's mape: 0.121921\n",
      "[150]\tvalid_0's mape: 0.121891\n",
      "[151]\tvalid_0's mape: 0.121869\n",
      "[152]\tvalid_0's mape: 0.121989\n",
      "[153]\tvalid_0's mape: 0.121959\n",
      "[154]\tvalid_0's mape: 0.121954\n",
      "[155]\tvalid_0's mape: 0.121787\n",
      "[156]\tvalid_0's mape: 0.121895\n",
      "[157]\tvalid_0's mape: 0.121961\n",
      "[158]\tvalid_0's mape: 0.121941\n",
      "[159]\tvalid_0's mape: 0.122067\n",
      "[160]\tvalid_0's mape: 0.122062\n",
      "[161]\tvalid_0's mape: 0.122079\n",
      "[162]\tvalid_0's mape: 0.122032\n",
      "[163]\tvalid_0's mape: 0.122094\n",
      "[164]\tvalid_0's mape: 0.122095\n",
      "[165]\tvalid_0's mape: 0.122231\n",
      "[166]\tvalid_0's mape: 0.122284\n",
      "[167]\tvalid_0's mape: 0.122226\n",
      "[168]\tvalid_0's mape: 0.122319\n",
      "[169]\tvalid_0's mape: 0.122342\n",
      "[170]\tvalid_0's mape: 0.12233\n",
      "[171]\tvalid_0's mape: 0.122257\n",
      "[172]\tvalid_0's mape: 0.122223\n",
      "[173]\tvalid_0's mape: 0.122325\n",
      "[174]\tvalid_0's mape: 0.122322\n",
      "[175]\tvalid_0's mape: 0.122237\n",
      "[176]\tvalid_0's mape: 0.122257\n",
      "[177]\tvalid_0's mape: 0.122202\n",
      "[178]\tvalid_0's mape: 0.122148\n",
      "[179]\tvalid_0's mape: 0.122185\n",
      "[180]\tvalid_0's mape: 0.122176\n",
      "[181]\tvalid_0's mape: 0.122278\n",
      "[182]\tvalid_0's mape: 0.122165\n",
      "[183]\tvalid_0's mape: 0.122169\n",
      "[184]\tvalid_0's mape: 0.122216\n",
      "[185]\tvalid_0's mape: 0.122361\n",
      "[186]\tvalid_0's mape: 0.122306\n",
      "[187]\tvalid_0's mape: 0.122187\n",
      "[188]\tvalid_0's mape: 0.122202\n",
      "[189]\tvalid_0's mape: 0.122235\n",
      "[190]\tvalid_0's mape: 0.122248\n",
      "[191]\tvalid_0's mape: 0.12223\n",
      "[192]\tvalid_0's mape: 0.122249\n",
      "[193]\tvalid_0's mape: 0.122358\n",
      "[194]\tvalid_0's mape: 0.122419\n",
      "[195]\tvalid_0's mape: 0.122392\n",
      "[196]\tvalid_0's mape: 0.122425\n",
      "[197]\tvalid_0's mape: 0.122397\n",
      "[198]\tvalid_0's mape: 0.12237\n",
      "[199]\tvalid_0's mape: 0.122308\n",
      "[200]\tvalid_0's mape: 0.122309\n",
      "[201]\tvalid_0's mape: 0.122304\n",
      "[202]\tvalid_0's mape: 0.122322\n",
      "[203]\tvalid_0's mape: 0.122321\n",
      "[204]\tvalid_0's mape: 0.122438\n",
      "[205]\tvalid_0's mape: 0.122473\n",
      "[206]\tvalid_0's mape: 0.122532\n",
      "[207]\tvalid_0's mape: 0.122593\n",
      "[208]\tvalid_0's mape: 0.122614\n",
      "[209]\tvalid_0's mape: 0.122631\n",
      "[210]\tvalid_0's mape: 0.12261\n",
      "[211]\tvalid_0's mape: 0.122678\n",
      "[212]\tvalid_0's mape: 0.122656\n",
      "[213]\tvalid_0's mape: 0.122699\n",
      "[214]\tvalid_0's mape: 0.12272\n",
      "[215]\tvalid_0's mape: 0.122794\n",
      "[216]\tvalid_0's mape: 0.122783\n",
      "[217]\tvalid_0's mape: 0.122829\n",
      "[218]\tvalid_0's mape: 0.122888\n",
      "[219]\tvalid_0's mape: 0.122868\n",
      "[220]\tvalid_0's mape: 0.122933\n",
      "[221]\tvalid_0's mape: 0.122962\n",
      "[222]\tvalid_0's mape: 0.123025\n",
      "[223]\tvalid_0's mape: 0.123027\n",
      "[224]\tvalid_0's mape: 0.122927\n",
      "[225]\tvalid_0's mape: 0.122976\n",
      "[226]\tvalid_0's mape: 0.123006\n",
      "[227]\tvalid_0's mape: 0.123052\n",
      "[228]\tvalid_0's mape: 0.123044\n",
      "[229]\tvalid_0's mape: 0.122999\n",
      "[230]\tvalid_0's mape: 0.122934\n",
      "[231]\tvalid_0's mape: 0.122968\n",
      "[232]\tvalid_0's mape: 0.122937\n",
      "[233]\tvalid_0's mape: 0.122926\n",
      "[234]\tvalid_0's mape: 0.122907\n",
      "[235]\tvalid_0's mape: 0.122955\n",
      "[236]\tvalid_0's mape: 0.122917\n",
      "[237]\tvalid_0's mape: 0.123039\n",
      "[238]\tvalid_0's mape: 0.123003\n",
      "[239]\tvalid_0's mape: 0.122988\n",
      "[240]\tvalid_0's mape: 0.122993\n",
      "[241]\tvalid_0's mape: 0.122965\n",
      "[242]\tvalid_0's mape: 0.122973\n",
      "[243]\tvalid_0's mape: 0.122958\n",
      "[244]\tvalid_0's mape: 0.122956\n",
      "[245]\tvalid_0's mape: 0.122979\n",
      "[246]\tvalid_0's mape: 0.12299\n",
      "[247]\tvalid_0's mape: 0.123006\n",
      "[248]\tvalid_0's mape: 0.123032\n",
      "[249]\tvalid_0's mape: 0.123189\n",
      "[250]\tvalid_0's mape: 0.123221\n",
      "[251]\tvalid_0's mape: 0.123261\n",
      "[252]\tvalid_0's mape: 0.123242\n",
      "[253]\tvalid_0's mape: 0.123199\n",
      "[254]\tvalid_0's mape: 0.123306\n",
      "[255]\tvalid_0's mape: 0.12332\n",
      "[256]\tvalid_0's mape: 0.123335\n",
      "[257]\tvalid_0's mape: 0.12331\n",
      "[258]\tvalid_0's mape: 0.123396\n",
      "[259]\tvalid_0's mape: 0.123405\n",
      "[260]\tvalid_0's mape: 0.123465\n",
      "[261]\tvalid_0's mape: 0.123463\n",
      "[262]\tvalid_0's mape: 0.12348\n",
      "[263]\tvalid_0's mape: 0.123497\n",
      "[264]\tvalid_0's mape: 0.123484\n",
      "[265]\tvalid_0's mape: 0.123346\n",
      "[266]\tvalid_0's mape: 0.12338\n",
      "[267]\tvalid_0's mape: 0.123372\n",
      "[268]\tvalid_0's mape: 0.123397\n",
      "[269]\tvalid_0's mape: 0.123457\n",
      "[270]\tvalid_0's mape: 0.123573\n",
      "[271]\tvalid_0's mape: 0.123682\n",
      "[272]\tvalid_0's mape: 0.123662\n",
      "[273]\tvalid_0's mape: 0.123669\n",
      "[274]\tvalid_0's mape: 0.123635\n",
      "[275]\tvalid_0's mape: 0.123587\n",
      "[276]\tvalid_0's mape: 0.123577\n",
      "[277]\tvalid_0's mape: 0.123558\n",
      "[278]\tvalid_0's mape: 0.123557\n",
      "[279]\tvalid_0's mape: 0.123534\n",
      "[280]\tvalid_0's mape: 0.123578\n",
      "[281]\tvalid_0's mape: 0.123607\n",
      "[282]\tvalid_0's mape: 0.123582\n",
      "[283]\tvalid_0's mape: 0.123596\n",
      "[284]\tvalid_0's mape: 0.12364\n",
      "[285]\tvalid_0's mape: 0.123655\n",
      "[286]\tvalid_0's mape: 0.123671\n",
      "[287]\tvalid_0's mape: 0.123665\n",
      "[288]\tvalid_0's mape: 0.123659\n",
      "[289]\tvalid_0's mape: 0.123628\n",
      "[290]\tvalid_0's mape: 0.12363\n",
      "[291]\tvalid_0's mape: 0.123669\n",
      "[292]\tvalid_0's mape: 0.12368\n",
      "[293]\tvalid_0's mape: 0.123648\n"
     ]
    },
    {
     "name": "stdout",
     "output_type": "stream",
     "text": [
      "[294]\tvalid_0's mape: 0.123647\n",
      "[295]\tvalid_0's mape: 0.123654\n",
      "[296]\tvalid_0's mape: 0.123695\n",
      "[297]\tvalid_0's mape: 0.123724\n",
      "[298]\tvalid_0's mape: 0.12373\n",
      "[299]\tvalid_0's mape: 0.123717\n",
      "[300]\tvalid_0's mape: 0.123683\n",
      "[301]\tvalid_0's mape: 0.123654\n",
      "[302]\tvalid_0's mape: 0.123658\n",
      "[303]\tvalid_0's mape: 0.123655\n",
      "[304]\tvalid_0's mape: 0.123657\n",
      "[305]\tvalid_0's mape: 0.123678\n",
      "[306]\tvalid_0's mape: 0.12367\n",
      "[307]\tvalid_0's mape: 0.123651\n",
      "[308]\tvalid_0's mape: 0.123651\n",
      "[309]\tvalid_0's mape: 0.12365\n",
      "[310]\tvalid_0's mape: 0.123653\n",
      "[311]\tvalid_0's mape: 0.123665\n",
      "[312]\tvalid_0's mape: 0.123661\n",
      "[313]\tvalid_0's mape: 0.123669\n",
      "[314]\tvalid_0's mape: 0.123623\n",
      "[315]\tvalid_0's mape: 0.12364\n",
      "[316]\tvalid_0's mape: 0.123637\n",
      "[317]\tvalid_0's mape: 0.123674\n",
      "[318]\tvalid_0's mape: 0.123676\n",
      "[319]\tvalid_0's mape: 0.123685\n",
      "[320]\tvalid_0's mape: 0.123673\n",
      "[321]\tvalid_0's mape: 0.123774\n",
      "[322]\tvalid_0's mape: 0.123772\n",
      "[323]\tvalid_0's mape: 0.123763\n",
      "[324]\tvalid_0's mape: 0.123769\n",
      "[325]\tvalid_0's mape: 0.123769\n",
      "[326]\tvalid_0's mape: 0.12379\n",
      "[327]\tvalid_0's mape: 0.123783\n",
      "[328]\tvalid_0's mape: 0.123815\n",
      "[329]\tvalid_0's mape: 0.123831\n",
      "[330]\tvalid_0's mape: 0.123836\n",
      "[331]\tvalid_0's mape: 0.123845\n",
      "[332]\tvalid_0's mape: 0.1239\n",
      "[333]\tvalid_0's mape: 0.123916\n",
      "[334]\tvalid_0's mape: 0.123876\n",
      "[335]\tvalid_0's mape: 0.123852\n",
      "[336]\tvalid_0's mape: 0.123827\n",
      "[337]\tvalid_0's mape: 0.123837\n",
      "[338]\tvalid_0's mape: 0.123831\n",
      "[339]\tvalid_0's mape: 0.123832\n",
      "[340]\tvalid_0's mape: 0.123847\n",
      "[341]\tvalid_0's mape: 0.123876\n",
      "[342]\tvalid_0's mape: 0.123889\n",
      "[343]\tvalid_0's mape: 0.123905\n",
      "[344]\tvalid_0's mape: 0.123897\n",
      "[345]\tvalid_0's mape: 0.123895\n",
      "[346]\tvalid_0's mape: 0.1239\n",
      "[347]\tvalid_0's mape: 0.123886\n",
      "[348]\tvalid_0's mape: 0.123921\n",
      "[349]\tvalid_0's mape: 0.123941\n",
      "[350]\tvalid_0's mape: 0.123922\n",
      "[351]\tvalid_0's mape: 0.123914\n",
      "[352]\tvalid_0's mape: 0.123918\n",
      "[353]\tvalid_0's mape: 0.123923\n",
      "[354]\tvalid_0's mape: 0.123923\n",
      "[355]\tvalid_0's mape: 0.123979\n",
      "[356]\tvalid_0's mape: 0.123962\n",
      "[357]\tvalid_0's mape: 0.123963\n",
      "[358]\tvalid_0's mape: 0.123948\n",
      "[359]\tvalid_0's mape: 0.123931\n",
      "[360]\tvalid_0's mape: 0.123944\n",
      "[361]\tvalid_0's mape: 0.123949\n",
      "[362]\tvalid_0's mape: 0.123991\n",
      "[363]\tvalid_0's mape: 0.124006\n",
      "[364]\tvalid_0's mape: 0.124002\n",
      "[365]\tvalid_0's mape: 0.124014\n",
      "[366]\tvalid_0's mape: 0.12399\n",
      "[367]\tvalid_0's mape: 0.124003\n",
      "[368]\tvalid_0's mape: 0.124001\n",
      "[369]\tvalid_0's mape: 0.124033\n",
      "[370]\tvalid_0's mape: 0.124073\n",
      "[371]\tvalid_0's mape: 0.124095\n",
      "[372]\tvalid_0's mape: 0.124071\n",
      "[373]\tvalid_0's mape: 0.124066\n",
      "[374]\tvalid_0's mape: 0.124094\n",
      "[375]\tvalid_0's mape: 0.12414\n",
      "[376]\tvalid_0's mape: 0.124128\n",
      "[377]\tvalid_0's mape: 0.124135\n",
      "[378]\tvalid_0's mape: 0.124153\n",
      "[379]\tvalid_0's mape: 0.124151\n",
      "[380]\tvalid_0's mape: 0.12413\n",
      "[381]\tvalid_0's mape: 0.124161\n",
      "[382]\tvalid_0's mape: 0.124151\n",
      "[383]\tvalid_0's mape: 0.124147\n",
      "[384]\tvalid_0's mape: 0.124148\n",
      "[385]\tvalid_0's mape: 0.124142\n",
      "[386]\tvalid_0's mape: 0.124139\n",
      "[387]\tvalid_0's mape: 0.124137\n",
      "[388]\tvalid_0's mape: 0.124138\n",
      "[389]\tvalid_0's mape: 0.124139\n",
      "[390]\tvalid_0's mape: 0.124124\n",
      "[391]\tvalid_0's mape: 0.124133\n",
      "[392]\tvalid_0's mape: 0.124144\n",
      "[393]\tvalid_0's mape: 0.124124\n",
      "[394]\tvalid_0's mape: 0.124115\n",
      "[395]\tvalid_0's mape: 0.124159\n",
      "[396]\tvalid_0's mape: 0.12417\n",
      "[397]\tvalid_0's mape: 0.124206\n",
      "[398]\tvalid_0's mape: 0.12422\n",
      "[399]\tvalid_0's mape: 0.124217\n",
      "[400]\tvalid_0's mape: 0.124218\n",
      "[401]\tvalid_0's mape: 0.124227\n",
      "[402]\tvalid_0's mape: 0.124206\n",
      "[403]\tvalid_0's mape: 0.124194\n",
      "[404]\tvalid_0's mape: 0.124188\n",
      "[405]\tvalid_0's mape: 0.124197\n",
      "[406]\tvalid_0's mape: 0.12422\n",
      "[407]\tvalid_0's mape: 0.124194\n",
      "[408]\tvalid_0's mape: 0.124196\n",
      "[409]\tvalid_0's mape: 0.124187\n",
      "[410]\tvalid_0's mape: 0.124178\n",
      "[411]\tvalid_0's mape: 0.124186\n",
      "[412]\tvalid_0's mape: 0.124215\n",
      "[413]\tvalid_0's mape: 0.124277\n",
      "[414]\tvalid_0's mape: 0.12427\n",
      "[415]\tvalid_0's mape: 0.124259\n",
      "[416]\tvalid_0's mape: 0.124253\n",
      "[417]\tvalid_0's mape: 0.124254\n",
      "[418]\tvalid_0's mape: 0.124233\n",
      "[419]\tvalid_0's mape: 0.124259\n",
      "[420]\tvalid_0's mape: 0.124257\n",
      "[421]\tvalid_0's mape: 0.124256\n",
      "[422]\tvalid_0's mape: 0.12425\n",
      "[423]\tvalid_0's mape: 0.124234\n",
      "[424]\tvalid_0's mape: 0.124265\n",
      "[425]\tvalid_0's mape: 0.124254\n",
      "[426]\tvalid_0's mape: 0.124257\n",
      "[427]\tvalid_0's mape: 0.124245\n",
      "[428]\tvalid_0's mape: 0.12424\n",
      "[429]\tvalid_0's mape: 0.124233\n",
      "[430]\tvalid_0's mape: 0.124232\n",
      "[431]\tvalid_0's mape: 0.124227\n",
      "[432]\tvalid_0's mape: 0.124226\n",
      "[433]\tvalid_0's mape: 0.12422\n",
      "[434]\tvalid_0's mape: 0.124217\n",
      "[435]\tvalid_0's mape: 0.124223\n",
      "[436]\tvalid_0's mape: 0.124257\n",
      "[437]\tvalid_0's mape: 0.124248\n",
      "[438]\tvalid_0's mape: 0.12424\n",
      "[439]\tvalid_0's mape: 0.124241\n",
      "[440]\tvalid_0's mape: 0.124241\n",
      "[441]\tvalid_0's mape: 0.124238\n",
      "[442]\tvalid_0's mape: 0.124215\n",
      "[443]\tvalid_0's mape: 0.124218\n",
      "[444]\tvalid_0's mape: 0.124248\n",
      "[445]\tvalid_0's mape: 0.124249\n",
      "[446]\tvalid_0's mape: 0.124306\n",
      "[447]\tvalid_0's mape: 0.124299\n",
      "[448]\tvalid_0's mape: 0.124286\n",
      "[449]\tvalid_0's mape: 0.124276\n",
      "[450]\tvalid_0's mape: 0.124275\n",
      "[451]\tvalid_0's mape: 0.124274\n",
      "[452]\tvalid_0's mape: 0.124272\n",
      "[453]\tvalid_0's mape: 0.124256\n",
      "[454]\tvalid_0's mape: 0.124319\n",
      "[455]\tvalid_0's mape: 0.124304\n",
      "[456]\tvalid_0's mape: 0.1243\n",
      "[457]\tvalid_0's mape: 0.124287\n",
      "[458]\tvalid_0's mape: 0.124287\n",
      "[459]\tvalid_0's mape: 0.124289\n",
      "[460]\tvalid_0's mape: 0.124285\n",
      "[461]\tvalid_0's mape: 0.124287\n",
      "[462]\tvalid_0's mape: 0.124325\n",
      "[463]\tvalid_0's mape: 0.124314\n",
      "[464]\tvalid_0's mape: 0.124325\n",
      "[465]\tvalid_0's mape: 0.124315\n",
      "[466]\tvalid_0's mape: 0.124317\n",
      "[467]\tvalid_0's mape: 0.124328\n",
      "[468]\tvalid_0's mape: 0.124327\n",
      "[469]\tvalid_0's mape: 0.124358\n",
      "[470]\tvalid_0's mape: 0.124375\n",
      "[471]\tvalid_0's mape: 0.124369\n",
      "[472]\tvalid_0's mape: 0.124379\n",
      "[473]\tvalid_0's mape: 0.124396\n",
      "[474]\tvalid_0's mape: 0.124418\n",
      "[475]\tvalid_0's mape: 0.12441\n",
      "[476]\tvalid_0's mape: 0.124427\n",
      "[477]\tvalid_0's mape: 0.124435\n",
      "[478]\tvalid_0's mape: 0.124494\n",
      "[479]\tvalid_0's mape: 0.124491\n",
      "[480]\tvalid_0's mape: 0.124491\n",
      "[481]\tvalid_0's mape: 0.124506\n",
      "[482]\tvalid_0's mape: 0.12451\n",
      "[483]\tvalid_0's mape: 0.124513\n",
      "[484]\tvalid_0's mape: 0.124503\n",
      "[485]\tvalid_0's mape: 0.124495\n",
      "[486]\tvalid_0's mape: 0.124495\n",
      "[487]\tvalid_0's mape: 0.124494\n",
      "[488]\tvalid_0's mape: 0.1245\n",
      "[489]\tvalid_0's mape: 0.124517\n",
      "[490]\tvalid_0's mape: 0.124565\n",
      "[491]\tvalid_0's mape: 0.124563\n",
      "[492]\tvalid_0's mape: 0.124553\n",
      "[493]\tvalid_0's mape: 0.124551\n",
      "[494]\tvalid_0's mape: 0.124553\n",
      "[495]\tvalid_0's mape: 0.124583\n",
      "[496]\tvalid_0's mape: 0.124569\n",
      "[497]\tvalid_0's mape: 0.124598\n",
      "[498]\tvalid_0's mape: 0.124599\n",
      "[499]\tvalid_0's mape: 0.124618\n",
      "[500]\tvalid_0's mape: 0.124616\n",
      "[501]\tvalid_0's mape: 0.124614\n",
      "[502]\tvalid_0's mape: 0.124638\n",
      "[503]\tvalid_0's mape: 0.124637\n",
      "[504]\tvalid_0's mape: 0.124634\n",
      "[505]\tvalid_0's mape: 0.124623\n",
      "[506]\tvalid_0's mape: 0.124625\n",
      "[507]\tvalid_0's mape: 0.124626\n",
      "[508]\tvalid_0's mape: 0.124625\n",
      "[509]\tvalid_0's mape: 0.124664\n",
      "[510]\tvalid_0's mape: 0.124664\n",
      "[511]\tvalid_0's mape: 0.124646\n",
      "[512]\tvalid_0's mape: 0.124633\n",
      "[513]\tvalid_0's mape: 0.124625\n",
      "[514]\tvalid_0's mape: 0.124628\n",
      "[515]\tvalid_0's mape: 0.124616\n",
      "[516]\tvalid_0's mape: 0.12461\n",
      "[517]\tvalid_0's mape: 0.12461\n",
      "[518]\tvalid_0's mape: 0.124641\n",
      "[519]\tvalid_0's mape: 0.124646\n",
      "[520]\tvalid_0's mape: 0.124633\n",
      "[521]\tvalid_0's mape: 0.124629\n",
      "[522]\tvalid_0's mape: 0.124624\n",
      "[523]\tvalid_0's mape: 0.124625\n",
      "[524]\tvalid_0's mape: 0.124619\n",
      "[525]\tvalid_0's mape: 0.124609\n",
      "[526]\tvalid_0's mape: 0.124599\n",
      "[527]\tvalid_0's mape: 0.124636\n",
      "[528]\tvalid_0's mape: 0.12464\n",
      "[529]\tvalid_0's mape: 0.124633\n",
      "[530]\tvalid_0's mape: 0.124639\n",
      "[531]\tvalid_0's mape: 0.12464\n",
      "[532]\tvalid_0's mape: 0.124625\n",
      "[533]\tvalid_0's mape: 0.12462\n",
      "[534]\tvalid_0's mape: 0.124622\n",
      "[535]\tvalid_0's mape: 0.124617\n",
      "[536]\tvalid_0's mape: 0.124612\n",
      "[537]\tvalid_0's mape: 0.124603\n",
      "[538]\tvalid_0's mape: 0.124609\n",
      "[539]\tvalid_0's mape: 0.124599\n",
      "[540]\tvalid_0's mape: 0.124596\n",
      "[541]\tvalid_0's mape: 0.1246\n",
      "[542]\tvalid_0's mape: 0.124609\n",
      "[543]\tvalid_0's mape: 0.124572\n",
      "[544]\tvalid_0's mape: 0.124561\n",
      "[545]\tvalid_0's mape: 0.124554\n",
      "[546]\tvalid_0's mape: 0.124582\n",
      "[547]\tvalid_0's mape: 0.124585\n",
      "[548]\tvalid_0's mape: 0.124588\n",
      "[549]\tvalid_0's mape: 0.124564\n",
      "[550]\tvalid_0's mape: 0.124557\n",
      "[551]\tvalid_0's mape: 0.124582\n",
      "[552]\tvalid_0's mape: 0.12458\n",
      "[553]\tvalid_0's mape: 0.124602\n",
      "[554]\tvalid_0's mape: 0.124598\n",
      "[555]\tvalid_0's mape: 0.124591\n",
      "[556]\tvalid_0's mape: 0.124584\n",
      "[557]\tvalid_0's mape: 0.124594\n",
      "[558]\tvalid_0's mape: 0.124614\n",
      "[559]\tvalid_0's mape: 0.124601\n",
      "[560]\tvalid_0's mape: 0.12459\n",
      "[561]\tvalid_0's mape: 0.124589\n",
      "[562]\tvalid_0's mape: 0.124577\n",
      "[563]\tvalid_0's mape: 0.124579\n",
      "[564]\tvalid_0's mape: 0.124571\n",
      "[565]\tvalid_0's mape: 0.124575\n",
      "[566]\tvalid_0's mape: 0.124571\n",
      "[567]\tvalid_0's mape: 0.124569\n",
      "[568]\tvalid_0's mape: 0.124597\n",
      "[569]\tvalid_0's mape: 0.124588\n",
      "[570]\tvalid_0's mape: 0.124602\n",
      "[571]\tvalid_0's mape: 0.124606\n",
      "[572]\tvalid_0's mape: 0.124605\n",
      "[573]\tvalid_0's mape: 0.124619\n",
      "[574]\tvalid_0's mape: 0.12462\n",
      "[575]\tvalid_0's mape: 0.124616\n",
      "[576]\tvalid_0's mape: 0.124618\n",
      "[577]\tvalid_0's mape: 0.124627\n",
      "[578]\tvalid_0's mape: 0.124637\n",
      "[579]\tvalid_0's mape: 0.124651\n",
      "[580]\tvalid_0's mape: 0.124648\n",
      "[581]\tvalid_0's mape: 0.124659\n",
      "[582]\tvalid_0's mape: 0.124648\n"
     ]
    },
    {
     "name": "stdout",
     "output_type": "stream",
     "text": [
      "[583]\tvalid_0's mape: 0.124664\n",
      "[584]\tvalid_0's mape: 0.124663\n",
      "[585]\tvalid_0's mape: 0.124653\n",
      "[586]\tvalid_0's mape: 0.124661\n",
      "[587]\tvalid_0's mape: 0.12467\n",
      "[588]\tvalid_0's mape: 0.124683\n",
      "[589]\tvalid_0's mape: 0.124679\n",
      "[590]\tvalid_0's mape: 0.124682\n",
      "[591]\tvalid_0's mape: 0.124689\n",
      "[592]\tvalid_0's mape: 0.124704\n",
      "[593]\tvalid_0's mape: 0.124707\n",
      "[594]\tvalid_0's mape: 0.12471\n",
      "[595]\tvalid_0's mape: 0.124715\n",
      "[596]\tvalid_0's mape: 0.124718\n",
      "[597]\tvalid_0's mape: 0.124732\n",
      "[598]\tvalid_0's mape: 0.124739\n",
      "[599]\tvalid_0's mape: 0.124736\n",
      "[600]\tvalid_0's mape: 0.124723\n",
      "[601]\tvalid_0's mape: 0.124742\n",
      "[602]\tvalid_0's mape: 0.12472\n",
      "[603]\tvalid_0's mape: 0.124724\n",
      "[604]\tvalid_0's mape: 0.124724\n",
      "[605]\tvalid_0's mape: 0.124724\n",
      "[606]\tvalid_0's mape: 0.124725\n",
      "[607]\tvalid_0's mape: 0.124717\n",
      "[608]\tvalid_0's mape: 0.124706\n",
      "[609]\tvalid_0's mape: 0.124712\n",
      "[610]\tvalid_0's mape: 0.124708\n",
      "[611]\tvalid_0's mape: 0.124699\n",
      "[612]\tvalid_0's mape: 0.12473\n",
      "[613]\tvalid_0's mape: 0.124717\n",
      "[614]\tvalid_0's mape: 0.12471\n",
      "[615]\tvalid_0's mape: 0.124704\n",
      "[616]\tvalid_0's mape: 0.124705\n",
      "[617]\tvalid_0's mape: 0.124704\n",
      "[618]\tvalid_0's mape: 0.124731\n",
      "[619]\tvalid_0's mape: 0.124722\n",
      "[620]\tvalid_0's mape: 0.124721\n",
      "[621]\tvalid_0's mape: 0.124728\n",
      "[622]\tvalid_0's mape: 0.124725\n",
      "[623]\tvalid_0's mape: 0.124724\n",
      "[624]\tvalid_0's mape: 0.124717\n",
      "[625]\tvalid_0's mape: 0.124717\n",
      "[626]\tvalid_0's mape: 0.124717\n",
      "[627]\tvalid_0's mape: 0.124717\n",
      "[628]\tvalid_0's mape: 0.124707\n",
      "[629]\tvalid_0's mape: 0.124717\n",
      "[630]\tvalid_0's mape: 0.124711\n",
      "[631]\tvalid_0's mape: 0.12471\n",
      "[632]\tvalid_0's mape: 0.124704\n",
      "[633]\tvalid_0's mape: 0.124735\n",
      "[634]\tvalid_0's mape: 0.124725\n",
      "[635]\tvalid_0's mape: 0.124728\n",
      "[636]\tvalid_0's mape: 0.124728\n",
      "[637]\tvalid_0's mape: 0.124728\n",
      "[638]\tvalid_0's mape: 0.124726\n",
      "[639]\tvalid_0's mape: 0.124708\n",
      "[640]\tvalid_0's mape: 0.124704\n",
      "[641]\tvalid_0's mape: 0.124698\n",
      "[642]\tvalid_0's mape: 0.124686\n",
      "[643]\tvalid_0's mape: 0.12468\n",
      "[644]\tvalid_0's mape: 0.12469\n",
      "[645]\tvalid_0's mape: 0.124683\n",
      "[646]\tvalid_0's mape: 0.124678\n",
      "[647]\tvalid_0's mape: 0.124678\n",
      "[648]\tvalid_0's mape: 0.124664\n",
      "[649]\tvalid_0's mape: 0.124686\n",
      "[650]\tvalid_0's mape: 0.124681\n",
      "[651]\tvalid_0's mape: 0.124689\n",
      "[652]\tvalid_0's mape: 0.12467\n",
      "[653]\tvalid_0's mape: 0.124658\n",
      "[654]\tvalid_0's mape: 0.124676\n",
      "[655]\tvalid_0's mape: 0.124665\n",
      "[656]\tvalid_0's mape: 0.124654\n",
      "[657]\tvalid_0's mape: 0.124652\n",
      "[658]\tvalid_0's mape: 0.124654\n",
      "[659]\tvalid_0's mape: 0.12465\n",
      "[660]\tvalid_0's mape: 0.124656\n",
      "[661]\tvalid_0's mape: 0.124649\n",
      "[662]\tvalid_0's mape: 0.124651\n",
      "[663]\tvalid_0's mape: 0.124642\n",
      "[664]\tvalid_0's mape: 0.124664\n",
      "[665]\tvalid_0's mape: 0.124665\n",
      "[666]\tvalid_0's mape: 0.124664\n",
      "[667]\tvalid_0's mape: 0.124653\n",
      "[668]\tvalid_0's mape: 0.124646\n",
      "[669]\tvalid_0's mape: 0.124657\n",
      "[670]\tvalid_0's mape: 0.124658\n",
      "[671]\tvalid_0's mape: 0.124657\n",
      "[672]\tvalid_0's mape: 0.124662\n",
      "[673]\tvalid_0's mape: 0.124664\n",
      "[674]\tvalid_0's mape: 0.124664\n",
      "[675]\tvalid_0's mape: 0.124659\n",
      "[676]\tvalid_0's mape: 0.124676\n",
      "[677]\tvalid_0's mape: 0.124668\n",
      "[678]\tvalid_0's mape: 0.124663\n",
      "[679]\tvalid_0's mape: 0.124666\n",
      "[680]\tvalid_0's mape: 0.124638\n",
      "[681]\tvalid_0's mape: 0.124649\n",
      "[682]\tvalid_0's mape: 0.124647\n",
      "[683]\tvalid_0's mape: 0.124642\n",
      "[684]\tvalid_0's mape: 0.124643\n",
      "[685]\tvalid_0's mape: 0.124639\n",
      "[686]\tvalid_0's mape: 0.124641\n",
      "[687]\tvalid_0's mape: 0.124647\n",
      "[688]\tvalid_0's mape: 0.124654\n",
      "[689]\tvalid_0's mape: 0.124655\n",
      "[690]\tvalid_0's mape: 0.124657\n",
      "[691]\tvalid_0's mape: 0.124657\n",
      "[692]\tvalid_0's mape: 0.124655\n",
      "[693]\tvalid_0's mape: 0.124661\n",
      "[694]\tvalid_0's mape: 0.124655\n",
      "[695]\tvalid_0's mape: 0.124651\n",
      "[696]\tvalid_0's mape: 0.124643\n",
      "[697]\tvalid_0's mape: 0.124624\n",
      "[698]\tvalid_0's mape: 0.124627\n",
      "[699]\tvalid_0's mape: 0.124642\n",
      "[700]\tvalid_0's mape: 0.124644\n",
      "[701]\tvalid_0's mape: 0.124645\n",
      "[702]\tvalid_0's mape: 0.124648\n",
      "[703]\tvalid_0's mape: 0.124651\n",
      "[704]\tvalid_0's mape: 0.124641\n",
      "[705]\tvalid_0's mape: 0.124677\n",
      "[706]\tvalid_0's mape: 0.124668\n",
      "[707]\tvalid_0's mape: 0.12467\n",
      "[708]\tvalid_0's mape: 0.12468\n",
      "[709]\tvalid_0's mape: 0.124678\n",
      "[710]\tvalid_0's mape: 0.124678\n",
      "[711]\tvalid_0's mape: 0.124671\n",
      "[712]\tvalid_0's mape: 0.124682\n",
      "[713]\tvalid_0's mape: 0.124694\n",
      "[714]\tvalid_0's mape: 0.124697\n",
      "[715]\tvalid_0's mape: 0.12469\n",
      "[716]\tvalid_0's mape: 0.124691\n",
      "[717]\tvalid_0's mape: 0.124685\n",
      "[718]\tvalid_0's mape: 0.124689\n",
      "[719]\tvalid_0's mape: 0.124695\n",
      "[720]\tvalid_0's mape: 0.124691\n",
      "[721]\tvalid_0's mape: 0.124694\n",
      "[722]\tvalid_0's mape: 0.124694\n",
      "[723]\tvalid_0's mape: 0.124685\n",
      "[724]\tvalid_0's mape: 0.12468\n",
      "[725]\tvalid_0's mape: 0.124683\n",
      "[726]\tvalid_0's mape: 0.124675\n",
      "[727]\tvalid_0's mape: 0.124672\n",
      "[728]\tvalid_0's mape: 0.124666\n",
      "[729]\tvalid_0's mape: 0.124665\n",
      "[730]\tvalid_0's mape: 0.124673\n",
      "[731]\tvalid_0's mape: 0.12467\n",
      "[732]\tvalid_0's mape: 0.124664\n",
      "[733]\tvalid_0's mape: 0.124667\n",
      "[734]\tvalid_0's mape: 0.124668\n",
      "[735]\tvalid_0's mape: 0.124666\n",
      "[736]\tvalid_0's mape: 0.124666\n",
      "[737]\tvalid_0's mape: 0.124663\n",
      "[738]\tvalid_0's mape: 0.124663\n",
      "[739]\tvalid_0's mape: 0.124663\n",
      "[740]\tvalid_0's mape: 0.124671\n",
      "[741]\tvalid_0's mape: 0.124667\n",
      "[742]\tvalid_0's mape: 0.12467\n",
      "[743]\tvalid_0's mape: 0.124667\n",
      "[744]\tvalid_0's mape: 0.124662\n",
      "[745]\tvalid_0's mape: 0.124667\n",
      "[746]\tvalid_0's mape: 0.124662\n",
      "[747]\tvalid_0's mape: 0.124669\n",
      "[748]\tvalid_0's mape: 0.124671\n",
      "[749]\tvalid_0's mape: 0.124668\n",
      "[750]\tvalid_0's mape: 0.124665\n",
      "[751]\tvalid_0's mape: 0.124659\n",
      "[752]\tvalid_0's mape: 0.124663\n",
      "[753]\tvalid_0's mape: 0.124659\n",
      "[754]\tvalid_0's mape: 0.124661\n",
      "[755]\tvalid_0's mape: 0.12466\n",
      "[756]\tvalid_0's mape: 0.124663\n",
      "[757]\tvalid_0's mape: 0.124664\n",
      "[758]\tvalid_0's mape: 0.124665\n",
      "[759]\tvalid_0's mape: 0.124676\n",
      "[760]\tvalid_0's mape: 0.124677\n",
      "[761]\tvalid_0's mape: 0.124673\n",
      "[762]\tvalid_0's mape: 0.124674\n",
      "[763]\tvalid_0's mape: 0.124669\n",
      "[764]\tvalid_0's mape: 0.124672\n",
      "[765]\tvalid_0's mape: 0.124674\n",
      "[766]\tvalid_0's mape: 0.124674\n",
      "[767]\tvalid_0's mape: 0.124696\n",
      "[768]\tvalid_0's mape: 0.12469\n",
      "[769]\tvalid_0's mape: 0.124689\n",
      "[770]\tvalid_0's mape: 0.124685\n",
      "[771]\tvalid_0's mape: 0.124676\n",
      "[772]\tvalid_0's mape: 0.124677\n",
      "[773]\tvalid_0's mape: 0.124675\n",
      "[774]\tvalid_0's mape: 0.124677\n",
      "[775]\tvalid_0's mape: 0.124674\n",
      "[776]\tvalid_0's mape: 0.124668\n",
      "[777]\tvalid_0's mape: 0.12467\n",
      "[778]\tvalid_0's mape: 0.124668\n",
      "[779]\tvalid_0's mape: 0.124666\n",
      "[780]\tvalid_0's mape: 0.124672\n",
      "[781]\tvalid_0's mape: 0.124671\n",
      "[782]\tvalid_0's mape: 0.124677\n",
      "[783]\tvalid_0's mape: 0.124673\n",
      "[784]\tvalid_0's mape: 0.12467\n",
      "[785]\tvalid_0's mape: 0.12467\n",
      "[786]\tvalid_0's mape: 0.124657\n",
      "[787]\tvalid_0's mape: 0.124663\n",
      "[788]\tvalid_0's mape: 0.124664\n",
      "[789]\tvalid_0's mape: 0.124666\n",
      "[790]\tvalid_0's mape: 0.124663\n",
      "[791]\tvalid_0's mape: 0.124673\n",
      "[792]\tvalid_0's mape: 0.124668\n",
      "[793]\tvalid_0's mape: 0.124666\n",
      "[794]\tvalid_0's mape: 0.124673\n",
      "[795]\tvalid_0's mape: 0.124673\n",
      "[796]\tvalid_0's mape: 0.124684\n",
      "[797]\tvalid_0's mape: 0.12468\n",
      "[798]\tvalid_0's mape: 0.124678\n",
      "[799]\tvalid_0's mape: 0.124676\n",
      "[800]\tvalid_0's mape: 0.124682\n",
      "[801]\tvalid_0's mape: 0.124693\n",
      "[802]\tvalid_0's mape: 0.124698\n",
      "[803]\tvalid_0's mape: 0.124699\n",
      "[804]\tvalid_0's mape: 0.124699\n",
      "[805]\tvalid_0's mape: 0.124707\n",
      "[806]\tvalid_0's mape: 0.124703\n",
      "[807]\tvalid_0's mape: 0.124714\n",
      "[808]\tvalid_0's mape: 0.124709\n",
      "[809]\tvalid_0's mape: 0.124706\n",
      "[810]\tvalid_0's mape: 0.124696\n",
      "[811]\tvalid_0's mape: 0.124702\n",
      "[812]\tvalid_0's mape: 0.124699\n",
      "[813]\tvalid_0's mape: 0.124702\n",
      "[814]\tvalid_0's mape: 0.124703\n",
      "[815]\tvalid_0's mape: 0.124699\n",
      "[816]\tvalid_0's mape: 0.124699\n",
      "[817]\tvalid_0's mape: 0.124702\n",
      "[818]\tvalid_0's mape: 0.124702\n",
      "[819]\tvalid_0's mape: 0.124701\n",
      "[820]\tvalid_0's mape: 0.124702\n",
      "[821]\tvalid_0's mape: 0.124699\n",
      "[822]\tvalid_0's mape: 0.124706\n",
      "[823]\tvalid_0's mape: 0.12471\n",
      "[824]\tvalid_0's mape: 0.124709\n",
      "[825]\tvalid_0's mape: 0.124708\n",
      "[826]\tvalid_0's mape: 0.124709\n",
      "[827]\tvalid_0's mape: 0.124712\n",
      "[828]\tvalid_0's mape: 0.124713\n",
      "[829]\tvalid_0's mape: 0.124722\n",
      "[830]\tvalid_0's mape: 0.124723\n",
      "[831]\tvalid_0's mape: 0.124723\n",
      "[832]\tvalid_0's mape: 0.124723\n",
      "[833]\tvalid_0's mape: 0.124719\n",
      "[834]\tvalid_0's mape: 0.12471\n",
      "[835]\tvalid_0's mape: 0.124722\n",
      "[836]\tvalid_0's mape: 0.124723\n",
      "[837]\tvalid_0's mape: 0.124731\n",
      "[838]\tvalid_0's mape: 0.124725\n",
      "[839]\tvalid_0's mape: 0.124721\n",
      "[840]\tvalid_0's mape: 0.124719\n",
      "[841]\tvalid_0's mape: 0.124702\n",
      "[842]\tvalid_0's mape: 0.124705\n",
      "[843]\tvalid_0's mape: 0.124708\n",
      "[844]\tvalid_0's mape: 0.124703\n",
      "[845]\tvalid_0's mape: 0.124704\n",
      "[846]\tvalid_0's mape: 0.124702\n",
      "[847]\tvalid_0's mape: 0.124718\n",
      "[848]\tvalid_0's mape: 0.124717\n",
      "[849]\tvalid_0's mape: 0.124716\n",
      "[850]\tvalid_0's mape: 0.124713\n",
      "[851]\tvalid_0's mape: 0.124709\n",
      "[852]\tvalid_0's mape: 0.124717\n",
      "[853]\tvalid_0's mape: 0.12472\n",
      "[854]\tvalid_0's mape: 0.124708\n",
      "[855]\tvalid_0's mape: 0.124704\n",
      "[856]\tvalid_0's mape: 0.124714\n",
      "[857]\tvalid_0's mape: 0.124713\n",
      "[858]\tvalid_0's mape: 0.124709\n",
      "[859]\tvalid_0's mape: 0.124705\n",
      "[860]\tvalid_0's mape: 0.124706\n",
      "[861]\tvalid_0's mape: 0.124717\n",
      "[862]\tvalid_0's mape: 0.124718\n",
      "[863]\tvalid_0's mape: 0.124718\n",
      "[864]\tvalid_0's mape: 0.12471\n",
      "[865]\tvalid_0's mape: 0.124707\n",
      "[866]\tvalid_0's mape: 0.124704\n",
      "[867]\tvalid_0's mape: 0.124701\n",
      "[868]\tvalid_0's mape: 0.124705\n",
      "[869]\tvalid_0's mape: 0.124715\n"
     ]
    },
    {
     "name": "stdout",
     "output_type": "stream",
     "text": [
      "[870]\tvalid_0's mape: 0.124714\n",
      "[871]\tvalid_0's mape: 0.124714\n",
      "[872]\tvalid_0's mape: 0.124715\n",
      "[873]\tvalid_0's mape: 0.124721\n",
      "[874]\tvalid_0's mape: 0.12471\n",
      "[875]\tvalid_0's mape: 0.124711\n",
      "[876]\tvalid_0's mape: 0.124709\n",
      "[877]\tvalid_0's mape: 0.124713\n",
      "[878]\tvalid_0's mape: 0.124714\n",
      "[879]\tvalid_0's mape: 0.124716\n",
      "[880]\tvalid_0's mape: 0.124716\n",
      "[881]\tvalid_0's mape: 0.124716\n",
      "[882]\tvalid_0's mape: 0.124716\n",
      "[883]\tvalid_0's mape: 0.124713\n",
      "[884]\tvalid_0's mape: 0.124705\n",
      "[885]\tvalid_0's mape: 0.124705\n",
      "[886]\tvalid_0's mape: 0.124713\n",
      "[887]\tvalid_0's mape: 0.124715\n",
      "[888]\tvalid_0's mape: 0.124715\n",
      "[889]\tvalid_0's mape: 0.124715\n",
      "[890]\tvalid_0's mape: 0.124703\n",
      "[891]\tvalid_0's mape: 0.124702\n",
      "[892]\tvalid_0's mape: 0.124704\n",
      "[893]\tvalid_0's mape: 0.124715\n",
      "[894]\tvalid_0's mape: 0.124719\n",
      "[895]\tvalid_0's mape: 0.124724\n",
      "[896]\tvalid_0's mape: 0.124722\n",
      "[897]\tvalid_0's mape: 0.124723\n",
      "[898]\tvalid_0's mape: 0.12472\n",
      "[899]\tvalid_0's mape: 0.124714\n",
      "[900]\tvalid_0's mape: 0.124711\n",
      "[901]\tvalid_0's mape: 0.124712\n",
      "[902]\tvalid_0's mape: 0.124714\n",
      "[903]\tvalid_0's mape: 0.12471\n",
      "[904]\tvalid_0's mape: 0.124714\n",
      "[905]\tvalid_0's mape: 0.124728\n",
      "[906]\tvalid_0's mape: 0.124725\n",
      "[907]\tvalid_0's mape: 0.124727\n",
      "[908]\tvalid_0's mape: 0.124726\n",
      "[909]\tvalid_0's mape: 0.124727\n",
      "[910]\tvalid_0's mape: 0.124725\n",
      "[911]\tvalid_0's mape: 0.124725\n",
      "[912]\tvalid_0's mape: 0.124725\n",
      "[913]\tvalid_0's mape: 0.124724\n",
      "[914]\tvalid_0's mape: 0.124727\n",
      "[915]\tvalid_0's mape: 0.124725\n",
      "[916]\tvalid_0's mape: 0.124726\n",
      "[917]\tvalid_0's mape: 0.12473\n",
      "[918]\tvalid_0's mape: 0.124733\n",
      "[919]\tvalid_0's mape: 0.12473\n",
      "[920]\tvalid_0's mape: 0.124728\n",
      "[921]\tvalid_0's mape: 0.124729\n",
      "[922]\tvalid_0's mape: 0.124728\n",
      "[923]\tvalid_0's mape: 0.124728\n",
      "[924]\tvalid_0's mape: 0.124735\n",
      "[925]\tvalid_0's mape: 0.124735\n",
      "[926]\tvalid_0's mape: 0.124742\n",
      "[927]\tvalid_0's mape: 0.124745\n",
      "[928]\tvalid_0's mape: 0.124749\n",
      "[929]\tvalid_0's mape: 0.124748\n",
      "[930]\tvalid_0's mape: 0.124755\n",
      "[931]\tvalid_0's mape: 0.12475\n",
      "[932]\tvalid_0's mape: 0.124757\n",
      "[933]\tvalid_0's mape: 0.124757\n",
      "[934]\tvalid_0's mape: 0.124762\n",
      "[935]\tvalid_0's mape: 0.12476\n",
      "[936]\tvalid_0's mape: 0.12476\n",
      "[937]\tvalid_0's mape: 0.124761\n",
      "[938]\tvalid_0's mape: 0.124764\n",
      "[939]\tvalid_0's mape: 0.124767\n",
      "[940]\tvalid_0's mape: 0.124769\n",
      "[941]\tvalid_0's mape: 0.124769\n",
      "[942]\tvalid_0's mape: 0.124768\n",
      "[943]\tvalid_0's mape: 0.124768\n",
      "[944]\tvalid_0's mape: 0.124769\n",
      "[945]\tvalid_0's mape: 0.124771\n",
      "[946]\tvalid_0's mape: 0.124777\n",
      "[947]\tvalid_0's mape: 0.124779\n",
      "[948]\tvalid_0's mape: 0.124778\n",
      "[949]\tvalid_0's mape: 0.124782\n",
      "[950]\tvalid_0's mape: 0.12478\n",
      "[951]\tvalid_0's mape: 0.124787\n",
      "[952]\tvalid_0's mape: 0.124789\n",
      "[953]\tvalid_0's mape: 0.124784\n",
      "[954]\tvalid_0's mape: 0.124782\n",
      "[955]\tvalid_0's mape: 0.12478\n",
      "[956]\tvalid_0's mape: 0.124787\n",
      "[957]\tvalid_0's mape: 0.124786\n",
      "[958]\tvalid_0's mape: 0.124785\n",
      "[959]\tvalid_0's mape: 0.124784\n",
      "[960]\tvalid_0's mape: 0.124786\n",
      "[961]\tvalid_0's mape: 0.124783\n",
      "[962]\tvalid_0's mape: 0.124788\n",
      "[963]\tvalid_0's mape: 0.124795\n",
      "[964]\tvalid_0's mape: 0.124795\n",
      "[965]\tvalid_0's mape: 0.124796\n",
      "[966]\tvalid_0's mape: 0.124788\n",
      "[967]\tvalid_0's mape: 0.124793\n",
      "[968]\tvalid_0's mape: 0.124792\n",
      "[969]\tvalid_0's mape: 0.12479\n",
      "[970]\tvalid_0's mape: 0.124797\n",
      "[971]\tvalid_0's mape: 0.1248\n",
      "[972]\tvalid_0's mape: 0.124795\n",
      "[973]\tvalid_0's mape: 0.124792\n",
      "[974]\tvalid_0's mape: 0.124795\n",
      "[975]\tvalid_0's mape: 0.124792\n",
      "[976]\tvalid_0's mape: 0.124789\n",
      "[977]\tvalid_0's mape: 0.124788\n",
      "[978]\tvalid_0's mape: 0.124787\n",
      "[979]\tvalid_0's mape: 0.124787\n",
      "[980]\tvalid_0's mape: 0.124787\n",
      "[981]\tvalid_0's mape: 0.124782\n",
      "[982]\tvalid_0's mape: 0.124783\n",
      "[983]\tvalid_0's mape: 0.124784\n",
      "[984]\tvalid_0's mape: 0.124791\n",
      "[985]\tvalid_0's mape: 0.124788\n",
      "[986]\tvalid_0's mape: 0.124782\n",
      "[987]\tvalid_0's mape: 0.124782\n",
      "[988]\tvalid_0's mape: 0.124779\n",
      "[989]\tvalid_0's mape: 0.124783\n",
      "[990]\tvalid_0's mape: 0.124783\n",
      "[991]\tvalid_0's mape: 0.124791\n",
      "[992]\tvalid_0's mape: 0.124791\n",
      "[993]\tvalid_0's mape: 0.124797\n",
      "[994]\tvalid_0's mape: 0.124806\n",
      "[995]\tvalid_0's mape: 0.124802\n",
      "[996]\tvalid_0's mape: 0.124804\n",
      "[997]\tvalid_0's mape: 0.124804\n",
      "[998]\tvalid_0's mape: 0.124807\n",
      "[999]\tvalid_0's mape: 0.124806\n",
      "[1000]\tvalid_0's mape: 0.124801\n",
      "[1001]\tvalid_0's mape: 0.124811\n",
      "[1002]\tvalid_0's mape: 0.124811\n",
      "[1003]\tvalid_0's mape: 0.124809\n",
      "[1004]\tvalid_0's mape: 0.12481\n",
      "[1005]\tvalid_0's mape: 0.124809\n",
      "[1006]\tvalid_0's mape: 0.124809\n",
      "[1007]\tvalid_0's mape: 0.12481\n",
      "[1008]\tvalid_0's mape: 0.124804\n",
      "[1009]\tvalid_0's mape: 0.124803\n",
      "[1010]\tvalid_0's mape: 0.1248\n",
      "[1011]\tvalid_0's mape: 0.124802\n",
      "[1012]\tvalid_0's mape: 0.124803\n",
      "[1013]\tvalid_0's mape: 0.124802\n",
      "[1014]\tvalid_0's mape: 0.124799\n",
      "[1015]\tvalid_0's mape: 0.124802\n",
      "[1016]\tvalid_0's mape: 0.124802\n",
      "Early stopping, best iteration is:\n",
      "[16]\tvalid_0's mape: 0.106828\n"
     ]
    },
    {
     "data": {
      "text/plain": [
       "LGBMRegressor(max_bin=512, max_depth=15, metric=['mape'], n_estimators=20,\n",
       "              num_iterations=10000, num_leaves=256)"
      ]
     },
     "execution_count": 3771,
     "metadata": {},
     "output_type": "execute_result"
    }
   ],
   "source": [
    "gbm.fit(X_train, y_train,\n",
    "        eval_set=[(X_test, y_test)],\n",
    "        eval_metric='mape',\n",
    "        early_stopping_rounds=1000)"
   ]
  },
  {
   "cell_type": "code",
   "execution_count": 3772,
   "metadata": {},
   "outputs": [],
   "source": [
    "def mape(y, y_pred):\n",
    "    return np.mean(np.abs((y - y_pred) / y)) * 100"
   ]
  },
  {
   "cell_type": "code",
   "execution_count": 3773,
   "metadata": {},
   "outputs": [],
   "source": [
    "y_pred = gbm.predict(X_test, num_iteration=gbm.best_iteration_)"
   ]
  },
  {
   "cell_type": "code",
   "execution_count": 3774,
   "metadata": {},
   "outputs": [
    {
     "data": {
      "text/plain": [
       "11.29330318433407"
      ]
     },
     "execution_count": 3774,
     "metadata": {},
     "output_type": "execute_result"
    }
   ],
   "source": [
    "mape(y_pred, y_test)"
   ]
  },
  {
   "cell_type": "code",
   "execution_count": 3777,
   "metadata": {},
   "outputs": [],
   "source": [
    "r = gbm.predict(X_train, num_iteration=gbm.best_iteration_)"
   ]
  },
  {
   "cell_type": "code",
   "execution_count": 3778,
   "metadata": {},
   "outputs": [
    {
     "data": {
      "text/plain": [
       "6.109584711318826"
      ]
     },
     "execution_count": 3778,
     "metadata": {},
     "output_type": "execute_result"
    }
   ],
   "source": [
    "mape(r, y_train)"
   ]
  },
  {
   "cell_type": "code",
   "execution_count": 3775,
   "metadata": {},
   "outputs": [
    {
     "data": {
      "image/png": "[encoded data removed]",
      "text/plain": [
       "<Figure size 720x360 with 2 Axes>"
      ]
     },
     "metadata": {
      "needs_background": "light"
     },
     "output_type": "display_data"
    }
   ],
   "source": [
    "import seaborn as sns\n",
    "# Hacemos las predicciones y evaluamos los resultados graficamente, tanto en el set de Train como de Test\n",
    "y_test_pred = y_pred\n",
    "y_train_pred = y_test\n",
    "\n",
    "test = y_test\n",
    "train = y_train\n",
    "\n",
    "res_df_test = pd.DataFrame({'pred': y_test_pred, 'test': test})\n",
    "res_df_test['dif'] = np.round(res_df_test['pred']-res_df_test['test'],2)\n",
    "res_df_test['dif_abs'] = np.round(np.abs(res_df_test['pred']-res_df_test['test']),2)\n",
    "res_df_test['dif%'] = np.round(100*(res_df_test['pred']-res_df_test['test'])/res_df_test['test'],2)\n",
    "\n",
    "res_df_train = pd.DataFrame({'pred': y_train_pred, 'test': train})\n",
    "res_df_train['dif'] = np.round(res_df_train['pred']-res_df_train['test'],2)\n",
    "res_df_train['dif_abs'] = np.round(np.abs(res_df_train['pred']-res_df_train['test']),2)\n",
    "res_df_train['dif%'] = np.round(100*(res_df_train['pred']-res_df_train['test'])/res_df_train['test'],2)\n",
    "\n",
    "fig, axes = plt.subplots(nrows=1, ncols=2, figsize=(10, 5))\n",
    "plot = sns.kdeplot(res_df_train['pred'], ax=axes[0])\n",
    "plot = sns.kdeplot(res_df_train['test'], ax=axes[0], color='orange')\n",
    "plot = sns.kdeplot(res_df_test['pred'], ax=axes[1])\n",
    "plot = sns.kdeplot(res_df_test['test'], ax=axes[1], color='orange')\n",
    "fig.tight_layout()"
   ]
  },
  {
   "cell_type": "code",
   "execution_count": null,
   "metadata": {},
   "outputs": [],
   "source": []
  }
 ],
 "metadata": {
  "kernelspec": {
   "display_name": "Python 3",
   "language": "python",
   "name": "python3"
  },
  "language_info": {
   "codemirror_mode": {
    "name": "ipython",
    "version": 3
   },
   "file_extension": ".py",
   "mimetype": "text/x-python",
   "name": "python",
   "nbconvert_exporter": "python",
   "pygments_lexer": "ipython3",
   "version": "3.8.5"
  }
 },
 "nbformat": 4,
 "nbformat_minor": 4
}
