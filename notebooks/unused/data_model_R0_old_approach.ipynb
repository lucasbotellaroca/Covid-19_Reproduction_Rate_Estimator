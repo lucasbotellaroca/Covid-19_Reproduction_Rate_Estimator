{
 "cells": [
  {
   "cell_type": "markdown",
   "metadata": {},
   "source": [
    "# Modelling using value of R0"
   ]
  },
  {
   "cell_type": "markdown",
   "metadata": {},
   "source": [
    "Modelling with R0 as target variable. R0 represents the average number of people infected by one infectious individual. "
   ]
  },
  {
   "cell_type": "markdown",
   "metadata": {},
   "source": [
    "## Import libraries"
   ]
  },
  {
   "cell_type": "code",
   "execution_count": 1420,
   "metadata": {},
   "outputs": [],
   "source": [
    "import pandas as pd, numpy as np, time\n",
    "import datetime\n",
    "import warnings\n",
    "warnings.filterwarnings('ignore')\n",
    "from sklearn.model_selection import train_test_split, cross_val_score, GridSearchCV\n",
    "from sklearn.metrics import mean_squared_error\n",
    "from sklearn.metrics import mean_absolute_error\n",
    "from sklearn.metrics import r2_score\n",
    "from sklearn.metrics import make_scorer\n",
    "from sklearn.model_selection import KFold\n",
    "from sklearn.preprocessing import StandardScaler\n",
    "import seaborn as sns\n",
    "import matplotlib.pyplot as plt\n",
    "from matplotlib import pyplot\n",
    "import lightgbm as lgb\n",
    "from xgboost import XGBRegressor\n",
    "import xgboost\n",
    "from xgboost import plot_importance\n",
    "from xgboost import plot_tree\n",
    "from catboost import CatBoostRegressor\n",
    "from sklearn.decomposition import PCA\n",
    "import shap\n",
    "%matplotlib inline"
   ]
  },
  {
   "cell_type": "markdown",
   "metadata": {},
   "source": [
    "#### Auxiliary Functions"
   ]
  },
  {
   "cell_type": "markdown",
   "metadata": {},
   "source": [
    "##### highlight_min()\n",
    "Highlights minimum values for every dataframe column"
   ]
  },
  {
   "cell_type": "code",
   "execution_count": 1421,
   "metadata": {},
   "outputs": [],
   "source": [
    "def highlight_min(data, color='yellow'):\n",
    "    '''\n",
    "    highlight the maximum in a Series or DataFrame\n",
    "    '''\n",
    "    attr = 'background-color: {}'.format(color)\n",
    "    if data.ndim == 1:  # Series from .apply(axis=0) or axis=1\n",
    "        is_min = data == data.min()\n",
    "        return [attr if v else '' for v in is_min]\n",
    "    else:  # from .apply(axis=None)\n",
    "        is_min = data == data.min().min()\n",
    "        return pd.DataFrame(np.where(is_min, attr, ''),\n",
    "                            index=data.index, columns=data.columns)"
   ]
  },
  {
   "cell_type": "code",
   "execution_count": null,
   "metadata": {},
   "outputs": [],
   "source": [
    "def plot_aux_dist():\n",
    "    \n",
    "    y_test_pred = y_pred\n",
    "    y_train_pred = y_pred_train\n",
    "\n",
    "    test = y_test\n",
    "    train = y_train\n",
    "\n",
    "    res_df_test = pd.DataFrame({'pred': y_test_pred, 'test': test})\n",
    "    res_df_test['dif'] = np.round(res_df_test['pred']-res_df_test['test'],2)\n",
    "    res_df_test['dif_abs'] = np.round(np.abs(res_df_test['pred']-res_df_test['test']),2)\n",
    "    res_df_test['dif%'] = np.round(100*(res_df_test['pred']-res_df_test['test'])/res_df_test['test'],2)\n",
    "\n",
    "    res_df_train = pd.DataFrame({'pred': y_train_pred, 'test': train})\n",
    "    res_df_train['dif'] = np.round(res_df_train['pred']-res_df_train['test'],2)\n",
    "    res_df_train['dif_abs'] = np.round(np.abs(res_df_train['pred']-res_df_train['test']),2)\n",
    "    res_df_train['dif%'] = np.round(100*(res_df_train['pred']-res_df_train['test'])/res_df_train['test'],2)\n",
    "\n",
    "    fig, axes = plt.subplots(nrows=1, ncols=2, figsize=(12, 5))\n",
    "    plot = sns.kdeplot(res_df_train['pred'], ax=axes[0], color='orange')\n",
    "    plot = sns.kdeplot(res_df_train['test'], ax=axes[0])\n",
    "    plot = sns.kdeplot(res_df_test['pred'], ax=axes[1], color='orange')\n",
    "    plot = sns.kdeplot(res_df_test['test'], ax=axes[1])\n",
    "    fig.tight_layout()"
   ]
  },
  {
   "cell_type": "markdown",
   "metadata": {},
   "source": [
    "## Read file and prepare data "
   ]
  },
  {
   "cell_type": "code",
   "execution_count": 1422,
   "metadata": {},
   "outputs": [],
   "source": [
    "df=pd.read_csv('/Users/lucas_botella/Downloads/df_covid_processed_FINAL.csv')\n",
    "del df['Unnamed: 0']\n",
    "del df['Excess mortality P-scores, all ages']\n",
    "del df['Excess mortality P-scores, all ages Prev 7 days']\n",
    "del df['Excess mortality P-scores, all ages Prev 35 days']\n",
    "del df['deaths']\n",
    "del df['deaths_prev_28']\n",
    "del df['deaths_prev_35']\n",
    "del df['month']\n",
    "del df['population']\n",
    "del df['life_expectancy']\n",
    "del df['UN Population Division (Median Age) (2017)']"
   ]
  },
  {
   "cell_type": "code",
   "execution_count": 1423,
   "metadata": {},
   "outputs": [
    {
     "data": {
      "text/html": [
       "<div>\n",
       "<style scoped>\n",
       "    .dataframe tbody tr th:only-of-type {\n",
       "        vertical-align: middle;\n",
       "    }\n",
       "\n",
       "    .dataframe tbody tr th {\n",
       "        vertical-align: top;\n",
       "    }\n",
       "\n",
       "    .dataframe thead th {\n",
       "        text-align: right;\n",
       "    }\n",
       "</style>\n",
       "<table border=\"1\" class=\"dataframe\">\n",
       "  <thead>\n",
       "    <tr style=\"text-align: right;\">\n",
       "      <th></th>\n",
       "      <th>Code</th>\n",
       "      <th>Date</th>\n",
       "      <th>contact_tracing</th>\n",
       "      <th>retail_and_recreation</th>\n",
       "      <th>grocery_and_pharmacy</th>\n",
       "      <th>residential</th>\n",
       "      <th>transit_stations</th>\n",
       "      <th>parks</th>\n",
       "      <th>workplaces</th>\n",
       "      <th>debt_relief</th>\n",
       "      <th>...</th>\n",
       "      <th>urban_population</th>\n",
       "      <th>total_vaccinations_per_100</th>\n",
       "      <th>%youth_unemployment_total</th>\n",
       "      <th>%df_population_gr_65</th>\n",
       "      <th>Excess mortality P-scores, all ages Prev 28 days</th>\n",
       "      <th>average_deaths_2015_2019_all_ages</th>\n",
       "      <th>deaths_prev_7</th>\n",
       "      <th>accumulated</th>\n",
       "      <th>R0_prev28</th>\n",
       "      <th>R0</th>\n",
       "    </tr>\n",
       "  </thead>\n",
       "  <tbody>\n",
       "    <tr>\n",
       "      <th>0</th>\n",
       "      <td>AUS</td>\n",
       "      <td>2020-03-08</td>\n",
       "      <td>2.0</td>\n",
       "      <td>1.050000</td>\n",
       "      <td>1.722333</td>\n",
       "      <td>-0.739000</td>\n",
       "      <td>4.977667</td>\n",
       "      <td>-2.089000</td>\n",
       "      <td>7.927667</td>\n",
       "      <td>0.0</td>\n",
       "      <td>...</td>\n",
       "      <td>85.904</td>\n",
       "      <td>NaN</td>\n",
       "      <td>11.84</td>\n",
       "      <td>15.921202</td>\n",
       "      <td>4.42</td>\n",
       "      <td>3126.25</td>\n",
       "      <td>153.811500</td>\n",
       "      <td>0.000545</td>\n",
       "      <td>1.331325</td>\n",
       "      <td>0.949187</td>\n",
       "    </tr>\n",
       "    <tr>\n",
       "      <th>1</th>\n",
       "      <td>AUS</td>\n",
       "      <td>2020-03-15</td>\n",
       "      <td>2.0</td>\n",
       "      <td>0.761714</td>\n",
       "      <td>1.510143</td>\n",
       "      <td>-1.286000</td>\n",
       "      <td>7.697286</td>\n",
       "      <td>-0.819857</td>\n",
       "      <td>10.567714</td>\n",
       "      <td>0.0</td>\n",
       "      <td>...</td>\n",
       "      <td>85.904</td>\n",
       "      <td>NaN</td>\n",
       "      <td>11.84</td>\n",
       "      <td>15.921202</td>\n",
       "      <td>6.18</td>\n",
       "      <td>3126.25</td>\n",
       "      <td>145.995875</td>\n",
       "      <td>0.001306</td>\n",
       "      <td>1.398190</td>\n",
       "      <td>0.989293</td>\n",
       "    </tr>\n",
       "    <tr>\n",
       "      <th>2</th>\n",
       "      <td>AUS</td>\n",
       "      <td>2020-03-22</td>\n",
       "      <td>2.0</td>\n",
       "      <td>1.285714</td>\n",
       "      <td>3.367429</td>\n",
       "      <td>-1.081714</td>\n",
       "      <td>9.346857</td>\n",
       "      <td>0.938857</td>\n",
       "      <td>10.877857</td>\n",
       "      <td>0.0</td>\n",
       "      <td>...</td>\n",
       "      <td>85.904</td>\n",
       "      <td>NaN</td>\n",
       "      <td>11.84</td>\n",
       "      <td>15.921202</td>\n",
       "      <td>4.53</td>\n",
       "      <td>3126.25</td>\n",
       "      <td>144.432750</td>\n",
       "      <td>0.001865</td>\n",
       "      <td>0.733010</td>\n",
       "      <td>1.575758</td>\n",
       "    </tr>\n",
       "    <tr>\n",
       "      <th>3</th>\n",
       "      <td>AUS</td>\n",
       "      <td>2020-03-29</td>\n",
       "      <td>2.0</td>\n",
       "      <td>0.714429</td>\n",
       "      <td>8.979571</td>\n",
       "      <td>-0.387571</td>\n",
       "      <td>5.448857</td>\n",
       "      <td>-2.857143</td>\n",
       "      <td>8.326571</td>\n",
       "      <td>0.0</td>\n",
       "      <td>...</td>\n",
       "      <td>85.904</td>\n",
       "      <td>NaN</td>\n",
       "      <td>11.84</td>\n",
       "      <td>15.921202</td>\n",
       "      <td>4.92</td>\n",
       "      <td>3126.25</td>\n",
       "      <td>227.591000</td>\n",
       "      <td>0.002471</td>\n",
       "      <td>1.086093</td>\n",
       "      <td>1.666209</td>\n",
       "    </tr>\n",
       "    <tr>\n",
       "      <th>4</th>\n",
       "      <td>AUS</td>\n",
       "      <td>2020-04-05</td>\n",
       "      <td>2.0</td>\n",
       "      <td>-0.898000</td>\n",
       "      <td>15.163286</td>\n",
       "      <td>0.448857</td>\n",
       "      <td>-1.061286</td>\n",
       "      <td>-4.959143</td>\n",
       "      <td>6.959000</td>\n",
       "      <td>0.0</td>\n",
       "      <td>...</td>\n",
       "      <td>85.904</td>\n",
       "      <td>NaN</td>\n",
       "      <td>11.84</td>\n",
       "      <td>15.921202</td>\n",
       "      <td>4.67</td>\n",
       "      <td>2564.75</td>\n",
       "      <td>311.104175</td>\n",
       "      <td>0.002943</td>\n",
       "      <td>0.949187</td>\n",
       "      <td>0.932399</td>\n",
       "    </tr>\n",
       "  </tbody>\n",
       "</table>\n",
       "<p>5 rows × 39 columns</p>\n",
       "</div>"
      ],
      "text/plain": [
       "  Code        Date  contact_tracing  retail_and_recreation  \\\n",
       "0  AUS  2020-03-08              2.0               1.050000   \n",
       "1  AUS  2020-03-15              2.0               0.761714   \n",
       "2  AUS  2020-03-22              2.0               1.285714   \n",
       "3  AUS  2020-03-29              2.0               0.714429   \n",
       "4  AUS  2020-04-05              2.0              -0.898000   \n",
       "\n",
       "   grocery_and_pharmacy  residential  transit_stations     parks  workplaces  \\\n",
       "0              1.722333    -0.739000          4.977667 -2.089000    7.927667   \n",
       "1              1.510143    -1.286000          7.697286 -0.819857   10.567714   \n",
       "2              3.367429    -1.081714          9.346857  0.938857   10.877857   \n",
       "3              8.979571    -0.387571          5.448857 -2.857143    8.326571   \n",
       "4             15.163286     0.448857         -1.061286 -4.959143    6.959000   \n",
       "\n",
       "   debt_relief  ...  urban_population  total_vaccinations_per_100  \\\n",
       "0          0.0  ...            85.904                         NaN   \n",
       "1          0.0  ...            85.904                         NaN   \n",
       "2          0.0  ...            85.904                         NaN   \n",
       "3          0.0  ...            85.904                         NaN   \n",
       "4          0.0  ...            85.904                         NaN   \n",
       "\n",
       "   %youth_unemployment_total  %df_population_gr_65  \\\n",
       "0                      11.84             15.921202   \n",
       "1                      11.84             15.921202   \n",
       "2                      11.84             15.921202   \n",
       "3                      11.84             15.921202   \n",
       "4                      11.84             15.921202   \n",
       "\n",
       "   Excess mortality P-scores, all ages Prev 28 days  \\\n",
       "0                                              4.42   \n",
       "1                                              6.18   \n",
       "2                                              4.53   \n",
       "3                                              4.92   \n",
       "4                                              4.67   \n",
       "\n",
       "   average_deaths_2015_2019_all_ages  deaths_prev_7  accumulated  R0_prev28  \\\n",
       "0                            3126.25     153.811500     0.000545   1.331325   \n",
       "1                            3126.25     145.995875     0.001306   1.398190   \n",
       "2                            3126.25     144.432750     0.001865   0.733010   \n",
       "3                            3126.25     227.591000     0.002471   1.086093   \n",
       "4                            2564.75     311.104175     0.002943   0.949187   \n",
       "\n",
       "         R0  \n",
       "0  0.949187  \n",
       "1  0.989293  \n",
       "2  1.575758  \n",
       "3  1.666209  \n",
       "4  0.932399  \n",
       "\n",
       "[5 rows x 39 columns]"
      ]
     },
     "execution_count": 1423,
     "metadata": {},
     "output_type": "execute_result"
    }
   ],
   "source": [
    "df.head()"
   ]
  },
  {
   "cell_type": "markdown",
   "metadata": {},
   "source": [
    "### Data fitering on R0 extreme and abnormal values\n",
    "* R0 is calculated as the division of deaths/deaths_prev_7\n",
    "* Secondly we remove R0 values smaller than 0 and higher than 8.9 from our dataset. \n",
    "It is recorded that R0 in coronavirus ranges from 3.8 to 7 therefore it doesn´t make sense to include values higher than 7 because if any value higher than 7 is recorded it might be due to errors in the data.\n",
    "https://www.ncbi.nlm.nih.gov/pmc/articles/PMC7657547/"
   ]
  },
  {
   "cell_type": "code",
   "execution_count": 1424,
   "metadata": {},
   "outputs": [],
   "source": [
    "df=df[~df.isin([np.inf, -np.inf]).any(1)]\n",
    "df['limit']=5*df['average_deaths_2015_2019_all_ages']/100\n",
    "df=df[(df['deaths_prev_7']>=df['limit']) & (np.abs(df['R0'])<=7) & (df['R0']>0)]\n",
    "del df['average_deaths_2015_2019_all_ages']\n",
    "del df['deaths_prev_7']\n",
    "del df['limit']\n",
    "df.sort_values('R0')\n",
    "df_pca=df.copy()"
   ]
  },
  {
   "cell_type": "code",
   "execution_count": 1425,
   "metadata": {},
   "outputs": [
    {
     "data": {
      "text/plain": [
       "Text(0.5, 1.0, 'R0')"
      ]
     },
     "execution_count": 1425,
     "metadata": {},
     "output_type": "execute_result"
    },
    {
     "data": {
      "image/png": "[encoded data removed]",
      "text/plain": [
       "<Figure size 864x360 with 1 Axes>"
      ]
     },
     "metadata": {
      "needs_background": "light"
     },
     "output_type": "display_data"
    }
   ],
   "source": [
    "#Removing -inf and infinite\n",
    "df=df[~df.isin([np.inf, -np.inf]).any(1)]\n",
    "f, axes = plt.subplots(figsize=(12,5))\n",
    "sns.histplot(x='R0', data=df, kde=False, bins=100, ax=axes, color='turquoise');\n",
    "axes.set_title('R0')"
   ]
  },
  {
   "cell_type": "markdown",
   "metadata": {},
   "source": [
    "## Feature Engineering"
   ]
  },
  {
   "cell_type": "markdown",
   "metadata": {},
   "source": [
    "### Approach 1: Raw data no grouping of variables or PCA Analysis\n",
    "Train models with raw data, no previous transformation or grouping done"
   ]
  },
  {
   "cell_type": "code",
   "execution_count": 1426,
   "metadata": {},
   "outputs": [],
   "source": [
    "df_appch1=df[['Code', 'Date','contact_tracing', 'retail_and_recreation',\n",
    "       'grocery_and_pharmacy', 'residential', 'transit_stations', 'parks',\n",
    "       'workplaces', 'debt_relief', 'income_support', 'testing_policy',\n",
    "       'international_travel_controls', 'restrictions_internal_movements',\n",
    "       'close_public_transport', 'public_information_campaigns',\n",
    "       'facial_coverings', 'stay_home_requirements', 'restriction_gatherings',\n",
    "       'cancel_public_events', 'workplace_closures', 'school_closures',\n",
    "       'Holiday', 'temp', 'prcp', 'doctors_per_1000', 'nurses_per_1000',\n",
    "       'beds_per_1000', 'number_of_arrivals', 'urban_population',\n",
    "       'total_vaccinations_per_100', '%youth_unemployment_total',\n",
    "       '%df_population_gr_65', 'accumulated', 'R0_prev28', 'R0']]"
   ]
  },
  {
   "cell_type": "markdown",
   "metadata": {},
   "source": [
    "### Approach 2: Grouping variables, decreasing dimensionality and correlation\n",
    "Since variables seem to have high multicollinearity will group variables with similar corellation"
   ]
  },
  {
   "cell_type": "code",
   "execution_count": 1427,
   "metadata": {},
   "outputs": [],
   "source": [
    "#We define bad mobility as the weighted average of mobility trends that have a positive impact on covid spread\n",
    "df_appch2=df.copy()\n",
    "df_appch2['bad_mobility']=(df_appch2['retail_and_recreation']*0.4+df_appch2['transit_stations']*0.2\n",
    "                           +df_appch2['grocery_and_pharmacy']*0.2+df_appch2['workplaces']*0.2)\n",
    "del df_appch2['retail_and_recreation']\n",
    "del df_appch2['grocery_and_pharmacy']\n",
    "del df_appch2['transit_stations']\n",
    "del df_appch2['workplaces']\n",
    "\n",
    "#We define good mobility as the weighted average of mobility trends that have a negative impact on covid spread\n",
    "df_appch2['good_mobility']=(df_appch2['residential']*0.6+df_appch2['parks']*0.4)\n",
    "del df_appch2['residential']\n",
    "del df_appch2['parks']\n",
    "\n",
    "\n",
    "df_appch2['tourism']=df_appch2['number_of_arrivals']*(4-df_appch2['international_travel_controls'])\n",
    "df_appch2['awareness'] = df_appch2['public_information_campaigns']*0.2+df_appch2['facial_coverings']*0.8\n",
    "df_appch2['work_life_closures']=df_appch2['workplace_closures']*0.7+df_appch2['school_closures']*0.3\n",
    "df_appch2['government_support']=df_appch2['debt_relief']*0.5+df_appch2['income_support']*0.5\n",
    "df_appch2['%df_population_gr_65']=df_appch2['%df_population_gr_65']-(df_appch2['accumulated']*df_appch2['%df_population_gr_65']/100)\n",
    "df_appch2['nurses_per_1000']=df_appch2.apply(lambda x: x['nurses_per_1000'] if x['Excess mortality P-scores, all ages Prev 28 days'] <= 0 else \n",
    "         x['nurses_per_1000'] - (x['nurses_per_1000']*x['Excess mortality P-scores, all ages Prev 28 days']), axis=1)\n",
    "df_appch2['doctors_per_1000']=df_appch2.apply(lambda x: x['doctors_per_1000'] if x['Excess mortality P-scores, all ages Prev 28 days'] <= 0 else \n",
    "         x['doctors_per_1000'] - (x['doctors_per_1000']*x['Excess mortality P-scores, all ages Prev 28 days']), axis=1)\n",
    "df_appch2['beds_per_1000']=df_appch2.apply(lambda x: x['beds_per_1000'] if x['Excess mortality P-scores, all ages Prev 28 days'] <= 0 else \n",
    "         x['beds_per_1000'] - (x['beds_per_1000']*x['Excess mortality P-scores, all ages Prev 28 days']), axis=1)\n",
    "df_appch2['hospital_availability']=df_appch2['nurses_per_1000']*0.2+df_appch2['doctors_per_1000']*0.2+df_appch2['beds_per_1000']*0.6\n",
    "df_appch2['youth_effect']=df_appch2['%youth_unemployment_total']*df_appch2['bad_mobility']\n",
    "\n",
    "del df_appch2['contact_tracing']\n",
    "del df_appch2['testing_policy']\n",
    "del df_appch2['international_travel_controls']\n",
    "del df_appch2['number_of_arrivals']\n",
    "del df_appch2['public_information_campaigns']\n",
    "del df_appch2['facial_coverings']\n",
    "del df_appch2['workplace_closures']\n",
    "del df_appch2['school_closures']\n",
    "del df_appch2['debt_relief']\n",
    "del df_appch2['income_support']\n",
    "del df_appch2['doctors_per_1000']\n",
    "del df_appch2['beds_per_1000']\n",
    "del df_appch2['nurses_per_1000']\n",
    "del df_appch2['%youth_unemployment_total']\n",
    "del df_appch2['urban_population']\n",
    "del df_appch2['%df_population_gr_65']\n",
    "\n",
    "df_appch2=df_appch2[[c for c in df_appch2 if c not in ['R0']] \n",
    "       + ['R0']]"
   ]
  },
  {
   "cell_type": "code",
   "execution_count": 1428,
   "metadata": {},
   "outputs": [
    {
     "data": {
      "text/html": [
       "<div>\n",
       "<style scoped>\n",
       "    .dataframe tbody tr th:only-of-type {\n",
       "        vertical-align: middle;\n",
       "    }\n",
       "\n",
       "    .dataframe tbody tr th {\n",
       "        vertical-align: top;\n",
       "    }\n",
       "\n",
       "    .dataframe thead th {\n",
       "        text-align: right;\n",
       "    }\n",
       "</style>\n",
       "<table border=\"1\" class=\"dataframe\">\n",
       "  <thead>\n",
       "    <tr style=\"text-align: right;\">\n",
       "      <th></th>\n",
       "      <th>Code</th>\n",
       "      <th>Date</th>\n",
       "      <th>restrictions_internal_movements</th>\n",
       "      <th>close_public_transport</th>\n",
       "      <th>stay_home_requirements</th>\n",
       "      <th>restriction_gatherings</th>\n",
       "      <th>cancel_public_events</th>\n",
       "      <th>Holiday</th>\n",
       "      <th>temp</th>\n",
       "      <th>prcp</th>\n",
       "      <th>...</th>\n",
       "      <th>R0_prev28</th>\n",
       "      <th>bad_mobility</th>\n",
       "      <th>good_mobility</th>\n",
       "      <th>tourism</th>\n",
       "      <th>awareness</th>\n",
       "      <th>work_life_closures</th>\n",
       "      <th>government_support</th>\n",
       "      <th>hospital_availability</th>\n",
       "      <th>youth_effect</th>\n",
       "      <th>R0</th>\n",
       "    </tr>\n",
       "  </thead>\n",
       "  <tbody>\n",
       "    <tr>\n",
       "      <th>3</th>\n",
       "      <td>AUS</td>\n",
       "      <td>2020-03-29</td>\n",
       "      <td>0.0</td>\n",
       "      <td>0.0</td>\n",
       "      <td>0.000000</td>\n",
       "      <td>0.000000</td>\n",
       "      <td>0.000000</td>\n",
       "      <td>0.0</td>\n",
       "      <td>21.346512</td>\n",
       "      <td>0.142010</td>\n",
       "      <td>...</td>\n",
       "      <td>1.086093</td>\n",
       "      <td>4.836771</td>\n",
       "      <td>-1.375400</td>\n",
       "      <td>8.263000e+06</td>\n",
       "      <td>0.4</td>\n",
       "      <td>0.000000</td>\n",
       "      <td>0.000000</td>\n",
       "      <td>-21.31696</td>\n",
       "      <td>57.267374</td>\n",
       "      <td>1.666209</td>\n",
       "    </tr>\n",
       "    <tr>\n",
       "      <th>4</th>\n",
       "      <td>AUS</td>\n",
       "      <td>2020-04-05</td>\n",
       "      <td>0.0</td>\n",
       "      <td>0.0</td>\n",
       "      <td>0.000000</td>\n",
       "      <td>0.857143</td>\n",
       "      <td>0.571429</td>\n",
       "      <td>0.0</td>\n",
       "      <td>21.176835</td>\n",
       "      <td>0.054789</td>\n",
       "      <td>...</td>\n",
       "      <td>0.949187</td>\n",
       "      <td>3.853000</td>\n",
       "      <td>-1.714343</td>\n",
       "      <td>8.263000e+06</td>\n",
       "      <td>0.4</td>\n",
       "      <td>0.000000</td>\n",
       "      <td>0.500000</td>\n",
       "      <td>-19.95746</td>\n",
       "      <td>45.619521</td>\n",
       "      <td>0.932399</td>\n",
       "    </tr>\n",
       "    <tr>\n",
       "      <th>5</th>\n",
       "      <td>AUS</td>\n",
       "      <td>2020-04-12</td>\n",
       "      <td>2.0</td>\n",
       "      <td>0.0</td>\n",
       "      <td>0.285714</td>\n",
       "      <td>2.285714</td>\n",
       "      <td>2.000000</td>\n",
       "      <td>0.0</td>\n",
       "      <td>20.702945</td>\n",
       "      <td>0.051898</td>\n",
       "      <td>...</td>\n",
       "      <td>0.989293</td>\n",
       "      <td>-4.383686</td>\n",
       "      <td>-2.873400</td>\n",
       "      <td>1.180429e+06</td>\n",
       "      <td>0.4</td>\n",
       "      <td>0.857143</td>\n",
       "      <td>0.642857</td>\n",
       "      <td>-19.68556</td>\n",
       "      <td>-51.902840</td>\n",
       "      <td>0.562334</td>\n",
       "    </tr>\n",
       "    <tr>\n",
       "      <th>6</th>\n",
       "      <td>AUS</td>\n",
       "      <td>2020-04-19</td>\n",
       "      <td>2.0</td>\n",
       "      <td>0.0</td>\n",
       "      <td>1.000000</td>\n",
       "      <td>3.571429</td>\n",
       "      <td>2.000000</td>\n",
       "      <td>0.0</td>\n",
       "      <td>21.093375</td>\n",
       "      <td>0.073336</td>\n",
       "      <td>...</td>\n",
       "      <td>1.575758</td>\n",
       "      <td>-27.187829</td>\n",
       "      <td>-3.216429</td>\n",
       "      <td>0.000000e+00</td>\n",
       "      <td>0.4</td>\n",
       "      <td>2.300000</td>\n",
       "      <td>1.500000</td>\n",
       "      <td>-34.15064</td>\n",
       "      <td>-321.903894</td>\n",
       "      <td>0.463836</td>\n",
       "    </tr>\n",
       "    <tr>\n",
       "      <th>8</th>\n",
       "      <td>AUS</td>\n",
       "      <td>2020-05-03</td>\n",
       "      <td>2.0</td>\n",
       "      <td>0.0</td>\n",
       "      <td>2.000000</td>\n",
       "      <td>4.000000</td>\n",
       "      <td>2.000000</td>\n",
       "      <td>2.0</td>\n",
       "      <td>19.355421</td>\n",
       "      <td>0.060733</td>\n",
       "      <td>...</td>\n",
       "      <td>0.932399</td>\n",
       "      <td>-42.469343</td>\n",
       "      <td>-3.355114</td>\n",
       "      <td>0.000000e+00</td>\n",
       "      <td>0.4</td>\n",
       "      <td>2.300000</td>\n",
       "      <td>1.500000</td>\n",
       "      <td>-56.06578</td>\n",
       "      <td>-502.837026</td>\n",
       "      <td>0.553043</td>\n",
       "    </tr>\n",
       "  </tbody>\n",
       "</table>\n",
       "<p>5 rows × 23 columns</p>\n",
       "</div>"
      ],
      "text/plain": [
       "  Code        Date  restrictions_internal_movements  close_public_transport  \\\n",
       "3  AUS  2020-03-29                              0.0                     0.0   \n",
       "4  AUS  2020-04-05                              0.0                     0.0   \n",
       "5  AUS  2020-04-12                              2.0                     0.0   \n",
       "6  AUS  2020-04-19                              2.0                     0.0   \n",
       "8  AUS  2020-05-03                              2.0                     0.0   \n",
       "\n",
       "   stay_home_requirements  restriction_gatherings  cancel_public_events  \\\n",
       "3                0.000000                0.000000              0.000000   \n",
       "4                0.000000                0.857143              0.571429   \n",
       "5                0.285714                2.285714              2.000000   \n",
       "6                1.000000                3.571429              2.000000   \n",
       "8                2.000000                4.000000              2.000000   \n",
       "\n",
       "   Holiday       temp      prcp  ...  R0_prev28  bad_mobility  good_mobility  \\\n",
       "3      0.0  21.346512  0.142010  ...   1.086093      4.836771      -1.375400   \n",
       "4      0.0  21.176835  0.054789  ...   0.949187      3.853000      -1.714343   \n",
       "5      0.0  20.702945  0.051898  ...   0.989293     -4.383686      -2.873400   \n",
       "6      0.0  21.093375  0.073336  ...   1.575758    -27.187829      -3.216429   \n",
       "8      2.0  19.355421  0.060733  ...   0.932399    -42.469343      -3.355114   \n",
       "\n",
       "        tourism  awareness  work_life_closures  government_support  \\\n",
       "3  8.263000e+06        0.4            0.000000            0.000000   \n",
       "4  8.263000e+06        0.4            0.000000            0.500000   \n",
       "5  1.180429e+06        0.4            0.857143            0.642857   \n",
       "6  0.000000e+00        0.4            2.300000            1.500000   \n",
       "8  0.000000e+00        0.4            2.300000            1.500000   \n",
       "\n",
       "   hospital_availability  youth_effect        R0  \n",
       "3              -21.31696     57.267374  1.666209  \n",
       "4              -19.95746     45.619521  0.932399  \n",
       "5              -19.68556    -51.902840  0.562334  \n",
       "6              -34.15064   -321.903894  0.463836  \n",
       "8              -56.06578   -502.837026  0.553043  \n",
       "\n",
       "[5 rows x 23 columns]"
      ]
     },
     "execution_count": 1428,
     "metadata": {},
     "output_type": "execute_result"
    }
   ],
   "source": [
    "df_appch2.head()"
   ]
  },
  {
   "cell_type": "markdown",
   "metadata": {},
   "source": [
    "### Approach 3: PCA\n",
    "Since variables have a high correlation we will group variables taking use of Principal Component Analysis"
   ]
  },
  {
   "cell_type": "code",
   "execution_count": 1429,
   "metadata": {},
   "outputs": [],
   "source": [
    "df_appch3=df.copy()\n",
    "del df_appch3['doctors_per_1000']\n",
    "del df_appch3['nurses_per_1000']\n",
    "del df_appch3['beds_per_1000']\n",
    "del df_appch3['number_of_arrivals']\n",
    "\n",
    "df_appch3['total_vaccinations_per_100'] = df_appch3['total_vaccinations_per_100'].fillna(0)\n",
    "df_appch3['accumulated'] = df_appch3['accumulated'].fillna(0)\n",
    "df_appch3['urban_population'] = df_appch3['urban_population'].fillna(df_appch3['urban_population'].mean())\n",
    "df_appch3['parks'] = df_appch3['parks'].fillna(df_appch3['parks'].mean())\n",
    "df_appch3['temp'] = df_appch3['temp'].fillna(df_appch3['temp'].mean())\n",
    "df_appch3['prcp'] = df_appch3['prcp'].fillna(df_appch3['prcp'].mean())\n",
    "df_appch3['%youth_unemployment_total'] = df_appch3['%youth_unemployment_total'].fillna(df_appch3['%youth_unemployment_total'].mean())\n",
    "df_appch3['%df_population_gr_65'] = df_appch3['%df_population_gr_65'].fillna(df_appch3['%df_population_gr_65'].mean())\n",
    "#Just one null value\n",
    "df_appch3['R0_prev28'] = df_appch3['R0_prev28'].fillna(df_appch3['R0_prev28'].mean())"
   ]
  },
  {
   "cell_type": "code",
   "execution_count": 1430,
   "metadata": {},
   "outputs": [
    {
     "data": {
      "text/plain": [
       "Code                                                0\n",
       "Date                                                0\n",
       "contact_tracing                                     0\n",
       "retail_and_recreation                               0\n",
       "grocery_and_pharmacy                                0\n",
       "residential                                         0\n",
       "transit_stations                                    0\n",
       "parks                                               0\n",
       "workplaces                                          0\n",
       "debt_relief                                         0\n",
       "income_support                                      0\n",
       "testing_policy                                      0\n",
       "international_travel_controls                       0\n",
       "restrictions_internal_movements                     0\n",
       "close_public_transport                              0\n",
       "public_information_campaigns                        0\n",
       "facial_coverings                                    0\n",
       "stay_home_requirements                              0\n",
       "restriction_gatherings                              0\n",
       "cancel_public_events                                0\n",
       "workplace_closures                                  0\n",
       "school_closures                                     0\n",
       "Holiday                                             0\n",
       "temp                                                0\n",
       "prcp                                                0\n",
       "urban_population                                    0\n",
       "total_vaccinations_per_100                          0\n",
       "%youth_unemployment_total                           0\n",
       "%df_population_gr_65                                0\n",
       "Excess mortality P-scores, all ages Prev 28 days    0\n",
       "accumulated                                         0\n",
       "R0_prev28                                           0\n",
       "R0                                                  0\n",
       "dtype: int64"
      ]
     },
     "execution_count": 1430,
     "metadata": {},
     "output_type": "execute_result"
    }
   ],
   "source": [
    "df_appch3.isna().sum()"
   ]
  },
  {
   "cell_type": "code",
   "execution_count": 1431,
   "metadata": {},
   "outputs": [],
   "source": [
    "features=['contact_tracing',\n",
    "       'retail_and_recreation', 'grocery_and_pharmacy', 'residential',\n",
    "       'transit_stations', 'parks', 'workplaces', 'debt_relief',\n",
    "       'income_support', 'testing_policy', 'international_travel_controls',\n",
    "       'restrictions_internal_movements', 'close_public_transport',\n",
    "       'public_information_campaigns', 'facial_coverings',\n",
    "       'stay_home_requirements', 'restriction_gatherings',\n",
    "       'cancel_public_events', 'workplace_closures', 'school_closures',\n",
    "       'Holiday', 'temp', 'prcp', 'urban_population',\n",
    "       'total_vaccinations_per_100', '%youth_unemployment_total',\n",
    "       '%df_population_gr_65','accumulated', 'R0_prev28']\n",
    "\n",
    "# Separating out the features\n",
    "x = df_appch3.reindex(columns = features).values\n",
    "# Separating out the target\n",
    "y = df_appch3.reindex(columns = ['R0']).values\n",
    "# Standardizing the features\n",
    "x = StandardScaler().fit_transform(x)"
   ]
  },
  {
   "cell_type": "code",
   "execution_count": 1432,
   "metadata": {},
   "outputs": [
    {
     "data": {
      "image/png": "[encoded data removed]",
      "text/plain": [
       "<Figure size 360x360 with 1 Axes>"
      ]
     },
     "metadata": {
      "needs_background": "light"
     },
     "output_type": "display_data"
    }
   ],
   "source": [
    "pca = PCA(n_components = x.shape[1])\n",
    "pca_data = pca.fit_transform(x)\n",
    "\n",
    "percent_var_explained = pca.explained_variance_/(np.sum(pca.explained_variance_))\n",
    "cumm_var_explained = np.cumsum(percent_var_explained)\n",
    "\n",
    "plt.rcParams[\"figure.figsize\"] = (5,5)\n",
    "plt.plot(cumm_var_explained)\n",
    "plt.grid()\n",
    "plt.xlabel(\"n_components\")\n",
    "plt.ylabel(\"% variance explained\")\n",
    "plt.show()"
   ]
  },
  {
   "cell_type": "code",
   "execution_count": 1433,
   "metadata": {},
   "outputs": [],
   "source": [
    "from sklearn.decomposition import PCA\n",
    "pca = PCA(n_components = 15)\n",
    "principalComponents = pca.fit_transform(x)\n",
    "principalDf = pd.DataFrame(data = principalComponents)\n",
    "#Include Date and R0 for later filtering\n",
    "principalDf['Date']=df_appch3['Date']\n",
    "principalDf['R0']=df_appch3['R0']\n",
    "df_appch3=principalDf"
   ]
  },
  {
   "cell_type": "markdown",
   "metadata": {},
   "source": [
    "# Modelling and Evaluation"
   ]
  },
  {
   "cell_type": "markdown",
   "metadata": {},
   "source": [
    "#### Approach 1: Raw data no grouping of variables or PCA Analysis Split"
   ]
  },
  {
   "cell_type": "code",
   "execution_count": 1434,
   "metadata": {},
   "outputs": [],
   "source": [
    "date=pd.Timestamp(2021, 2, 15)\n",
    "X_1=df_appch1[(pd.to_datetime(df_appch1['Date']) <= date)]\n",
    "X_2=df_appch1[(pd.to_datetime(df_appch1['Date']) > date)]\n",
    "X_train_appch1=X_1[X_1.columns[2:-1]]\n",
    "X_test_appch1=X_2[X_2.columns[2:-1]]\n",
    "y_train_appch1=X_1['R0']\n",
    "y_test_appch1=X_2['R0']"
   ]
  },
  {
   "cell_type": "markdown",
   "metadata": {},
   "source": [
    "####  Approach 2: Grouping variables, decreasing dimensionality and correlation Split"
   ]
  },
  {
   "cell_type": "code",
   "execution_count": 1435,
   "metadata": {},
   "outputs": [],
   "source": [
    "date=pd.Timestamp(2021, 2, 15)\n",
    "X_1=df_appch2[(pd.to_datetime(df_appch2['Date']) <= date)]\n",
    "X_2=df_appch2[(pd.to_datetime(df_appch2['Date']) > date)]\n",
    "X_train_appch2=X_1[X_1.columns[2:-1]]\n",
    "X_test_appch2=X_2[X_2.columns[2:-1]]\n",
    "y_train_appch2=X_1['R0']\n",
    "y_test_appch2=X_2['R0']"
   ]
  },
  {
   "cell_type": "markdown",
   "metadata": {},
   "source": [
    "#### Approach 3: PCA  Split"
   ]
  },
  {
   "cell_type": "code",
   "execution_count": 1436,
   "metadata": {},
   "outputs": [],
   "source": [
    "date=pd.Timestamp(2021, 2, 15)\n",
    "X_1=df_appch3[(pd.to_datetime(df_appch3['Date']) <= date)]\n",
    "X_2=df_appch3[(pd.to_datetime(df_appch3['Date']) > date)]\n",
    "X_train_appch3=X_1[X_1.columns[0:-2]]\n",
    "X_test_appch3=X_2[X_2.columns[0:-2]]\n",
    "y_train_appch3=X_1['R0']\n",
    "y_test_appch3=X_2['R0']"
   ]
  },
  {
   "cell_type": "markdown",
   "metadata": {},
   "source": [
    "#### Check best parameters for our trees to avoid overfitting"
   ]
  },
  {
   "cell_type": "markdown",
   "metadata": {},
   "source": [
    "Initial approach on max depth and n_trees"
   ]
  },
  {
   "cell_type": "code",
   "execution_count": 1377,
   "metadata": {},
   "outputs": [
    {
     "name": "stdout",
     "output_type": "stream",
     "text": [
      "Fitting 5 folds for each of 16 candidates, totalling 80 fits\n"
     ]
    },
    {
     "name": "stderr",
     "output_type": "stream",
     "text": [
      "[Parallel(n_jobs=-1)]: Using backend LokyBackend with 4 concurrent workers.\n",
      "[Parallel(n_jobs=-1)]: Done  62 tasks      | elapsed:   11.1s\n"
     ]
    },
    {
     "name": "stdout",
     "output_type": "stream",
     "text": [
      "Best: -0.407922 using {'max_depth': 2, 'n_estimators': 50}\n",
      "-0.407922 (0.036225) with: {'max_depth': 2, 'n_estimators': 50}\n",
      "-0.425104 (0.032816) with: {'max_depth': 2, 'n_estimators': 100}\n",
      "-0.438198 (0.030558) with: {'max_depth': 2, 'n_estimators': 150}\n",
      "-0.451348 (0.030030) with: {'max_depth': 2, 'n_estimators': 200}\n",
      "-0.413992 (0.031961) with: {'max_depth': 4, 'n_estimators': 50}\n",
      "-0.429689 (0.028875) with: {'max_depth': 4, 'n_estimators': 100}\n",
      "-0.432644 (0.028104) with: {'max_depth': 4, 'n_estimators': 150}\n",
      "-0.434294 (0.027399) with: {'max_depth': 4, 'n_estimators': 200}\n",
      "-0.426309 (0.047146) with: {'max_depth': 6, 'n_estimators': 50}\n",
      "-0.429920 (0.046635) with: {'max_depth': 6, 'n_estimators': 100}\n",
      "-0.430753 (0.047033) with: {'max_depth': 6, 'n_estimators': 150}\n",
      "-0.430859 (0.046919) with: {'max_depth': 6, 'n_estimators': 200}\n",
      "-0.425281 (0.047922) with: {'max_depth': 8, 'n_estimators': 50}\n",
      "-0.425860 (0.048436) with: {'max_depth': 8, 'n_estimators': 100}\n",
      "-0.425878 (0.048449) with: {'max_depth': 8, 'n_estimators': 150}\n",
      "-0.425878 (0.048449) with: {'max_depth': 8, 'n_estimators': 200}\n"
     ]
    },
    {
     "name": "stderr",
     "output_type": "stream",
     "text": [
      "[Parallel(n_jobs=-1)]: Done  80 out of  80 | elapsed:   15.9s finished\n"
     ]
    },
    {
     "data": {
      "text/plain": [
       "Text(0, 0.5, 'Negative - MAE')"
      ]
     },
     "execution_count": 1377,
     "metadata": {},
     "output_type": "execute_result"
    },
    {
     "data": {
      "image/png": "[encoded data removed]",
      "text/plain": [
       "<Figure size 360x360 with 1 Axes>"
      ]
     },
     "metadata": {
      "needs_background": "light"
     },
     "output_type": "display_data"
    }
   ],
   "source": [
    "n_estimators = [50, 100, 150, 200]\n",
    "max_depth = [2, 4, 6, 8]\n",
    "\n",
    "model = XGBRegressor() \n",
    "\n",
    "param_grid = dict(max_depth=max_depth, n_estimators=n_estimators)\n",
    "\n",
    "grid_search = GridSearchCV(model, param_grid, scoring='neg_mean_absolute_error', n_jobs=-1, verbose=1)\n",
    "\n",
    "grid_result = grid_search.fit(X_train_appch1, y_train_appch1)\n",
    "\n",
    "# summarize results\n",
    "\n",
    "print(\"Best: %f using %s\" % (grid_result.best_score_, grid_result.best_params_))\n",
    "\n",
    "means = grid_result.cv_results_['mean_test_score']\n",
    "stds = grid_result.cv_results_['std_test_score']\n",
    "params = grid_result.cv_results_['params']\n",
    "\n",
    "for mean, stdev, param in zip(means, stds, params):\n",
    "    print(\"%f (%f) with: %r\" % (mean, stdev, param))\n",
    "# plot results\n",
    "scores = np.array(means).reshape(len(max_depth), len(n_estimators))\n",
    "for i, value in enumerate(max_depth):\n",
    "    pyplot.plot(n_estimators, scores[i], label='depth: ' + str(value))\n",
    "pyplot.legend()\n",
    "pyplot.xlabel('n_estimators')\n",
    "pyplot.ylabel('Negative - MAE')"
   ]
  },
  {
   "cell_type": "markdown",
   "metadata": {},
   "source": [
    "As seen, best range of estimators seems to be [100, 120] with a max_depth in range [4,6], other combinations may end up with bad results or overfitting"
   ]
  },
  {
   "cell_type": "code",
   "execution_count": 1378,
   "metadata": {},
   "outputs": [
    {
     "data": {
      "image/png": "[encoded data removed]",
      "text/plain": [
       "<Figure size 360x360 with 1 Axes>"
      ]
     },
     "metadata": {
      "needs_background": "light"
     },
     "output_type": "display_data"
    }
   ],
   "source": [
    "#Default is created with max_depth 6 and n_estimators 100 which is correct for the following analysis\n",
    "model = XGBRegressor()\n",
    "\n",
    "eval_set = [(X_train_appch1, y_train_appch1), (X_test_appch1, y_test_appch1)]\n",
    "\n",
    "model.fit(X_train_appch1, y_train_appch1, eval_metric=[\"mae\"], eval_set=eval_set, verbose=False, early_stopping_rounds=10)\n",
    "results = model.evals_result()\n",
    "epochs = len(results['validation_0']['mae'])\n",
    "x_axis = range(0, epochs)\n",
    "\n",
    "fig, ax = pyplot.subplots()\n",
    "ax.plot(x_axis, results['validation_0']['mae'], label='Train')\n",
    "ax.plot(x_axis, results['validation_1']['mae'], label='Test')\n",
    "ax.legend()\n",
    "pyplot.ylabel('Regression Error')\n",
    "pyplot.title('XGBoost Regression Error')\n",
    "pyplot.show()"
   ]
  },
  {
   "cell_type": "markdown",
   "metadata": {},
   "source": [
    "## XGBoost Regressor "
   ]
  },
  {
   "cell_type": "markdown",
   "metadata": {},
   "source": [
    "### Modelling\n",
    "We will model with the restriction observed in the previous section analyzing posible tuning in the parameters for Grid Search CV, for each of the three different approaches"
   ]
  },
  {
   "cell_type": "code",
   "execution_count": 1437,
   "metadata": {},
   "outputs": [],
   "source": [
    "# A parameter grid for XGBoost\n",
    "fit_params1={'n_estimators':[100,110,120],'max_depth' : [6,7,8]}\n",
    "fit_params2={'n_estimators':[100,110,120],'max_depth' : [6,7,8]}\n",
    "fit_params3={'n_estimators':[100,110,120],'max_depth' : [6,7,8]}\n",
    "\n",
    "# Initialize XGB and GridSearch\n",
    "xgb = XGBRegressor() \n",
    "\n",
    "grid1 = GridSearchCV(xgb, fit_params1, verbose=0, n_jobs=-1, scoring='neg_mean_absolute_error')\n",
    "grid2 = GridSearchCV(xgb, fit_params2, verbose=0, n_jobs=-1,  scoring='neg_mean_absolute_error')\n",
    "grid3 = GridSearchCV(xgb, fit_params3, verbose=0, n_jobs=-1,  scoring='neg_mean_absolute_error')"
   ]
  },
  {
   "cell_type": "code",
   "execution_count": 1438,
   "metadata": {},
   "outputs": [
    {
     "name": "stdout",
     "output_type": "stream",
     "text": [
      "CPU times: user 951 ms, sys: 49.5 ms, total: 1 s\n",
      "Wall time: 3.58 s\n"
     ]
    },
    {
     "data": {
      "text/plain": [
       "GridSearchCV(estimator=XGBRegressor(base_score=None, booster=None,\n",
       "                                    colsample_bylevel=None,\n",
       "                                    colsample_bynode=None,\n",
       "                                    colsample_bytree=None, gamma=None,\n",
       "                                    gpu_id=None, importance_type='gain',\n",
       "                                    interaction_constraints=None,\n",
       "                                    learning_rate=None, max_delta_step=None,\n",
       "                                    max_depth=None, min_child_weight=None,\n",
       "                                    missing=nan, monotone_constraints=None,\n",
       "                                    n_estimators=100, n_jobs=None,\n",
       "                                    num_parallel_tree=None, random_state=None,\n",
       "                                    reg_alpha=None, reg_lambda=None,\n",
       "                                    scale_pos_weight=None, subsample=None,\n",
       "                                    tree_method=None, validate_parameters=None,\n",
       "                                    verbosity=None),\n",
       "             n_jobs=-1,\n",
       "             param_grid={'max_depth': [6, 7, 8],\n",
       "                         'n_estimators': [100, 110, 120]},\n",
       "             scoring='neg_mean_absolute_error')"
      ]
     },
     "execution_count": 1438,
     "metadata": {},
     "output_type": "execute_result"
    }
   ],
   "source": [
    "%%time\n",
    "\n",
    "eval_set1 = [(X_train_appch1, y_train_appch1), (X_test_appch1, y_test_appch1)]\n",
    "eval_set2 = [(X_train_appch2, y_train_appch2), (X_test_appch2, y_test_appch2)]\n",
    "eval_set3 = [(X_train_appch3, y_train_appch3), (X_test_appch3, y_test_appch3)]\n",
    "\n",
    "grid1.fit(X_train_appch1, y_train_appch1, eval_set=eval_set1, early_stopping_rounds=3, verbose=False)\n",
    "grid2.fit(X_train_appch2, y_train_appch2, eval_set=eval_set2, early_stopping_rounds=3, verbose=False)\n",
    "grid3.fit(X_train_appch3, y_train_appch3, eval_set=eval_set3, early_stopping_rounds=3, verbose=False)"
   ]
  },
  {
   "cell_type": "code",
   "execution_count": 1439,
   "metadata": {},
   "outputs": [],
   "source": [
    "y_pred_1=grid1.best_estimator_.predict(X_test_appch1)\n",
    "y_pred_train_1=grid1.best_estimator_.predict(X_train_appch1)\n",
    "y_pred_2=grid2.best_estimator_.predict(X_test_appch2)\n",
    "y_pred_train_2=grid2.best_estimator_.predict(X_train_appch2)\n",
    "y_pred_3=grid3.best_estimator_.predict(X_test_appch3)\n",
    "y_pred_train_3=grid3.best_estimator_.predict(X_train_appch3)"
   ]
  },
  {
   "cell_type": "markdown",
   "metadata": {},
   "source": [
    "### XGB Evaluation"
   ]
  },
  {
   "cell_type": "markdown",
   "metadata": {},
   "source": [
    "#### Test Set"
   ]
  },
  {
   "cell_type": "code",
   "execution_count": 1440,
   "metadata": {},
   "outputs": [
    {
     "data": {
      "text/html": [
       "<style  type=\"text/css\" >\n",
       "    #T_5d51a860_a8f8_11eb_8866_48bf6be4e840row0_col3 {\n",
       "            background-color:  yellow;\n",
       "        }    #T_5d51a860_a8f8_11eb_8866_48bf6be4e840row1_col1 {\n",
       "            background-color:  yellow;\n",
       "        }    #T_5d51a860_a8f8_11eb_8866_48bf6be4e840row1_col2 {\n",
       "            background-color:  yellow;\n",
       "        }    #T_5d51a860_a8f8_11eb_8866_48bf6be4e840row2_col0 {\n",
       "            background-color:  yellow;\n",
       "        }    #T_5d51a860_a8f8_11eb_8866_48bf6be4e840row2_col4 {\n",
       "            background-color:  yellow;\n",
       "        }</style><table id=\"T_5d51a860_a8f8_11eb_8866_48bf6be4e840\" ><thead>    <tr>        <th class=\"blank level0\" ></th>        <th class=\"col_heading level0 col0\" >mae</th>        <th class=\"col_heading level0 col1\" >mse</th>        <th class=\"col_heading level0 col2\" >rmse</th>        <th class=\"col_heading level0 col3\" >r2</th>        <th class=\"col_heading level0 col4\" >mape</th>    </tr></thead><tbody>\n",
       "                <tr>\n",
       "                        <th id=\"T_5d51a860_a8f8_11eb_8866_48bf6be4e840level0_row0\" class=\"row_heading level0 row0\" >Approach 1</th>\n",
       "                        <td id=\"T_5d51a860_a8f8_11eb_8866_48bf6be4e840row0_col0\" class=\"data row0 col0\" >0.314482</td>\n",
       "                        <td id=\"T_5d51a860_a8f8_11eb_8866_48bf6be4e840row0_col1\" class=\"data row0 col1\" >0.173401</td>\n",
       "                        <td id=\"T_5d51a860_a8f8_11eb_8866_48bf6be4e840row0_col2\" class=\"data row0 col2\" >0.416414</td>\n",
       "                        <td id=\"T_5d51a860_a8f8_11eb_8866_48bf6be4e840row0_col3\" class=\"data row0 col3\" >-0.005519</td>\n",
       "                        <td id=\"T_5d51a860_a8f8_11eb_8866_48bf6be4e840row0_col4\" class=\"data row0 col4\" >49.901330</td>\n",
       "            </tr>\n",
       "            <tr>\n",
       "                        <th id=\"T_5d51a860_a8f8_11eb_8866_48bf6be4e840level0_row1\" class=\"row_heading level0 row1\" >Approach 2</th>\n",
       "                        <td id=\"T_5d51a860_a8f8_11eb_8866_48bf6be4e840row1_col0\" class=\"data row1 col0\" >0.278670</td>\n",
       "                        <td id=\"T_5d51a860_a8f8_11eb_8866_48bf6be4e840row1_col1\" class=\"data row1 col1\" >0.133070</td>\n",
       "                        <td id=\"T_5d51a860_a8f8_11eb_8866_48bf6be4e840row1_col2\" class=\"data row1 col2\" >0.364787</td>\n",
       "                        <td id=\"T_5d51a860_a8f8_11eb_8866_48bf6be4e840row1_col3\" class=\"data row1 col3\" >0.228351</td>\n",
       "                        <td id=\"T_5d51a860_a8f8_11eb_8866_48bf6be4e840row1_col4\" class=\"data row1 col4\" >45.197637</td>\n",
       "            </tr>\n",
       "            <tr>\n",
       "                        <th id=\"T_5d51a860_a8f8_11eb_8866_48bf6be4e840level0_row2\" class=\"row_heading level0 row2\" >Approach 3</th>\n",
       "                        <td id=\"T_5d51a860_a8f8_11eb_8866_48bf6be4e840row2_col0\" class=\"data row2 col0\" >0.273553</td>\n",
       "                        <td id=\"T_5d51a860_a8f8_11eb_8866_48bf6be4e840row2_col1\" class=\"data row2 col1\" >0.138023</td>\n",
       "                        <td id=\"T_5d51a860_a8f8_11eb_8866_48bf6be4e840row2_col2\" class=\"data row2 col2\" >0.371514</td>\n",
       "                        <td id=\"T_5d51a860_a8f8_11eb_8866_48bf6be4e840row2_col3\" class=\"data row2 col3\" >0.173301</td>\n",
       "                        <td id=\"T_5d51a860_a8f8_11eb_8866_48bf6be4e840row2_col4\" class=\"data row2 col4\" >35.461761</td>\n",
       "            </tr>\n",
       "    </tbody></table>"
      ],
      "text/plain": [
       "<pandas.io.formats.style.Styler at 0x7ff14df5fa00>"
      ]
     },
     "execution_count": 1440,
     "metadata": {},
     "output_type": "execute_result"
    }
   ],
   "source": [
    "mae_1 = mean_absolute_error(y_test_appch1, y_pred_1)\n",
    "mse_1 = mean_squared_error(y_test_appch1, y_pred_1)\n",
    "rmse_1 = np.sqrt(mean_squared_error(y_test_appch1, y_pred_1))\n",
    "r2_1 = r2_score(y_test_appch1, y_pred_1)\n",
    "mape_1 = np.mean(np.abs((y_test_appch1 - y_pred_1) / y_test_appch1)) * 100\n",
    "\n",
    "mae_2 = mean_absolute_error(y_test_appch2, y_pred_2)\n",
    "mse_2 = mean_squared_error(y_test_appch2, y_pred_2)\n",
    "rmse_2 = np.sqrt(mean_squared_error(y_test_appch2, y_pred_2))\n",
    "r2_2 = r2_score(y_test_appch2, y_pred_2)\n",
    "mape_2 = np.mean(np.abs((y_test_appch2 - y_pred_2) / y_test_appch2)) * 100\n",
    "\n",
    "mae_3 = mean_absolute_error(y_test_appch3, y_pred_3)\n",
    "mse_3 = mean_squared_error(y_test_appch3, y_pred_3)\n",
    "rmse_3 = np.sqrt(mean_squared_error(y_test_appch3, y_pred_3))\n",
    "r2_3 = r2_score(y_test_appch3, y_pred_3)\n",
    "mape_3 = np.mean(np.abs((y_test_appch3 - y_pred_3) / y_test_appch3)) * 100\n",
    "\n",
    "scores = { 'mae' : {'Approach 1': mae_1, 'Approach 2': mae_2, 'Approach 3': mae_3},\n",
    "           'mse' : {'Approach 1': mse_1, 'Approach 2': mse_2, 'Approach 3': mse_3},\n",
    "           'rmse' : {'Approach 1': rmse_1, 'Approach 2': rmse_2, 'Approach 3': rmse_3}, \n",
    "           'r2' : {'Approach 1': r2_1, 'Approach 2': r2_2, 'Approach 3': r2_3},\n",
    "           'mape' : {'Approach 1':mape_1, 'Approach 2':mape_2, 'Approach 3':mape_3} }\n",
    "    \n",
    "df_scores_xgb=pd.DataFrame(scores)\n",
    "df_scores_xgb.style.apply(highlight_min)"
   ]
  },
  {
   "cell_type": "markdown",
   "metadata": {},
   "source": [
    "#### Train Set"
   ]
  },
  {
   "cell_type": "code",
   "execution_count": 1441,
   "metadata": {},
   "outputs": [
    {
     "data": {
      "text/html": [
       "<style  type=\"text/css\" >\n",
       "    #T_5ed5673a_a8f8_11eb_8866_48bf6be4e840row0_col3 {\n",
       "            background-color:  yellow;\n",
       "        }    #T_5ed5673a_a8f8_11eb_8866_48bf6be4e840row2_col0 {\n",
       "            background-color:  yellow;\n",
       "        }    #T_5ed5673a_a8f8_11eb_8866_48bf6be4e840row2_col1 {\n",
       "            background-color:  yellow;\n",
       "        }    #T_5ed5673a_a8f8_11eb_8866_48bf6be4e840row2_col2 {\n",
       "            background-color:  yellow;\n",
       "        }    #T_5ed5673a_a8f8_11eb_8866_48bf6be4e840row2_col4 {\n",
       "            background-color:  yellow;\n",
       "        }</style><table id=\"T_5ed5673a_a8f8_11eb_8866_48bf6be4e840\" ><thead>    <tr>        <th class=\"blank level0\" ></th>        <th class=\"col_heading level0 col0\" >mae</th>        <th class=\"col_heading level0 col1\" >mse</th>        <th class=\"col_heading level0 col2\" >rmse</th>        <th class=\"col_heading level0 col3\" >r2</th>        <th class=\"col_heading level0 col4\" >mape</th>    </tr></thead><tbody>\n",
       "                <tr>\n",
       "                        <th id=\"T_5ed5673a_a8f8_11eb_8866_48bf6be4e840level0_row0\" class=\"row_heading level0 row0\" >Approach 1</th>\n",
       "                        <td id=\"T_5ed5673a_a8f8_11eb_8866_48bf6be4e840row0_col0\" class=\"data row0 col0\" >0.235287</td>\n",
       "                        <td id=\"T_5ed5673a_a8f8_11eb_8866_48bf6be4e840row0_col1\" class=\"data row0 col1\" >0.120410</td>\n",
       "                        <td id=\"T_5ed5673a_a8f8_11eb_8866_48bf6be4e840row0_col2\" class=\"data row0 col2\" >0.347001</td>\n",
       "                        <td id=\"T_5ed5673a_a8f8_11eb_8866_48bf6be4e840row0_col3\" class=\"data row0 col3\" >0.644322</td>\n",
       "                        <td id=\"T_5ed5673a_a8f8_11eb_8866_48bf6be4e840row0_col4\" class=\"data row0 col4\" >74.243269</td>\n",
       "            </tr>\n",
       "            <tr>\n",
       "                        <th id=\"T_5ed5673a_a8f8_11eb_8866_48bf6be4e840level0_row1\" class=\"row_heading level0 row1\" >Approach 2</th>\n",
       "                        <td id=\"T_5ed5673a_a8f8_11eb_8866_48bf6be4e840row1_col0\" class=\"data row1 col0\" >0.216025</td>\n",
       "                        <td id=\"T_5ed5673a_a8f8_11eb_8866_48bf6be4e840row1_col1\" class=\"data row1 col1\" >0.094801</td>\n",
       "                        <td id=\"T_5ed5673a_a8f8_11eb_8866_48bf6be4e840row1_col2\" class=\"data row1 col2\" >0.307898</td>\n",
       "                        <td id=\"T_5ed5673a_a8f8_11eb_8866_48bf6be4e840row1_col3\" class=\"data row1 col3\" >0.719967</td>\n",
       "                        <td id=\"T_5ed5673a_a8f8_11eb_8866_48bf6be4e840row1_col4\" class=\"data row1 col4\" >69.553925</td>\n",
       "            </tr>\n",
       "            <tr>\n",
       "                        <th id=\"T_5ed5673a_a8f8_11eb_8866_48bf6be4e840level0_row2\" class=\"row_heading level0 row2\" >Approach 3</th>\n",
       "                        <td id=\"T_5ed5673a_a8f8_11eb_8866_48bf6be4e840row2_col0\" class=\"data row2 col0\" >0.170731</td>\n",
       "                        <td id=\"T_5ed5673a_a8f8_11eb_8866_48bf6be4e840row2_col1\" class=\"data row2 col1\" >0.059550</td>\n",
       "                        <td id=\"T_5ed5673a_a8f8_11eb_8866_48bf6be4e840row2_col2\" class=\"data row2 col2\" >0.244029</td>\n",
       "                        <td id=\"T_5ed5673a_a8f8_11eb_8866_48bf6be4e840row2_col3\" class=\"data row2 col3\" >0.823966</td>\n",
       "                        <td id=\"T_5ed5673a_a8f8_11eb_8866_48bf6be4e840row2_col4\" class=\"data row2 col4\" >46.923408</td>\n",
       "            </tr>\n",
       "    </tbody></table>"
      ],
      "text/plain": [
       "<pandas.io.formats.style.Styler at 0x7ff14df70e50>"
      ]
     },
     "execution_count": 1441,
     "metadata": {},
     "output_type": "execute_result"
    }
   ],
   "source": [
    "mae_1 = mean_absolute_error(y_train_appch1, y_pred_train_1)\n",
    "mse_1 = mean_squared_error(y_train_appch1, y_pred_train_1)\n",
    "rmse_1 = np.sqrt(mean_squared_error(y_train_appch1, y_pred_train_1))\n",
    "r2_1 = r2_score(y_train_appch1, y_pred_train_1)\n",
    "mape_1 = np.mean(np.abs((y_train_appch1 - y_pred_train_1) / y_train_appch1)) * 100\n",
    "\n",
    "mae_2 = mean_absolute_error(y_train_appch2, y_pred_train_2)\n",
    "mse_2 = mean_squared_error(y_train_appch2, y_pred_train_2)\n",
    "rmse_2 = np.sqrt(mean_squared_error(y_train_appch2, y_pred_train_2))\n",
    "r2_2 = r2_score(y_train_appch2, y_pred_train_2)\n",
    "mape_2 = np.mean(np.abs((y_train_appch2 - y_pred_train_2) / y_train_appch2)) * 100\n",
    "\n",
    "mae_3 = mean_absolute_error(y_train_appch3, y_pred_train_3)\n",
    "mse_3 = mean_squared_error(y_train_appch3, y_pred_train_3)\n",
    "rmse_3 = np.sqrt(mean_squared_error(y_train_appch3, y_pred_train_3))\n",
    "r2_3 = r2_score(y_train_appch3, y_pred_train_3)\n",
    "mape_3 = np.mean(np.abs((y_train_appch3 - y_pred_train_3) / y_train_appch3)) * 100\n",
    "\n",
    "scores = { 'mae' : {'Approach 1': mae_1, 'Approach 2': mae_2, 'Approach 3': mae_3},\n",
    "           'mse' : {'Approach 1': mse_1, 'Approach 2': mse_2, 'Approach 3': mse_3},\n",
    "           'rmse' : {'Approach 1': rmse_1, 'Approach 2': rmse_2, 'Approach 3': rmse_3}, \n",
    "           'r2' : {'Approach 1': r2_1, 'Approach 2': r2_2, 'Approach 3': r2_3},\n",
    "           'mape' : {'Approach 1':mape_1, 'Approach 2':mape_2, 'Approach 3':mape_3} }\n",
    "    \n",
    "df_scores_xgb_train=pd.DataFrame(scores)\n",
    "df_scores_xgb_train.style.apply(highlight_min)"
   ]
  },
  {
   "cell_type": "markdown",
   "metadata": {},
   "source": [
    "## Results View"
   ]
  },
  {
   "cell_type": "markdown",
   "metadata": {},
   "source": [
    "#### Actual vs Predicted"
   ]
  },
  {
   "cell_type": "code",
   "execution_count": 1442,
   "metadata": {},
   "outputs": [
    {
     "data": {
      "text/plain": [
       "Text(0.5, 1.0, 'Train Set Approach 3')"
      ]
     },
     "execution_count": 1442,
     "metadata": {},
     "output_type": "execute_result"
    },
    {
     "data": {
      "image/png": "[encoded data removed]",
      "text/plain": [
       "<Figure size 864x1080 with 6 Axes>"
      ]
     },
     "metadata": {
      "needs_background": "light"
     },
     "output_type": "display_data"
    }
   ],
   "source": [
    "fig, axes = plt.subplots(3,2, figsize=(12,15))\n",
    "\n",
    "\n",
    "sns.regplot(y_test_appch1,y_pred_1,\n",
    "           scatter_kws={\"color\": \"steelblue\"}, line_kws={\"color\": \"green\"}, ax=axes[0][0]) \\\n",
    "            .set_title('Actual vs Predicted')\n",
    "sns.regplot(y_train_appch1,y_pred_train_1,\n",
    "           scatter_kws={\"color\": \"steelblue\"}, line_kws={\"color\": \"green\"}, ax=axes[0][1]) \\\n",
    "            .set_title('Actual vs Predicted')\n",
    "\n",
    "axes[0][0].set_title('Test Set Approach 1')\n",
    "axes[0][1].set_title('Train Set Approach 1')\n",
    "\n",
    "sns.regplot(y_test_appch2,y_pred_2,\n",
    "           scatter_kws={\"color\": \"steelblue\"}, line_kws={\"color\": \"green\"}, ax=axes[1][0]) \\\n",
    "            .set_title('Actual vs Predicted')\n",
    "sns.regplot(y_train_appch1,y_pred_train_1,\n",
    "           scatter_kws={\"color\": \"steelblue\"}, line_kws={\"color\": \"green\"}, ax=axes[1][1]) \\\n",
    "            .set_title('Actual vs Predicted')\n",
    "\n",
    "axes[1][0].set_title('Test Set Approach 2')\n",
    "axes[1][1].set_title('Train Set Approach 2')\n",
    "\n",
    "sns.regplot(y_test_appch3,y_pred_3,\n",
    "           scatter_kws={\"color\": \"steelblue\"}, line_kws={\"color\": \"green\"}, ax=axes[2][0]) \\\n",
    "            .set_title('Actual vs Predicted')\n",
    "sns.regplot(y_train_appch3,y_pred_train_3,\n",
    "           scatter_kws={\"color\": \"steelblue\"}, line_kws={\"color\": \"green\"}, ax=axes[2][1]) \\\n",
    "            .set_title('Actual vs Predicted')\n",
    "\n",
    "axes[2][0].set_title('Test Set Approach 3')\n",
    "axes[2][1].set_title('Train Set Approach 3')"
   ]
  },
  {
   "cell_type": "code",
   "execution_count": 1454,
   "metadata": {},
   "outputs": [],
   "source": [
    "def plot_aux(approach, y_test, y_pred, y_train, y_pred_train, ax):\n",
    "    ax[approach][0].scatter(y_test, y_pred, color='mediumseagreen')\n",
    "    ax[approach][0].plot([y_train.min(), y_train.max()], [y_train.min(), y_train.max()], 'k--', lw=1)\n",
    "    ax[approach][0].set_title('Test Set Approach' + str(approach+1))\n",
    "    ax[approach][0].set_xlabel('Measured')\n",
    "    ax[approach][0].set_ylabel('Predicted')\n",
    "    \n",
    "    ax[approach][1].scatter(y_train, y_pred_train, color='cornflowerblue')\n",
    "    ax[approach][1].plot([y_train.min(), y_train.max()], [y_train.min(), y_train.max()], 'k--', lw=1)\n",
    "    ax[approach][1].set_xlabel('Measured')\n",
    "    ax[approach][1].set_ylabel('Predicted')\n",
    "    ax[approach][1].set_title('Train Set Approach' + str(approach+1))"
   ]
  },
  {
   "cell_type": "code",
   "execution_count": 1455,
   "metadata": {},
   "outputs": [
    {
     "data": {
      "image/png": "[encoded data removed]",
      "text/plain": [
       "<Figure size 864x1080 with 6 Axes>"
      ]
     },
     "metadata": {
      "needs_background": "light"
     },
     "output_type": "display_data"
    }
   ],
   "source": [
    "fig, ax = plt.subplots(3,2,figsize=(12,15))\n",
    "\n",
    "plot_aux(0, y_test_appch1, y_pred_1, y_train_appch1, y_pred_train_1, ax)\n",
    "plot_aux(1, y_test_appch2, y_pred_2, y_train_appch2, y_pred_train_2, ax)\n",
    "plot_aux(2, y_test_appch3, y_pred_3, y_train_appch3, y_pred_train_3, ax)\n",
    "\n",
    "plt.show()"
   ]
  },
  {
   "cell_type": "markdown",
   "metadata": {},
   "source": [
    "## Light GBM"
   ]
  },
  {
   "cell_type": "markdown",
   "metadata": {},
   "source": [
    "### Modelling "
   ]
  },
  {
   "cell_type": "code",
   "execution_count": 581,
   "metadata": {},
   "outputs": [],
   "source": [
    "params = {\n",
    "    'metric': ['mape'],\n",
    "    \"max_depth\":[6,7,8] , \n",
    "    \"n_estimators\":[150,180]\n",
    "}\n",
    "\n",
    "# Initialize LGB and GridSearch\n",
    "lgbm = lgb.LGBMRegressor()\n",
    "\n",
    "grid = GridSearchCV(lgbm, params)"
   ]
  },
  {
   "cell_type": "code",
   "execution_count": 582,
   "metadata": {},
   "outputs": [
    {
     "name": "stdout",
     "output_type": "stream",
     "text": [
      "CPU times: user 16.6 s, sys: 349 ms, total: 17 s\n",
      "Wall time: 4.83 s\n"
     ]
    },
    {
     "data": {
      "text/plain": [
       "GridSearchCV(estimator=LGBMRegressor(),\n",
       "             param_grid={'max_depth': [6, 7, 8], 'metric': ['mape'],\n",
       "                         'n_estimators': [150, 180]})"
      ]
     },
     "execution_count": 582,
     "metadata": {},
     "output_type": "execute_result"
    }
   ],
   "source": [
    "%%time\n",
    "import re\n",
    "X_train = X_train.rename(columns = lambda x:re.sub('[^A-Za-z0-9_]+', '', x))\n",
    "grid.fit(X_train, y_train)"
   ]
  },
  {
   "cell_type": "code",
   "execution_count": 583,
   "metadata": {},
   "outputs": [
    {
     "data": {
      "text/plain": [
       "LGBMRegressor(max_depth=7, metric='mape', n_estimators=150)"
      ]
     },
     "execution_count": 583,
     "metadata": {},
     "output_type": "execute_result"
    }
   ],
   "source": [
    "grid.best_estimator_"
   ]
  },
  {
   "cell_type": "code",
   "execution_count": 584,
   "metadata": {},
   "outputs": [],
   "source": [
    "y_pred = grid.best_estimator_.predict(X_test)\n",
    "y_pred_train = grid.best_estimator_.predict(X_train)"
   ]
  },
  {
   "cell_type": "markdown",
   "metadata": {},
   "source": [
    "### Evaluation"
   ]
  },
  {
   "cell_type": "markdown",
   "metadata": {},
   "source": [
    "#### Test Set"
   ]
  },
  {
   "cell_type": "code",
   "execution_count": 585,
   "metadata": {},
   "outputs": [
    {
     "name": "stdout",
     "output_type": "stream",
     "text": [
      "mae score is 0.39301314506469553\n",
      "mse score is 0.25144062967742753\n",
      "rmse score is 0.5014385602219155\n",
      "r2 score is -0.43134470593872054\n",
      "mape score is 49.31997545229019\n"
     ]
    }
   ],
   "source": [
    "mae = mean_absolute_error(y_test, y_pred)\n",
    "mse = mean_squared_error(y_test, y_pred)\n",
    "rmse = np.sqrt(mean_squared_error(y_test, y_pred))\n",
    "r2 = r2_score(y_test, y_pred)\n",
    "mape = np.mean(np.abs((y_test - y_pred) / y_test)) * 100\n",
    "\n",
    "scores = {'mae': mae, 'mse': mse, 'rmse':rmse, 'r2': r2, 'mape':mape}\n",
    "\n",
    "for key in scores:\n",
    "    print(f\"{key} score is {scores[key]}\")"
   ]
  },
  {
   "cell_type": "markdown",
   "metadata": {},
   "source": [
    "#### Train Set"
   ]
  },
  {
   "cell_type": "code",
   "execution_count": 586,
   "metadata": {},
   "outputs": [
    {
     "name": "stdout",
     "output_type": "stream",
     "text": [
      "mae score is 0.17338669950805322\n",
      "mse score is 0.07363737695387941\n",
      "rmse score is 0.271362077221338\n",
      "r2 score is 0.8170150174148214\n",
      "mape score is 50.723253191845\n"
     ]
    }
   ],
   "source": [
    "mae = mean_absolute_error(y_train, y_pred_train)\n",
    "mse = mean_squared_error(y_train, y_pred_train)\n",
    "rmse = np.sqrt(mean_squared_error(y_train, y_pred_train))\n",
    "r2 = r2_score(y_train, y_pred_train)\n",
    "mape = np.mean(np.abs((y_train - y_pred_train) / y_train)) * 100\n",
    "\n",
    "scores = {'mae': mae, 'mse': mse, 'rmse': rmse, 'r2': r2, 'mape': mape}\n",
    "\n",
    "for key in scores:\n",
    "    print(f\"{key} score is {scores[key]}\")"
   ]
  },
  {
   "cell_type": "code",
   "execution_count": 587,
   "metadata": {
    "scrolled": true
   },
   "outputs": [
    {
     "data": {
      "text/html": [
       "<div>\n",
       "<style scoped>\n",
       "    .dataframe tbody tr th:only-of-type {\n",
       "        vertical-align: middle;\n",
       "    }\n",
       "\n",
       "    .dataframe tbody tr th {\n",
       "        vertical-align: top;\n",
       "    }\n",
       "\n",
       "    .dataframe thead th {\n",
       "        text-align: right;\n",
       "    }\n",
       "</style>\n",
       "<table border=\"1\" class=\"dataframe\">\n",
       "  <thead>\n",
       "    <tr style=\"text-align: right;\">\n",
       "      <th></th>\n",
       "      <th>Actual</th>\n",
       "      <th>Predicted</th>\n",
       "      <th>Difference</th>\n",
       "    </tr>\n",
       "  </thead>\n",
       "  <tbody>\n",
       "    <tr>\n",
       "      <th>100</th>\n",
       "      <td>0.736446</td>\n",
       "      <td>0.919688</td>\n",
       "      <td>0.183242</td>\n",
       "    </tr>\n",
       "    <tr>\n",
       "      <th>209</th>\n",
       "      <td>1.684699</td>\n",
       "      <td>0.763902</td>\n",
       "      <td>0.920797</td>\n",
       "    </tr>\n",
       "    <tr>\n",
       "      <th>210</th>\n",
       "      <td>1.667890</td>\n",
       "      <td>0.619944</td>\n",
       "      <td>1.047946</td>\n",
       "    </tr>\n",
       "    <tr>\n",
       "      <th>211</th>\n",
       "      <td>1.701320</td>\n",
       "      <td>0.694078</td>\n",
       "      <td>1.007242</td>\n",
       "    </tr>\n",
       "    <tr>\n",
       "      <th>212</th>\n",
       "      <td>1.634012</td>\n",
       "      <td>0.943913</td>\n",
       "      <td>0.690099</td>\n",
       "    </tr>\n",
       "    <tr>\n",
       "      <th>...</th>\n",
       "      <td>...</td>\n",
       "      <td>...</td>\n",
       "      <td>...</td>\n",
       "    </tr>\n",
       "    <tr>\n",
       "      <th>1799</th>\n",
       "      <td>1.217174</td>\n",
       "      <td>0.992328</td>\n",
       "      <td>0.224846</td>\n",
       "    </tr>\n",
       "    <tr>\n",
       "      <th>1800</th>\n",
       "      <td>0.924848</td>\n",
       "      <td>0.942747</td>\n",
       "      <td>0.017899</td>\n",
       "    </tr>\n",
       "    <tr>\n",
       "      <th>1852</th>\n",
       "      <td>0.110414</td>\n",
       "      <td>0.713974</td>\n",
       "      <td>0.603560</td>\n",
       "    </tr>\n",
       "    <tr>\n",
       "      <th>1960</th>\n",
       "      <td>0.768153</td>\n",
       "      <td>0.974391</td>\n",
       "      <td>0.206237</td>\n",
       "    </tr>\n",
       "    <tr>\n",
       "      <th>2166</th>\n",
       "      <td>0.680156</td>\n",
       "      <td>0.666592</td>\n",
       "      <td>0.013563</td>\n",
       "    </tr>\n",
       "  </tbody>\n",
       "</table>\n",
       "<p>62 rows × 3 columns</p>\n",
       "</div>"
      ],
      "text/plain": [
       "        Actual  Predicted  Difference\n",
       "100   0.736446   0.919688    0.183242\n",
       "209   1.684699   0.763902    0.920797\n",
       "210   1.667890   0.619944    1.047946\n",
       "211   1.701320   0.694078    1.007242\n",
       "212   1.634012   0.943913    0.690099\n",
       "...        ...        ...         ...\n",
       "1799  1.217174   0.992328    0.224846\n",
       "1800  0.924848   0.942747    0.017899\n",
       "1852  0.110414   0.713974    0.603560\n",
       "1960  0.768153   0.974391    0.206237\n",
       "2166  0.680156   0.666592    0.013563\n",
       "\n",
       "[62 rows x 3 columns]"
      ]
     },
     "execution_count": 587,
     "metadata": {},
     "output_type": "execute_result"
    }
   ],
   "source": [
    "#Actual vs Predcited Dataframe\n",
    "df_eval = pd.DataFrame({'Actual': y_test, 'Predicted': y_pred})\n",
    "df_eval['Difference']=np.abs(df_eval['Actual']-df_eval['Predicted'])\n",
    "df_eval"
   ]
  },
  {
   "cell_type": "markdown",
   "metadata": {},
   "source": [
    "### XGB Evaluation"
   ]
  },
  {
   "cell_type": "markdown",
   "metadata": {},
   "source": [
    "#### Test Set"
   ]
  },
  {
   "cell_type": "code",
   "execution_count": 841,
   "metadata": {},
   "outputs": [
    {
     "name": "stdout",
     "output_type": "stream",
     "text": [
      "mae score is 0.4010607024491025\n",
      "mse score is 0.3124191883460084\n",
      "rmse score is 0.5589447095608012\n",
      "r2 score is -2.5107108034530827\n",
      "mape score is 41.08286747054778\n"
     ]
    }
   ],
   "source": [
    "mae = mean_absolute_error(y_test, y_pred)\n",
    "mse = mean_squared_error(y_test, y_pred)\n",
    "rmse = np.sqrt(mean_squared_error(y_test, y_pred))\n",
    "r2 = r2_score(y_test, y_pred)\n",
    "mape = np.mean(np.abs((y_test - y_pred) / y_test)) * 100\n",
    "\n",
    "scores = {'mae': mae, 'mse': mse, 'rmse': rmse, 'r2': r2, 'mape':mape}\n",
    "\n",
    "for key in scores:\n",
    "    print(f\"{key} score is {scores[key]}\")"
   ]
  },
  {
   "cell_type": "markdown",
   "metadata": {},
   "source": [
    "#### Train Set"
   ]
  },
  {
   "cell_type": "code",
   "execution_count": 842,
   "metadata": {},
   "outputs": [
    {
     "name": "stdout",
     "output_type": "stream",
     "text": [
      "mae score is 0.18449845250634128\n",
      "mse score is 0.07055112611299799\n",
      "rmse score is 0.2656146195392829\n",
      "r2 score is 0.8244916547228565\n",
      "mape score is 62.904494818004565\n"
     ]
    }
   ],
   "source": [
    "mae = mean_absolute_error(y_train, y_pred_train)\n",
    "mse = mean_squared_error(y_train, y_pred_train)\n",
    "rmse = np.sqrt(mean_squared_error(y_train, y_pred_train))\n",
    "r2 = r2_score(y_train, y_pred_train)\n",
    "mape = np.mean(np.abs((y_train - y_pred_train) / y_train)) * 100\n",
    "\n",
    "scores = {'mae': mae, 'mse': mse, 'rmse': rmse, 'r2': r2, 'mape': mape}\n",
    "\n",
    "for key in scores:\n",
    "    print(f\"{key} score is {scores[key]}\")"
   ]
  },
  {
   "cell_type": "code",
   "execution_count": 843,
   "metadata": {},
   "outputs": [
    {
     "data": {
      "text/html": [
       "<div>\n",
       "<style scoped>\n",
       "    .dataframe tbody tr th:only-of-type {\n",
       "        vertical-align: middle;\n",
       "    }\n",
       "\n",
       "    .dataframe tbody tr th {\n",
       "        vertical-align: top;\n",
       "    }\n",
       "\n",
       "    .dataframe thead th {\n",
       "        text-align: right;\n",
       "    }\n",
       "</style>\n",
       "<table border=\"1\" class=\"dataframe\">\n",
       "  <thead>\n",
       "    <tr style=\"text-align: right;\">\n",
       "      <th></th>\n",
       "      <th>Actual</th>\n",
       "      <th>Predicted</th>\n",
       "      <th>Difference</th>\n",
       "    </tr>\n",
       "  </thead>\n",
       "  <tbody>\n",
       "    <tr>\n",
       "      <th>100</th>\n",
       "      <td>0.736446</td>\n",
       "      <td>1.842445</td>\n",
       "      <td>1.105999</td>\n",
       "    </tr>\n",
       "    <tr>\n",
       "      <th>210</th>\n",
       "      <td>1.667890</td>\n",
       "      <td>1.012699</td>\n",
       "      <td>0.655190</td>\n",
       "    </tr>\n",
       "    <tr>\n",
       "      <th>211</th>\n",
       "      <td>1.701320</td>\n",
       "      <td>0.992370</td>\n",
       "      <td>0.708951</td>\n",
       "    </tr>\n",
       "    <tr>\n",
       "      <th>212</th>\n",
       "      <td>1.634012</td>\n",
       "      <td>1.020498</td>\n",
       "      <td>0.613515</td>\n",
       "    </tr>\n",
       "    <tr>\n",
       "      <th>213</th>\n",
       "      <td>1.318757</td>\n",
       "      <td>1.104188</td>\n",
       "      <td>0.214569</td>\n",
       "    </tr>\n",
       "  </tbody>\n",
       "</table>\n",
       "</div>"
      ],
      "text/plain": [
       "       Actual  Predicted  Difference\n",
       "100  0.736446   1.842445    1.105999\n",
       "210  1.667890   1.012699    0.655190\n",
       "211  1.701320   0.992370    0.708951\n",
       "212  1.634012   1.020498    0.613515\n",
       "213  1.318757   1.104188    0.214569"
      ]
     },
     "execution_count": 843,
     "metadata": {},
     "output_type": "execute_result"
    }
   ],
   "source": [
    "#Actual vs Predcited Dataframe\n",
    "df_eval = pd.DataFrame({'Actual': y_test, 'Predicted': y_pred})\n",
    "df_eval['Difference']=np.abs(df_eval['Actual']-df_eval['Predicted'])\n",
    "df_eval.head()"
   ]
  },
  {
   "cell_type": "markdown",
   "metadata": {},
   "source": [
    "## Results View"
   ]
  },
  {
   "cell_type": "markdown",
   "metadata": {},
   "source": [
    "#### Predicted vs Actual R0 Distribution"
   ]
  },
  {
   "cell_type": "code",
   "execution_count": 844,
   "metadata": {},
   "outputs": [
    {
     "data": {
      "text/plain": [
       "Text(0.5, 1.0, 'R0 Actuals')"
      ]
     },
     "execution_count": 844,
     "metadata": {},
     "output_type": "execute_result"
    },
    {
     "data": {
      "image/png": "[encoded data removed]",
      "text/plain": [
       "<Figure size 1152x360 with 2 Axes>"
      ]
     },
     "metadata": {
      "needs_background": "light"
     },
     "output_type": "display_data"
    }
   ],
   "source": [
    "fig, axes =plt.subplots(1,2,figsize=(16,5))\n",
    "\n",
    "sns.histplot(x='Predicted', data=df_eval, kde=False, bins=100, ax=axes[0]);\n",
    "sns.histplot(x='Actual', data=df_eval, kde=False, bins=100, ax=axes[1]);\n",
    "axes[0].set_title('R0 Predicted')\n",
    "axes[1].set_title('R0 Actuals')"
   ]
  },
  {
   "cell_type": "markdown",
   "metadata": {},
   "source": [
    "#### Difference Histogram "
   ]
  },
  {
   "cell_type": "code",
   "execution_count": 845,
   "metadata": {},
   "outputs": [
    {
     "data": {
      "image/png": "[encoded data removed]",
      "text/plain": [
       "<Figure size 864x360 with 2 Axes>"
      ]
     },
     "metadata": {
      "needs_background": "light"
     },
     "output_type": "display_data"
    }
   ],
   "source": [
    "# plot difference hist\n",
    "f, axes = plt.subplots(1,2, figsize=(12,5))\n",
    "\n",
    "sns.histplot(x='Difference', data=df_eval, kde=False, bins=50, ax=axes[0]);\n",
    "axes[0].set_title('Difference Histogram')\n",
    "\n",
    "axes[1].scatter(x = range(0, y_test.size), y=y_test, c = 'blue', label = 'Actual', alpha = 0.3)\n",
    "axes[1].scatter(x = range(0, y_pred.size), y=y_pred, c = 'red', label = 'Predicted', alpha = 0.3)\n",
    "plt.title('Actual and predicted values')\n",
    "plt.xlabel('frequency')\n",
    "plt.ylabel('value')\n",
    "plt.legend()\n",
    "plt.show()"
   ]
  },
  {
   "cell_type": "markdown",
   "metadata": {},
   "source": [
    "#### Actual vs Predicted"
   ]
  },
  {
   "cell_type": "code",
   "execution_count": 846,
   "metadata": {},
   "outputs": [
    {
     "data": {
      "text/plain": [
       "Text(0.5, 1.0, 'Train Set')"
      ]
     },
     "execution_count": 846,
     "metadata": {},
     "output_type": "execute_result"
    },
    {
     "data": {
      "image/png": "[encoded data removed]",
      "text/plain": [
       "<Figure size 1080x360 with 2 Axes>"
      ]
     },
     "metadata": {
      "needs_background": "light"
     },
     "output_type": "display_data"
    }
   ],
   "source": [
    "_, axes = plt.subplots(1,2, figsize=(15,5))\n",
    "sns.regplot(y_test,y_pred,\n",
    "           scatter_kws={\"color\": \"steelblue\"}, line_kws={\"color\": \"green\"}, ax=axes[0]) \\\n",
    "            .set_title('Actual vs Predicted')\n",
    "sns.regplot(y_train,y_pred_train,\n",
    "           scatter_kws={\"color\": \"steelblue\"}, line_kws={\"color\": \"green\"}, ax=axes[1]) \\\n",
    "            .set_title('Actual vs Predicted')\n",
    "axes[0].set_title('Test Set')\n",
    "axes[1].set_title('Train Set')"
   ]
  },
  {
   "cell_type": "code",
   "execution_count": 847,
   "metadata": {},
   "outputs": [
    {
     "data": {
      "image/png": "[encoded data removed]",
      "text/plain": [
       "<Figure size 1080x360 with 2 Axes>"
      ]
     },
     "metadata": {
      "needs_background": "light"
     },
     "output_type": "display_data"
    }
   ],
   "source": [
    "fig, ax = plt.subplots(1,2,figsize=(15,5))\n",
    "\n",
    "ax[0].scatter(y_test, y_pred)\n",
    "ax[0].plot([y_train.min(), y_train.max()], [y_train.min(), y_train.max()], 'k--', lw=4)\n",
    "axes[0].set_title('Train Set')\n",
    "ax[0].set_xlabel('Measured')\n",
    "ax[0].set_ylabel('Predicted')\n",
    "\n",
    "ax[1].scatter(y_train, y_pred_train)\n",
    "ax[1].plot([y_train.min(), y_train.max()], [y_train.min(), y_train.max()], 'k--', lw=4)\n",
    "ax[1].set_xlabel('Measured')\n",
    "ax[1].set_ylabel('Predicted')\n",
    "axes[1].set_title('Test Set')\n",
    "\n",
    "plt.show()"
   ]
  },
  {
   "cell_type": "code",
   "execution_count": 654,
   "metadata": {},
   "outputs": [
    {
     "data": {
      "image/png": "[encoded data removed]",
      "text/plain": [
       "<Figure size 864x360 with 2 Axes>"
      ]
     },
     "metadata": {
      "needs_background": "light"
     },
     "output_type": "display_data"
    }
   ],
   "source": [
    "y_test_pred = y_pred\n",
    "y_train_pred = y_pred_train\n",
    "\n",
    "test = y_test\n",
    "train = y_train\n",
    "\n",
    "res_df_test = pd.DataFrame({'pred': y_test_pred, 'test': test})\n",
    "res_df_test['dif'] = np.round(res_df_test['pred']-res_df_test['test'],2)\n",
    "res_df_test['dif_abs'] = np.round(np.abs(res_df_test['pred']-res_df_test['test']),2)\n",
    "res_df_test['dif%'] = np.round(100*(res_df_test['pred']-res_df_test['test'])/res_df_test['test'],2)\n",
    "\n",
    "res_df_train = pd.DataFrame({'pred': y_train_pred, 'test': train})\n",
    "res_df_train['dif'] = np.round(res_df_train['pred']-res_df_train['test'],2)\n",
    "res_df_train['dif_abs'] = np.round(np.abs(res_df_train['pred']-res_df_train['test']),2)\n",
    "res_df_train['dif%'] = np.round(100*(res_df_train['pred']-res_df_train['test'])/res_df_train['test'],2)\n",
    "\n",
    "fig, axes = plt.subplots(nrows=1, ncols=2, figsize=(12, 5))\n",
    "plot = sns.kdeplot(res_df_train['pred'], ax=axes[0], color='orange')\n",
    "plot = sns.kdeplot(res_df_train['test'], ax=axes[0])\n",
    "plot = sns.kdeplot(res_df_test['pred'], ax=axes[1], color='orange')\n",
    "plot = sns.kdeplot(res_df_test['test'], ax=axes[1])\n",
    "fig.tight_layout()"
   ]
  },
  {
   "cell_type": "markdown",
   "metadata": {},
   "source": [
    "## CatBoost Regressor "
   ]
  },
  {
   "cell_type": "markdown",
   "metadata": {},
   "source": [
    "### Modelling "
   ]
  },
  {
   "cell_type": "code",
   "execution_count": 617,
   "metadata": {},
   "outputs": [
    {
     "name": "stdout",
     "output_type": "stream",
     "text": [
      "0:\tlearn: 0.2959938\ttest: 0.2478719\tbest: 0.2478719 (0)\ttotal: 163ms\tremaining: 2m 42s\n",
      "1:\tlearn: 0.2952529\ttest: 0.2480646\tbest: 0.2478719 (0)\ttotal: 272ms\tremaining: 2m 15s\n",
      "2:\tlearn: 0.2944618\ttest: 0.2475096\tbest: 0.2475096 (2)\ttotal: 386ms\tremaining: 2m 8s\n",
      "3:\tlearn: 0.2939949\ttest: 0.2471505\tbest: 0.2471505 (3)\ttotal: 473ms\tremaining: 1m 57s\n",
      "4:\tlearn: 0.2937292\ttest: 0.2471765\tbest: 0.2471505 (3)\ttotal: 482ms\tremaining: 1m 35s\n",
      "5:\tlearn: 0.2926437\ttest: 0.2466929\tbest: 0.2466929 (5)\ttotal: 586ms\tremaining: 1m 37s\n",
      "6:\tlearn: 0.2914430\ttest: 0.2465189\tbest: 0.2465189 (6)\ttotal: 717ms\tremaining: 1m 41s\n",
      "7:\tlearn: 0.2908913\ttest: 0.2462923\tbest: 0.2462923 (7)\ttotal: 729ms\tremaining: 1m 30s\n",
      "8:\tlearn: 0.2903179\ttest: 0.2463214\tbest: 0.2462923 (7)\ttotal: 858ms\tremaining: 1m 34s\n",
      "9:\tlearn: 0.2898285\ttest: 0.2462648\tbest: 0.2462648 (9)\ttotal: 991ms\tremaining: 1m 38s\n",
      "10:\tlearn: 0.2886421\ttest: 0.2459328\tbest: 0.2459328 (10)\ttotal: 1.14s\tremaining: 1m 42s\n",
      "11:\tlearn: 0.2878297\ttest: 0.2459747\tbest: 0.2459328 (10)\ttotal: 1.26s\tremaining: 1m 43s\n",
      "12:\tlearn: 0.2868843\ttest: 0.2460765\tbest: 0.2459328 (10)\ttotal: 1.4s\tremaining: 1m 46s\n",
      "13:\tlearn: 0.2859045\ttest: 0.2460971\tbest: 0.2459328 (10)\ttotal: 1.72s\tremaining: 2m 1s\n",
      "14:\tlearn: 0.2847803\ttest: 0.2459197\tbest: 0.2459197 (14)\ttotal: 1.99s\tremaining: 2m 10s\n",
      "15:\tlearn: 0.2842609\ttest: 0.2459041\tbest: 0.2459041 (15)\ttotal: 2.19s\tremaining: 2m 14s\n",
      "16:\tlearn: 0.2837884\ttest: 0.2458599\tbest: 0.2458599 (16)\ttotal: 2.49s\tremaining: 2m 24s\n",
      "17:\tlearn: 0.2836072\ttest: 0.2458668\tbest: 0.2458599 (16)\ttotal: 2.61s\tremaining: 2m 22s\n",
      "18:\tlearn: 0.2834010\ttest: 0.2459438\tbest: 0.2458599 (16)\ttotal: 3.12s\tremaining: 2m 41s\n",
      "19:\tlearn: 0.2826221\ttest: 0.2457068\tbest: 0.2457068 (19)\ttotal: 3.29s\tremaining: 2m 41s\n",
      "20:\tlearn: 0.2825055\ttest: 0.2457177\tbest: 0.2457068 (19)\ttotal: 3.3s\tremaining: 2m 33s\n",
      "21:\tlearn: 0.2815158\ttest: 0.2455413\tbest: 0.2455413 (21)\ttotal: 3.51s\tremaining: 2m 36s\n",
      "22:\tlearn: 0.2806400\ttest: 0.2455415\tbest: 0.2455413 (21)\ttotal: 3.66s\tremaining: 2m 35s\n",
      "23:\tlearn: 0.2803471\ttest: 0.2457630\tbest: 0.2455413 (21)\ttotal: 3.8s\tremaining: 2m 34s\n",
      "24:\tlearn: 0.2794113\ttest: 0.2460105\tbest: 0.2455413 (21)\ttotal: 3.91s\tremaining: 2m 32s\n",
      "25:\tlearn: 0.2790952\ttest: 0.2458303\tbest: 0.2455413 (21)\ttotal: 4.03s\tremaining: 2m 30s\n",
      "26:\tlearn: 0.2787137\ttest: 0.2460290\tbest: 0.2455413 (21)\ttotal: 4.04s\tremaining: 2m 25s\n",
      "27:\tlearn: 0.2779262\ttest: 0.2458229\tbest: 0.2455413 (21)\ttotal: 4.16s\tremaining: 2m 24s\n",
      "28:\tlearn: 0.2772360\ttest: 0.2462694\tbest: 0.2455413 (21)\ttotal: 4.32s\tremaining: 2m 24s\n",
      "29:\tlearn: 0.2766987\ttest: 0.2463104\tbest: 0.2455413 (21)\ttotal: 4.44s\tremaining: 2m 23s\n",
      "30:\tlearn: 0.2758194\ttest: 0.2465814\tbest: 0.2455413 (21)\ttotal: 4.57s\tremaining: 2m 22s\n",
      "31:\tlearn: 0.2747825\ttest: 0.2468160\tbest: 0.2455413 (21)\ttotal: 4.69s\tremaining: 2m 21s\n",
      "32:\tlearn: 0.2743950\ttest: 0.2466183\tbest: 0.2455413 (21)\ttotal: 4.76s\tremaining: 2m 19s\n",
      "33:\tlearn: 0.2743245\ttest: 0.2466134\tbest: 0.2455413 (21)\ttotal: 4.85s\tremaining: 2m 17s\n",
      "34:\tlearn: 0.2738972\ttest: 0.2465452\tbest: 0.2455413 (21)\ttotal: 5.02s\tremaining: 2m 18s\n",
      "35:\tlearn: 0.2736176\ttest: 0.2465838\tbest: 0.2455413 (21)\ttotal: 5.05s\tremaining: 2m 15s\n",
      "36:\tlearn: 0.2727983\ttest: 0.2465563\tbest: 0.2455413 (21)\ttotal: 5.22s\tremaining: 2m 15s\n",
      "37:\tlearn: 0.2723297\ttest: 0.2465430\tbest: 0.2455413 (21)\ttotal: 5.28s\tremaining: 2m 13s\n",
      "38:\tlearn: 0.2718371\ttest: 0.2466721\tbest: 0.2455413 (21)\ttotal: 5.41s\tremaining: 2m 13s\n",
      "39:\tlearn: 0.2710457\ttest: 0.2469986\tbest: 0.2455413 (21)\ttotal: 5.58s\tremaining: 2m 13s\n",
      "40:\tlearn: 0.2705864\ttest: 0.2474152\tbest: 0.2455413 (21)\ttotal: 5.62s\tremaining: 2m 11s\n",
      "41:\tlearn: 0.2697744\ttest: 0.2472405\tbest: 0.2455413 (21)\ttotal: 5.74s\tremaining: 2m 10s\n",
      "42:\tlearn: 0.2691004\ttest: 0.2471497\tbest: 0.2455413 (21)\ttotal: 5.89s\tremaining: 2m 11s\n",
      "43:\tlearn: 0.2683668\ttest: 0.2471107\tbest: 0.2455413 (21)\ttotal: 6.01s\tremaining: 2m 10s\n",
      "44:\tlearn: 0.2675011\ttest: 0.2471520\tbest: 0.2455413 (21)\ttotal: 6.14s\tremaining: 2m 10s\n",
      "45:\tlearn: 0.2666801\ttest: 0.2469104\tbest: 0.2455413 (21)\ttotal: 6.28s\tremaining: 2m 10s\n",
      "46:\tlearn: 0.2660029\ttest: 0.2469872\tbest: 0.2455413 (21)\ttotal: 6.32s\tremaining: 2m 8s\n",
      "47:\tlearn: 0.2654021\ttest: 0.2469942\tbest: 0.2455413 (21)\ttotal: 6.46s\tremaining: 2m 8s\n",
      "48:\tlearn: 0.2644778\ttest: 0.2472642\tbest: 0.2455413 (21)\ttotal: 6.57s\tremaining: 2m 7s\n",
      "49:\tlearn: 0.2636881\ttest: 0.2472040\tbest: 0.2455413 (21)\ttotal: 6.7s\tremaining: 2m 7s\n",
      "50:\tlearn: 0.2631888\ttest: 0.2473048\tbest: 0.2455413 (21)\ttotal: 6.83s\tremaining: 2m 7s\n",
      "51:\tlearn: 0.2627884\ttest: 0.2471950\tbest: 0.2455413 (21)\ttotal: 6.89s\tremaining: 2m 5s\n",
      "52:\tlearn: 0.2619509\ttest: 0.2469613\tbest: 0.2455413 (21)\ttotal: 7.04s\tremaining: 2m 5s\n",
      "53:\tlearn: 0.2613764\ttest: 0.2470465\tbest: 0.2455413 (21)\ttotal: 7.19s\tremaining: 2m 5s\n",
      "54:\tlearn: 0.2606341\ttest: 0.2469985\tbest: 0.2455413 (21)\ttotal: 7.28s\tremaining: 2m 5s\n",
      "55:\tlearn: 0.2600047\ttest: 0.2469715\tbest: 0.2455413 (21)\ttotal: 7.42s\tremaining: 2m 5s\n",
      "56:\tlearn: 0.2597490\ttest: 0.2471210\tbest: 0.2455413 (21)\ttotal: 7.43s\tremaining: 2m 2s\n",
      "57:\tlearn: 0.2591857\ttest: 0.2469994\tbest: 0.2455413 (21)\ttotal: 7.6s\tremaining: 2m 3s\n",
      "58:\tlearn: 0.2584376\ttest: 0.2469966\tbest: 0.2455413 (21)\ttotal: 7.74s\tremaining: 2m 3s\n",
      "59:\tlearn: 0.2579467\ttest: 0.2470164\tbest: 0.2455413 (21)\ttotal: 7.75s\tremaining: 2m 1s\n",
      "60:\tlearn: 0.2572613\ttest: 0.2468436\tbest: 0.2455413 (21)\ttotal: 7.9s\tremaining: 2m 1s\n",
      "61:\tlearn: 0.2572414\ttest: 0.2467693\tbest: 0.2455413 (21)\ttotal: 7.91s\tremaining: 1m 59s\n",
      "62:\tlearn: 0.2566628\ttest: 0.2465942\tbest: 0.2455413 (21)\ttotal: 8.1s\tremaining: 2m\n",
      "63:\tlearn: 0.2560576\ttest: 0.2466022\tbest: 0.2455413 (21)\ttotal: 8.27s\tremaining: 2m\n",
      "64:\tlearn: 0.2551092\ttest: 0.2464765\tbest: 0.2455413 (21)\ttotal: 8.4s\tremaining: 2m\n",
      "65:\tlearn: 0.2550785\ttest: 0.2465050\tbest: 0.2455413 (21)\ttotal: 8.4s\tremaining: 1m 58s\n",
      "66:\tlearn: 0.2543003\ttest: 0.2463308\tbest: 0.2455413 (21)\ttotal: 8.55s\tremaining: 1m 59s\n",
      "67:\tlearn: 0.2535138\ttest: 0.2462090\tbest: 0.2455413 (21)\ttotal: 8.66s\tremaining: 1m 58s\n",
      "68:\tlearn: 0.2531054\ttest: 0.2461640\tbest: 0.2455413 (21)\ttotal: 8.81s\tremaining: 1m 58s\n",
      "69:\tlearn: 0.2524663\ttest: 0.2462081\tbest: 0.2455413 (21)\ttotal: 8.97s\tremaining: 1m 59s\n",
      "70:\tlearn: 0.2517481\ttest: 0.2462018\tbest: 0.2455413 (21)\ttotal: 9.18s\tremaining: 2m\n",
      "71:\tlearn: 0.2512933\ttest: 0.2462454\tbest: 0.2455413 (21)\ttotal: 9.3s\tremaining: 1m 59s\n",
      "72:\tlearn: 0.2508744\ttest: 0.2459948\tbest: 0.2455413 (21)\ttotal: 9.45s\tremaining: 1m 59s\n",
      "73:\tlearn: 0.2504354\ttest: 0.2460859\tbest: 0.2455413 (21)\ttotal: 9.59s\tremaining: 1m 59s\n",
      "74:\tlearn: 0.2498759\ttest: 0.2463046\tbest: 0.2455413 (21)\ttotal: 9.74s\tremaining: 2m\n",
      "75:\tlearn: 0.2494678\ttest: 0.2465037\tbest: 0.2455413 (21)\ttotal: 9.85s\tremaining: 1m 59s\n",
      "76:\tlearn: 0.2489063\ttest: 0.2463195\tbest: 0.2455413 (21)\ttotal: 10.1s\tremaining: 2m\n",
      "77:\tlearn: 0.2484162\ttest: 0.2464192\tbest: 0.2455413 (21)\ttotal: 10.2s\tremaining: 2m\n",
      "78:\tlearn: 0.2477442\ttest: 0.2465866\tbest: 0.2455413 (21)\ttotal: 10.3s\tremaining: 2m\n",
      "79:\tlearn: 0.2469700\ttest: 0.2465069\tbest: 0.2455413 (21)\ttotal: 10.4s\tremaining: 2m\n",
      "80:\tlearn: 0.2465583\ttest: 0.2465571\tbest: 0.2455413 (21)\ttotal: 10.6s\tremaining: 2m\n",
      "81:\tlearn: 0.2458589\ttest: 0.2467416\tbest: 0.2455413 (21)\ttotal: 10.7s\tremaining: 1m 59s\n",
      "82:\tlearn: 0.2453681\ttest: 0.2468239\tbest: 0.2455413 (21)\ttotal: 10.9s\tremaining: 2m\n",
      "83:\tlearn: 0.2449670\ttest: 0.2468668\tbest: 0.2455413 (21)\ttotal: 11s\tremaining: 2m\n",
      "84:\tlearn: 0.2443860\ttest: 0.2467570\tbest: 0.2455413 (21)\ttotal: 11.2s\tremaining: 2m\n",
      "85:\tlearn: 0.2436399\ttest: 0.2466528\tbest: 0.2455413 (21)\ttotal: 11.3s\tremaining: 2m\n",
      "86:\tlearn: 0.2430089\ttest: 0.2467744\tbest: 0.2455413 (21)\ttotal: 11.4s\tremaining: 2m\n",
      "87:\tlearn: 0.2423469\ttest: 0.2471317\tbest: 0.2455413 (21)\ttotal: 11.6s\tremaining: 1m 59s\n",
      "88:\tlearn: 0.2418723\ttest: 0.2471667\tbest: 0.2455413 (21)\ttotal: 11.8s\tremaining: 2m\n",
      "89:\tlearn: 0.2410689\ttest: 0.2469734\tbest: 0.2455413 (21)\ttotal: 11.9s\tremaining: 2m\n",
      "90:\tlearn: 0.2405130\ttest: 0.2468759\tbest: 0.2455413 (21)\ttotal: 12.1s\tremaining: 2m 1s\n",
      "91:\tlearn: 0.2397888\ttest: 0.2468881\tbest: 0.2455413 (21)\ttotal: 12.3s\tremaining: 2m 1s\n",
      "92:\tlearn: 0.2392481\ttest: 0.2472718\tbest: 0.2455413 (21)\ttotal: 12.5s\tremaining: 2m 2s\n",
      "93:\tlearn: 0.2386282\ttest: 0.2474233\tbest: 0.2455413 (21)\ttotal: 12.7s\tremaining: 2m 1s\n"
     ]
    },
    {
     "name": "stdout",
     "output_type": "stream",
     "text": [
      "94:\tlearn: 0.2381789\ttest: 0.2475074\tbest: 0.2455413 (21)\ttotal: 13s\tremaining: 2m 3s\n",
      "95:\tlearn: 0.2376035\ttest: 0.2474142\tbest: 0.2455413 (21)\ttotal: 13.1s\tremaining: 2m 3s\n",
      "96:\tlearn: 0.2372467\ttest: 0.2474402\tbest: 0.2455413 (21)\ttotal: 13.3s\tremaining: 2m 3s\n",
      "97:\tlearn: 0.2366606\ttest: 0.2476859\tbest: 0.2455413 (21)\ttotal: 13.4s\tremaining: 2m 3s\n",
      "98:\tlearn: 0.2360558\ttest: 0.2479259\tbest: 0.2455413 (21)\ttotal: 13.6s\tremaining: 2m 3s\n",
      "99:\tlearn: 0.2354403\ttest: 0.2482319\tbest: 0.2455413 (21)\ttotal: 13.7s\tremaining: 2m 3s\n",
      "100:\tlearn: 0.2352016\ttest: 0.2481990\tbest: 0.2455413 (21)\ttotal: 13.9s\tremaining: 2m 3s\n",
      "101:\tlearn: 0.2351007\ttest: 0.2480774\tbest: 0.2455413 (21)\ttotal: 14s\tremaining: 2m 3s\n",
      "102:\tlearn: 0.2346082\ttest: 0.2475375\tbest: 0.2455413 (21)\ttotal: 14.2s\tremaining: 2m 3s\n",
      "103:\tlearn: 0.2340896\ttest: 0.2475547\tbest: 0.2455413 (21)\ttotal: 14.4s\tremaining: 2m 3s\n",
      "104:\tlearn: 0.2335459\ttest: 0.2480625\tbest: 0.2455413 (21)\ttotal: 14.5s\tremaining: 2m 3s\n",
      "105:\tlearn: 0.2333094\ttest: 0.2481059\tbest: 0.2455413 (21)\ttotal: 14.6s\tremaining: 2m 3s\n",
      "106:\tlearn: 0.2325477\ttest: 0.2479534\tbest: 0.2455413 (21)\ttotal: 14.8s\tremaining: 2m 3s\n",
      "107:\tlearn: 0.2318292\ttest: 0.2479567\tbest: 0.2455413 (21)\ttotal: 14.9s\tremaining: 2m 3s\n",
      "108:\tlearn: 0.2317956\ttest: 0.2479872\tbest: 0.2455413 (21)\ttotal: 14.9s\tremaining: 2m 2s\n",
      "109:\tlearn: 0.2313377\ttest: 0.2482639\tbest: 0.2455413 (21)\ttotal: 15.1s\tremaining: 2m 2s\n",
      "110:\tlearn: 0.2310011\ttest: 0.2487692\tbest: 0.2455413 (21)\ttotal: 15.3s\tremaining: 2m 2s\n",
      "111:\tlearn: 0.2303675\ttest: 0.2487553\tbest: 0.2455413 (21)\ttotal: 15.4s\tremaining: 2m 2s\n",
      "112:\tlearn: 0.2300074\ttest: 0.2489616\tbest: 0.2455413 (21)\ttotal: 15.6s\tremaining: 2m 2s\n",
      "113:\tlearn: 0.2293769\ttest: 0.2490757\tbest: 0.2455413 (21)\ttotal: 15.7s\tremaining: 2m 2s\n",
      "114:\tlearn: 0.2290580\ttest: 0.2493009\tbest: 0.2455413 (21)\ttotal: 15.8s\tremaining: 2m 1s\n",
      "115:\tlearn: 0.2284555\ttest: 0.2495027\tbest: 0.2455413 (21)\ttotal: 16s\tremaining: 2m 1s\n",
      "116:\tlearn: 0.2276617\ttest: 0.2496400\tbest: 0.2455413 (21)\ttotal: 16.1s\tremaining: 2m 1s\n",
      "117:\tlearn: 0.2271546\ttest: 0.2495989\tbest: 0.2455413 (21)\ttotal: 16.3s\tremaining: 2m 1s\n",
      "118:\tlearn: 0.2267829\ttest: 0.2493024\tbest: 0.2455413 (21)\ttotal: 16.4s\tremaining: 2m 1s\n",
      "119:\tlearn: 0.2261624\ttest: 0.2494808\tbest: 0.2455413 (21)\ttotal: 16.5s\tremaining: 2m 1s\n",
      "120:\tlearn: 0.2257896\ttest: 0.2495075\tbest: 0.2455413 (21)\ttotal: 16.6s\tremaining: 2m\n",
      "121:\tlearn: 0.2252996\ttest: 0.2496428\tbest: 0.2455413 (21)\ttotal: 16.8s\tremaining: 2m\n",
      "122:\tlearn: 0.2244931\ttest: 0.2495610\tbest: 0.2455413 (21)\ttotal: 16.9s\tremaining: 2m\n",
      "123:\tlearn: 0.2241650\ttest: 0.2493140\tbest: 0.2455413 (21)\ttotal: 17s\tremaining: 2m\n",
      "124:\tlearn: 0.2237047\ttest: 0.2493533\tbest: 0.2455413 (21)\ttotal: 17.2s\tremaining: 2m\n",
      "125:\tlearn: 0.2236736\ttest: 0.2495151\tbest: 0.2455413 (21)\ttotal: 17.2s\tremaining: 1m 59s\n",
      "126:\tlearn: 0.2234750\ttest: 0.2493753\tbest: 0.2455413 (21)\ttotal: 17.3s\tremaining: 1m 59s\n",
      "127:\tlearn: 0.2232122\ttest: 0.2496721\tbest: 0.2455413 (21)\ttotal: 17.5s\tremaining: 1m 58s\n",
      "128:\tlearn: 0.2226179\ttest: 0.2499661\tbest: 0.2455413 (21)\ttotal: 17.6s\tremaining: 1m 58s\n",
      "129:\tlearn: 0.2219823\ttest: 0.2498842\tbest: 0.2455413 (21)\ttotal: 17.7s\tremaining: 1m 58s\n",
      "130:\tlearn: 0.2215592\ttest: 0.2498232\tbest: 0.2455413 (21)\ttotal: 17.9s\tremaining: 1m 58s\n",
      "131:\tlearn: 0.2210824\ttest: 0.2498493\tbest: 0.2455413 (21)\ttotal: 18s\tremaining: 1m 58s\n",
      "132:\tlearn: 0.2205965\ttest: 0.2497168\tbest: 0.2455413 (21)\ttotal: 18.1s\tremaining: 1m 58s\n",
      "133:\tlearn: 0.2200362\ttest: 0.2495695\tbest: 0.2455413 (21)\ttotal: 18.3s\tremaining: 1m 58s\n",
      "134:\tlearn: 0.2195401\ttest: 0.2493279\tbest: 0.2455413 (21)\ttotal: 18.5s\tremaining: 1m 58s\n",
      "135:\tlearn: 0.2190294\ttest: 0.2490248\tbest: 0.2455413 (21)\ttotal: 18.6s\tremaining: 1m 58s\n",
      "136:\tlearn: 0.2183594\ttest: 0.2488142\tbest: 0.2455413 (21)\ttotal: 18.7s\tremaining: 1m 58s\n",
      "137:\tlearn: 0.2180716\ttest: 0.2484518\tbest: 0.2455413 (21)\ttotal: 18.9s\tremaining: 1m 57s\n",
      "138:\tlearn: 0.2177608\ttest: 0.2482113\tbest: 0.2455413 (21)\ttotal: 19s\tremaining: 1m 57s\n",
      "139:\tlearn: 0.2173082\ttest: 0.2482889\tbest: 0.2455413 (21)\ttotal: 19.2s\tremaining: 1m 57s\n",
      "140:\tlearn: 0.2166950\ttest: 0.2483129\tbest: 0.2455413 (21)\ttotal: 19.3s\tremaining: 1m 57s\n",
      "141:\tlearn: 0.2160414\ttest: 0.2482255\tbest: 0.2455413 (21)\ttotal: 19.5s\tremaining: 1m 57s\n",
      "142:\tlearn: 0.2156641\ttest: 0.2483696\tbest: 0.2455413 (21)\ttotal: 19.6s\tremaining: 1m 57s\n",
      "143:\tlearn: 0.2154100\ttest: 0.2482767\tbest: 0.2455413 (21)\ttotal: 19.8s\tremaining: 1m 57s\n",
      "144:\tlearn: 0.2150113\ttest: 0.2481658\tbest: 0.2455413 (21)\ttotal: 20s\tremaining: 1m 57s\n",
      "145:\tlearn: 0.2145952\ttest: 0.2483293\tbest: 0.2455413 (21)\ttotal: 20.1s\tremaining: 1m 57s\n",
      "146:\tlearn: 0.2139574\ttest: 0.2483641\tbest: 0.2455413 (21)\ttotal: 20.3s\tremaining: 1m 57s\n",
      "147:\tlearn: 0.2136602\ttest: 0.2486775\tbest: 0.2455413 (21)\ttotal: 20.4s\tremaining: 1m 57s\n",
      "148:\tlearn: 0.2130678\ttest: 0.2486189\tbest: 0.2455413 (21)\ttotal: 20.5s\tremaining: 1m 57s\n",
      "149:\tlearn: 0.2124645\ttest: 0.2484237\tbest: 0.2455413 (21)\ttotal: 20.7s\tremaining: 1m 57s\n",
      "150:\tlearn: 0.2120642\ttest: 0.2481826\tbest: 0.2455413 (21)\ttotal: 20.8s\tremaining: 1m 57s\n",
      "151:\tlearn: 0.2116412\ttest: 0.2483680\tbest: 0.2455413 (21)\ttotal: 21s\tremaining: 1m 57s\n",
      "152:\tlearn: 0.2112090\ttest: 0.2483069\tbest: 0.2455413 (21)\ttotal: 21.2s\tremaining: 1m 57s\n",
      "153:\tlearn: 0.2108876\ttest: 0.2484314\tbest: 0.2455413 (21)\ttotal: 21.3s\tremaining: 1m 57s\n",
      "154:\tlearn: 0.2104817\ttest: 0.2484900\tbest: 0.2455413 (21)\ttotal: 21.8s\tremaining: 1m 58s\n",
      "155:\tlearn: 0.2101309\ttest: 0.2481751\tbest: 0.2455413 (21)\ttotal: 21.9s\tremaining: 1m 58s\n",
      "156:\tlearn: 0.2097835\ttest: 0.2481797\tbest: 0.2455413 (21)\ttotal: 22.1s\tremaining: 1m 58s\n",
      "157:\tlearn: 0.2092476\ttest: 0.2482484\tbest: 0.2455413 (21)\ttotal: 22.2s\tremaining: 1m 58s\n",
      "158:\tlearn: 0.2086253\ttest: 0.2482914\tbest: 0.2455413 (21)\ttotal: 22.3s\tremaining: 1m 58s\n",
      "159:\tlearn: 0.2080816\ttest: 0.2481134\tbest: 0.2455413 (21)\ttotal: 22.5s\tremaining: 1m 57s\n",
      "160:\tlearn: 0.2077153\ttest: 0.2483653\tbest: 0.2455413 (21)\ttotal: 22.6s\tremaining: 1m 57s\n",
      "161:\tlearn: 0.2073056\ttest: 0.2484642\tbest: 0.2455413 (21)\ttotal: 22.7s\tremaining: 1m 57s\n",
      "162:\tlearn: 0.2072224\ttest: 0.2484287\tbest: 0.2455413 (21)\ttotal: 22.7s\tremaining: 1m 56s\n",
      "163:\tlearn: 0.2071310\ttest: 0.2489478\tbest: 0.2455413 (21)\ttotal: 22.9s\tremaining: 1m 56s\n",
      "164:\tlearn: 0.2070089\ttest: 0.2488409\tbest: 0.2455413 (21)\ttotal: 22.9s\tremaining: 1m 55s\n",
      "165:\tlearn: 0.2064287\ttest: 0.2488347\tbest: 0.2455413 (21)\ttotal: 23s\tremaining: 1m 55s\n",
      "166:\tlearn: 0.2060350\ttest: 0.2488608\tbest: 0.2455413 (21)\ttotal: 23.2s\tremaining: 1m 55s\n",
      "167:\tlearn: 0.2056655\ttest: 0.2485698\tbest: 0.2455413 (21)\ttotal: 23.5s\tremaining: 1m 56s\n",
      "168:\tlearn: 0.2052439\ttest: 0.2484760\tbest: 0.2455413 (21)\ttotal: 23.6s\tremaining: 1m 56s\n",
      "169:\tlearn: 0.2047150\ttest: 0.2483087\tbest: 0.2455413 (21)\ttotal: 23.8s\tremaining: 1m 56s\n",
      "170:\tlearn: 0.2043970\ttest: 0.2483973\tbest: 0.2455413 (21)\ttotal: 23.9s\tremaining: 1m 55s\n",
      "171:\tlearn: 0.2040022\ttest: 0.2485925\tbest: 0.2455413 (21)\ttotal: 24s\tremaining: 1m 55s\n",
      "172:\tlearn: 0.2035300\ttest: 0.2487901\tbest: 0.2455413 (21)\ttotal: 24.2s\tremaining: 1m 55s\n",
      "173:\tlearn: 0.2030091\ttest: 0.2488791\tbest: 0.2455413 (21)\ttotal: 24.3s\tremaining: 1m 55s\n",
      "174:\tlearn: 0.2025584\ttest: 0.2486944\tbest: 0.2455413 (21)\ttotal: 24.5s\tremaining: 1m 55s\n",
      "175:\tlearn: 0.2023109\ttest: 0.2486805\tbest: 0.2455413 (21)\ttotal: 24.5s\tremaining: 1m 54s\n",
      "176:\tlearn: 0.2020192\ttest: 0.2485168\tbest: 0.2455413 (21)\ttotal: 24.6s\tremaining: 1m 54s\n",
      "177:\tlearn: 0.2015451\ttest: 0.2487851\tbest: 0.2455413 (21)\ttotal: 24.8s\tremaining: 1m 54s\n",
      "178:\tlearn: 0.2012879\ttest: 0.2487951\tbest: 0.2455413 (21)\ttotal: 24.9s\tremaining: 1m 54s\n",
      "179:\tlearn: 0.2008603\ttest: 0.2488329\tbest: 0.2455413 (21)\ttotal: 25s\tremaining: 1m 53s\n",
      "180:\tlearn: 0.2004293\ttest: 0.2490404\tbest: 0.2455413 (21)\ttotal: 25.1s\tremaining: 1m 53s\n",
      "181:\tlearn: 0.2001383\ttest: 0.2491964\tbest: 0.2455413 (21)\ttotal: 25.3s\tremaining: 1m 53s\n",
      "182:\tlearn: 0.1997040\ttest: 0.2490672\tbest: 0.2455413 (21)\ttotal: 25.4s\tremaining: 1m 53s\n",
      "183:\tlearn: 0.1992580\ttest: 0.2490499\tbest: 0.2455413 (21)\ttotal: 25.5s\tremaining: 1m 53s\n",
      "184:\tlearn: 0.1987112\ttest: 0.2490868\tbest: 0.2455413 (21)\ttotal: 25.6s\tremaining: 1m 52s\n",
      "185:\tlearn: 0.1981557\ttest: 0.2488479\tbest: 0.2455413 (21)\ttotal: 25.8s\tremaining: 1m 52s\n",
      "186:\tlearn: 0.1975935\ttest: 0.2490202\tbest: 0.2455413 (21)\ttotal: 25.9s\tremaining: 1m 52s\n"
     ]
    },
    {
     "name": "stdout",
     "output_type": "stream",
     "text": [
      "187:\tlearn: 0.1970371\ttest: 0.2491778\tbest: 0.2455413 (21)\ttotal: 26s\tremaining: 1m 52s\n",
      "188:\tlearn: 0.1967333\ttest: 0.2491040\tbest: 0.2455413 (21)\ttotal: 26.1s\tremaining: 1m 52s\n",
      "189:\tlearn: 0.1962505\ttest: 0.2491403\tbest: 0.2455413 (21)\ttotal: 26.3s\tremaining: 1m 51s\n",
      "190:\tlearn: 0.1958566\ttest: 0.2492818\tbest: 0.2455413 (21)\ttotal: 26.4s\tremaining: 1m 51s\n",
      "191:\tlearn: 0.1954797\ttest: 0.2495189\tbest: 0.2455413 (21)\ttotal: 26.5s\tremaining: 1m 51s\n",
      "192:\tlearn: 0.1951893\ttest: 0.2492706\tbest: 0.2455413 (21)\ttotal: 26.6s\tremaining: 1m 51s\n",
      "193:\tlearn: 0.1948767\ttest: 0.2488476\tbest: 0.2455413 (21)\ttotal: 26.7s\tremaining: 1m 50s\n",
      "194:\tlearn: 0.1945097\ttest: 0.2489815\tbest: 0.2455413 (21)\ttotal: 26.8s\tremaining: 1m 50s\n",
      "195:\tlearn: 0.1940737\ttest: 0.2488454\tbest: 0.2455413 (21)\ttotal: 26.9s\tremaining: 1m 50s\n",
      "196:\tlearn: 0.1937748\ttest: 0.2490958\tbest: 0.2455413 (21)\ttotal: 27s\tremaining: 1m 50s\n",
      "197:\tlearn: 0.1933194\ttest: 0.2492105\tbest: 0.2455413 (21)\ttotal: 27.1s\tremaining: 1m 49s\n",
      "198:\tlearn: 0.1927873\ttest: 0.2492387\tbest: 0.2455413 (21)\ttotal: 27.3s\tremaining: 1m 49s\n",
      "199:\tlearn: 0.1922865\ttest: 0.2492422\tbest: 0.2455413 (21)\ttotal: 27.4s\tremaining: 1m 49s\n",
      "200:\tlearn: 0.1917603\ttest: 0.2493517\tbest: 0.2455413 (21)\ttotal: 27.5s\tremaining: 1m 49s\n",
      "201:\tlearn: 0.1913174\ttest: 0.2495489\tbest: 0.2455413 (21)\ttotal: 27.6s\tremaining: 1m 49s\n",
      "202:\tlearn: 0.1908800\ttest: 0.2496323\tbest: 0.2455413 (21)\ttotal: 27.8s\tremaining: 1m 48s\n",
      "203:\tlearn: 0.1906955\ttest: 0.2497706\tbest: 0.2455413 (21)\ttotal: 27.9s\tremaining: 1m 48s\n",
      "204:\tlearn: 0.1902934\ttest: 0.2498716\tbest: 0.2455413 (21)\ttotal: 28s\tremaining: 1m 48s\n",
      "205:\tlearn: 0.1899702\ttest: 0.2499325\tbest: 0.2455413 (21)\ttotal: 28.1s\tremaining: 1m 48s\n",
      "206:\tlearn: 0.1895725\ttest: 0.2499775\tbest: 0.2455413 (21)\ttotal: 28.3s\tremaining: 1m 48s\n",
      "207:\tlearn: 0.1891638\ttest: 0.2499858\tbest: 0.2455413 (21)\ttotal: 28.4s\tremaining: 1m 48s\n",
      "208:\tlearn: 0.1887244\ttest: 0.2501820\tbest: 0.2455413 (21)\ttotal: 28.5s\tremaining: 1m 47s\n",
      "209:\tlearn: 0.1886038\ttest: 0.2502674\tbest: 0.2455413 (21)\ttotal: 28.6s\tremaining: 1m 47s\n",
      "210:\tlearn: 0.1882536\ttest: 0.2501560\tbest: 0.2455413 (21)\ttotal: 28.7s\tremaining: 1m 47s\n",
      "211:\tlearn: 0.1879330\ttest: 0.2501356\tbest: 0.2455413 (21)\ttotal: 28.8s\tremaining: 1m 47s\n",
      "212:\tlearn: 0.1875029\ttest: 0.2502107\tbest: 0.2455413 (21)\ttotal: 29s\tremaining: 1m 47s\n",
      "213:\tlearn: 0.1870575\ttest: 0.2500002\tbest: 0.2455413 (21)\ttotal: 29.1s\tremaining: 1m 46s\n",
      "214:\tlearn: 0.1865339\ttest: 0.2498667\tbest: 0.2455413 (21)\ttotal: 29.2s\tremaining: 1m 46s\n",
      "215:\tlearn: 0.1864166\ttest: 0.2500197\tbest: 0.2455413 (21)\ttotal: 29.3s\tremaining: 1m 46s\n",
      "216:\tlearn: 0.1860748\ttest: 0.2498805\tbest: 0.2455413 (21)\ttotal: 29.5s\tremaining: 1m 46s\n",
      "217:\tlearn: 0.1855896\ttest: 0.2499183\tbest: 0.2455413 (21)\ttotal: 29.6s\tremaining: 1m 46s\n",
      "218:\tlearn: 0.1851208\ttest: 0.2499466\tbest: 0.2455413 (21)\ttotal: 29.7s\tremaining: 1m 46s\n",
      "219:\tlearn: 0.1848163\ttest: 0.2502823\tbest: 0.2455413 (21)\ttotal: 29.8s\tremaining: 1m 45s\n",
      "220:\tlearn: 0.1844709\ttest: 0.2504345\tbest: 0.2455413 (21)\ttotal: 30s\tremaining: 1m 45s\n",
      "221:\tlearn: 0.1840821\ttest: 0.2507419\tbest: 0.2455413 (21)\ttotal: 30.1s\tremaining: 1m 45s\n",
      "222:\tlearn: 0.1837581\ttest: 0.2508937\tbest: 0.2455413 (21)\ttotal: 30.2s\tremaining: 1m 45s\n",
      "223:\tlearn: 0.1833162\ttest: 0.2509192\tbest: 0.2455413 (21)\ttotal: 30.3s\tremaining: 1m 45s\n",
      "224:\tlearn: 0.1830389\ttest: 0.2508838\tbest: 0.2455413 (21)\ttotal: 30.5s\tremaining: 1m 45s\n",
      "225:\tlearn: 0.1828169\ttest: 0.2508216\tbest: 0.2455413 (21)\ttotal: 30.6s\tremaining: 1m 44s\n",
      "226:\tlearn: 0.1825330\ttest: 0.2509355\tbest: 0.2455413 (21)\ttotal: 30.7s\tremaining: 1m 44s\n",
      "227:\tlearn: 0.1820741\ttest: 0.2509858\tbest: 0.2455413 (21)\ttotal: 30.9s\tremaining: 1m 44s\n",
      "228:\tlearn: 0.1815819\ttest: 0.2509257\tbest: 0.2455413 (21)\ttotal: 31s\tremaining: 1m 44s\n",
      "229:\tlearn: 0.1812151\ttest: 0.2508090\tbest: 0.2455413 (21)\ttotal: 31.1s\tremaining: 1m 44s\n",
      "230:\tlearn: 0.1809413\ttest: 0.2509704\tbest: 0.2455413 (21)\ttotal: 31.2s\tremaining: 1m 43s\n",
      "231:\tlearn: 0.1805421\ttest: 0.2510689\tbest: 0.2455413 (21)\ttotal: 31.3s\tremaining: 1m 43s\n",
      "232:\tlearn: 0.1802186\ttest: 0.2510774\tbest: 0.2455413 (21)\ttotal: 31.5s\tremaining: 1m 43s\n",
      "233:\tlearn: 0.1799118\ttest: 0.2512029\tbest: 0.2455413 (21)\ttotal: 31.6s\tremaining: 1m 43s\n",
      "234:\tlearn: 0.1796083\ttest: 0.2513192\tbest: 0.2455413 (21)\ttotal: 31.7s\tremaining: 1m 43s\n",
      "235:\tlearn: 0.1791156\ttest: 0.2513255\tbest: 0.2455413 (21)\ttotal: 31.8s\tremaining: 1m 43s\n",
      "236:\tlearn: 0.1787770\ttest: 0.2516085\tbest: 0.2455413 (21)\ttotal: 32s\tremaining: 1m 42s\n",
      "237:\tlearn: 0.1783670\ttest: 0.2515418\tbest: 0.2455413 (21)\ttotal: 32.1s\tremaining: 1m 42s\n",
      "238:\tlearn: 0.1782085\ttest: 0.2515764\tbest: 0.2455413 (21)\ttotal: 32.2s\tremaining: 1m 42s\n",
      "239:\tlearn: 0.1780199\ttest: 0.2515211\tbest: 0.2455413 (21)\ttotal: 32.3s\tremaining: 1m 42s\n",
      "240:\tlearn: 0.1775694\ttest: 0.2514857\tbest: 0.2455413 (21)\ttotal: 32.5s\tremaining: 1m 42s\n",
      "241:\tlearn: 0.1771874\ttest: 0.2515653\tbest: 0.2455413 (21)\ttotal: 32.6s\tremaining: 1m 42s\n",
      "242:\tlearn: 0.1770053\ttest: 0.2515546\tbest: 0.2455413 (21)\ttotal: 32.7s\tremaining: 1m 41s\n",
      "243:\tlearn: 0.1768070\ttest: 0.2515692\tbest: 0.2455413 (21)\ttotal: 32.8s\tremaining: 1m 41s\n",
      "244:\tlearn: 0.1764975\ttest: 0.2521040\tbest: 0.2455413 (21)\ttotal: 32.9s\tremaining: 1m 41s\n",
      "245:\tlearn: 0.1761138\ttest: 0.2521715\tbest: 0.2455413 (21)\ttotal: 33.1s\tremaining: 1m 41s\n",
      "246:\tlearn: 0.1757430\ttest: 0.2522369\tbest: 0.2455413 (21)\ttotal: 33.2s\tremaining: 1m 41s\n",
      "247:\tlearn: 0.1753492\ttest: 0.2522240\tbest: 0.2455413 (21)\ttotal: 33.3s\tremaining: 1m 41s\n",
      "248:\tlearn: 0.1749123\ttest: 0.2522758\tbest: 0.2455413 (21)\ttotal: 33.4s\tremaining: 1m 40s\n",
      "249:\tlearn: 0.1745260\ttest: 0.2522038\tbest: 0.2455413 (21)\ttotal: 33.6s\tremaining: 1m 40s\n",
      "250:\tlearn: 0.1742773\ttest: 0.2521991\tbest: 0.2455413 (21)\ttotal: 33.7s\tremaining: 1m 40s\n",
      "251:\tlearn: 0.1738999\ttest: 0.2522791\tbest: 0.2455413 (21)\ttotal: 33.8s\tremaining: 1m 40s\n",
      "252:\tlearn: 0.1735613\ttest: 0.2523693\tbest: 0.2455413 (21)\ttotal: 33.9s\tremaining: 1m 40s\n",
      "253:\tlearn: 0.1731964\ttest: 0.2523814\tbest: 0.2455413 (21)\ttotal: 34s\tremaining: 1m 39s\n",
      "254:\tlearn: 0.1729085\ttest: 0.2523043\tbest: 0.2455413 (21)\ttotal: 34.2s\tremaining: 1m 39s\n",
      "255:\tlearn: 0.1725323\ttest: 0.2523401\tbest: 0.2455413 (21)\ttotal: 34.3s\tremaining: 1m 39s\n",
      "256:\tlearn: 0.1721467\ttest: 0.2523518\tbest: 0.2455413 (21)\ttotal: 34.4s\tremaining: 1m 39s\n",
      "257:\tlearn: 0.1716766\ttest: 0.2524832\tbest: 0.2455413 (21)\ttotal: 34.5s\tremaining: 1m 39s\n",
      "258:\tlearn: 0.1712983\ttest: 0.2526439\tbest: 0.2455413 (21)\ttotal: 34.7s\tremaining: 1m 39s\n",
      "259:\tlearn: 0.1709694\ttest: 0.2527214\tbest: 0.2455413 (21)\ttotal: 34.8s\tremaining: 1m 39s\n",
      "260:\tlearn: 0.1705383\ttest: 0.2527893\tbest: 0.2455413 (21)\ttotal: 34.9s\tremaining: 1m 38s\n",
      "261:\tlearn: 0.1702277\ttest: 0.2529224\tbest: 0.2455413 (21)\ttotal: 35s\tremaining: 1m 38s\n",
      "262:\tlearn: 0.1700401\ttest: 0.2529982\tbest: 0.2455413 (21)\ttotal: 35.2s\tremaining: 1m 38s\n",
      "263:\tlearn: 0.1695053\ttest: 0.2531819\tbest: 0.2455413 (21)\ttotal: 35.3s\tremaining: 1m 38s\n",
      "264:\tlearn: 0.1691826\ttest: 0.2529700\tbest: 0.2455413 (21)\ttotal: 35.4s\tremaining: 1m 38s\n",
      "265:\tlearn: 0.1688055\ttest: 0.2530134\tbest: 0.2455413 (21)\ttotal: 35.5s\tremaining: 1m 38s\n",
      "266:\tlearn: 0.1684879\ttest: 0.2531042\tbest: 0.2455413 (21)\ttotal: 35.7s\tremaining: 1m 37s\n",
      "267:\tlearn: 0.1680407\ttest: 0.2531682\tbest: 0.2455413 (21)\ttotal: 35.8s\tremaining: 1m 37s\n",
      "268:\tlearn: 0.1675938\ttest: 0.2529620\tbest: 0.2455413 (21)\ttotal: 35.9s\tremaining: 1m 37s\n",
      "269:\tlearn: 0.1671346\ttest: 0.2529564\tbest: 0.2455413 (21)\ttotal: 36s\tremaining: 1m 37s\n",
      "270:\tlearn: 0.1669213\ttest: 0.2528751\tbest: 0.2455413 (21)\ttotal: 36.2s\tremaining: 1m 37s\n",
      "271:\tlearn: 0.1665647\ttest: 0.2526470\tbest: 0.2455413 (21)\ttotal: 36.3s\tremaining: 1m 37s\n",
      "272:\tlearn: 0.1663595\ttest: 0.2524384\tbest: 0.2455413 (21)\ttotal: 36.4s\tremaining: 1m 36s\n",
      "273:\tlearn: 0.1659929\ttest: 0.2521352\tbest: 0.2455413 (21)\ttotal: 36.5s\tremaining: 1m 36s\n",
      "274:\tlearn: 0.1656409\ttest: 0.2522567\tbest: 0.2455413 (21)\ttotal: 36.6s\tremaining: 1m 36s\n",
      "275:\tlearn: 0.1654018\ttest: 0.2522695\tbest: 0.2455413 (21)\ttotal: 36.8s\tremaining: 1m 36s\n",
      "276:\tlearn: 0.1650431\ttest: 0.2525141\tbest: 0.2455413 (21)\ttotal: 36.9s\tremaining: 1m 36s\n",
      "277:\tlearn: 0.1647177\ttest: 0.2524145\tbest: 0.2455413 (21)\ttotal: 37s\tremaining: 1m 36s\n",
      "278:\tlearn: 0.1643192\ttest: 0.2523644\tbest: 0.2455413 (21)\ttotal: 37.1s\tremaining: 1m 35s\n",
      "279:\tlearn: 0.1639843\ttest: 0.2524739\tbest: 0.2455413 (21)\ttotal: 37.2s\tremaining: 1m 35s\n"
     ]
    },
    {
     "name": "stdout",
     "output_type": "stream",
     "text": [
      "280:\tlearn: 0.1637269\ttest: 0.2526139\tbest: 0.2455413 (21)\ttotal: 37.4s\tremaining: 1m 35s\n",
      "281:\tlearn: 0.1634936\ttest: 0.2526466\tbest: 0.2455413 (21)\ttotal: 37.5s\tremaining: 1m 35s\n",
      "282:\tlearn: 0.1632084\ttest: 0.2527001\tbest: 0.2455413 (21)\ttotal: 37.6s\tremaining: 1m 35s\n",
      "283:\tlearn: 0.1628835\ttest: 0.2527420\tbest: 0.2455413 (21)\ttotal: 37.8s\tremaining: 1m 35s\n",
      "284:\tlearn: 0.1626128\ttest: 0.2527845\tbest: 0.2455413 (21)\ttotal: 37.9s\tremaining: 1m 35s\n",
      "285:\tlearn: 0.1622361\ttest: 0.2528097\tbest: 0.2455413 (21)\ttotal: 38s\tremaining: 1m 34s\n",
      "286:\tlearn: 0.1620167\ttest: 0.2530194\tbest: 0.2455413 (21)\ttotal: 38.1s\tremaining: 1m 34s\n",
      "287:\tlearn: 0.1616220\ttest: 0.2529484\tbest: 0.2455413 (21)\ttotal: 38.2s\tremaining: 1m 34s\n",
      "288:\tlearn: 0.1612466\ttest: 0.2528119\tbest: 0.2455413 (21)\ttotal: 38.4s\tremaining: 1m 34s\n",
      "289:\tlearn: 0.1608986\ttest: 0.2529252\tbest: 0.2455413 (21)\ttotal: 38.5s\tremaining: 1m 34s\n",
      "290:\tlearn: 0.1605070\ttest: 0.2529482\tbest: 0.2455413 (21)\ttotal: 38.6s\tremaining: 1m 34s\n",
      "291:\tlearn: 0.1601280\ttest: 0.2531759\tbest: 0.2455413 (21)\ttotal: 38.7s\tremaining: 1m 33s\n",
      "292:\tlearn: 0.1599066\ttest: 0.2531941\tbest: 0.2455413 (21)\ttotal: 38.9s\tremaining: 1m 33s\n",
      "293:\tlearn: 0.1595352\ttest: 0.2532101\tbest: 0.2455413 (21)\ttotal: 39.1s\tremaining: 1m 33s\n",
      "294:\tlearn: 0.1591168\ttest: 0.2530576\tbest: 0.2455413 (21)\ttotal: 39.2s\tremaining: 1m 33s\n",
      "295:\tlearn: 0.1588484\ttest: 0.2533075\tbest: 0.2455413 (21)\ttotal: 39.3s\tremaining: 1m 33s\n",
      "296:\tlearn: 0.1586583\ttest: 0.2533811\tbest: 0.2455413 (21)\ttotal: 39.4s\tremaining: 1m 33s\n",
      "297:\tlearn: 0.1583587\ttest: 0.2533663\tbest: 0.2455413 (21)\ttotal: 39.6s\tremaining: 1m 33s\n",
      "298:\tlearn: 0.1581780\ttest: 0.2533631\tbest: 0.2455413 (21)\ttotal: 39.7s\tremaining: 1m 33s\n",
      "299:\tlearn: 0.1581045\ttest: 0.2533693\tbest: 0.2455413 (21)\ttotal: 39.8s\tremaining: 1m 32s\n",
      "300:\tlearn: 0.1577832\ttest: 0.2532047\tbest: 0.2455413 (21)\ttotal: 39.9s\tremaining: 1m 32s\n",
      "301:\tlearn: 0.1575673\ttest: 0.2533285\tbest: 0.2455413 (21)\ttotal: 40s\tremaining: 1m 32s\n",
      "302:\tlearn: 0.1573048\ttest: 0.2534070\tbest: 0.2455413 (21)\ttotal: 40.1s\tremaining: 1m 32s\n",
      "303:\tlearn: 0.1570834\ttest: 0.2535490\tbest: 0.2455413 (21)\ttotal: 40.2s\tremaining: 1m 32s\n",
      "304:\tlearn: 0.1567921\ttest: 0.2537186\tbest: 0.2455413 (21)\ttotal: 40.3s\tremaining: 1m 31s\n",
      "305:\tlearn: 0.1564689\ttest: 0.2535132\tbest: 0.2455413 (21)\ttotal: 40.5s\tremaining: 1m 31s\n",
      "306:\tlearn: 0.1562811\ttest: 0.2534438\tbest: 0.2455413 (21)\ttotal: 40.6s\tremaining: 1m 31s\n",
      "307:\tlearn: 0.1560451\ttest: 0.2535010\tbest: 0.2455413 (21)\ttotal: 40.7s\tremaining: 1m 31s\n",
      "308:\tlearn: 0.1558326\ttest: 0.2536319\tbest: 0.2455413 (21)\ttotal: 40.8s\tremaining: 1m 31s\n",
      "309:\tlearn: 0.1555801\ttest: 0.2536050\tbest: 0.2455413 (21)\ttotal: 41s\tremaining: 1m 31s\n",
      "310:\tlearn: 0.1553270\ttest: 0.2535584\tbest: 0.2455413 (21)\ttotal: 41.1s\tremaining: 1m 31s\n",
      "311:\tlearn: 0.1550074\ttest: 0.2536021\tbest: 0.2455413 (21)\ttotal: 41.2s\tremaining: 1m 30s\n",
      "312:\tlearn: 0.1546540\ttest: 0.2536601\tbest: 0.2455413 (21)\ttotal: 41.3s\tremaining: 1m 30s\n",
      "313:\tlearn: 0.1544963\ttest: 0.2537526\tbest: 0.2455413 (21)\ttotal: 41.5s\tremaining: 1m 30s\n",
      "314:\tlearn: 0.1542174\ttest: 0.2538638\tbest: 0.2455413 (21)\ttotal: 41.6s\tremaining: 1m 30s\n",
      "315:\tlearn: 0.1540144\ttest: 0.2538273\tbest: 0.2455413 (21)\ttotal: 41.7s\tremaining: 1m 30s\n",
      "316:\tlearn: 0.1538222\ttest: 0.2538262\tbest: 0.2455413 (21)\ttotal: 41.8s\tremaining: 1m 30s\n",
      "317:\tlearn: 0.1535368\ttest: 0.2537865\tbest: 0.2455413 (21)\ttotal: 42s\tremaining: 1m 30s\n",
      "318:\tlearn: 0.1532382\ttest: 0.2538451\tbest: 0.2455413 (21)\ttotal: 42.1s\tremaining: 1m 29s\n",
      "319:\tlearn: 0.1529155\ttest: 0.2537634\tbest: 0.2455413 (21)\ttotal: 42.2s\tremaining: 1m 29s\n",
      "320:\tlearn: 0.1526180\ttest: 0.2537230\tbest: 0.2455413 (21)\ttotal: 42.3s\tremaining: 1m 29s\n",
      "321:\tlearn: 0.1524144\ttest: 0.2537276\tbest: 0.2455413 (21)\ttotal: 42.5s\tremaining: 1m 29s\n",
      "322:\tlearn: 0.1522460\ttest: 0.2537916\tbest: 0.2455413 (21)\ttotal: 42.6s\tremaining: 1m 29s\n",
      "323:\tlearn: 0.1519012\ttest: 0.2539297\tbest: 0.2455413 (21)\ttotal: 42.7s\tremaining: 1m 29s\n",
      "324:\tlearn: 0.1518124\ttest: 0.2539080\tbest: 0.2455413 (21)\ttotal: 42.7s\tremaining: 1m 28s\n",
      "325:\tlearn: 0.1514692\ttest: 0.2539716\tbest: 0.2455413 (21)\ttotal: 42.8s\tremaining: 1m 28s\n",
      "326:\tlearn: 0.1512820\ttest: 0.2541411\tbest: 0.2455413 (21)\ttotal: 43s\tremaining: 1m 28s\n",
      "327:\tlearn: 0.1509569\ttest: 0.2541684\tbest: 0.2455413 (21)\ttotal: 43.1s\tremaining: 1m 28s\n",
      "328:\tlearn: 0.1507741\ttest: 0.2541025\tbest: 0.2455413 (21)\ttotal: 43.2s\tremaining: 1m 28s\n",
      "329:\tlearn: 0.1505965\ttest: 0.2540631\tbest: 0.2455413 (21)\ttotal: 43.3s\tremaining: 1m 27s\n",
      "330:\tlearn: 0.1503086\ttest: 0.2541671\tbest: 0.2455413 (21)\ttotal: 43.5s\tremaining: 1m 27s\n",
      "331:\tlearn: 0.1500768\ttest: 0.2543134\tbest: 0.2455413 (21)\ttotal: 43.6s\tremaining: 1m 27s\n",
      "332:\tlearn: 0.1497182\ttest: 0.2541525\tbest: 0.2455413 (21)\ttotal: 43.7s\tremaining: 1m 27s\n",
      "333:\tlearn: 0.1492616\ttest: 0.2544140\tbest: 0.2455413 (21)\ttotal: 43.8s\tremaining: 1m 27s\n",
      "334:\tlearn: 0.1490065\ttest: 0.2543996\tbest: 0.2455413 (21)\ttotal: 44s\tremaining: 1m 27s\n",
      "335:\tlearn: 0.1486286\ttest: 0.2544610\tbest: 0.2455413 (21)\ttotal: 44.1s\tremaining: 1m 27s\n",
      "336:\tlearn: 0.1483601\ttest: 0.2543226\tbest: 0.2455413 (21)\ttotal: 44.2s\tremaining: 1m 26s\n",
      "337:\tlearn: 0.1480974\ttest: 0.2542297\tbest: 0.2455413 (21)\ttotal: 44.3s\tremaining: 1m 26s\n",
      "338:\tlearn: 0.1479367\ttest: 0.2543294\tbest: 0.2455413 (21)\ttotal: 44.5s\tremaining: 1m 26s\n",
      "339:\tlearn: 0.1475657\ttest: 0.2542174\tbest: 0.2455413 (21)\ttotal: 44.6s\tremaining: 1m 26s\n",
      "340:\tlearn: 0.1474148\ttest: 0.2542486\tbest: 0.2455413 (21)\ttotal: 44.7s\tremaining: 1m 26s\n",
      "341:\tlearn: 0.1471242\ttest: 0.2541719\tbest: 0.2455413 (21)\ttotal: 44.8s\tremaining: 1m 26s\n",
      "342:\tlearn: 0.1468636\ttest: 0.2541584\tbest: 0.2455413 (21)\ttotal: 45s\tremaining: 1m 26s\n",
      "343:\tlearn: 0.1466581\ttest: 0.2542209\tbest: 0.2455413 (21)\ttotal: 45.1s\tremaining: 1m 25s\n",
      "344:\tlearn: 0.1464274\ttest: 0.2542374\tbest: 0.2455413 (21)\ttotal: 45.2s\tremaining: 1m 25s\n",
      "345:\tlearn: 0.1461196\ttest: 0.2542846\tbest: 0.2455413 (21)\ttotal: 45.3s\tremaining: 1m 25s\n",
      "346:\tlearn: 0.1457948\ttest: 0.2544432\tbest: 0.2455413 (21)\ttotal: 45.5s\tremaining: 1m 25s\n",
      "347:\tlearn: 0.1455378\ttest: 0.2543856\tbest: 0.2455413 (21)\ttotal: 45.6s\tremaining: 1m 25s\n",
      "348:\tlearn: 0.1451789\ttest: 0.2542900\tbest: 0.2455413 (21)\ttotal: 45.7s\tremaining: 1m 25s\n",
      "349:\tlearn: 0.1450459\ttest: 0.2542333\tbest: 0.2455413 (21)\ttotal: 45.8s\tremaining: 1m 25s\n",
      "350:\tlearn: 0.1447734\ttest: 0.2543339\tbest: 0.2455413 (21)\ttotal: 45.9s\tremaining: 1m 24s\n",
      "351:\tlearn: 0.1445691\ttest: 0.2544022\tbest: 0.2455413 (21)\ttotal: 46.1s\tremaining: 1m 24s\n",
      "352:\tlearn: 0.1444123\ttest: 0.2546308\tbest: 0.2455413 (21)\ttotal: 46.2s\tremaining: 1m 24s\n",
      "353:\tlearn: 0.1441225\ttest: 0.2546023\tbest: 0.2455413 (21)\ttotal: 46.3s\tremaining: 1m 24s\n",
      "354:\tlearn: 0.1439473\ttest: 0.2545418\tbest: 0.2455413 (21)\ttotal: 46.5s\tremaining: 1m 24s\n",
      "355:\tlearn: 0.1437303\ttest: 0.2546503\tbest: 0.2455413 (21)\ttotal: 46.6s\tremaining: 1m 24s\n",
      "356:\tlearn: 0.1435307\ttest: 0.2546309\tbest: 0.2455413 (21)\ttotal: 46.7s\tremaining: 1m 24s\n",
      "357:\tlearn: 0.1432642\ttest: 0.2548564\tbest: 0.2455413 (21)\ttotal: 46.8s\tremaining: 1m 23s\n",
      "358:\tlearn: 0.1430492\ttest: 0.2548150\tbest: 0.2455413 (21)\ttotal: 46.9s\tremaining: 1m 23s\n",
      "359:\tlearn: 0.1427070\ttest: 0.2548173\tbest: 0.2455413 (21)\ttotal: 47.1s\tremaining: 1m 23s\n",
      "360:\tlearn: 0.1424276\ttest: 0.2547587\tbest: 0.2455413 (21)\ttotal: 47.2s\tremaining: 1m 23s\n",
      "361:\tlearn: 0.1421475\ttest: 0.2547524\tbest: 0.2455413 (21)\ttotal: 47.3s\tremaining: 1m 23s\n",
      "362:\tlearn: 0.1419188\ttest: 0.2547462\tbest: 0.2455413 (21)\ttotal: 47.5s\tremaining: 1m 23s\n",
      "363:\tlearn: 0.1416435\ttest: 0.2548480\tbest: 0.2455413 (21)\ttotal: 47.6s\tremaining: 1m 23s\n",
      "364:\tlearn: 0.1415159\ttest: 0.2547547\tbest: 0.2455413 (21)\ttotal: 47.8s\tremaining: 1m 23s\n",
      "365:\tlearn: 0.1412644\ttest: 0.2547773\tbest: 0.2455413 (21)\ttotal: 47.9s\tremaining: 1m 22s\n",
      "366:\tlearn: 0.1409996\ttest: 0.2548982\tbest: 0.2455413 (21)\ttotal: 48s\tremaining: 1m 22s\n",
      "367:\tlearn: 0.1407000\ttest: 0.2548111\tbest: 0.2455413 (21)\ttotal: 48.2s\tremaining: 1m 22s\n",
      "368:\tlearn: 0.1404490\ttest: 0.2549432\tbest: 0.2455413 (21)\ttotal: 48.3s\tremaining: 1m 22s\n",
      "369:\tlearn: 0.1402429\ttest: 0.2550335\tbest: 0.2455413 (21)\ttotal: 48.4s\tremaining: 1m 22s\n",
      "370:\tlearn: 0.1400875\ttest: 0.2550311\tbest: 0.2455413 (21)\ttotal: 48.5s\tremaining: 1m 22s\n",
      "371:\tlearn: 0.1398385\ttest: 0.2550825\tbest: 0.2455413 (21)\ttotal: 48.7s\tremaining: 1m 22s\n"
     ]
    },
    {
     "name": "stdout",
     "output_type": "stream",
     "text": [
      "372:\tlearn: 0.1396898\ttest: 0.2552627\tbest: 0.2455413 (21)\ttotal: 48.8s\tremaining: 1m 22s\n",
      "373:\tlearn: 0.1394336\ttest: 0.2552310\tbest: 0.2455413 (21)\ttotal: 48.9s\tremaining: 1m 21s\n",
      "374:\tlearn: 0.1391881\ttest: 0.2552453\tbest: 0.2455413 (21)\ttotal: 49s\tremaining: 1m 21s\n",
      "375:\tlearn: 0.1390003\ttest: 0.2552173\tbest: 0.2455413 (21)\ttotal: 49.1s\tremaining: 1m 21s\n",
      "376:\tlearn: 0.1387598\ttest: 0.2553174\tbest: 0.2455413 (21)\ttotal: 49.3s\tremaining: 1m 21s\n",
      "377:\tlearn: 0.1385362\ttest: 0.2554093\tbest: 0.2455413 (21)\ttotal: 49.4s\tremaining: 1m 21s\n",
      "378:\tlearn: 0.1384172\ttest: 0.2554436\tbest: 0.2455413 (21)\ttotal: 49.5s\tremaining: 1m 21s\n",
      "379:\tlearn: 0.1381140\ttest: 0.2553229\tbest: 0.2455413 (21)\ttotal: 49.6s\tremaining: 1m 20s\n",
      "380:\tlearn: 0.1379449\ttest: 0.2553635\tbest: 0.2455413 (21)\ttotal: 49.8s\tremaining: 1m 20s\n",
      "381:\tlearn: 0.1376763\ttest: 0.2557213\tbest: 0.2455413 (21)\ttotal: 49.9s\tremaining: 1m 20s\n",
      "382:\tlearn: 0.1373491\ttest: 0.2558001\tbest: 0.2455413 (21)\ttotal: 50.1s\tremaining: 1m 20s\n",
      "383:\tlearn: 0.1371309\ttest: 0.2558391\tbest: 0.2455413 (21)\ttotal: 50.2s\tremaining: 1m 20s\n",
      "384:\tlearn: 0.1368587\ttest: 0.2558230\tbest: 0.2455413 (21)\ttotal: 50.3s\tremaining: 1m 20s\n",
      "385:\tlearn: 0.1366630\ttest: 0.2558393\tbest: 0.2455413 (21)\ttotal: 50.4s\tremaining: 1m 20s\n",
      "386:\tlearn: 0.1364362\ttest: 0.2560108\tbest: 0.2455413 (21)\ttotal: 50.6s\tremaining: 1m 20s\n",
      "387:\tlearn: 0.1362399\ttest: 0.2562289\tbest: 0.2455413 (21)\ttotal: 50.7s\tremaining: 1m 19s\n",
      "388:\tlearn: 0.1360876\ttest: 0.2562855\tbest: 0.2455413 (21)\ttotal: 50.8s\tremaining: 1m 19s\n",
      "389:\tlearn: 0.1358725\ttest: 0.2564133\tbest: 0.2455413 (21)\ttotal: 50.9s\tremaining: 1m 19s\n",
      "390:\tlearn: 0.1355713\ttest: 0.2564714\tbest: 0.2455413 (21)\ttotal: 51s\tremaining: 1m 19s\n",
      "391:\tlearn: 0.1353164\ttest: 0.2566337\tbest: 0.2455413 (21)\ttotal: 51.2s\tremaining: 1m 19s\n",
      "392:\tlearn: 0.1352147\ttest: 0.2565637\tbest: 0.2455413 (21)\ttotal: 51.3s\tremaining: 1m 19s\n",
      "393:\tlearn: 0.1349873\ttest: 0.2566298\tbest: 0.2455413 (21)\ttotal: 51.4s\tremaining: 1m 19s\n",
      "394:\tlearn: 0.1346860\ttest: 0.2567583\tbest: 0.2455413 (21)\ttotal: 51.5s\tremaining: 1m 18s\n",
      "395:\tlearn: 0.1344650\ttest: 0.2567599\tbest: 0.2455413 (21)\ttotal: 51.6s\tremaining: 1m 18s\n",
      "396:\tlearn: 0.1342040\ttest: 0.2566384\tbest: 0.2455413 (21)\ttotal: 51.8s\tremaining: 1m 18s\n",
      "397:\tlearn: 0.1339165\ttest: 0.2568463\tbest: 0.2455413 (21)\ttotal: 51.9s\tremaining: 1m 18s\n",
      "398:\tlearn: 0.1337498\ttest: 0.2568318\tbest: 0.2455413 (21)\ttotal: 52s\tremaining: 1m 18s\n",
      "399:\tlearn: 0.1335829\ttest: 0.2567149\tbest: 0.2455413 (21)\ttotal: 52.1s\tremaining: 1m 18s\n",
      "400:\tlearn: 0.1334601\ttest: 0.2567217\tbest: 0.2455413 (21)\ttotal: 52.3s\tremaining: 1m 18s\n",
      "401:\tlearn: 0.1333078\ttest: 0.2567820\tbest: 0.2455413 (21)\ttotal: 52.4s\tremaining: 1m 17s\n",
      "402:\tlearn: 0.1331120\ttest: 0.2568917\tbest: 0.2455413 (21)\ttotal: 52.5s\tremaining: 1m 17s\n",
      "403:\tlearn: 0.1328572\ttest: 0.2568699\tbest: 0.2455413 (21)\ttotal: 52.6s\tremaining: 1m 17s\n",
      "404:\tlearn: 0.1326968\ttest: 0.2569383\tbest: 0.2455413 (21)\ttotal: 52.7s\tremaining: 1m 17s\n",
      "405:\tlearn: 0.1324691\ttest: 0.2570131\tbest: 0.2455413 (21)\ttotal: 52.9s\tremaining: 1m 17s\n",
      "406:\tlearn: 0.1322798\ttest: 0.2570297\tbest: 0.2455413 (21)\ttotal: 53s\tremaining: 1m 17s\n",
      "407:\tlearn: 0.1321291\ttest: 0.2571203\tbest: 0.2455413 (21)\ttotal: 53.1s\tremaining: 1m 17s\n",
      "408:\tlearn: 0.1319727\ttest: 0.2571334\tbest: 0.2455413 (21)\ttotal: 53.2s\tremaining: 1m 16s\n",
      "409:\tlearn: 0.1317483\ttest: 0.2572583\tbest: 0.2455413 (21)\ttotal: 53.3s\tremaining: 1m 16s\n",
      "410:\tlearn: 0.1315137\ttest: 0.2572776\tbest: 0.2455413 (21)\ttotal: 53.5s\tremaining: 1m 16s\n",
      "411:\tlearn: 0.1312813\ttest: 0.2573627\tbest: 0.2455413 (21)\ttotal: 53.6s\tremaining: 1m 16s\n",
      "412:\tlearn: 0.1310598\ttest: 0.2570570\tbest: 0.2455413 (21)\ttotal: 53.7s\tremaining: 1m 16s\n",
      "413:\tlearn: 0.1309026\ttest: 0.2572225\tbest: 0.2455413 (21)\ttotal: 53.8s\tremaining: 1m 16s\n",
      "414:\tlearn: 0.1307291\ttest: 0.2573315\tbest: 0.2455413 (21)\ttotal: 54s\tremaining: 1m 16s\n",
      "415:\tlearn: 0.1304991\ttest: 0.2573457\tbest: 0.2455413 (21)\ttotal: 54.1s\tremaining: 1m 15s\n",
      "416:\tlearn: 0.1303099\ttest: 0.2574512\tbest: 0.2455413 (21)\ttotal: 54.2s\tremaining: 1m 15s\n",
      "417:\tlearn: 0.1301085\ttest: 0.2574914\tbest: 0.2455413 (21)\ttotal: 54.3s\tremaining: 1m 15s\n",
      "418:\tlearn: 0.1298502\ttest: 0.2575517\tbest: 0.2455413 (21)\ttotal: 54.5s\tremaining: 1m 15s\n",
      "419:\tlearn: 0.1297341\ttest: 0.2576119\tbest: 0.2455413 (21)\ttotal: 54.6s\tremaining: 1m 15s\n",
      "420:\tlearn: 0.1296097\ttest: 0.2575794\tbest: 0.2455413 (21)\ttotal: 54.7s\tremaining: 1m 15s\n",
      "421:\tlearn: 0.1295536\ttest: 0.2575504\tbest: 0.2455413 (21)\ttotal: 54.8s\tremaining: 1m 15s\n",
      "422:\tlearn: 0.1293206\ttest: 0.2576232\tbest: 0.2455413 (21)\ttotal: 54.9s\tremaining: 1m 14s\n",
      "423:\tlearn: 0.1292255\ttest: 0.2571547\tbest: 0.2455413 (21)\ttotal: 55.1s\tremaining: 1m 14s\n",
      "424:\tlearn: 0.1290138\ttest: 0.2571498\tbest: 0.2455413 (21)\ttotal: 55.2s\tremaining: 1m 14s\n",
      "425:\tlearn: 0.1289025\ttest: 0.2571600\tbest: 0.2455413 (21)\ttotal: 55.3s\tremaining: 1m 14s\n",
      "426:\tlearn: 0.1288108\ttest: 0.2571209\tbest: 0.2455413 (21)\ttotal: 55.4s\tremaining: 1m 14s\n",
      "427:\tlearn: 0.1285515\ttest: 0.2574376\tbest: 0.2455413 (21)\ttotal: 55.6s\tremaining: 1m 14s\n",
      "428:\tlearn: 0.1284190\ttest: 0.2573733\tbest: 0.2455413 (21)\ttotal: 55.7s\tremaining: 1m 14s\n",
      "429:\tlearn: 0.1282158\ttest: 0.2573473\tbest: 0.2455413 (21)\ttotal: 55.8s\tremaining: 1m 13s\n",
      "430:\tlearn: 0.1281157\ttest: 0.2573764\tbest: 0.2455413 (21)\ttotal: 55.9s\tremaining: 1m 13s\n",
      "431:\tlearn: 0.1279325\ttest: 0.2575902\tbest: 0.2455413 (21)\ttotal: 56.1s\tremaining: 1m 13s\n",
      "432:\tlearn: 0.1277484\ttest: 0.2576157\tbest: 0.2455413 (21)\ttotal: 56.2s\tremaining: 1m 13s\n",
      "433:\tlearn: 0.1276899\ttest: 0.2576497\tbest: 0.2455413 (21)\ttotal: 56.3s\tremaining: 1m 13s\n",
      "434:\tlearn: 0.1275233\ttest: 0.2576191\tbest: 0.2455413 (21)\ttotal: 56.4s\tremaining: 1m 13s\n",
      "435:\tlearn: 0.1272779\ttest: 0.2576904\tbest: 0.2455413 (21)\ttotal: 56.5s\tremaining: 1m 13s\n",
      "436:\tlearn: 0.1270567\ttest: 0.2578884\tbest: 0.2455413 (21)\ttotal: 56.7s\tremaining: 1m 13s\n",
      "437:\tlearn: 0.1268805\ttest: 0.2579261\tbest: 0.2455413 (21)\ttotal: 56.8s\tremaining: 1m 12s\n",
      "438:\tlearn: 0.1267215\ttest: 0.2580593\tbest: 0.2455413 (21)\ttotal: 56.9s\tremaining: 1m 12s\n",
      "439:\tlearn: 0.1264992\ttest: 0.2581847\tbest: 0.2455413 (21)\ttotal: 57s\tremaining: 1m 12s\n",
      "440:\tlearn: 0.1263066\ttest: 0.2581853\tbest: 0.2455413 (21)\ttotal: 57.2s\tremaining: 1m 12s\n",
      "441:\tlearn: 0.1260858\ttest: 0.2583264\tbest: 0.2455413 (21)\ttotal: 57.3s\tremaining: 1m 12s\n",
      "442:\tlearn: 0.1259203\ttest: 0.2583641\tbest: 0.2455413 (21)\ttotal: 57.4s\tremaining: 1m 12s\n",
      "443:\tlearn: 0.1257553\ttest: 0.2584130\tbest: 0.2455413 (21)\ttotal: 57.5s\tremaining: 1m 12s\n",
      "444:\tlearn: 0.1256246\ttest: 0.2584734\tbest: 0.2455413 (21)\ttotal: 57.7s\tremaining: 1m 11s\n",
      "445:\tlearn: 0.1254830\ttest: 0.2583933\tbest: 0.2455413 (21)\ttotal: 57.8s\tremaining: 1m 11s\n",
      "446:\tlearn: 0.1253964\ttest: 0.2584324\tbest: 0.2455413 (21)\ttotal: 57.9s\tremaining: 1m 11s\n",
      "447:\tlearn: 0.1251520\ttest: 0.2583789\tbest: 0.2455413 (21)\ttotal: 58s\tremaining: 1m 11s\n",
      "448:\tlearn: 0.1250769\ttest: 0.2583344\tbest: 0.2455413 (21)\ttotal: 58.2s\tremaining: 1m 11s\n",
      "449:\tlearn: 0.1248832\ttest: 0.2584331\tbest: 0.2455413 (21)\ttotal: 58.3s\tremaining: 1m 11s\n",
      "450:\tlearn: 0.1248158\ttest: 0.2584668\tbest: 0.2455413 (21)\ttotal: 58.4s\tremaining: 1m 11s\n",
      "451:\tlearn: 0.1246282\ttest: 0.2585291\tbest: 0.2455413 (21)\ttotal: 58.5s\tremaining: 1m 10s\n",
      "452:\tlearn: 0.1245397\ttest: 0.2585716\tbest: 0.2455413 (21)\ttotal: 58.6s\tremaining: 1m 10s\n",
      "453:\tlearn: 0.1243765\ttest: 0.2586082\tbest: 0.2455413 (21)\ttotal: 58.8s\tremaining: 1m 10s\n",
      "454:\tlearn: 0.1242971\ttest: 0.2586062\tbest: 0.2455413 (21)\ttotal: 58.9s\tremaining: 1m 10s\n",
      "455:\tlearn: 0.1242343\ttest: 0.2586064\tbest: 0.2455413 (21)\ttotal: 59s\tremaining: 1m 10s\n",
      "456:\tlearn: 0.1240547\ttest: 0.2586934\tbest: 0.2455413 (21)\ttotal: 59.2s\tremaining: 1m 10s\n",
      "457:\tlearn: 0.1239010\ttest: 0.2587619\tbest: 0.2455413 (21)\ttotal: 59.3s\tremaining: 1m 10s\n",
      "458:\tlearn: 0.1237075\ttest: 0.2589417\tbest: 0.2455413 (21)\ttotal: 59.4s\tremaining: 1m 10s\n",
      "459:\tlearn: 0.1235398\ttest: 0.2589906\tbest: 0.2455413 (21)\ttotal: 59.5s\tremaining: 1m 9s\n",
      "460:\tlearn: 0.1235100\ttest: 0.2589791\tbest: 0.2455413 (21)\ttotal: 59.6s\tremaining: 1m 9s\n",
      "461:\tlearn: 0.1233666\ttest: 0.2589697\tbest: 0.2455413 (21)\ttotal: 59.7s\tremaining: 1m 9s\n",
      "462:\tlearn: 0.1232058\ttest: 0.2589646\tbest: 0.2455413 (21)\ttotal: 59.8s\tremaining: 1m 9s\n",
      "463:\tlearn: 0.1230612\ttest: 0.2588811\tbest: 0.2455413 (21)\ttotal: 59.9s\tremaining: 1m 9s\n",
      "464:\tlearn: 0.1229406\ttest: 0.2591415\tbest: 0.2455413 (21)\ttotal: 1m\tremaining: 1m 9s\n"
     ]
    },
    {
     "name": "stdout",
     "output_type": "stream",
     "text": [
      "465:\tlearn: 0.1226943\ttest: 0.2593768\tbest: 0.2455413 (21)\ttotal: 1m\tremaining: 1m 8s\n",
      "466:\tlearn: 0.1224369\ttest: 0.2594732\tbest: 0.2455413 (21)\ttotal: 1m\tremaining: 1m 8s\n",
      "467:\tlearn: 0.1223726\ttest: 0.2594208\tbest: 0.2455413 (21)\ttotal: 1m\tremaining: 1m 8s\n",
      "468:\tlearn: 0.1221160\ttest: 0.2595050\tbest: 0.2455413 (21)\ttotal: 1m\tremaining: 1m 8s\n",
      "469:\tlearn: 0.1217789\ttest: 0.2593576\tbest: 0.2455413 (21)\ttotal: 1m\tremaining: 1m 8s\n",
      "470:\tlearn: 0.1216258\ttest: 0.2593086\tbest: 0.2455413 (21)\ttotal: 1m\tremaining: 1m 8s\n",
      "471:\tlearn: 0.1214820\ttest: 0.2593764\tbest: 0.2455413 (21)\ttotal: 1m\tremaining: 1m 8s\n",
      "472:\tlearn: 0.1212930\ttest: 0.2593783\tbest: 0.2455413 (21)\ttotal: 1m 1s\tremaining: 1m 7s\n",
      "473:\tlearn: 0.1210697\ttest: 0.2594123\tbest: 0.2455413 (21)\ttotal: 1m 1s\tremaining: 1m 7s\n",
      "474:\tlearn: 0.1210089\ttest: 0.2594555\tbest: 0.2455413 (21)\ttotal: 1m 1s\tremaining: 1m 7s\n",
      "475:\tlearn: 0.1209253\ttest: 0.2593795\tbest: 0.2455413 (21)\ttotal: 1m 1s\tremaining: 1m 7s\n",
      "476:\tlearn: 0.1207609\ttest: 0.2594756\tbest: 0.2455413 (21)\ttotal: 1m 1s\tremaining: 1m 7s\n",
      "477:\tlearn: 0.1205676\ttest: 0.2594985\tbest: 0.2455413 (21)\ttotal: 1m 1s\tremaining: 1m 7s\n",
      "478:\tlearn: 0.1203684\ttest: 0.2594883\tbest: 0.2455413 (21)\ttotal: 1m 1s\tremaining: 1m 7s\n",
      "479:\tlearn: 0.1202601\ttest: 0.2595847\tbest: 0.2455413 (21)\ttotal: 1m 1s\tremaining: 1m 7s\n",
      "480:\tlearn: 0.1199919\ttest: 0.2597472\tbest: 0.2455413 (21)\ttotal: 1m 2s\tremaining: 1m 6s\n",
      "481:\tlearn: 0.1198653\ttest: 0.2597034\tbest: 0.2455413 (21)\ttotal: 1m 2s\tremaining: 1m 6s\n",
      "482:\tlearn: 0.1196682\ttest: 0.2595856\tbest: 0.2455413 (21)\ttotal: 1m 2s\tremaining: 1m 6s\n",
      "483:\tlearn: 0.1194835\ttest: 0.2596997\tbest: 0.2455413 (21)\ttotal: 1m 2s\tremaining: 1m 6s\n",
      "484:\tlearn: 0.1193840\ttest: 0.2596804\tbest: 0.2455413 (21)\ttotal: 1m 2s\tremaining: 1m 6s\n",
      "485:\tlearn: 0.1193145\ttest: 0.2597141\tbest: 0.2455413 (21)\ttotal: 1m 2s\tremaining: 1m 6s\n",
      "486:\tlearn: 0.1192033\ttest: 0.2597389\tbest: 0.2455413 (21)\ttotal: 1m 2s\tremaining: 1m 6s\n",
      "487:\tlearn: 0.1189691\ttest: 0.2598310\tbest: 0.2455413 (21)\ttotal: 1m 2s\tremaining: 1m 5s\n",
      "488:\tlearn: 0.1186698\ttest: 0.2599332\tbest: 0.2455413 (21)\ttotal: 1m 3s\tremaining: 1m 5s\n",
      "489:\tlearn: 0.1185917\ttest: 0.2599281\tbest: 0.2455413 (21)\ttotal: 1m 3s\tremaining: 1m 5s\n",
      "490:\tlearn: 0.1185414\ttest: 0.2599364\tbest: 0.2455413 (21)\ttotal: 1m 3s\tremaining: 1m 5s\n",
      "491:\tlearn: 0.1184340\ttest: 0.2599422\tbest: 0.2455413 (21)\ttotal: 1m 3s\tremaining: 1m 5s\n",
      "492:\tlearn: 0.1182684\ttest: 0.2599272\tbest: 0.2455413 (21)\ttotal: 1m 3s\tremaining: 1m 5s\n",
      "493:\tlearn: 0.1181594\ttest: 0.2598045\tbest: 0.2455413 (21)\ttotal: 1m 3s\tremaining: 1m 5s\n",
      "494:\tlearn: 0.1180023\ttest: 0.2598807\tbest: 0.2455413 (21)\ttotal: 1m 3s\tremaining: 1m 5s\n",
      "495:\tlearn: 0.1178883\ttest: 0.2599128\tbest: 0.2455413 (21)\ttotal: 1m 3s\tremaining: 1m 4s\n",
      "496:\tlearn: 0.1177874\ttest: 0.2599023\tbest: 0.2455413 (21)\ttotal: 1m 4s\tremaining: 1m 4s\n",
      "497:\tlearn: 0.1176256\ttest: 0.2602246\tbest: 0.2455413 (21)\ttotal: 1m 4s\tremaining: 1m 4s\n",
      "498:\tlearn: 0.1174444\ttest: 0.2602911\tbest: 0.2455413 (21)\ttotal: 1m 4s\tremaining: 1m 4s\n",
      "499:\tlearn: 0.1172189\ttest: 0.2604669\tbest: 0.2455413 (21)\ttotal: 1m 4s\tremaining: 1m 4s\n",
      "500:\tlearn: 0.1171184\ttest: 0.2604676\tbest: 0.2455413 (21)\ttotal: 1m 4s\tremaining: 1m 4s\n",
      "501:\tlearn: 0.1170120\ttest: 0.2605085\tbest: 0.2455413 (21)\ttotal: 1m 4s\tremaining: 1m 4s\n",
      "502:\tlearn: 0.1168767\ttest: 0.2605043\tbest: 0.2455413 (21)\ttotal: 1m 4s\tremaining: 1m 3s\n",
      "503:\tlearn: 0.1166723\ttest: 0.2605798\tbest: 0.2455413 (21)\ttotal: 1m 4s\tremaining: 1m 3s\n",
      "504:\tlearn: 0.1164726\ttest: 0.2607144\tbest: 0.2455413 (21)\ttotal: 1m 4s\tremaining: 1m 3s\n",
      "505:\tlearn: 0.1163198\ttest: 0.2607437\tbest: 0.2455413 (21)\ttotal: 1m 5s\tremaining: 1m 3s\n",
      "506:\tlearn: 0.1162353\ttest: 0.2607640\tbest: 0.2455413 (21)\ttotal: 1m 5s\tremaining: 1m 3s\n",
      "507:\tlearn: 0.1161451\ttest: 0.2608228\tbest: 0.2455413 (21)\ttotal: 1m 5s\tremaining: 1m 3s\n",
      "508:\tlearn: 0.1159685\ttest: 0.2608278\tbest: 0.2455413 (21)\ttotal: 1m 5s\tremaining: 1m 3s\n",
      "509:\tlearn: 0.1157997\ttest: 0.2608638\tbest: 0.2455413 (21)\ttotal: 1m 5s\tremaining: 1m 3s\n",
      "510:\tlearn: 0.1157000\ttest: 0.2608084\tbest: 0.2455413 (21)\ttotal: 1m 5s\tremaining: 1m 2s\n",
      "511:\tlearn: 0.1155030\ttest: 0.2609627\tbest: 0.2455413 (21)\ttotal: 1m 5s\tremaining: 1m 2s\n",
      "512:\tlearn: 0.1153983\ttest: 0.2609210\tbest: 0.2455413 (21)\ttotal: 1m 5s\tremaining: 1m 2s\n",
      "513:\tlearn: 0.1153269\ttest: 0.2608836\tbest: 0.2455413 (21)\ttotal: 1m 6s\tremaining: 1m 2s\n",
      "514:\tlearn: 0.1150938\ttest: 0.2609090\tbest: 0.2455413 (21)\ttotal: 1m 6s\tremaining: 1m 2s\n",
      "515:\tlearn: 0.1150459\ttest: 0.2609267\tbest: 0.2455413 (21)\ttotal: 1m 6s\tremaining: 1m 2s\n",
      "516:\tlearn: 0.1148856\ttest: 0.2609949\tbest: 0.2455413 (21)\ttotal: 1m 6s\tremaining: 1m 2s\n",
      "517:\tlearn: 0.1147232\ttest: 0.2609047\tbest: 0.2455413 (21)\ttotal: 1m 6s\tremaining: 1m 1s\n",
      "518:\tlearn: 0.1146490\ttest: 0.2609650\tbest: 0.2455413 (21)\ttotal: 1m 6s\tremaining: 1m 1s\n",
      "519:\tlearn: 0.1145250\ttest: 0.2610249\tbest: 0.2455413 (21)\ttotal: 1m 6s\tremaining: 1m 1s\n",
      "520:\tlearn: 0.1143848\ttest: 0.2609510\tbest: 0.2455413 (21)\ttotal: 1m 6s\tremaining: 1m 1s\n",
      "521:\tlearn: 0.1142513\ttest: 0.2608908\tbest: 0.2455413 (21)\ttotal: 1m 7s\tremaining: 1m 1s\n",
      "522:\tlearn: 0.1141977\ttest: 0.2610039\tbest: 0.2455413 (21)\ttotal: 1m 7s\tremaining: 1m 1s\n",
      "523:\tlearn: 0.1139945\ttest: 0.2611368\tbest: 0.2455413 (21)\ttotal: 1m 7s\tremaining: 1m 1s\n",
      "524:\tlearn: 0.1137306\ttest: 0.2612202\tbest: 0.2455413 (21)\ttotal: 1m 7s\tremaining: 1m 1s\n",
      "525:\tlearn: 0.1136464\ttest: 0.2611809\tbest: 0.2455413 (21)\ttotal: 1m 7s\tremaining: 1m\n",
      "526:\tlearn: 0.1135411\ttest: 0.2611431\tbest: 0.2455413 (21)\ttotal: 1m 7s\tremaining: 1m\n",
      "527:\tlearn: 0.1133473\ttest: 0.2612761\tbest: 0.2455413 (21)\ttotal: 1m 7s\tremaining: 1m\n",
      "528:\tlearn: 0.1131359\ttest: 0.2612034\tbest: 0.2455413 (21)\ttotal: 1m 7s\tremaining: 1m\n",
      "529:\tlearn: 0.1130031\ttest: 0.2610559\tbest: 0.2455413 (21)\ttotal: 1m 8s\tremaining: 1m\n",
      "530:\tlearn: 0.1128094\ttest: 0.2610339\tbest: 0.2455413 (21)\ttotal: 1m 8s\tremaining: 1m\n",
      "531:\tlearn: 0.1126182\ttest: 0.2611340\tbest: 0.2455413 (21)\ttotal: 1m 8s\tremaining: 1m\n",
      "532:\tlearn: 0.1125491\ttest: 0.2613865\tbest: 0.2455413 (21)\ttotal: 1m 8s\tremaining: 60s\n",
      "533:\tlearn: 0.1123849\ttest: 0.2613683\tbest: 0.2455413 (21)\ttotal: 1m 8s\tremaining: 59.8s\n",
      "534:\tlearn: 0.1122492\ttest: 0.2613432\tbest: 0.2455413 (21)\ttotal: 1m 8s\tremaining: 59.7s\n",
      "535:\tlearn: 0.1121146\ttest: 0.2614589\tbest: 0.2455413 (21)\ttotal: 1m 8s\tremaining: 59.6s\n",
      "536:\tlearn: 0.1119738\ttest: 0.2614711\tbest: 0.2455413 (21)\ttotal: 1m 8s\tremaining: 59.4s\n",
      "537:\tlearn: 0.1117671\ttest: 0.2613763\tbest: 0.2455413 (21)\ttotal: 1m 9s\tremaining: 59.3s\n",
      "538:\tlearn: 0.1116258\ttest: 0.2615352\tbest: 0.2455413 (21)\ttotal: 1m 9s\tremaining: 59.2s\n",
      "539:\tlearn: 0.1114382\ttest: 0.2614942\tbest: 0.2455413 (21)\ttotal: 1m 9s\tremaining: 59.1s\n",
      "540:\tlearn: 0.1113664\ttest: 0.2614751\tbest: 0.2455413 (21)\ttotal: 1m 9s\tremaining: 58.9s\n",
      "541:\tlearn: 0.1111875\ttest: 0.2615737\tbest: 0.2455413 (21)\ttotal: 1m 9s\tremaining: 58.8s\n",
      "542:\tlearn: 0.1110519\ttest: 0.2616113\tbest: 0.2455413 (21)\ttotal: 1m 9s\tremaining: 58.7s\n",
      "543:\tlearn: 0.1109365\ttest: 0.2615671\tbest: 0.2455413 (21)\ttotal: 1m 9s\tremaining: 58.5s\n",
      "544:\tlearn: 0.1108262\ttest: 0.2615885\tbest: 0.2455413 (21)\ttotal: 1m 9s\tremaining: 58.4s\n",
      "545:\tlearn: 0.1107830\ttest: 0.2615382\tbest: 0.2455413 (21)\ttotal: 1m 10s\tremaining: 58.3s\n",
      "546:\tlearn: 0.1106214\ttest: 0.2616313\tbest: 0.2455413 (21)\ttotal: 1m 10s\tremaining: 58.2s\n",
      "547:\tlearn: 0.1104137\ttest: 0.2615082\tbest: 0.2455413 (21)\ttotal: 1m 10s\tremaining: 58s\n",
      "548:\tlearn: 0.1102511\ttest: 0.2614463\tbest: 0.2455413 (21)\ttotal: 1m 10s\tremaining: 57.9s\n",
      "549:\tlearn: 0.1100996\ttest: 0.2613421\tbest: 0.2455413 (21)\ttotal: 1m 10s\tremaining: 57.7s\n",
      "550:\tlearn: 0.1100738\ttest: 0.2613095\tbest: 0.2455413 (21)\ttotal: 1m 10s\tremaining: 57.6s\n",
      "551:\tlearn: 0.1099086\ttest: 0.2614085\tbest: 0.2455413 (21)\ttotal: 1m 10s\tremaining: 57.5s\n",
      "552:\tlearn: 0.1097866\ttest: 0.2614677\tbest: 0.2455413 (21)\ttotal: 1m 10s\tremaining: 57.4s\n",
      "553:\tlearn: 0.1096969\ttest: 0.2615167\tbest: 0.2455413 (21)\ttotal: 1m 11s\tremaining: 57.2s\n",
      "554:\tlearn: 0.1095272\ttest: 0.2615250\tbest: 0.2455413 (21)\ttotal: 1m 11s\tremaining: 57.1s\n",
      "555:\tlearn: 0.1093441\ttest: 0.2615308\tbest: 0.2455413 (21)\ttotal: 1m 11s\tremaining: 57s\n",
      "556:\tlearn: 0.1091661\ttest: 0.2616213\tbest: 0.2455413 (21)\ttotal: 1m 11s\tremaining: 56.8s\n",
      "557:\tlearn: 0.1089908\ttest: 0.2615771\tbest: 0.2455413 (21)\ttotal: 1m 11s\tremaining: 56.7s\n"
     ]
    },
    {
     "name": "stdout",
     "output_type": "stream",
     "text": [
      "558:\tlearn: 0.1088517\ttest: 0.2616056\tbest: 0.2455413 (21)\ttotal: 1m 11s\tremaining: 56.6s\n",
      "559:\tlearn: 0.1086927\ttest: 0.2616333\tbest: 0.2455413 (21)\ttotal: 1m 11s\tremaining: 56.4s\n",
      "560:\tlearn: 0.1085346\ttest: 0.2617623\tbest: 0.2455413 (21)\ttotal: 1m 11s\tremaining: 56.3s\n",
      "561:\tlearn: 0.1083869\ttest: 0.2617768\tbest: 0.2455413 (21)\ttotal: 1m 12s\tremaining: 56.2s\n",
      "562:\tlearn: 0.1083013\ttest: 0.2619000\tbest: 0.2455413 (21)\ttotal: 1m 12s\tremaining: 56s\n",
      "563:\tlearn: 0.1081950\ttest: 0.2620259\tbest: 0.2455413 (21)\ttotal: 1m 12s\tremaining: 55.9s\n",
      "564:\tlearn: 0.1079664\ttest: 0.2621753\tbest: 0.2455413 (21)\ttotal: 1m 12s\tremaining: 55.8s\n",
      "565:\tlearn: 0.1078628\ttest: 0.2620829\tbest: 0.2455413 (21)\ttotal: 1m 12s\tremaining: 55.6s\n",
      "566:\tlearn: 0.1077647\ttest: 0.2620733\tbest: 0.2455413 (21)\ttotal: 1m 12s\tremaining: 55.5s\n",
      "567:\tlearn: 0.1076674\ttest: 0.2623103\tbest: 0.2455413 (21)\ttotal: 1m 12s\tremaining: 55.4s\n",
      "568:\tlearn: 0.1075601\ttest: 0.2626001\tbest: 0.2455413 (21)\ttotal: 1m 12s\tremaining: 55.3s\n",
      "569:\tlearn: 0.1073787\ttest: 0.2627473\tbest: 0.2455413 (21)\ttotal: 1m 13s\tremaining: 55.1s\n",
      "570:\tlearn: 0.1071897\ttest: 0.2626934\tbest: 0.2455413 (21)\ttotal: 1m 13s\tremaining: 55s\n",
      "571:\tlearn: 0.1070350\ttest: 0.2628126\tbest: 0.2455413 (21)\ttotal: 1m 13s\tremaining: 54.9s\n",
      "572:\tlearn: 0.1068602\ttest: 0.2628806\tbest: 0.2455413 (21)\ttotal: 1m 13s\tremaining: 54.7s\n",
      "573:\tlearn: 0.1066853\ttest: 0.2628451\tbest: 0.2455413 (21)\ttotal: 1m 13s\tremaining: 54.6s\n",
      "574:\tlearn: 0.1065566\ttest: 0.2627935\tbest: 0.2455413 (21)\ttotal: 1m 13s\tremaining: 54.5s\n",
      "575:\tlearn: 0.1063761\ttest: 0.2629535\tbest: 0.2455413 (21)\ttotal: 1m 13s\tremaining: 54.3s\n",
      "576:\tlearn: 0.1063376\ttest: 0.2629305\tbest: 0.2455413 (21)\ttotal: 1m 13s\tremaining: 54.2s\n",
      "577:\tlearn: 0.1062318\ttest: 0.2628609\tbest: 0.2455413 (21)\ttotal: 1m 14s\tremaining: 54.1s\n",
      "578:\tlearn: 0.1061195\ttest: 0.2627901\tbest: 0.2455413 (21)\ttotal: 1m 14s\tremaining: 53.9s\n",
      "579:\tlearn: 0.1060313\ttest: 0.2627590\tbest: 0.2455413 (21)\ttotal: 1m 14s\tremaining: 53.8s\n",
      "580:\tlearn: 0.1058991\ttest: 0.2627743\tbest: 0.2455413 (21)\ttotal: 1m 14s\tremaining: 53.7s\n",
      "581:\tlearn: 0.1056981\ttest: 0.2629671\tbest: 0.2455413 (21)\ttotal: 1m 14s\tremaining: 53.6s\n",
      "582:\tlearn: 0.1055650\ttest: 0.2629326\tbest: 0.2455413 (21)\ttotal: 1m 14s\tremaining: 53.4s\n",
      "583:\tlearn: 0.1052838\ttest: 0.2631254\tbest: 0.2455413 (21)\ttotal: 1m 14s\tremaining: 53.3s\n",
      "584:\tlearn: 0.1051405\ttest: 0.2631146\tbest: 0.2455413 (21)\ttotal: 1m 14s\tremaining: 53.2s\n",
      "585:\tlearn: 0.1050177\ttest: 0.2631601\tbest: 0.2455413 (21)\ttotal: 1m 15s\tremaining: 53s\n",
      "586:\tlearn: 0.1049237\ttest: 0.2631091\tbest: 0.2455413 (21)\ttotal: 1m 15s\tremaining: 52.9s\n",
      "587:\tlearn: 0.1048509\ttest: 0.2631788\tbest: 0.2455413 (21)\ttotal: 1m 15s\tremaining: 52.8s\n",
      "588:\tlearn: 0.1047116\ttest: 0.2631796\tbest: 0.2455413 (21)\ttotal: 1m 15s\tremaining: 52.6s\n",
      "589:\tlearn: 0.1045139\ttest: 0.2632605\tbest: 0.2455413 (21)\ttotal: 1m 15s\tremaining: 52.5s\n",
      "590:\tlearn: 0.1043782\ttest: 0.2631656\tbest: 0.2455413 (21)\ttotal: 1m 15s\tremaining: 52.4s\n",
      "591:\tlearn: 0.1041891\ttest: 0.2631579\tbest: 0.2455413 (21)\ttotal: 1m 15s\tremaining: 52.2s\n",
      "592:\tlearn: 0.1041671\ttest: 0.2631715\tbest: 0.2455413 (21)\ttotal: 1m 15s\tremaining: 52.1s\n",
      "593:\tlearn: 0.1039048\ttest: 0.2630342\tbest: 0.2455413 (21)\ttotal: 1m 16s\tremaining: 52s\n",
      "594:\tlearn: 0.1037504\ttest: 0.2628459\tbest: 0.2455413 (21)\ttotal: 1m 16s\tremaining: 51.9s\n",
      "595:\tlearn: 0.1036259\ttest: 0.2628848\tbest: 0.2455413 (21)\ttotal: 1m 16s\tremaining: 51.7s\n",
      "596:\tlearn: 0.1034800\ttest: 0.2627706\tbest: 0.2455413 (21)\ttotal: 1m 16s\tremaining: 51.6s\n",
      "597:\tlearn: 0.1033057\ttest: 0.2627975\tbest: 0.2455413 (21)\ttotal: 1m 16s\tremaining: 51.5s\n",
      "598:\tlearn: 0.1031317\ttest: 0.2627733\tbest: 0.2455413 (21)\ttotal: 1m 16s\tremaining: 51.3s\n",
      "599:\tlearn: 0.1029324\ttest: 0.2627324\tbest: 0.2455413 (21)\ttotal: 1m 16s\tremaining: 51.2s\n",
      "600:\tlearn: 0.1026897\ttest: 0.2627316\tbest: 0.2455413 (21)\ttotal: 1m 16s\tremaining: 51.1s\n",
      "601:\tlearn: 0.1025535\ttest: 0.2627375\tbest: 0.2455413 (21)\ttotal: 1m 17s\tremaining: 50.9s\n",
      "602:\tlearn: 0.1023689\ttest: 0.2627382\tbest: 0.2455413 (21)\ttotal: 1m 17s\tremaining: 50.8s\n",
      "603:\tlearn: 0.1023076\ttest: 0.2627059\tbest: 0.2455413 (21)\ttotal: 1m 17s\tremaining: 50.7s\n",
      "604:\tlearn: 0.1021672\ttest: 0.2627009\tbest: 0.2455413 (21)\ttotal: 1m 17s\tremaining: 50.6s\n",
      "605:\tlearn: 0.1020413\ttest: 0.2624892\tbest: 0.2455413 (21)\ttotal: 1m 17s\tremaining: 50.4s\n",
      "606:\tlearn: 0.1019815\ttest: 0.2623422\tbest: 0.2455413 (21)\ttotal: 1m 17s\tremaining: 50.3s\n",
      "607:\tlearn: 0.1018905\ttest: 0.2624394\tbest: 0.2455413 (21)\ttotal: 1m 17s\tremaining: 50.2s\n",
      "608:\tlearn: 0.1016828\ttest: 0.2623867\tbest: 0.2455413 (21)\ttotal: 1m 17s\tremaining: 50s\n",
      "609:\tlearn: 0.1014988\ttest: 0.2623905\tbest: 0.2455413 (21)\ttotal: 1m 18s\tremaining: 49.9s\n",
      "610:\tlearn: 0.1013213\ttest: 0.2623703\tbest: 0.2455413 (21)\ttotal: 1m 18s\tremaining: 49.8s\n",
      "611:\tlearn: 0.1012916\ttest: 0.2624511\tbest: 0.2455413 (21)\ttotal: 1m 18s\tremaining: 49.7s\n",
      "612:\tlearn: 0.1011509\ttest: 0.2623872\tbest: 0.2455413 (21)\ttotal: 1m 18s\tremaining: 49.6s\n",
      "613:\tlearn: 0.1010453\ttest: 0.2623608\tbest: 0.2455413 (21)\ttotal: 1m 18s\tremaining: 49.4s\n",
      "614:\tlearn: 0.1008236\ttest: 0.2623597\tbest: 0.2455413 (21)\ttotal: 1m 18s\tremaining: 49.3s\n",
      "615:\tlearn: 0.1006828\ttest: 0.2623799\tbest: 0.2455413 (21)\ttotal: 1m 18s\tremaining: 49.2s\n",
      "616:\tlearn: 0.1004917\ttest: 0.2623885\tbest: 0.2455413 (21)\ttotal: 1m 19s\tremaining: 49.1s\n",
      "617:\tlearn: 0.1003540\ttest: 0.2623699\tbest: 0.2455413 (21)\ttotal: 1m 19s\tremaining: 48.9s\n",
      "618:\tlearn: 0.1001800\ttest: 0.2622937\tbest: 0.2455413 (21)\ttotal: 1m 19s\tremaining: 48.8s\n",
      "619:\tlearn: 0.1000803\ttest: 0.2623410\tbest: 0.2455413 (21)\ttotal: 1m 19s\tremaining: 48.7s\n",
      "620:\tlearn: 0.1000585\ttest: 0.2623571\tbest: 0.2455413 (21)\ttotal: 1m 19s\tremaining: 48.5s\n",
      "621:\tlearn: 0.0999770\ttest: 0.2623097\tbest: 0.2455413 (21)\ttotal: 1m 19s\tremaining: 48.4s\n",
      "622:\tlearn: 0.0999133\ttest: 0.2622783\tbest: 0.2455413 (21)\ttotal: 1m 19s\tremaining: 48.3s\n",
      "623:\tlearn: 0.0997643\ttest: 0.2624825\tbest: 0.2455413 (21)\ttotal: 1m 19s\tremaining: 48.1s\n",
      "624:\tlearn: 0.0996001\ttest: 0.2626479\tbest: 0.2455413 (21)\ttotal: 1m 20s\tremaining: 48s\n",
      "625:\tlearn: 0.0993902\ttest: 0.2628253\tbest: 0.2455413 (21)\ttotal: 1m 20s\tremaining: 47.9s\n",
      "626:\tlearn: 0.0992958\ttest: 0.2627875\tbest: 0.2455413 (21)\ttotal: 1m 20s\tremaining: 47.8s\n",
      "627:\tlearn: 0.0991440\ttest: 0.2628210\tbest: 0.2455413 (21)\ttotal: 1m 20s\tremaining: 47.6s\n",
      "628:\tlearn: 0.0989796\ttest: 0.2628144\tbest: 0.2455413 (21)\ttotal: 1m 20s\tremaining: 47.5s\n",
      "629:\tlearn: 0.0987260\ttest: 0.2627034\tbest: 0.2455413 (21)\ttotal: 1m 20s\tremaining: 47.4s\n",
      "630:\tlearn: 0.0985891\ttest: 0.2628390\tbest: 0.2455413 (21)\ttotal: 1m 20s\tremaining: 47.2s\n",
      "631:\tlearn: 0.0984121\ttest: 0.2627823\tbest: 0.2455413 (21)\ttotal: 1m 20s\tremaining: 47.1s\n",
      "632:\tlearn: 0.0983698\ttest: 0.2628434\tbest: 0.2455413 (21)\ttotal: 1m 21s\tremaining: 47s\n",
      "633:\tlearn: 0.0982531\ttest: 0.2628360\tbest: 0.2455413 (21)\ttotal: 1m 21s\tremaining: 46.8s\n",
      "634:\tlearn: 0.0981713\ttest: 0.2628305\tbest: 0.2455413 (21)\ttotal: 1m 21s\tremaining: 46.7s\n",
      "635:\tlearn: 0.0980441\ttest: 0.2628050\tbest: 0.2455413 (21)\ttotal: 1m 21s\tremaining: 46.6s\n",
      "636:\tlearn: 0.0978465\ttest: 0.2627821\tbest: 0.2455413 (21)\ttotal: 1m 21s\tremaining: 46.5s\n",
      "637:\tlearn: 0.0976038\ttest: 0.2629439\tbest: 0.2455413 (21)\ttotal: 1m 21s\tremaining: 46.4s\n",
      "638:\tlearn: 0.0975048\ttest: 0.2628668\tbest: 0.2455413 (21)\ttotal: 1m 21s\tremaining: 46.2s\n",
      "639:\tlearn: 0.0973335\ttest: 0.2628139\tbest: 0.2455413 (21)\ttotal: 1m 21s\tremaining: 46.1s\n",
      "640:\tlearn: 0.0971374\ttest: 0.2627150\tbest: 0.2455413 (21)\ttotal: 1m 22s\tremaining: 46s\n",
      "641:\tlearn: 0.0969697\ttest: 0.2627904\tbest: 0.2455413 (21)\ttotal: 1m 22s\tremaining: 45.8s\n",
      "642:\tlearn: 0.0967911\ttest: 0.2628400\tbest: 0.2455413 (21)\ttotal: 1m 22s\tremaining: 45.7s\n",
      "643:\tlearn: 0.0966327\ttest: 0.2627931\tbest: 0.2455413 (21)\ttotal: 1m 22s\tremaining: 45.6s\n",
      "644:\tlearn: 0.0965921\ttest: 0.2627859\tbest: 0.2455413 (21)\ttotal: 1m 22s\tremaining: 45.4s\n",
      "645:\tlearn: 0.0964938\ttest: 0.2628522\tbest: 0.2455413 (21)\ttotal: 1m 22s\tremaining: 45.3s\n",
      "646:\tlearn: 0.0962300\ttest: 0.2628155\tbest: 0.2455413 (21)\ttotal: 1m 22s\tremaining: 45.2s\n",
      "647:\tlearn: 0.0961094\ttest: 0.2628108\tbest: 0.2455413 (21)\ttotal: 1m 22s\tremaining: 45s\n",
      "648:\tlearn: 0.0960148\ttest: 0.2627523\tbest: 0.2455413 (21)\ttotal: 1m 23s\tremaining: 44.9s\n",
      "649:\tlearn: 0.0958177\ttest: 0.2627710\tbest: 0.2455413 (21)\ttotal: 1m 23s\tremaining: 44.8s\n"
     ]
    },
    {
     "name": "stdout",
     "output_type": "stream",
     "text": [
      "650:\tlearn: 0.0957189\ttest: 0.2627671\tbest: 0.2455413 (21)\ttotal: 1m 23s\tremaining: 44.7s\n",
      "651:\tlearn: 0.0955715\ttest: 0.2627801\tbest: 0.2455413 (21)\ttotal: 1m 23s\tremaining: 44.5s\n",
      "652:\tlearn: 0.0954576\ttest: 0.2627743\tbest: 0.2455413 (21)\ttotal: 1m 23s\tremaining: 44.4s\n",
      "653:\tlearn: 0.0952974\ttest: 0.2627256\tbest: 0.2455413 (21)\ttotal: 1m 23s\tremaining: 44.3s\n",
      "654:\tlearn: 0.0951204\ttest: 0.2627916\tbest: 0.2455413 (21)\ttotal: 1m 23s\tremaining: 44.1s\n",
      "655:\tlearn: 0.0949540\ttest: 0.2627664\tbest: 0.2455413 (21)\ttotal: 1m 23s\tremaining: 44s\n",
      "656:\tlearn: 0.0947490\ttest: 0.2627065\tbest: 0.2455413 (21)\ttotal: 1m 24s\tremaining: 43.9s\n",
      "657:\tlearn: 0.0946005\ttest: 0.2626517\tbest: 0.2455413 (21)\ttotal: 1m 24s\tremaining: 43.7s\n",
      "658:\tlearn: 0.0945296\ttest: 0.2626600\tbest: 0.2455413 (21)\ttotal: 1m 24s\tremaining: 43.6s\n",
      "659:\tlearn: 0.0944641\ttest: 0.2628132\tbest: 0.2455413 (21)\ttotal: 1m 24s\tremaining: 43.5s\n",
      "660:\tlearn: 0.0942659\ttest: 0.2627859\tbest: 0.2455413 (21)\ttotal: 1m 24s\tremaining: 43.3s\n",
      "661:\tlearn: 0.0941318\ttest: 0.2627031\tbest: 0.2455413 (21)\ttotal: 1m 24s\tremaining: 43.2s\n",
      "662:\tlearn: 0.0940635\ttest: 0.2627100\tbest: 0.2455413 (21)\ttotal: 1m 24s\tremaining: 43.1s\n",
      "663:\tlearn: 0.0939948\ttest: 0.2626686\tbest: 0.2455413 (21)\ttotal: 1m 24s\tremaining: 42.9s\n",
      "664:\tlearn: 0.0938155\ttest: 0.2626692\tbest: 0.2455413 (21)\ttotal: 1m 24s\tremaining: 42.8s\n",
      "665:\tlearn: 0.0937312\ttest: 0.2626167\tbest: 0.2455413 (21)\ttotal: 1m 25s\tremaining: 42.7s\n",
      "666:\tlearn: 0.0936668\ttest: 0.2625771\tbest: 0.2455413 (21)\ttotal: 1m 25s\tremaining: 42.6s\n",
      "667:\tlearn: 0.0934570\ttest: 0.2626743\tbest: 0.2455413 (21)\ttotal: 1m 25s\tremaining: 42.4s\n",
      "668:\tlearn: 0.0933778\ttest: 0.2627829\tbest: 0.2455413 (21)\ttotal: 1m 25s\tremaining: 42.3s\n",
      "669:\tlearn: 0.0932181\ttest: 0.2628433\tbest: 0.2455413 (21)\ttotal: 1m 25s\tremaining: 42.2s\n",
      "670:\tlearn: 0.0930935\ttest: 0.2627675\tbest: 0.2455413 (21)\ttotal: 1m 25s\tremaining: 42s\n",
      "671:\tlearn: 0.0930080\ttest: 0.2627949\tbest: 0.2455413 (21)\ttotal: 1m 25s\tremaining: 41.9s\n",
      "672:\tlearn: 0.0929377\ttest: 0.2628978\tbest: 0.2455413 (21)\ttotal: 1m 25s\tremaining: 41.8s\n",
      "673:\tlearn: 0.0928285\ttest: 0.2629463\tbest: 0.2455413 (21)\ttotal: 1m 26s\tremaining: 41.6s\n",
      "674:\tlearn: 0.0927197\ttest: 0.2629564\tbest: 0.2455413 (21)\ttotal: 1m 26s\tremaining: 41.5s\n",
      "675:\tlearn: 0.0926657\ttest: 0.2629071\tbest: 0.2455413 (21)\ttotal: 1m 26s\tremaining: 41.4s\n",
      "676:\tlearn: 0.0925104\ttest: 0.2628939\tbest: 0.2455413 (21)\ttotal: 1m 26s\tremaining: 41.2s\n",
      "677:\tlearn: 0.0924783\ttest: 0.2629599\tbest: 0.2455413 (21)\ttotal: 1m 26s\tremaining: 41.1s\n",
      "678:\tlearn: 0.0923345\ttest: 0.2629550\tbest: 0.2455413 (21)\ttotal: 1m 26s\tremaining: 41s\n",
      "679:\tlearn: 0.0921438\ttest: 0.2629490\tbest: 0.2455413 (21)\ttotal: 1m 26s\tremaining: 40.9s\n",
      "680:\tlearn: 0.0920514\ttest: 0.2629440\tbest: 0.2455413 (21)\ttotal: 1m 27s\tremaining: 40.8s\n",
      "681:\tlearn: 0.0918522\ttest: 0.2629267\tbest: 0.2455413 (21)\ttotal: 1m 27s\tremaining: 40.7s\n",
      "682:\tlearn: 0.0917040\ttest: 0.2628635\tbest: 0.2455413 (21)\ttotal: 1m 27s\tremaining: 40.6s\n",
      "683:\tlearn: 0.0916355\ttest: 0.2628925\tbest: 0.2455413 (21)\ttotal: 1m 27s\tremaining: 40.4s\n",
      "684:\tlearn: 0.0915355\ttest: 0.2628949\tbest: 0.2455413 (21)\ttotal: 1m 27s\tremaining: 40.3s\n",
      "685:\tlearn: 0.0914625\ttest: 0.2629202\tbest: 0.2455413 (21)\ttotal: 1m 27s\tremaining: 40.2s\n",
      "686:\tlearn: 0.0912948\ttest: 0.2629742\tbest: 0.2455413 (21)\ttotal: 1m 27s\tremaining: 40s\n",
      "687:\tlearn: 0.0911968\ttest: 0.2632645\tbest: 0.2455413 (21)\ttotal: 1m 27s\tremaining: 39.9s\n",
      "688:\tlearn: 0.0911666\ttest: 0.2632598\tbest: 0.2455413 (21)\ttotal: 1m 28s\tremaining: 39.8s\n",
      "689:\tlearn: 0.0910215\ttest: 0.2633045\tbest: 0.2455413 (21)\ttotal: 1m 28s\tremaining: 39.6s\n",
      "690:\tlearn: 0.0909008\ttest: 0.2633390\tbest: 0.2455413 (21)\ttotal: 1m 28s\tremaining: 39.5s\n",
      "691:\tlearn: 0.0907117\ttest: 0.2633752\tbest: 0.2455413 (21)\ttotal: 1m 28s\tremaining: 39.4s\n",
      "692:\tlearn: 0.0905993\ttest: 0.2633718\tbest: 0.2455413 (21)\ttotal: 1m 28s\tremaining: 39.2s\n",
      "693:\tlearn: 0.0904921\ttest: 0.2633130\tbest: 0.2455413 (21)\ttotal: 1m 28s\tremaining: 39.1s\n",
      "694:\tlearn: 0.0903163\ttest: 0.2633391\tbest: 0.2455413 (21)\ttotal: 1m 28s\tremaining: 39s\n",
      "695:\tlearn: 0.0901495\ttest: 0.2634515\tbest: 0.2455413 (21)\ttotal: 1m 28s\tremaining: 38.9s\n",
      "696:\tlearn: 0.0899808\ttest: 0.2634548\tbest: 0.2455413 (21)\ttotal: 1m 29s\tremaining: 38.7s\n",
      "697:\tlearn: 0.0898018\ttest: 0.2635175\tbest: 0.2455413 (21)\ttotal: 1m 29s\tremaining: 38.6s\n",
      "698:\tlearn: 0.0896523\ttest: 0.2634890\tbest: 0.2455413 (21)\ttotal: 1m 29s\tremaining: 38.5s\n",
      "699:\tlearn: 0.0894344\ttest: 0.2635996\tbest: 0.2455413 (21)\ttotal: 1m 29s\tremaining: 38.3s\n",
      "700:\tlearn: 0.0893458\ttest: 0.2635806\tbest: 0.2455413 (21)\ttotal: 1m 29s\tremaining: 38.2s\n",
      "701:\tlearn: 0.0892216\ttest: 0.2635931\tbest: 0.2455413 (21)\ttotal: 1m 29s\tremaining: 38.1s\n",
      "702:\tlearn: 0.0891405\ttest: 0.2635881\tbest: 0.2455413 (21)\ttotal: 1m 29s\tremaining: 38s\n",
      "703:\tlearn: 0.0890343\ttest: 0.2636117\tbest: 0.2455413 (21)\ttotal: 1m 29s\tremaining: 37.8s\n",
      "704:\tlearn: 0.0889150\ttest: 0.2636219\tbest: 0.2455413 (21)\ttotal: 1m 30s\tremaining: 37.7s\n",
      "705:\tlearn: 0.0888046\ttest: 0.2636366\tbest: 0.2455413 (21)\ttotal: 1m 30s\tremaining: 37.6s\n",
      "706:\tlearn: 0.0886089\ttest: 0.2636132\tbest: 0.2455413 (21)\ttotal: 1m 30s\tremaining: 37.4s\n",
      "707:\tlearn: 0.0884252\ttest: 0.2636417\tbest: 0.2455413 (21)\ttotal: 1m 30s\tremaining: 37.3s\n",
      "708:\tlearn: 0.0881737\ttest: 0.2636588\tbest: 0.2455413 (21)\ttotal: 1m 30s\tremaining: 37.2s\n",
      "709:\tlearn: 0.0880828\ttest: 0.2635846\tbest: 0.2455413 (21)\ttotal: 1m 30s\tremaining: 37s\n",
      "710:\tlearn: 0.0879644\ttest: 0.2636306\tbest: 0.2455413 (21)\ttotal: 1m 30s\tremaining: 36.9s\n",
      "711:\tlearn: 0.0878761\ttest: 0.2635263\tbest: 0.2455413 (21)\ttotal: 1m 30s\tremaining: 36.8s\n",
      "712:\tlearn: 0.0877213\ttest: 0.2637115\tbest: 0.2455413 (21)\ttotal: 1m 31s\tremaining: 36.7s\n",
      "713:\tlearn: 0.0876854\ttest: 0.2636800\tbest: 0.2455413 (21)\ttotal: 1m 31s\tremaining: 36.5s\n",
      "714:\tlearn: 0.0875883\ttest: 0.2637346\tbest: 0.2455413 (21)\ttotal: 1m 31s\tremaining: 36.4s\n",
      "715:\tlearn: 0.0874241\ttest: 0.2636707\tbest: 0.2455413 (21)\ttotal: 1m 31s\tremaining: 36.3s\n",
      "716:\tlearn: 0.0872943\ttest: 0.2636649\tbest: 0.2455413 (21)\ttotal: 1m 31s\tremaining: 36.1s\n",
      "717:\tlearn: 0.0871064\ttest: 0.2637705\tbest: 0.2455413 (21)\ttotal: 1m 31s\tremaining: 36s\n",
      "718:\tlearn: 0.0870710\ttest: 0.2637352\tbest: 0.2455413 (21)\ttotal: 1m 31s\tremaining: 35.9s\n",
      "719:\tlearn: 0.0869922\ttest: 0.2637364\tbest: 0.2455413 (21)\ttotal: 1m 31s\tremaining: 35.8s\n",
      "720:\tlearn: 0.0869068\ttest: 0.2636568\tbest: 0.2455413 (21)\ttotal: 1m 32s\tremaining: 35.6s\n",
      "721:\tlearn: 0.0867654\ttest: 0.2637696\tbest: 0.2455413 (21)\ttotal: 1m 32s\tremaining: 35.5s\n",
      "722:\tlearn: 0.0867025\ttest: 0.2638045\tbest: 0.2455413 (21)\ttotal: 1m 32s\tremaining: 35.4s\n",
      "723:\tlearn: 0.0865598\ttest: 0.2638956\tbest: 0.2455413 (21)\ttotal: 1m 32s\tremaining: 35.2s\n",
      "724:\tlearn: 0.0864369\ttest: 0.2638416\tbest: 0.2455413 (21)\ttotal: 1m 32s\tremaining: 35.1s\n",
      "725:\tlearn: 0.0862676\ttest: 0.2637625\tbest: 0.2455413 (21)\ttotal: 1m 32s\tremaining: 35s\n",
      "726:\tlearn: 0.0861598\ttest: 0.2637455\tbest: 0.2455413 (21)\ttotal: 1m 32s\tremaining: 34.9s\n",
      "727:\tlearn: 0.0860240\ttest: 0.2637381\tbest: 0.2455413 (21)\ttotal: 1m 32s\tremaining: 34.7s\n",
      "728:\tlearn: 0.0858678\ttest: 0.2637299\tbest: 0.2455413 (21)\ttotal: 1m 33s\tremaining: 34.6s\n",
      "729:\tlearn: 0.0858394\ttest: 0.2637770\tbest: 0.2455413 (21)\ttotal: 1m 33s\tremaining: 34.5s\n",
      "730:\tlearn: 0.0857324\ttest: 0.2638495\tbest: 0.2455413 (21)\ttotal: 1m 33s\tremaining: 34.3s\n",
      "731:\tlearn: 0.0856489\ttest: 0.2638558\tbest: 0.2455413 (21)\ttotal: 1m 33s\tremaining: 34.2s\n",
      "732:\tlearn: 0.0855703\ttest: 0.2637173\tbest: 0.2455413 (21)\ttotal: 1m 33s\tremaining: 34.1s\n",
      "733:\tlearn: 0.0854607\ttest: 0.2638382\tbest: 0.2455413 (21)\ttotal: 1m 33s\tremaining: 33.9s\n",
      "734:\tlearn: 0.0853626\ttest: 0.2639577\tbest: 0.2455413 (21)\ttotal: 1m 33s\tremaining: 33.8s\n",
      "735:\tlearn: 0.0852270\ttest: 0.2639754\tbest: 0.2455413 (21)\ttotal: 1m 33s\tremaining: 33.7s\n",
      "736:\tlearn: 0.0851027\ttest: 0.2640078\tbest: 0.2455413 (21)\ttotal: 1m 34s\tremaining: 33.6s\n",
      "737:\tlearn: 0.0850202\ttest: 0.2640612\tbest: 0.2455413 (21)\ttotal: 1m 34s\tremaining: 33.4s\n",
      "738:\tlearn: 0.0848196\ttest: 0.2641584\tbest: 0.2455413 (21)\ttotal: 1m 34s\tremaining: 33.3s\n",
      "739:\tlearn: 0.0847513\ttest: 0.2641026\tbest: 0.2455413 (21)\ttotal: 1m 34s\tremaining: 33.2s\n",
      "740:\tlearn: 0.0846460\ttest: 0.2640338\tbest: 0.2455413 (21)\ttotal: 1m 34s\tremaining: 33s\n",
      "741:\tlearn: 0.0845307\ttest: 0.2640551\tbest: 0.2455413 (21)\ttotal: 1m 34s\tremaining: 32.9s\n"
     ]
    },
    {
     "name": "stdout",
     "output_type": "stream",
     "text": [
      "742:\tlearn: 0.0843969\ttest: 0.2640137\tbest: 0.2455413 (21)\ttotal: 1m 34s\tremaining: 32.8s\n",
      "743:\tlearn: 0.0842969\ttest: 0.2640081\tbest: 0.2455413 (21)\ttotal: 1m 34s\tremaining: 32.7s\n",
      "744:\tlearn: 0.0841949\ttest: 0.2639430\tbest: 0.2455413 (21)\ttotal: 1m 35s\tremaining: 32.5s\n",
      "745:\tlearn: 0.0840140\ttest: 0.2639476\tbest: 0.2455413 (21)\ttotal: 1m 35s\tremaining: 32.4s\n",
      "746:\tlearn: 0.0838708\ttest: 0.2639692\tbest: 0.2455413 (21)\ttotal: 1m 35s\tremaining: 32.3s\n",
      "747:\tlearn: 0.0838669\ttest: 0.2640095\tbest: 0.2455413 (21)\ttotal: 1m 35s\tremaining: 32.1s\n",
      "748:\tlearn: 0.0837022\ttest: 0.2640569\tbest: 0.2455413 (21)\ttotal: 1m 35s\tremaining: 32s\n",
      "749:\tlearn: 0.0835515\ttest: 0.2640276\tbest: 0.2455413 (21)\ttotal: 1m 35s\tremaining: 31.9s\n",
      "750:\tlearn: 0.0834278\ttest: 0.2641607\tbest: 0.2455413 (21)\ttotal: 1m 35s\tremaining: 31.7s\n",
      "751:\tlearn: 0.0832362\ttest: 0.2641715\tbest: 0.2455413 (21)\ttotal: 1m 35s\tremaining: 31.6s\n",
      "752:\tlearn: 0.0830934\ttest: 0.2641262\tbest: 0.2455413 (21)\ttotal: 1m 35s\tremaining: 31.5s\n",
      "753:\tlearn: 0.0830602\ttest: 0.2641148\tbest: 0.2455413 (21)\ttotal: 1m 36s\tremaining: 31.3s\n",
      "754:\tlearn: 0.0829240\ttest: 0.2641579\tbest: 0.2455413 (21)\ttotal: 1m 36s\tremaining: 31.2s\n",
      "755:\tlearn: 0.0827969\ttest: 0.2641872\tbest: 0.2455413 (21)\ttotal: 1m 36s\tremaining: 31.1s\n",
      "756:\tlearn: 0.0827185\ttest: 0.2641417\tbest: 0.2455413 (21)\ttotal: 1m 36s\tremaining: 31s\n",
      "757:\tlearn: 0.0826753\ttest: 0.2641455\tbest: 0.2455413 (21)\ttotal: 1m 36s\tremaining: 30.8s\n",
      "758:\tlearn: 0.0824880\ttest: 0.2642227\tbest: 0.2455413 (21)\ttotal: 1m 36s\tremaining: 30.7s\n",
      "759:\tlearn: 0.0824734\ttest: 0.2642117\tbest: 0.2455413 (21)\ttotal: 1m 36s\tremaining: 30.6s\n",
      "760:\tlearn: 0.0823233\ttest: 0.2641559\tbest: 0.2455413 (21)\ttotal: 1m 36s\tremaining: 30.4s\n",
      "761:\tlearn: 0.0821477\ttest: 0.2641305\tbest: 0.2455413 (21)\ttotal: 1m 37s\tremaining: 30.3s\n",
      "762:\tlearn: 0.0820653\ttest: 0.2640612\tbest: 0.2455413 (21)\ttotal: 1m 37s\tremaining: 30.2s\n",
      "763:\tlearn: 0.0818897\ttest: 0.2641400\tbest: 0.2455413 (21)\ttotal: 1m 37s\tremaining: 30s\n",
      "764:\tlearn: 0.0817380\ttest: 0.2642733\tbest: 0.2455413 (21)\ttotal: 1m 37s\tremaining: 29.9s\n",
      "765:\tlearn: 0.0815823\ttest: 0.2643273\tbest: 0.2455413 (21)\ttotal: 1m 37s\tremaining: 29.8s\n",
      "766:\tlearn: 0.0814867\ttest: 0.2643866\tbest: 0.2455413 (21)\ttotal: 1m 37s\tremaining: 29.7s\n",
      "767:\tlearn: 0.0814591\ttest: 0.2644229\tbest: 0.2455413 (21)\ttotal: 1m 37s\tremaining: 29.5s\n",
      "768:\tlearn: 0.0813054\ttest: 0.2644057\tbest: 0.2455413 (21)\ttotal: 1m 37s\tremaining: 29.4s\n",
      "769:\tlearn: 0.0811843\ttest: 0.2643977\tbest: 0.2455413 (21)\ttotal: 1m 38s\tremaining: 29.3s\n",
      "770:\tlearn: 0.0810373\ttest: 0.2644807\tbest: 0.2455413 (21)\ttotal: 1m 38s\tremaining: 29.1s\n",
      "771:\tlearn: 0.0809511\ttest: 0.2645361\tbest: 0.2455413 (21)\ttotal: 1m 38s\tremaining: 29s\n",
      "772:\tlearn: 0.0808246\ttest: 0.2645411\tbest: 0.2455413 (21)\ttotal: 1m 38s\tremaining: 28.9s\n",
      "773:\tlearn: 0.0806623\ttest: 0.2645182\tbest: 0.2455413 (21)\ttotal: 1m 38s\tremaining: 28.8s\n",
      "774:\tlearn: 0.0806276\ttest: 0.2644858\tbest: 0.2455413 (21)\ttotal: 1m 38s\tremaining: 28.6s\n",
      "775:\tlearn: 0.0804658\ttest: 0.2644084\tbest: 0.2455413 (21)\ttotal: 1m 38s\tremaining: 28.5s\n",
      "776:\tlearn: 0.0803229\ttest: 0.2643810\tbest: 0.2455413 (21)\ttotal: 1m 38s\tremaining: 28.4s\n",
      "777:\tlearn: 0.0801703\ttest: 0.2643514\tbest: 0.2455413 (21)\ttotal: 1m 38s\tremaining: 28.2s\n",
      "778:\tlearn: 0.0801145\ttest: 0.2643474\tbest: 0.2455413 (21)\ttotal: 1m 39s\tremaining: 28.1s\n",
      "779:\tlearn: 0.0799212\ttest: 0.2643800\tbest: 0.2455413 (21)\ttotal: 1m 39s\tremaining: 28s\n",
      "780:\tlearn: 0.0797870\ttest: 0.2644036\tbest: 0.2455413 (21)\ttotal: 1m 39s\tremaining: 27.9s\n",
      "781:\tlearn: 0.0796417\ttest: 0.2644781\tbest: 0.2455413 (21)\ttotal: 1m 39s\tremaining: 27.7s\n",
      "782:\tlearn: 0.0794980\ttest: 0.2646561\tbest: 0.2455413 (21)\ttotal: 1m 39s\tremaining: 27.6s\n",
      "783:\tlearn: 0.0794529\ttest: 0.2646449\tbest: 0.2455413 (21)\ttotal: 1m 39s\tremaining: 27.5s\n",
      "784:\tlearn: 0.0792818\ttest: 0.2646255\tbest: 0.2455413 (21)\ttotal: 1m 39s\tremaining: 27.3s\n",
      "785:\tlearn: 0.0791491\ttest: 0.2646457\tbest: 0.2455413 (21)\ttotal: 1m 39s\tremaining: 27.2s\n",
      "786:\tlearn: 0.0789217\ttest: 0.2647346\tbest: 0.2455413 (21)\ttotal: 1m 40s\tremaining: 27.1s\n",
      "787:\tlearn: 0.0788403\ttest: 0.2647440\tbest: 0.2455413 (21)\ttotal: 1m 40s\tremaining: 27s\n",
      "788:\tlearn: 0.0787056\ttest: 0.2648593\tbest: 0.2455413 (21)\ttotal: 1m 40s\tremaining: 26.9s\n",
      "789:\tlearn: 0.0785694\ttest: 0.2648986\tbest: 0.2455413 (21)\ttotal: 1m 40s\tremaining: 26.7s\n",
      "790:\tlearn: 0.0784008\ttest: 0.2648056\tbest: 0.2455413 (21)\ttotal: 1m 40s\tremaining: 26.6s\n",
      "791:\tlearn: 0.0783201\ttest: 0.2648326\tbest: 0.2455413 (21)\ttotal: 1m 40s\tremaining: 26.5s\n",
      "792:\tlearn: 0.0781994\ttest: 0.2648353\tbest: 0.2455413 (21)\ttotal: 1m 40s\tremaining: 26.3s\n",
      "793:\tlearn: 0.0780641\ttest: 0.2648097\tbest: 0.2455413 (21)\ttotal: 1m 41s\tremaining: 26.2s\n",
      "794:\tlearn: 0.0780059\ttest: 0.2648427\tbest: 0.2455413 (21)\ttotal: 1m 41s\tremaining: 26.1s\n",
      "795:\tlearn: 0.0779174\ttest: 0.2647737\tbest: 0.2455413 (21)\ttotal: 1m 41s\tremaining: 26s\n",
      "796:\tlearn: 0.0777900\ttest: 0.2648173\tbest: 0.2455413 (21)\ttotal: 1m 41s\tremaining: 25.8s\n",
      "797:\tlearn: 0.0776593\ttest: 0.2647837\tbest: 0.2455413 (21)\ttotal: 1m 41s\tremaining: 25.7s\n",
      "798:\tlearn: 0.0775757\ttest: 0.2647847\tbest: 0.2455413 (21)\ttotal: 1m 41s\tremaining: 25.6s\n",
      "799:\tlearn: 0.0775218\ttest: 0.2648967\tbest: 0.2455413 (21)\ttotal: 1m 41s\tremaining: 25.4s\n",
      "800:\tlearn: 0.0774553\ttest: 0.2648502\tbest: 0.2455413 (21)\ttotal: 1m 41s\tremaining: 25.3s\n",
      "801:\tlearn: 0.0773359\ttest: 0.2648915\tbest: 0.2455413 (21)\ttotal: 1m 42s\tremaining: 25.2s\n",
      "802:\tlearn: 0.0772181\ttest: 0.2648244\tbest: 0.2455413 (21)\ttotal: 1m 42s\tremaining: 25.1s\n",
      "803:\tlearn: 0.0771984\ttest: 0.2648126\tbest: 0.2455413 (21)\ttotal: 1m 42s\tremaining: 24.9s\n",
      "804:\tlearn: 0.0771361\ttest: 0.2648008\tbest: 0.2455413 (21)\ttotal: 1m 42s\tremaining: 24.8s\n",
      "805:\tlearn: 0.0770491\ttest: 0.2647587\tbest: 0.2455413 (21)\ttotal: 1m 42s\tremaining: 24.7s\n",
      "806:\tlearn: 0.0769949\ttest: 0.2648019\tbest: 0.2455413 (21)\ttotal: 1m 42s\tremaining: 24.5s\n",
      "807:\tlearn: 0.0768552\ttest: 0.2647923\tbest: 0.2455413 (21)\ttotal: 1m 42s\tremaining: 24.4s\n",
      "808:\tlearn: 0.0767422\ttest: 0.2647861\tbest: 0.2455413 (21)\ttotal: 1m 42s\tremaining: 24.3s\n",
      "809:\tlearn: 0.0765617\ttest: 0.2647790\tbest: 0.2455413 (21)\ttotal: 1m 43s\tremaining: 24.2s\n",
      "810:\tlearn: 0.0763891\ttest: 0.2646970\tbest: 0.2455413 (21)\ttotal: 1m 43s\tremaining: 24s\n",
      "811:\tlearn: 0.0762086\ttest: 0.2646574\tbest: 0.2455413 (21)\ttotal: 1m 43s\tremaining: 23.9s\n",
      "812:\tlearn: 0.0761114\ttest: 0.2646923\tbest: 0.2455413 (21)\ttotal: 1m 43s\tremaining: 23.8s\n",
      "813:\tlearn: 0.0760107\ttest: 0.2647698\tbest: 0.2455413 (21)\ttotal: 1m 43s\tremaining: 23.7s\n",
      "814:\tlearn: 0.0759557\ttest: 0.2648356\tbest: 0.2455413 (21)\ttotal: 1m 43s\tremaining: 23.5s\n",
      "815:\tlearn: 0.0757927\ttest: 0.2648785\tbest: 0.2455413 (21)\ttotal: 1m 43s\tremaining: 23.4s\n",
      "816:\tlearn: 0.0757756\ttest: 0.2648183\tbest: 0.2455413 (21)\ttotal: 1m 43s\tremaining: 23.3s\n",
      "817:\tlearn: 0.0756138\ttest: 0.2648063\tbest: 0.2455413 (21)\ttotal: 1m 44s\tremaining: 23.1s\n",
      "818:\tlearn: 0.0755812\ttest: 0.2648171\tbest: 0.2455413 (21)\ttotal: 1m 44s\tremaining: 23s\n",
      "819:\tlearn: 0.0754202\ttest: 0.2650056\tbest: 0.2455413 (21)\ttotal: 1m 44s\tremaining: 22.9s\n",
      "820:\tlearn: 0.0753173\ttest: 0.2649600\tbest: 0.2455413 (21)\ttotal: 1m 44s\tremaining: 22.8s\n",
      "821:\tlearn: 0.0751783\ttest: 0.2650073\tbest: 0.2455413 (21)\ttotal: 1m 44s\tremaining: 22.6s\n",
      "822:\tlearn: 0.0750700\ttest: 0.2651220\tbest: 0.2455413 (21)\ttotal: 1m 44s\tremaining: 22.5s\n",
      "823:\tlearn: 0.0749019\ttest: 0.2651529\tbest: 0.2455413 (21)\ttotal: 1m 44s\tremaining: 22.4s\n",
      "824:\tlearn: 0.0748176\ttest: 0.2652012\tbest: 0.2455413 (21)\ttotal: 1m 44s\tremaining: 22.2s\n",
      "825:\tlearn: 0.0747312\ttest: 0.2652459\tbest: 0.2455413 (21)\ttotal: 1m 45s\tremaining: 22.1s\n",
      "826:\tlearn: 0.0746157\ttest: 0.2651901\tbest: 0.2455413 (21)\ttotal: 1m 45s\tremaining: 22s\n",
      "827:\tlearn: 0.0744992\ttest: 0.2651571\tbest: 0.2455413 (21)\ttotal: 1m 45s\tremaining: 21.9s\n",
      "828:\tlearn: 0.0744838\ttest: 0.2651579\tbest: 0.2455413 (21)\ttotal: 1m 45s\tremaining: 21.8s\n",
      "829:\tlearn: 0.0744258\ttest: 0.2651175\tbest: 0.2455413 (21)\ttotal: 1m 45s\tremaining: 21.6s\n",
      "830:\tlearn: 0.0743197\ttest: 0.2650898\tbest: 0.2455413 (21)\ttotal: 1m 45s\tremaining: 21.5s\n",
      "831:\tlearn: 0.0742092\ttest: 0.2651202\tbest: 0.2455413 (21)\ttotal: 1m 46s\tremaining: 21.4s\n",
      "832:\tlearn: 0.0741248\ttest: 0.2649919\tbest: 0.2455413 (21)\ttotal: 1m 46s\tremaining: 21.3s\n",
      "833:\tlearn: 0.0739819\ttest: 0.2649689\tbest: 0.2455413 (21)\ttotal: 1m 46s\tremaining: 21.2s\n"
     ]
    },
    {
     "name": "stdout",
     "output_type": "stream",
     "text": [
      "834:\tlearn: 0.0739075\ttest: 0.2649551\tbest: 0.2455413 (21)\ttotal: 1m 47s\tremaining: 21.2s\n",
      "835:\tlearn: 0.0738190\ttest: 0.2649953\tbest: 0.2455413 (21)\ttotal: 1m 47s\tremaining: 21.1s\n",
      "836:\tlearn: 0.0738153\ttest: 0.2650310\tbest: 0.2455413 (21)\ttotal: 1m 47s\tremaining: 21s\n",
      "837:\tlearn: 0.0737229\ttest: 0.2650085\tbest: 0.2455413 (21)\ttotal: 1m 47s\tremaining: 20.8s\n",
      "838:\tlearn: 0.0736493\ttest: 0.2650201\tbest: 0.2455413 (21)\ttotal: 1m 47s\tremaining: 20.7s\n",
      "839:\tlearn: 0.0736042\ttest: 0.2649964\tbest: 0.2455413 (21)\ttotal: 1m 48s\tremaining: 20.6s\n",
      "840:\tlearn: 0.0735167\ttest: 0.2650410\tbest: 0.2455413 (21)\ttotal: 1m 48s\tremaining: 20.5s\n",
      "841:\tlearn: 0.0733462\ttest: 0.2651756\tbest: 0.2455413 (21)\ttotal: 1m 48s\tremaining: 20.3s\n",
      "842:\tlearn: 0.0733057\ttest: 0.2651735\tbest: 0.2455413 (21)\ttotal: 1m 48s\tremaining: 20.2s\n",
      "843:\tlearn: 0.0731212\ttest: 0.2651784\tbest: 0.2455413 (21)\ttotal: 1m 48s\tremaining: 20.1s\n",
      "844:\tlearn: 0.0731036\ttest: 0.2651994\tbest: 0.2455413 (21)\ttotal: 1m 48s\tremaining: 19.9s\n",
      "845:\tlearn: 0.0730245\ttest: 0.2651610\tbest: 0.2455413 (21)\ttotal: 1m 48s\tremaining: 19.8s\n",
      "846:\tlearn: 0.0729611\ttest: 0.2651857\tbest: 0.2455413 (21)\ttotal: 1m 48s\tremaining: 19.7s\n",
      "847:\tlearn: 0.0728732\ttest: 0.2653040\tbest: 0.2455413 (21)\ttotal: 1m 49s\tremaining: 19.6s\n",
      "848:\tlearn: 0.0727733\ttest: 0.2652747\tbest: 0.2455413 (21)\ttotal: 1m 49s\tremaining: 19.4s\n",
      "849:\tlearn: 0.0727604\ttest: 0.2652737\tbest: 0.2455413 (21)\ttotal: 1m 49s\tremaining: 19.3s\n",
      "850:\tlearn: 0.0726293\ttest: 0.2653383\tbest: 0.2455413 (21)\ttotal: 1m 49s\tremaining: 19.2s\n",
      "851:\tlearn: 0.0725821\ttest: 0.2653612\tbest: 0.2455413 (21)\ttotal: 1m 49s\tremaining: 19.1s\n",
      "852:\tlearn: 0.0725377\ttest: 0.2653082\tbest: 0.2455413 (21)\ttotal: 1m 49s\tremaining: 18.9s\n",
      "853:\tlearn: 0.0724275\ttest: 0.2652857\tbest: 0.2455413 (21)\ttotal: 1m 50s\tremaining: 18.8s\n",
      "854:\tlearn: 0.0722945\ttest: 0.2652527\tbest: 0.2455413 (21)\ttotal: 1m 50s\tremaining: 18.7s\n",
      "855:\tlearn: 0.0721877\ttest: 0.2653027\tbest: 0.2455413 (21)\ttotal: 1m 50s\tremaining: 18.6s\n",
      "856:\tlearn: 0.0721419\ttest: 0.2651964\tbest: 0.2455413 (21)\ttotal: 1m 50s\tremaining: 18.4s\n",
      "857:\tlearn: 0.0720244\ttest: 0.2651869\tbest: 0.2455413 (21)\ttotal: 1m 50s\tremaining: 18.3s\n",
      "858:\tlearn: 0.0718990\ttest: 0.2652193\tbest: 0.2455413 (21)\ttotal: 1m 50s\tremaining: 18.2s\n",
      "859:\tlearn: 0.0717923\ttest: 0.2651712\tbest: 0.2455413 (21)\ttotal: 1m 50s\tremaining: 18.1s\n",
      "860:\tlearn: 0.0716476\ttest: 0.2652313\tbest: 0.2455413 (21)\ttotal: 1m 51s\tremaining: 17.9s\n",
      "861:\tlearn: 0.0715363\ttest: 0.2651399\tbest: 0.2455413 (21)\ttotal: 1m 51s\tremaining: 17.8s\n",
      "862:\tlearn: 0.0714414\ttest: 0.2651307\tbest: 0.2455413 (21)\ttotal: 1m 51s\tremaining: 17.7s\n",
      "863:\tlearn: 0.0713178\ttest: 0.2651095\tbest: 0.2455413 (21)\ttotal: 1m 51s\tremaining: 17.6s\n",
      "864:\tlearn: 0.0711596\ttest: 0.2652017\tbest: 0.2455413 (21)\ttotal: 1m 51s\tremaining: 17.4s\n",
      "865:\tlearn: 0.0710995\ttest: 0.2652284\tbest: 0.2455413 (21)\ttotal: 1m 51s\tremaining: 17.3s\n",
      "866:\tlearn: 0.0710029\ttest: 0.2652049\tbest: 0.2455413 (21)\ttotal: 1m 51s\tremaining: 17.2s\n",
      "867:\tlearn: 0.0709530\ttest: 0.2651807\tbest: 0.2455413 (21)\ttotal: 1m 52s\tremaining: 17s\n",
      "868:\tlearn: 0.0708436\ttest: 0.2651862\tbest: 0.2455413 (21)\ttotal: 1m 52s\tremaining: 16.9s\n",
      "869:\tlearn: 0.0707342\ttest: 0.2652096\tbest: 0.2455413 (21)\ttotal: 1m 52s\tremaining: 16.8s\n",
      "870:\tlearn: 0.0706520\ttest: 0.2652341\tbest: 0.2455413 (21)\ttotal: 1m 52s\tremaining: 16.7s\n",
      "871:\tlearn: 0.0705448\ttest: 0.2652576\tbest: 0.2455413 (21)\ttotal: 1m 52s\tremaining: 16.5s\n",
      "872:\tlearn: 0.0704770\ttest: 0.2653066\tbest: 0.2455413 (21)\ttotal: 1m 52s\tremaining: 16.4s\n",
      "873:\tlearn: 0.0703836\ttest: 0.2653672\tbest: 0.2455413 (21)\ttotal: 1m 52s\tremaining: 16.3s\n",
      "874:\tlearn: 0.0703368\ttest: 0.2653885\tbest: 0.2455413 (21)\ttotal: 1m 52s\tremaining: 16.1s\n",
      "875:\tlearn: 0.0702577\ttest: 0.2653893\tbest: 0.2455413 (21)\ttotal: 1m 53s\tremaining: 16s\n",
      "876:\tlearn: 0.0701564\ttest: 0.2653819\tbest: 0.2455413 (21)\ttotal: 1m 53s\tremaining: 15.9s\n",
      "877:\tlearn: 0.0701479\ttest: 0.2653747\tbest: 0.2455413 (21)\ttotal: 1m 53s\tremaining: 15.8s\n",
      "878:\tlearn: 0.0701265\ttest: 0.2653912\tbest: 0.2455413 (21)\ttotal: 1m 53s\tremaining: 15.6s\n",
      "879:\tlearn: 0.0700167\ttest: 0.2654546\tbest: 0.2455413 (21)\ttotal: 1m 53s\tremaining: 15.5s\n",
      "880:\tlearn: 0.0699389\ttest: 0.2654198\tbest: 0.2455413 (21)\ttotal: 1m 53s\tremaining: 15.4s\n",
      "881:\tlearn: 0.0699090\ttest: 0.2653159\tbest: 0.2455413 (21)\ttotal: 1m 53s\tremaining: 15.2s\n",
      "882:\tlearn: 0.0699022\ttest: 0.2653169\tbest: 0.2455413 (21)\ttotal: 1m 53s\tremaining: 15.1s\n",
      "883:\tlearn: 0.0698626\ttest: 0.2653627\tbest: 0.2455413 (21)\ttotal: 1m 54s\tremaining: 15s\n",
      "884:\tlearn: 0.0697344\ttest: 0.2653373\tbest: 0.2455413 (21)\ttotal: 1m 54s\tremaining: 14.8s\n",
      "885:\tlearn: 0.0696246\ttest: 0.2652896\tbest: 0.2455413 (21)\ttotal: 1m 54s\tremaining: 14.7s\n",
      "886:\tlearn: 0.0694391\ttest: 0.2652103\tbest: 0.2455413 (21)\ttotal: 1m 54s\tremaining: 14.6s\n",
      "887:\tlearn: 0.0693134\ttest: 0.2651301\tbest: 0.2455413 (21)\ttotal: 1m 54s\tremaining: 14.5s\n",
      "888:\tlearn: 0.0692248\ttest: 0.2650924\tbest: 0.2455413 (21)\ttotal: 1m 54s\tremaining: 14.3s\n",
      "889:\tlearn: 0.0690812\ttest: 0.2651407\tbest: 0.2455413 (21)\ttotal: 1m 55s\tremaining: 14.2s\n",
      "890:\tlearn: 0.0689879\ttest: 0.2652454\tbest: 0.2455413 (21)\ttotal: 1m 55s\tremaining: 14.1s\n",
      "891:\tlearn: 0.0688739\ttest: 0.2652017\tbest: 0.2455413 (21)\ttotal: 1m 55s\tremaining: 14s\n",
      "892:\tlearn: 0.0687978\ttest: 0.2651953\tbest: 0.2455413 (21)\ttotal: 1m 55s\tremaining: 13.9s\n",
      "893:\tlearn: 0.0686321\ttest: 0.2652129\tbest: 0.2455413 (21)\ttotal: 1m 56s\tremaining: 13.8s\n",
      "894:\tlearn: 0.0685741\ttest: 0.2651733\tbest: 0.2455413 (21)\ttotal: 1m 56s\tremaining: 13.6s\n",
      "895:\tlearn: 0.0684533\ttest: 0.2652258\tbest: 0.2455413 (21)\ttotal: 1m 56s\tremaining: 13.5s\n",
      "896:\tlearn: 0.0683316\ttest: 0.2651446\tbest: 0.2455413 (21)\ttotal: 1m 56s\tremaining: 13.4s\n",
      "897:\tlearn: 0.0682088\ttest: 0.2651716\tbest: 0.2455413 (21)\ttotal: 1m 56s\tremaining: 13.3s\n",
      "898:\tlearn: 0.0681571\ttest: 0.2651094\tbest: 0.2455413 (21)\ttotal: 1m 57s\tremaining: 13.2s\n",
      "899:\tlearn: 0.0680670\ttest: 0.2651208\tbest: 0.2455413 (21)\ttotal: 1m 57s\tremaining: 13s\n",
      "900:\tlearn: 0.0679309\ttest: 0.2651954\tbest: 0.2455413 (21)\ttotal: 1m 57s\tremaining: 12.9s\n",
      "901:\tlearn: 0.0678150\ttest: 0.2652013\tbest: 0.2455413 (21)\ttotal: 1m 57s\tremaining: 12.8s\n",
      "902:\tlearn: 0.0677831\ttest: 0.2652062\tbest: 0.2455413 (21)\ttotal: 1m 57s\tremaining: 12.7s\n",
      "903:\tlearn: 0.0676647\ttest: 0.2652376\tbest: 0.2455413 (21)\ttotal: 1m 58s\tremaining: 12.5s\n",
      "904:\tlearn: 0.0675915\ttest: 0.2652782\tbest: 0.2455413 (21)\ttotal: 1m 58s\tremaining: 12.4s\n",
      "905:\tlearn: 0.0674481\ttest: 0.2654139\tbest: 0.2455413 (21)\ttotal: 1m 58s\tremaining: 12.3s\n",
      "906:\tlearn: 0.0673851\ttest: 0.2656055\tbest: 0.2455413 (21)\ttotal: 1m 58s\tremaining: 12.2s\n",
      "907:\tlearn: 0.0672987\ttest: 0.2656825\tbest: 0.2455413 (21)\ttotal: 1m 59s\tremaining: 12.1s\n",
      "908:\tlearn: 0.0672665\ttest: 0.2656706\tbest: 0.2455413 (21)\ttotal: 1m 59s\tremaining: 11.9s\n",
      "909:\tlearn: 0.0671229\ttest: 0.2656926\tbest: 0.2455413 (21)\ttotal: 1m 59s\tremaining: 11.8s\n",
      "910:\tlearn: 0.0670436\ttest: 0.2657632\tbest: 0.2455413 (21)\ttotal: 1m 59s\tremaining: 11.7s\n",
      "911:\tlearn: 0.0669735\ttest: 0.2658062\tbest: 0.2455413 (21)\ttotal: 2m\tremaining: 11.6s\n",
      "912:\tlearn: 0.0669558\ttest: 0.2657890\tbest: 0.2455413 (21)\ttotal: 2m\tremaining: 11.5s\n",
      "913:\tlearn: 0.0668736\ttest: 0.2657557\tbest: 0.2455413 (21)\ttotal: 2m\tremaining: 11.3s\n",
      "914:\tlearn: 0.0667467\ttest: 0.2658089\tbest: 0.2455413 (21)\ttotal: 2m\tremaining: 11.2s\n",
      "915:\tlearn: 0.0666159\ttest: 0.2657361\tbest: 0.2455413 (21)\ttotal: 2m 1s\tremaining: 11.1s\n",
      "916:\tlearn: 0.0664688\ttest: 0.2656861\tbest: 0.2455413 (21)\ttotal: 2m 1s\tremaining: 11s\n",
      "917:\tlearn: 0.0663441\ttest: 0.2657331\tbest: 0.2455413 (21)\ttotal: 2m 1s\tremaining: 10.9s\n",
      "918:\tlearn: 0.0663280\ttest: 0.2657227\tbest: 0.2455413 (21)\ttotal: 2m 1s\tremaining: 10.7s\n",
      "919:\tlearn: 0.0661973\ttest: 0.2656252\tbest: 0.2455413 (21)\ttotal: 2m 1s\tremaining: 10.6s\n",
      "920:\tlearn: 0.0661546\ttest: 0.2656208\tbest: 0.2455413 (21)\ttotal: 2m 2s\tremaining: 10.5s\n",
      "921:\tlearn: 0.0661304\ttest: 0.2656291\tbest: 0.2455413 (21)\ttotal: 2m 2s\tremaining: 10.3s\n",
      "922:\tlearn: 0.0660286\ttest: 0.2656310\tbest: 0.2455413 (21)\ttotal: 2m 2s\tremaining: 10.2s\n",
      "923:\tlearn: 0.0659151\ttest: 0.2656036\tbest: 0.2455413 (21)\ttotal: 2m 2s\tremaining: 10.1s\n",
      "924:\tlearn: 0.0658321\ttest: 0.2657180\tbest: 0.2455413 (21)\ttotal: 2m 4s\tremaining: 10.1s\n",
      "925:\tlearn: 0.0658191\ttest: 0.2657354\tbest: 0.2455413 (21)\ttotal: 2m 5s\tremaining: 9.99s\n"
     ]
    },
    {
     "name": "stdout",
     "output_type": "stream",
     "text": [
      "926:\tlearn: 0.0657571\ttest: 0.2657919\tbest: 0.2455413 (21)\ttotal: 2m 5s\tremaining: 9.91s\n",
      "927:\tlearn: 0.0657283\ttest: 0.2658211\tbest: 0.2455413 (21)\ttotal: 2m 6s\tremaining: 9.78s\n",
      "928:\tlearn: 0.0656730\ttest: 0.2658613\tbest: 0.2455413 (21)\ttotal: 2m 6s\tremaining: 9.67s\n",
      "929:\tlearn: 0.0655678\ttest: 0.2659319\tbest: 0.2455413 (21)\ttotal: 2m 7s\tremaining: 9.56s\n",
      "930:\tlearn: 0.0655122\ttest: 0.2659151\tbest: 0.2455413 (21)\ttotal: 2m 7s\tremaining: 9.45s\n",
      "931:\tlearn: 0.0654027\ttest: 0.2659097\tbest: 0.2455413 (21)\ttotal: 2m 7s\tremaining: 9.33s\n",
      "932:\tlearn: 0.0653017\ttest: 0.2658974\tbest: 0.2455413 (21)\ttotal: 2m 8s\tremaining: 9.2s\n",
      "933:\tlearn: 0.0652816\ttest: 0.2658906\tbest: 0.2455413 (21)\ttotal: 2m 8s\tremaining: 9.07s\n",
      "934:\tlearn: 0.0651753\ttest: 0.2658461\tbest: 0.2455413 (21)\ttotal: 2m 8s\tremaining: 8.93s\n",
      "935:\tlearn: 0.0650647\ttest: 0.2660228\tbest: 0.2455413 (21)\ttotal: 2m 8s\tremaining: 8.79s\n",
      "936:\tlearn: 0.0649612\ttest: 0.2660809\tbest: 0.2455413 (21)\ttotal: 2m 8s\tremaining: 8.66s\n",
      "937:\tlearn: 0.0648505\ttest: 0.2660676\tbest: 0.2455413 (21)\ttotal: 2m 8s\tremaining: 8.53s\n",
      "938:\tlearn: 0.0647274\ttest: 0.2660930\tbest: 0.2455413 (21)\ttotal: 2m 9s\tremaining: 8.39s\n",
      "939:\tlearn: 0.0646303\ttest: 0.2661045\tbest: 0.2455413 (21)\ttotal: 2m 9s\tremaining: 8.26s\n",
      "940:\tlearn: 0.0645619\ttest: 0.2661032\tbest: 0.2455413 (21)\ttotal: 2m 9s\tremaining: 8.12s\n",
      "941:\tlearn: 0.0644615\ttest: 0.2660950\tbest: 0.2455413 (21)\ttotal: 2m 9s\tremaining: 7.98s\n",
      "942:\tlearn: 0.0644349\ttest: 0.2660953\tbest: 0.2455413 (21)\ttotal: 2m 9s\tremaining: 7.85s\n",
      "943:\tlearn: 0.0643244\ttest: 0.2661079\tbest: 0.2455413 (21)\ttotal: 2m 9s\tremaining: 7.71s\n",
      "944:\tlearn: 0.0642122\ttest: 0.2660551\tbest: 0.2455413 (21)\ttotal: 2m 10s\tremaining: 7.57s\n",
      "945:\tlearn: 0.0641223\ttest: 0.2660183\tbest: 0.2455413 (21)\ttotal: 2m 10s\tremaining: 7.43s\n",
      "946:\tlearn: 0.0640585\ttest: 0.2660243\tbest: 0.2455413 (21)\ttotal: 2m 10s\tremaining: 7.29s\n",
      "947:\tlearn: 0.0640128\ttest: 0.2660639\tbest: 0.2455413 (21)\ttotal: 2m 10s\tremaining: 7.16s\n",
      "948:\tlearn: 0.0639845\ttest: 0.2660475\tbest: 0.2455413 (21)\ttotal: 2m 10s\tremaining: 7.02s\n",
      "949:\tlearn: 0.0639057\ttest: 0.2661043\tbest: 0.2455413 (21)\ttotal: 2m 10s\tremaining: 6.88s\n",
      "950:\tlearn: 0.0638771\ttest: 0.2661030\tbest: 0.2455413 (21)\ttotal: 2m 10s\tremaining: 6.75s\n",
      "951:\tlearn: 0.0638128\ttest: 0.2660836\tbest: 0.2455413 (21)\ttotal: 2m 11s\tremaining: 6.61s\n",
      "952:\tlearn: 0.0638031\ttest: 0.2660682\tbest: 0.2455413 (21)\ttotal: 2m 11s\tremaining: 6.47s\n",
      "953:\tlearn: 0.0637506\ttest: 0.2660757\tbest: 0.2455413 (21)\ttotal: 2m 11s\tremaining: 6.35s\n",
      "954:\tlearn: 0.0636675\ttest: 0.2660748\tbest: 0.2455413 (21)\ttotal: 2m 12s\tremaining: 6.22s\n",
      "955:\tlearn: 0.0635502\ttest: 0.2661100\tbest: 0.2455413 (21)\ttotal: 2m 12s\tremaining: 6.1s\n",
      "956:\tlearn: 0.0634343\ttest: 0.2660873\tbest: 0.2455413 (21)\ttotal: 2m 12s\tremaining: 5.97s\n",
      "957:\tlearn: 0.0633996\ttest: 0.2659947\tbest: 0.2455413 (21)\ttotal: 2m 13s\tremaining: 5.86s\n",
      "958:\tlearn: 0.0633872\ttest: 0.2659547\tbest: 0.2455413 (21)\ttotal: 2m 13s\tremaining: 5.72s\n",
      "959:\tlearn: 0.0632612\ttest: 0.2659489\tbest: 0.2455413 (21)\ttotal: 2m 14s\tremaining: 5.58s\n",
      "960:\tlearn: 0.0632225\ttest: 0.2659195\tbest: 0.2455413 (21)\ttotal: 2m 14s\tremaining: 5.44s\n",
      "961:\tlearn: 0.0630995\ttest: 0.2658405\tbest: 0.2455413 (21)\ttotal: 2m 14s\tremaining: 5.3s\n",
      "962:\tlearn: 0.0630343\ttest: 0.2658686\tbest: 0.2455413 (21)\ttotal: 2m 14s\tremaining: 5.16s\n",
      "963:\tlearn: 0.0628970\ttest: 0.2658342\tbest: 0.2455413 (21)\ttotal: 2m 14s\tremaining: 5.03s\n",
      "964:\tlearn: 0.0628199\ttest: 0.2658744\tbest: 0.2455413 (21)\ttotal: 2m 14s\tremaining: 4.89s\n",
      "965:\tlearn: 0.0626976\ttest: 0.2658479\tbest: 0.2455413 (21)\ttotal: 2m 14s\tremaining: 4.75s\n",
      "966:\tlearn: 0.0625949\ttest: 0.2658641\tbest: 0.2455413 (21)\ttotal: 2m 15s\tremaining: 4.61s\n",
      "967:\tlearn: 0.0625150\ttest: 0.2658550\tbest: 0.2455413 (21)\ttotal: 2m 15s\tremaining: 4.47s\n",
      "968:\tlearn: 0.0623955\ttest: 0.2658645\tbest: 0.2455413 (21)\ttotal: 2m 15s\tremaining: 4.33s\n",
      "969:\tlearn: 0.0622640\ttest: 0.2658906\tbest: 0.2455413 (21)\ttotal: 2m 15s\tremaining: 4.19s\n",
      "970:\tlearn: 0.0621622\ttest: 0.2657988\tbest: 0.2455413 (21)\ttotal: 2m 15s\tremaining: 4.05s\n",
      "971:\tlearn: 0.0620244\ttest: 0.2657459\tbest: 0.2455413 (21)\ttotal: 2m 15s\tremaining: 3.91s\n",
      "972:\tlearn: 0.0619948\ttest: 0.2657321\tbest: 0.2455413 (21)\ttotal: 2m 15s\tremaining: 3.77s\n",
      "973:\tlearn: 0.0619484\ttest: 0.2657631\tbest: 0.2455413 (21)\ttotal: 2m 15s\tremaining: 3.63s\n",
      "974:\tlearn: 0.0618861\ttest: 0.2658525\tbest: 0.2455413 (21)\ttotal: 2m 16s\tremaining: 3.49s\n",
      "975:\tlearn: 0.0617721\ttest: 0.2658912\tbest: 0.2455413 (21)\ttotal: 2m 16s\tremaining: 3.35s\n",
      "976:\tlearn: 0.0616320\ttest: 0.2659221\tbest: 0.2455413 (21)\ttotal: 2m 16s\tremaining: 3.21s\n",
      "977:\tlearn: 0.0615332\ttest: 0.2659333\tbest: 0.2455413 (21)\ttotal: 2m 16s\tremaining: 3.07s\n",
      "978:\tlearn: 0.0614298\ttest: 0.2659538\tbest: 0.2455413 (21)\ttotal: 2m 16s\tremaining: 2.93s\n",
      "979:\tlearn: 0.0613082\ttest: 0.2659217\tbest: 0.2455413 (21)\ttotal: 2m 16s\tremaining: 2.79s\n",
      "980:\tlearn: 0.0612027\ttest: 0.2660108\tbest: 0.2455413 (21)\ttotal: 2m 16s\tremaining: 2.65s\n",
      "981:\tlearn: 0.0611607\ttest: 0.2660415\tbest: 0.2455413 (21)\ttotal: 2m 17s\tremaining: 2.51s\n",
      "982:\tlearn: 0.0610579\ttest: 0.2661333\tbest: 0.2455413 (21)\ttotal: 2m 17s\tremaining: 2.37s\n",
      "983:\tlearn: 0.0609821\ttest: 0.2662392\tbest: 0.2455413 (21)\ttotal: 2m 17s\tremaining: 2.24s\n",
      "984:\tlearn: 0.0608607\ttest: 0.2661477\tbest: 0.2455413 (21)\ttotal: 2m 17s\tremaining: 2.1s\n",
      "985:\tlearn: 0.0608140\ttest: 0.2660662\tbest: 0.2455413 (21)\ttotal: 2m 17s\tremaining: 1.96s\n",
      "986:\tlearn: 0.0607871\ttest: 0.2660395\tbest: 0.2455413 (21)\ttotal: 2m 18s\tremaining: 1.82s\n",
      "987:\tlearn: 0.0607164\ttest: 0.2660882\tbest: 0.2455413 (21)\ttotal: 2m 18s\tremaining: 1.68s\n",
      "988:\tlearn: 0.0606182\ttest: 0.2661266\tbest: 0.2455413 (21)\ttotal: 2m 18s\tremaining: 1.54s\n",
      "989:\tlearn: 0.0605341\ttest: 0.2660959\tbest: 0.2455413 (21)\ttotal: 2m 18s\tremaining: 1.4s\n",
      "990:\tlearn: 0.0604067\ttest: 0.2660948\tbest: 0.2455413 (21)\ttotal: 2m 18s\tremaining: 1.26s\n",
      "991:\tlearn: 0.0603870\ttest: 0.2660643\tbest: 0.2455413 (21)\ttotal: 2m 18s\tremaining: 1.12s\n",
      "992:\tlearn: 0.0603216\ttest: 0.2661267\tbest: 0.2455413 (21)\ttotal: 2m 18s\tremaining: 979ms\n",
      "993:\tlearn: 0.0602069\ttest: 0.2661160\tbest: 0.2455413 (21)\ttotal: 2m 19s\tremaining: 840ms\n",
      "994:\tlearn: 0.0601250\ttest: 0.2661761\tbest: 0.2455413 (21)\ttotal: 2m 19s\tremaining: 700ms\n",
      "995:\tlearn: 0.0601113\ttest: 0.2662063\tbest: 0.2455413 (21)\ttotal: 2m 19s\tremaining: 560ms\n",
      "996:\tlearn: 0.0599893\ttest: 0.2662031\tbest: 0.2455413 (21)\ttotal: 2m 19s\tremaining: 420ms\n",
      "997:\tlearn: 0.0599608\ttest: 0.2662027\tbest: 0.2455413 (21)\ttotal: 2m 19s\tremaining: 280ms\n",
      "998:\tlearn: 0.0598813\ttest: 0.2662470\tbest: 0.2455413 (21)\ttotal: 2m 19s\tremaining: 140ms\n",
      "999:\tlearn: 0.0597477\ttest: 0.2662121\tbest: 0.2455413 (21)\ttotal: 2m 19s\tremaining: 0us\n",
      "\n",
      "bestTest = 0.2455412971\n",
      "bestIteration = 21\n",
      "\n",
      "Shrink model to first 22 iterations.\n"
     ]
    },
    {
     "data": {
      "text/plain": [
       "<catboost.core.CatBoostRegressor at 0x7ff193a08c40>"
      ]
     },
     "execution_count": 617,
     "metadata": {},
     "output_type": "execute_result"
    }
   ],
   "source": [
    "ctbst = CatBoostRegressor(learning_rate=0.02, eval_metric='MAPE',depth=12, has_time=True)\n",
    "\n",
    "ctbst.fit(X_train, y_train, eval_set=(X_test,y_test), use_best_model=True)"
   ]
  },
  {
   "cell_type": "code",
   "execution_count": 618,
   "metadata": {},
   "outputs": [],
   "source": [
    "y_pred = ctbst.predict(X_test)\n",
    "y_pred_train = ctbst.predict(X_train)"
   ]
  },
  {
   "cell_type": "markdown",
   "metadata": {},
   "source": [
    "### Evaluation"
   ]
  },
  {
   "cell_type": "markdown",
   "metadata": {},
   "source": [
    "#### Test Set"
   ]
  },
  {
   "cell_type": "code",
   "execution_count": 619,
   "metadata": {},
   "outputs": [
    {
     "name": "stdout",
     "output_type": "stream",
     "text": [
      "mae score is 0.31394466957028394\n",
      "mse score is 0.17905813929872325\n",
      "rmse score is 0.42315261939248733\n",
      "r2 score is -0.019301932504958597\n",
      "mape score is 49.27198016724659\n"
     ]
    }
   ],
   "source": [
    "mae = mean_absolute_error(y_test, y_pred)\n",
    "mse = mean_squared_error(y_test, y_pred)\n",
    "rmse = np.sqrt(mean_squared_error(y_test, y_pred))\n",
    "r2 = r2_score(y_test, y_pred)\n",
    "mape = np.mean(np.abs((y_test - y_pred) / y_test)) * 100\n",
    "\n",
    "scores = {'mae': mae, 'mse': mse, 'rmse': rmse, 'r2': r2, 'mape':mape}\n",
    "\n",
    "for key in scores:\n",
    "    print(f\"{key} score is {scores[key]}\")"
   ]
  },
  {
   "cell_type": "markdown",
   "metadata": {},
   "source": [
    "#### Train Set"
   ]
  },
  {
   "cell_type": "code",
   "execution_count": 620,
   "metadata": {},
   "outputs": [
    {
     "name": "stdout",
     "output_type": "stream",
     "text": [
      "mae score is 0.3735350492206055\n",
      "mse score is 0.3571859679179554\n",
      "rmse score is 0.5976503726410245\n",
      "r2 score is 0.11241178294450449\n",
      "mape score is 131.30327827420618\n"
     ]
    }
   ],
   "source": [
    "mae = mean_absolute_error(y_train, y_pred_train)\n",
    "mse = mean_squared_error(y_train, y_pred_train)\n",
    "rmse = np.sqrt(mean_squared_error(y_train, y_pred_train))\n",
    "r2 = r2_score(y_train, y_pred_train)\n",
    "mape = np.mean(np.abs((y_train - y_pred_train) / y_train)) * 100\n",
    "\n",
    "scores = {'mae': mae, 'mse': mse, 'rmse': rmse, 'r2': r2, 'mape': mape}\n",
    "\n",
    "for key in scores:\n",
    "    print(f\"{key} score is {scores[key]}\")"
   ]
  },
  {
   "cell_type": "code",
   "execution_count": 621,
   "metadata": {
    "scrolled": true
   },
   "outputs": [
    {
     "data": {
      "text/html": [
       "<div>\n",
       "<style scoped>\n",
       "    .dataframe tbody tr th:only-of-type {\n",
       "        vertical-align: middle;\n",
       "    }\n",
       "\n",
       "    .dataframe tbody tr th {\n",
       "        vertical-align: top;\n",
       "    }\n",
       "\n",
       "    .dataframe thead th {\n",
       "        text-align: right;\n",
       "    }\n",
       "</style>\n",
       "<table border=\"1\" class=\"dataframe\">\n",
       "  <thead>\n",
       "    <tr style=\"text-align: right;\">\n",
       "      <th></th>\n",
       "      <th>Actual</th>\n",
       "      <th>Predicted</th>\n",
       "      <th>Difference</th>\n",
       "    </tr>\n",
       "  </thead>\n",
       "  <tbody>\n",
       "    <tr>\n",
       "      <th>100</th>\n",
       "      <td>0.736446</td>\n",
       "      <td>0.982032</td>\n",
       "      <td>0.245587</td>\n",
       "    </tr>\n",
       "    <tr>\n",
       "      <th>209</th>\n",
       "      <td>1.684699</td>\n",
       "      <td>1.005672</td>\n",
       "      <td>0.679026</td>\n",
       "    </tr>\n",
       "    <tr>\n",
       "      <th>210</th>\n",
       "      <td>1.667890</td>\n",
       "      <td>0.999494</td>\n",
       "      <td>0.668396</td>\n",
       "    </tr>\n",
       "    <tr>\n",
       "      <th>211</th>\n",
       "      <td>1.701320</td>\n",
       "      <td>0.993338</td>\n",
       "      <td>0.707982</td>\n",
       "    </tr>\n",
       "    <tr>\n",
       "      <th>212</th>\n",
       "      <td>1.634012</td>\n",
       "      <td>1.025256</td>\n",
       "      <td>0.608757</td>\n",
       "    </tr>\n",
       "    <tr>\n",
       "      <th>...</th>\n",
       "      <td>...</td>\n",
       "      <td>...</td>\n",
       "      <td>...</td>\n",
       "    </tr>\n",
       "    <tr>\n",
       "      <th>1799</th>\n",
       "      <td>1.217174</td>\n",
       "      <td>0.983919</td>\n",
       "      <td>0.233255</td>\n",
       "    </tr>\n",
       "    <tr>\n",
       "      <th>1800</th>\n",
       "      <td>0.924848</td>\n",
       "      <td>0.982392</td>\n",
       "      <td>0.057544</td>\n",
       "    </tr>\n",
       "    <tr>\n",
       "      <th>1852</th>\n",
       "      <td>0.110414</td>\n",
       "      <td>0.971420</td>\n",
       "      <td>0.861006</td>\n",
       "    </tr>\n",
       "    <tr>\n",
       "      <th>1960</th>\n",
       "      <td>0.768153</td>\n",
       "      <td>0.997063</td>\n",
       "      <td>0.228910</td>\n",
       "    </tr>\n",
       "    <tr>\n",
       "      <th>2166</th>\n",
       "      <td>0.680156</td>\n",
       "      <td>0.985786</td>\n",
       "      <td>0.305630</td>\n",
       "    </tr>\n",
       "  </tbody>\n",
       "</table>\n",
       "<p>62 rows × 3 columns</p>\n",
       "</div>"
      ],
      "text/plain": [
       "        Actual  Predicted  Difference\n",
       "100   0.736446   0.982032    0.245587\n",
       "209   1.684699   1.005672    0.679026\n",
       "210   1.667890   0.999494    0.668396\n",
       "211   1.701320   0.993338    0.707982\n",
       "212   1.634012   1.025256    0.608757\n",
       "...        ...        ...         ...\n",
       "1799  1.217174   0.983919    0.233255\n",
       "1800  0.924848   0.982392    0.057544\n",
       "1852  0.110414   0.971420    0.861006\n",
       "1960  0.768153   0.997063    0.228910\n",
       "2166  0.680156   0.985786    0.305630\n",
       "\n",
       "[62 rows x 3 columns]"
      ]
     },
     "execution_count": 621,
     "metadata": {},
     "output_type": "execute_result"
    }
   ],
   "source": [
    "#Actual vs Predcited Dataframe\n",
    "df_eval = pd.DataFrame({'Actual': y_test, 'Predicted': y_pred})\n",
    "df_eval['Difference']=np.abs(df_eval['Actual']-df_eval['Predicted'])\n",
    "df_eval"
   ]
  },
  {
   "cell_type": "markdown",
   "metadata": {},
   "source": [
    "### Results View"
   ]
  },
  {
   "cell_type": "markdown",
   "metadata": {},
   "source": [
    "### Predicted vs Actual R0 Distribution"
   ]
  },
  {
   "cell_type": "markdown",
   "metadata": {},
   "source": [
    "#### Predicted "
   ]
  },
  {
   "cell_type": "code",
   "execution_count": 622,
   "metadata": {
    "scrolled": true
   },
   "outputs": [
    {
     "data": {
      "text/plain": [
       "Text(0.5, 1.0, 'R0_Predicted')"
      ]
     },
     "execution_count": 622,
     "metadata": {},
     "output_type": "execute_result"
    },
    {
     "data": {
      "image/png": "[encoded data removed]",
      "text/plain": [
       "<Figure size 864x360 with 1 Axes>"
      ]
     },
     "metadata": {
      "needs_background": "light"
     },
     "output_type": "display_data"
    }
   ],
   "source": [
    "f, axes = plt.subplots(figsize=(12,5))\n",
    "sns.histplot(x='Predicted', data=df_eval, kde=False, bins=100, ax=axes);\n",
    "axes.set_title('R0_Predicted')"
   ]
  },
  {
   "cell_type": "markdown",
   "metadata": {},
   "source": [
    "#### Actual "
   ]
  },
  {
   "cell_type": "code",
   "execution_count": 623,
   "metadata": {},
   "outputs": [
    {
     "data": {
      "text/plain": [
       "Text(0.5, 1.0, 'R0_Actual')"
      ]
     },
     "execution_count": 623,
     "metadata": {},
     "output_type": "execute_result"
    },
    {
     "data": {
      "image/png": "[encoded data removed]",
      "text/plain": [
       "<Figure size 864x360 with 1 Axes>"
      ]
     },
     "metadata": {
      "needs_background": "light"
     },
     "output_type": "display_data"
    }
   ],
   "source": [
    "f, axes = plt.subplots(figsize=(12,5))\n",
    "sns.histplot(x='Actual', data=df_eval, kde=False, bins=100, ax=axes);\n",
    "axes.set_title('R0_Actual')"
   ]
  },
  {
   "cell_type": "markdown",
   "metadata": {},
   "source": [
    "## Model Evaluation Plots"
   ]
  },
  {
   "cell_type": "markdown",
   "metadata": {},
   "source": [
    "### Difference Histogram "
   ]
  },
  {
   "cell_type": "code",
   "execution_count": 624,
   "metadata": {},
   "outputs": [
    {
     "data": {
      "text/plain": [
       "Text(0.5, 1.0, 'Difference Histogram')"
      ]
     },
     "execution_count": 624,
     "metadata": {},
     "output_type": "execute_result"
    },
    {
     "data": {
      "image/png": "[encoded data removed]",
      "text/plain": [
       "<Figure size 864x360 with 1 Axes>"
      ]
     },
     "metadata": {
      "needs_background": "light"
     },
     "output_type": "display_data"
    }
   ],
   "source": [
    "# plot difference hist\n",
    "f, axes = plt.subplots(figsize=(12,5))\n",
    "sns.histplot(x='Difference', data=df_eval, kde=False, bins=50, ax=axes);\n",
    "axes.set_title('Difference Histogram')"
   ]
  },
  {
   "cell_type": "markdown",
   "metadata": {},
   "source": [
    "### Actual vs Predicted"
   ]
  },
  {
   "cell_type": "code",
   "execution_count": 625,
   "metadata": {},
   "outputs": [
    {
     "data": {
      "image/png": "[encoded data removed]",
      "text/plain": [
       "<Figure size 360x360 with 1 Axes>"
      ]
     },
     "metadata": {
      "needs_background": "light"
     },
     "output_type": "display_data"
    }
   ],
   "source": [
    "_, ax = plt.subplots(figsize=(5,5))\n",
    "\n",
    "ax.scatter(x = range(0, y_test.size), y=y_test, c = 'blue', label = 'Actual', alpha = 0.3)\n",
    "ax.scatter(x = range(0, y_pred.size), y=y_pred, c = 'red', label = 'Predicted', alpha = 0.3)\n",
    "\n",
    "plt.title('Actual and predicted values')\n",
    "plt.xlabel('Observations')\n",
    "plt.ylabel('mpg')\n",
    "plt.legend()\n",
    "plt.show()"
   ]
  },
  {
   "cell_type": "code",
   "execution_count": 626,
   "metadata": {},
   "outputs": [
    {
     "data": {
      "image/png": "[encoded data removed]",
      "text/plain": [
       "<Figure size 360x360 with 1 Axes>"
      ]
     },
     "metadata": {
      "needs_background": "light"
     },
     "output_type": "display_data"
    }
   ],
   "source": [
    "fig, ax = plt.subplots(figsize=(5,5))\n",
    "ax.scatter(y_test, y_pred)\n",
    "ax.plot([y_train.min(), y_train.max()], [y_train.min(), y_train.max()], 'k--', lw=4)\n",
    "ax.set_xlabel('Measured')\n",
    "ax.set_ylabel('Predicted')\n",
    "plt.show()"
   ]
  },
  {
   "cell_type": "code",
   "execution_count": 627,
   "metadata": {},
   "outputs": [
    {
     "data": {
      "image/png": "[encoded data removed]",
      "text/plain": [
       "<Figure size 360x360 with 1 Axes>"
      ]
     },
     "metadata": {
      "needs_background": "light"
     },
     "output_type": "display_data"
    }
   ],
   "source": [
    "fig, ax = plt.subplots(figsize=(5,5))\n",
    "ax.scatter(y_train, y_pred_train)\n",
    "ax.plot([y_train.min(), y_train.max()], [y_train.min(), y_train.max()], 'k--', lw=4)\n",
    "ax.set_xlabel('Measured')\n",
    "ax.set_ylabel('Predicted')\n",
    "plt.show()"
   ]
  },
  {
   "cell_type": "code",
   "execution_count": 628,
   "metadata": {},
   "outputs": [
    {
     "data": {
      "image/png": "[encoded data removed]",
      "text/plain": [
       "<Figure size 720x360 with 2 Axes>"
      ]
     },
     "metadata": {
      "needs_background": "light"
     },
     "output_type": "display_data"
    }
   ],
   "source": [
    "# Hacemos las predicciones y evaluamos los resultados graficamente, tanto en el set de Train como de Test\n",
    "y_test_pred = y_pred\n",
    "y_train_pred = y_pred_train\n",
    "\n",
    "test = y_test\n",
    "train = y_train\n",
    "\n",
    "res_df_test = pd.DataFrame({'pred': y_test_pred, 'test': test})\n",
    "res_df_test['dif'] = np.round(res_df_test['pred']-res_df_test['test'],2)\n",
    "res_df_test['dif_abs'] = np.round(np.abs(res_df_test['pred']-res_df_test['test']),2)\n",
    "res_df_test['dif%'] = np.round(100*(res_df_test['pred']-res_df_test['test'])/res_df_test['test'],2)\n",
    "\n",
    "res_df_train = pd.DataFrame({'pred': y_train_pred, 'test': train})\n",
    "res_df_train['dif'] = np.round(res_df_train['pred']-res_df_train['test'],2)\n",
    "res_df_train['dif_abs'] = np.round(np.abs(res_df_train['pred']-res_df_train['test']),2)\n",
    "res_df_train['dif%'] = np.round(100*(res_df_train['pred']-res_df_train['test'])/res_df_train['test'],2)\n",
    "\n",
    "fig, axes = plt.subplots(nrows=1, ncols=2, figsize=(10, 5))\n",
    "plot = sns.kdeplot(res_df_train['pred'], ax=axes[0], color='orange')\n",
    "plot = sns.kdeplot(res_df_train['test'], ax=axes[0])\n",
    "plot = sns.kdeplot(res_df_test['pred'], ax=axes[1], color='orange')\n",
    "plot = sns.kdeplot(res_df_test['test'], ax=axes[1])\n",
    "fig.tight_layout()"
   ]
  },
  {
   "cell_type": "code",
   "execution_count": 629,
   "metadata": {},
   "outputs": [
    {
     "data": {
      "text/html": [
       "<div>\n",
       "<style scoped>\n",
       "    .dataframe tbody tr th:only-of-type {\n",
       "        vertical-align: middle;\n",
       "    }\n",
       "\n",
       "    .dataframe tbody tr th {\n",
       "        vertical-align: top;\n",
       "    }\n",
       "\n",
       "    .dataframe thead th {\n",
       "        text-align: right;\n",
       "    }\n",
       "</style>\n",
       "<table border=\"1\" class=\"dataframe\">\n",
       "  <thead>\n",
       "    <tr style=\"text-align: right;\">\n",
       "      <th></th>\n",
       "      <th>pred</th>\n",
       "      <th>test</th>\n",
       "      <th>dif</th>\n",
       "      <th>dif_abs</th>\n",
       "      <th>dif%</th>\n",
       "    </tr>\n",
       "  </thead>\n",
       "  <tbody>\n",
       "    <tr>\n",
       "      <th>756</th>\n",
       "      <td>1.003141</td>\n",
       "      <td>2.531593</td>\n",
       "      <td>-1.53</td>\n",
       "      <td>1.53</td>\n",
       "      <td>-60.38</td>\n",
       "    </tr>\n",
       "    <tr>\n",
       "      <th>1738</th>\n",
       "      <td>0.995505</td>\n",
       "      <td>1.765018</td>\n",
       "      <td>-0.77</td>\n",
       "      <td>0.77</td>\n",
       "      <td>-43.60</td>\n",
       "    </tr>\n",
       "    <tr>\n",
       "      <th>211</th>\n",
       "      <td>0.993338</td>\n",
       "      <td>1.701320</td>\n",
       "      <td>-0.71</td>\n",
       "      <td>0.71</td>\n",
       "      <td>-41.61</td>\n",
       "    </tr>\n",
       "    <tr>\n",
       "      <th>1796</th>\n",
       "      <td>0.987995</td>\n",
       "      <td>1.664583</td>\n",
       "      <td>-0.68</td>\n",
       "      <td>0.68</td>\n",
       "      <td>-40.65</td>\n",
       "    </tr>\n",
       "    <tr>\n",
       "      <th>1136</th>\n",
       "      <td>0.999621</td>\n",
       "      <td>1.679276</td>\n",
       "      <td>-0.68</td>\n",
       "      <td>0.68</td>\n",
       "      <td>-40.47</td>\n",
       "    </tr>\n",
       "    <tr>\n",
       "      <th>...</th>\n",
       "      <td>...</td>\n",
       "      <td>...</td>\n",
       "      <td>...</td>\n",
       "      <td>...</td>\n",
       "      <td>...</td>\n",
       "    </tr>\n",
       "    <tr>\n",
       "      <th>1457</th>\n",
       "      <td>0.999684</td>\n",
       "      <td>0.469371</td>\n",
       "      <td>0.53</td>\n",
       "      <td>0.53</td>\n",
       "      <td>112.98</td>\n",
       "    </tr>\n",
       "    <tr>\n",
       "      <th>929</th>\n",
       "      <td>0.987151</td>\n",
       "      <td>0.397465</td>\n",
       "      <td>0.59</td>\n",
       "      <td>0.59</td>\n",
       "      <td>148.36</td>\n",
       "    </tr>\n",
       "    <tr>\n",
       "      <th>871</th>\n",
       "      <td>0.987984</td>\n",
       "      <td>0.347447</td>\n",
       "      <td>0.64</td>\n",
       "      <td>0.64</td>\n",
       "      <td>184.36</td>\n",
       "    </tr>\n",
       "    <tr>\n",
       "      <th>1188</th>\n",
       "      <td>0.988421</td>\n",
       "      <td>0.174586</td>\n",
       "      <td>0.81</td>\n",
       "      <td>0.81</td>\n",
       "      <td>466.15</td>\n",
       "    </tr>\n",
       "    <tr>\n",
       "      <th>1852</th>\n",
       "      <td>0.971420</td>\n",
       "      <td>0.110414</td>\n",
       "      <td>0.86</td>\n",
       "      <td>0.86</td>\n",
       "      <td>779.80</td>\n",
       "    </tr>\n",
       "  </tbody>\n",
       "</table>\n",
       "<p>62 rows × 5 columns</p>\n",
       "</div>"
      ],
      "text/plain": [
       "          pred      test   dif  dif_abs    dif%\n",
       "756   1.003141  2.531593 -1.53     1.53  -60.38\n",
       "1738  0.995505  1.765018 -0.77     0.77  -43.60\n",
       "211   0.993338  1.701320 -0.71     0.71  -41.61\n",
       "1796  0.987995  1.664583 -0.68     0.68  -40.65\n",
       "1136  0.999621  1.679276 -0.68     0.68  -40.47\n",
       "...        ...       ...   ...      ...     ...\n",
       "1457  0.999684  0.469371  0.53     0.53  112.98\n",
       "929   0.987151  0.397465  0.59     0.59  148.36\n",
       "871   0.987984  0.347447  0.64     0.64  184.36\n",
       "1188  0.988421  0.174586  0.81     0.81  466.15\n",
       "1852  0.971420  0.110414  0.86     0.86  779.80\n",
       "\n",
       "[62 rows x 5 columns]"
      ]
     },
     "execution_count": 629,
     "metadata": {},
     "output_type": "execute_result"
    }
   ],
   "source": [
    "res_df_test.sort_values('dif%')"
   ]
  },
  {
   "cell_type": "code",
   "execution_count": 630,
   "metadata": {},
   "outputs": [
    {
     "data": {
      "text/plain": [
       "Index(['Code', 'Date', 'restrictions_internal_movements',\n",
       "       'close_public_transport', 'stay_home_requirements',\n",
       "       'restriction_gatherings', 'cancel_public_events', 'Holiday', 'temp',\n",
       "       'prcp', 'total_vaccinations_per_100', 'accumulated', 'R0_prev28',\n",
       "       'bad_mobility', 'good_mobility', 'tourism', 'awareness',\n",
       "       'work_life_closures', 'government_support', 'hospital_availability',\n",
       "       'youth_effect', 'R0'],\n",
       "      dtype='object')"
      ]
     },
     "execution_count": 630,
     "metadata": {},
     "output_type": "execute_result"
    }
   ],
   "source": [
    "df.columns"
   ]
  },
  {
   "cell_type": "code",
   "execution_count": 631,
   "metadata": {},
   "outputs": [
    {
     "data": {
      "text/plain": [
       "Text(0.5, 0, 'CatBoost Feature Importance')"
      ]
     },
     "execution_count": 631,
     "metadata": {},
     "output_type": "execute_result"
    },
    {
     "data": {
      "image/png": "[encoded data removed]",
      "text/plain": [
       "<Figure size 1440x720 with 1 Axes>"
      ]
     },
     "metadata": {
      "needs_background": "light"
     },
     "output_type": "display_data"
    }
   ],
   "source": [
    "sorted_feature_importance = ctbst.feature_importances_.argsort()\n",
    "plt.barh(df[df.columns[2:-1]].columns, \n",
    "        ctbst.feature_importances_[sorted_feature_importance], \n",
    "        color='turquoise')\n",
    "plt.xlabel(\"CatBoost Feature Importance\")"
   ]
  },
  {
   "cell_type": "code",
   "execution_count": 632,
   "metadata": {},
   "outputs": [
    {
     "data": {
      "image/png": "[encoded data removed]",
      "text/plain": [
       "<Figure size 576x655.2 with 2 Axes>"
      ]
     },
     "metadata": {
      "needs_background": "light"
     },
     "output_type": "display_data"
    }
   ],
   "source": [
    "explainer = shap.TreeExplainer(ctbst)\n",
    "shap_values = explainer.shap_values(X_test)\n",
    "shap.summary_plot(shap_values, X_test, feature_names = df[df.columns[2:-1]].columns)"
   ]
  },
  {
   "cell_type": "markdown",
   "metadata": {},
   "source": [
    "## Cross Validation"
   ]
  },
  {
   "cell_type": "code",
   "execution_count": 702,
   "metadata": {},
   "outputs": [],
   "source": [
    "aux=df.copy().reset_index()\n",
    "aux=aux.sort_values('Date')\n",
    "X=aux[aux.columns[3:-1]]\n",
    "y=aux[aux.columns[-1]]"
   ]
  },
  {
   "cell_type": "code",
   "execution_count": 718,
   "metadata": {},
   "outputs": [
    {
     "name": "stdout",
     "output_type": "stream",
     "text": [
      "Fitting 5 folds for each of 9 candidates, totalling 45 fits\n"
     ]
    },
    {
     "name": "stderr",
     "output_type": "stream",
     "text": [
      "[Parallel(n_jobs=-1)]: Using backend LokyBackend with 4 concurrent workers.\n",
      "[Parallel(n_jobs=-1)]: Done  38 out of  45 | elapsed:    1.0s remaining:    0.2s\n",
      "[Parallel(n_jobs=-1)]: Done  45 out of  45 | elapsed:    1.2s finished\n"
     ]
    },
    {
     "name": "stdout",
     "output_type": "stream",
     "text": [
      "[10:59:30] WARNING: /Users/travis/build/dmlc/xgboost/src/learner.cc:480: \n",
      "Parameters: { num_boost_rounds } might not be used.\n",
      "\n",
      "  This may not be accurate due to some parameters are only used in language bindings but\n",
      "  passed down to XGBoost core.  Or some parameters are not used but slip through this\n",
      "  verification. Please open an issue if you find above cases.\n",
      "\n",
      "\n",
      "Fitting 5 folds for each of 9 candidates, totalling 45 fits\n"
     ]
    },
    {
     "name": "stderr",
     "output_type": "stream",
     "text": [
      "[Parallel(n_jobs=-1)]: Using backend LokyBackend with 4 concurrent workers.\n",
      "[Parallel(n_jobs=-1)]: Done  38 out of  45 | elapsed:    0.9s remaining:    0.2s\n",
      "[Parallel(n_jobs=-1)]: Done  45 out of  45 | elapsed:    1.0s finished\n"
     ]
    },
    {
     "name": "stdout",
     "output_type": "stream",
     "text": [
      "[10:59:31] WARNING: /Users/travis/build/dmlc/xgboost/src/learner.cc:480: \n",
      "Parameters: { num_boost_rounds } might not be used.\n",
      "\n",
      "  This may not be accurate due to some parameters are only used in language bindings but\n",
      "  passed down to XGBoost core.  Or some parameters are not used but slip through this\n",
      "  verification. Please open an issue if you find above cases.\n",
      "\n",
      "\n",
      "Fitting 5 folds for each of 9 candidates, totalling 45 fits\n"
     ]
    },
    {
     "name": "stderr",
     "output_type": "stream",
     "text": [
      "[Parallel(n_jobs=-1)]: Using backend LokyBackend with 4 concurrent workers.\n",
      "[Parallel(n_jobs=-1)]: Done  38 out of  45 | elapsed:    0.8s remaining:    0.1s\n",
      "[Parallel(n_jobs=-1)]: Done  45 out of  45 | elapsed:    0.9s finished\n",
      "[Parallel(n_jobs=-1)]: Using backend LokyBackend with 4 concurrent workers.\n"
     ]
    },
    {
     "name": "stdout",
     "output_type": "stream",
     "text": [
      "[10:59:32] WARNING: /Users/travis/build/dmlc/xgboost/src/learner.cc:480: \n",
      "Parameters: { num_boost_rounds } might not be used.\n",
      "\n",
      "  This may not be accurate due to some parameters are only used in language bindings but\n",
      "  passed down to XGBoost core.  Or some parameters are not used but slip through this\n",
      "  verification. Please open an issue if you find above cases.\n",
      "\n",
      "\n",
      "Fitting 5 folds for each of 9 candidates, totalling 45 fits\n"
     ]
    },
    {
     "name": "stderr",
     "output_type": "stream",
     "text": [
      "[Parallel(n_jobs=-1)]: Done  38 out of  45 | elapsed:    1.0s remaining:    0.2s\n",
      "[Parallel(n_jobs=-1)]: Done  45 out of  45 | elapsed:    1.1s finished\n",
      "[Parallel(n_jobs=-1)]: Using backend LokyBackend with 4 concurrent workers.\n"
     ]
    },
    {
     "name": "stdout",
     "output_type": "stream",
     "text": [
      "[10:59:33] WARNING: /Users/travis/build/dmlc/xgboost/src/learner.cc:480: \n",
      "Parameters: { num_boost_rounds } might not be used.\n",
      "\n",
      "  This may not be accurate due to some parameters are only used in language bindings but\n",
      "  passed down to XGBoost core.  Or some parameters are not used but slip through this\n",
      "  verification. Please open an issue if you find above cases.\n",
      "\n",
      "\n",
      "Fitting 5 folds for each of 9 candidates, totalling 45 fits\n"
     ]
    },
    {
     "name": "stderr",
     "output_type": "stream",
     "text": [
      "[Parallel(n_jobs=-1)]: Done  38 out of  45 | elapsed:    0.9s remaining:    0.2s\n",
      "[Parallel(n_jobs=-1)]: Done  45 out of  45 | elapsed:    1.0s finished\n",
      "[Parallel(n_jobs=-1)]: Using backend LokyBackend with 4 concurrent workers.\n"
     ]
    },
    {
     "name": "stdout",
     "output_type": "stream",
     "text": [
      "[10:59:34] WARNING: /Users/travis/build/dmlc/xgboost/src/learner.cc:480: \n",
      "Parameters: { num_boost_rounds } might not be used.\n",
      "\n",
      "  This may not be accurate due to some parameters are only used in language bindings but\n",
      "  passed down to XGBoost core.  Or some parameters are not used but slip through this\n",
      "  verification. Please open an issue if you find above cases.\n",
      "\n",
      "\n",
      "Fitting 5 folds for each of 9 candidates, totalling 45 fits\n"
     ]
    },
    {
     "name": "stderr",
     "output_type": "stream",
     "text": [
      "[Parallel(n_jobs=-1)]: Done  45 out of  45 | elapsed:    0.9s finished\n",
      "[Parallel(n_jobs=-1)]: Using backend LokyBackend with 4 concurrent workers.\n"
     ]
    },
    {
     "name": "stdout",
     "output_type": "stream",
     "text": [
      "[10:59:35] WARNING: /Users/travis/build/dmlc/xgboost/src/learner.cc:480: \n",
      "Parameters: { num_boost_rounds } might not be used.\n",
      "\n",
      "  This may not be accurate due to some parameters are only used in language bindings but\n",
      "  passed down to XGBoost core.  Or some parameters are not used but slip through this\n",
      "  verification. Please open an issue if you find above cases.\n",
      "\n",
      "\n",
      "Fitting 5 folds for each of 9 candidates, totalling 45 fits\n"
     ]
    },
    {
     "name": "stderr",
     "output_type": "stream",
     "text": [
      "[Parallel(n_jobs=-1)]: Done  38 out of  45 | elapsed:    0.8s remaining:    0.1s\n",
      "[Parallel(n_jobs=-1)]: Done  45 out of  45 | elapsed:    0.9s finished\n",
      "[Parallel(n_jobs=-1)]: Using backend LokyBackend with 4 concurrent workers.\n"
     ]
    },
    {
     "name": "stdout",
     "output_type": "stream",
     "text": [
      "[10:59:36] WARNING: /Users/travis/build/dmlc/xgboost/src/learner.cc:480: \n",
      "Parameters: { num_boost_rounds } might not be used.\n",
      "\n",
      "  This may not be accurate due to some parameters are only used in language bindings but\n",
      "  passed down to XGBoost core.  Or some parameters are not used but slip through this\n",
      "  verification. Please open an issue if you find above cases.\n",
      "\n",
      "\n",
      "Fitting 5 folds for each of 9 candidates, totalling 45 fits\n"
     ]
    },
    {
     "name": "stderr",
     "output_type": "stream",
     "text": [
      "[Parallel(n_jobs=-1)]: Done  38 out of  45 | elapsed:    0.8s remaining:    0.1s\n",
      "[Parallel(n_jobs=-1)]: Done  45 out of  45 | elapsed:    0.9s finished\n",
      "[Parallel(n_jobs=-1)]: Using backend LokyBackend with 4 concurrent workers.\n"
     ]
    },
    {
     "name": "stdout",
     "output_type": "stream",
     "text": [
      "[10:59:37] WARNING: /Users/travis/build/dmlc/xgboost/src/learner.cc:480: \n",
      "Parameters: { num_boost_rounds } might not be used.\n",
      "\n",
      "  This may not be accurate due to some parameters are only used in language bindings but\n",
      "  passed down to XGBoost core.  Or some parameters are not used but slip through this\n",
      "  verification. Please open an issue if you find above cases.\n",
      "\n",
      "\n",
      "Fitting 5 folds for each of 9 candidates, totalling 45 fits\n"
     ]
    },
    {
     "name": "stderr",
     "output_type": "stream",
     "text": [
      "[Parallel(n_jobs=-1)]: Done  38 out of  45 | elapsed:    0.8s remaining:    0.1s\n",
      "[Parallel(n_jobs=-1)]: Done  45 out of  45 | elapsed:    0.9s finished\n",
      "[Parallel(n_jobs=-1)]: Using backend LokyBackend with 4 concurrent workers.\n"
     ]
    },
    {
     "name": "stdout",
     "output_type": "stream",
     "text": [
      "[10:59:37] WARNING: /Users/travis/build/dmlc/xgboost/src/learner.cc:480: \n",
      "Parameters: { num_boost_rounds } might not be used.\n",
      "\n",
      "  This may not be accurate due to some parameters are only used in language bindings but\n",
      "  passed down to XGBoost core.  Or some parameters are not used but slip through this\n",
      "  verification. Please open an issue if you find above cases.\n",
      "\n",
      "\n",
      "Fitting 5 folds for each of 9 candidates, totalling 45 fits\n",
      "[10:59:38] WARNING: /Users/travis/build/dmlc/xgboost/src/learner.cc:480: \n",
      "Parameters: { num_boost_rounds } might not be used.\n",
      "\n",
      "  This may not be accurate due to some parameters are only used in language bindings but\n",
      "  passed down to XGBoost core.  Or some parameters are not used but slip through this\n",
      "  verification. Please open an issue if you find above cases.\n",
      "\n",
      "\n"
     ]
    },
    {
     "name": "stderr",
     "output_type": "stream",
     "text": [
      "[Parallel(n_jobs=-1)]: Done  38 out of  45 | elapsed:    0.7s remaining:    0.1s\n",
      "[Parallel(n_jobs=-1)]: Done  45 out of  45 | elapsed:    0.8s finished\n"
     ]
    }
   ],
   "source": [
    "k = 10\n",
    "kf = KFold(n_splits=k, random_state=None)\n",
    " \n",
    "acc_score = []\n",
    " \n",
    "for train_index , test_index in kf.split(X):\n",
    "    X_train , X_test = X.iloc[train_index,:],X.iloc[test_index,:]\n",
    "    y_train , y_test = y[train_index] , y[test_index]\n",
    "    \n",
    "    grid.fit(X_train, y_train)\n",
    "    pred_values = grid.best_estimator_.predict(X_test)\n",
    "     \n",
    "    acc = np.mean(np.abs((y_test - pred_values) / y_test)) * 100\n",
    "    acc_score.append(acc)\n",
    "     \n",
    "avg_acc_score = sum(acc_score)/k"
   ]
  },
  {
   "cell_type": "code",
   "execution_count": 719,
   "metadata": {},
   "outputs": [
    {
     "data": {
      "text/plain": [
       "143.67324157434268"
      ]
     },
     "execution_count": 719,
     "metadata": {},
     "output_type": "execute_result"
    }
   ],
   "source": [
    "avg_acc_score"
   ]
  },
  {
   "cell_type": "code",
   "execution_count": 720,
   "metadata": {},
   "outputs": [
    {
     "data": {
      "text/plain": [
       "[578.4285445482261,\n",
       " 48.25562605425057,\n",
       " 81.3240913154938,\n",
       " 139.27250341326982,\n",
       " 53.61068081165282,\n",
       " 85.65969320344486,\n",
       " 98.25137078935711,\n",
       " 113.67544266570498,\n",
       " 156.4900927646477,\n",
       " 81.76437017737898]"
      ]
     },
     "execution_count": 720,
     "metadata": {},
     "output_type": "execute_result"
    }
   ],
   "source": [
    "acc_score"
   ]
  },
  {
   "cell_type": "code",
   "execution_count": null,
   "metadata": {},
   "outputs": [],
   "source": []
  },
  {
   "cell_type": "code",
   "execution_count": null,
   "metadata": {},
   "outputs": [],
   "source": []
  }
 ],
 "metadata": {
  "kernelspec": {
   "display_name": "Python 3",
   "language": "python",
   "name": "python3"
  },
  "language_info": {
   "codemirror_mode": {
    "name": "ipython",
    "version": 3
   },
   "file_extension": ".py",
   "mimetype": "text/x-python",
   "name": "python",
   "nbconvert_exporter": "python",
   "pygments_lexer": "ipython3",
   "version": "3.8.5"
  }
 },
 "nbformat": 4,
 "nbformat_minor": 4
}
